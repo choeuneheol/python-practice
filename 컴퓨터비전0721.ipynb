{
  "cells": [
    {
      "cell_type": "markdown",
      "metadata": {
        "id": "view-in-github",
        "colab_type": "text"
      },
      "source": [
        "<a href=\"https://colab.research.google.com/github/choeuneheol/python-practice/blob/master/%EC%BB%B4%ED%93%A8%ED%84%B0%EB%B9%84%EC%A0%840721.ipynb\" target=\"_parent\"><img src=\"https://colab.research.google.com/assets/colab-badge.svg\" alt=\"Open In Colab\"/></a>"
      ]
    },
    {
      "cell_type": "code",
      "execution_count": null,
      "id": "90d3bb72",
      "metadata": {
        "id": "90d3bb72"
      },
      "outputs": [],
      "source": [
        "import sys\n",
        "import os\n",
        "import numpy as np\n",
        "import cv2\n",
        "import glob\n",
        "import matplotlib.pyplot as plt"
      ]
    },
    {
      "cell_type": "markdown",
      "id": "fa7b4e7b",
      "metadata": {
        "id": "fa7b4e7b"
      },
      "source": [
        "# 복습"
      ]
    },
    {
      "cell_type": "code",
      "execution_count": null,
      "id": "f675bb05",
      "metadata": {
        "id": "f675bb05"
      },
      "outputs": [],
      "source": [
        "#회색이미지로 불러오기\n",
        "img = cv2.imread('fig/fig/puppy.bmp',0)\n",
        "\n",
        "if img is None:\n",
        "    print('image read failed')\n",
        "    sys.exit()\n",
        "    \n",
        "cv2.namedWindow('image')\n",
        "\n",
        "cv2.imshow('image',img)\n",
        "\n",
        "while True:\n",
        "    key = cv2.waitKey()\n",
        "    if key == 27 or key == ord(\"q\"):\n",
        "        break\n",
        "        \n",
        "cv2.destroyAllWindows()"
      ]
    },
    {
      "cell_type": "code",
      "execution_count": null,
      "id": "2c5732d3",
      "metadata": {
        "id": "2c5732d3"
      },
      "outputs": [],
      "source": [
        "#비행기합성하기\n",
        "dst = cv2.imread('fig/fig/airplane.bmp')\n",
        "mask = cv2.imread('fig/fig/mask_plane.bmp',0)\n",
        "src = cv2.imread('fig/fig/field.bmp')\n",
        "\n",
        "mask_inv = -mask\n",
        "\n",
        "cv2.copyTo(dst, mask_inv, src)\n",
        "\n",
        "cv2.imshow('src', src)\n",
        "cv2.imshow('mask', mask)\n",
        "cv2.imshow('dst', dst)\n",
        "\n",
        "cv2.waitKey()\n",
        "cv2.destroyAllWindows()\n"
      ]
    },
    {
      "cell_type": "code",
      "execution_count": null,
      "id": "bd2d8d22",
      "metadata": {
        "id": "bd2d8d22"
      },
      "outputs": [],
      "source": [
        "img = np.full((800,1200,3),255,np.uint8)\n",
        "\n",
        "cv2.line(img,(50,50),(400,100),(255,0,0),5,cv2.LINE_AA)\n",
        "cv2.arrowedLine(img,(400,100),(400,300),(0,0,255),5,cv2.LINE_AA)\n",
        "cv2.rectangle(img,(50,200),(200,400),(255,255,0),-1)\n",
        "cv2.rectangle(img,(50,200,150,200),(255,255,0),10,cv2.LINE_AA)\n",
        "text = \"Hello Opencv\"\n",
        "\n",
        "cv2.putText(img,text,(100,500),cv2.FONT_HERSHEY_SCRIPT_SIMPLEX,2,(0,0,255),4,\n",
        "            cv2.LINE_AA)\n",
        "\n",
        "cv2.imshow('image',img)\n",
        "cv2.waitKey()\n",
        "cv2.destroyAllWindows()"
      ]
    },
    {
      "cell_type": "code",
      "execution_count": null,
      "id": "aa1356cd",
      "metadata": {
        "id": "aa1356cd"
      },
      "outputs": [],
      "source": [
        "cap = cv2.VideoCapture(0)\n",
        "w = int(cap.get(cv2.CAP_PROP_FRAME_WIDTH))\n",
        "h = int(cap.get(cv2.CAP_PROP_FRAME_HEIGHT))\n",
        "fps = int(cap.get(cv2.CAP_PROP_FPS)*0.8)\n",
        "fourcc = cv2.VideoWriter_fourcc(*\"DIVX\")\n",
        "\n",
        "out = cv2.VideoWriter('review.avi', fourcc = fourcc, fps = fps, frameSize=(w,h))\n",
        "\n",
        "while True:\n",
        "    ret, frame = cap.read()\n",
        "    \n",
        "    if not ret:\n",
        "        print('GO home!')\n",
        "        break\n",
        "        \n",
        "    edge = cv2.Canny(frame,50,150)\n",
        "    out.write(frame)\n",
        "    \n",
        "    cv2.imshow(\"frame\",frame)\n",
        "    cv2.imshow('edge',edge)\n",
        "    \n",
        "    if cv2.waitKey(30) == 27:\n",
        "        break\n",
        "        \n",
        "out.release()\n",
        "cap.release()\n",
        "cv2.destroyAllWindows()"
      ]
    },
    {
      "cell_type": "code",
      "execution_count": null,
      "id": "66c6e891",
      "metadata": {
        "scrolled": true,
        "id": "66c6e891"
      },
      "outputs": [],
      "source": [
        "def call_mouse(event,x,y,flags,param):\n",
        "    global oldx, oldy\n",
        "    \n",
        "    if event == cv2.EVENT_LBUTTONDOWN:\n",
        "        oldx, oldy = x,y\n",
        "        \n",
        "    elif event == cv2.EVENT_MOUSEMOVE:\n",
        "        if flags == cv2.EVENT_FLAG_LBUTTON:\n",
        "            cv2.line(img,(oldx,oldy),(x,y),(255,0,255),4,cv2.LINE_AA)\n",
        "            cv2.imshow('image', img)\n",
        "            oldx, oldy = x,y\n",
        "            \n",
        "img = np.ones((600,1200,3), np.uint8)*255\n",
        "\n",
        "cv2.imshow('image',img)\n",
        "cv2.setMouseCallback('image',call_mouse, img)\n",
        "\n",
        "cv2.waitKey()\n",
        "cv2.destroyAllWindows()"
      ]
    },
    {
      "cell_type": "markdown",
      "id": "01a72216",
      "metadata": {
        "id": "01a72216"
      },
      "source": [
        "# 본수업"
      ]
    },
    {
      "cell_type": "code",
      "execution_count": null,
      "id": "42f3fb49",
      "metadata": {
        "id": "42f3fb49"
      },
      "outputs": [],
      "source": [
        "def call_trackbar(pos):\n",
        "    img[:] = pos\n",
        "    cv2.imshow('image',img)\n",
        "    \n",
        "img = np.zeros((480,640),np.uint8)\n",
        "\n",
        "cv2.namedWindow('image')\n",
        "\n",
        "cv2.createTrackbar('level','image',0,255,call_trackbar)\n",
        "\n",
        "cv2.imshow('image',img)\n",
        "\n",
        "cv2.waitKey()\n",
        "\n",
        "cv2.destroyAllWindows()"
      ]
    },
    {
      "cell_type": "code",
      "execution_count": null,
      "id": "74e322d5",
      "metadata": {
        "id": "74e322d5"
      },
      "outputs": [],
      "source": [
        "def call_trackbar(pos):\n",
        "    global img\n",
        "    \n",
        "    img_glass = img*pos\n",
        "    cv2.imshow('imshow', img_glass)\n",
        "    \n",
        "img_alpha = cv2.imread('fig/fig/imgbin_sunglasses_1.png',cv2.IMREAD_UNCHANGED)\n",
        "img = img_alpha[:,:,-1]\n",
        "img[img>0] = 1\n",
        "\n",
        "cv2.namedWindow('image')\n",
        "\n",
        "cv2.createTrackbar('level','image',0,255,call_trackbar)\n",
        "\n",
        "cv2.imshow('image',img)\n",
        "\n",
        "cv2.waitKey()\n",
        "cv2.destroyAllWindows()"
      ]
    },
    {
      "cell_type": "code",
      "execution_count": null,
      "id": "341397d5",
      "metadata": {
        "id": "341397d5"
      },
      "outputs": [],
      "source": [
        "img = cv2.imread('fig/fig/lenna.bmp')\n",
        "\n",
        "if img is None:\n",
        "    print('image read failed')\n",
        "    sys.exit()\n",
        "    \n",
        "# dst = np.olip(imp +100.,0, 255).astype(np.uint8)\n",
        "dst = cv2.add(img,(100,100,100,0))\n",
        "\n",
        "cv2.imshow('image',img)\n",
        "cv2.imshow('dst', dst)\n",
        "\n",
        "cv2.waitKey()\n",
        "cv2.destroyAllWindows()"
      ]
    },
    {
      "cell_type": "code",
      "execution_count": null,
      "id": "2929295a",
      "metadata": {
        "id": "2929295a"
      },
      "outputs": [],
      "source": [
        "import matplotlib.pylab as pit"
      ]
    },
    {
      "cell_type": "code",
      "execution_count": null,
      "id": "a08a43c5",
      "metadata": {
        "id": "a08a43c5"
      },
      "outputs": [],
      "source": [
        "src1 = cv2.imread('fig/fig/lenna256.bmp',0)\n",
        "h,w = src1.shape[:2]\n",
        "src2 = np.zeros((h,w),np.uint8)\n",
        "cv2.circle(src2,(128,128),100,200,-1)\n",
        "cv2.circle(src2,(128,128),50,50,-1)\n",
        "cv2.circle(src2,(128,128),20,20,-1)\n",
        "\n",
        "dst1 = cv2.add(src1, src2)\n",
        "dst2 = cv2.addWeighted(src1, .5,src2,.5,0)\n",
        "dst3 = cv2.subtract(src1,src2)\n",
        "dst4 = cv2.absdiff(src1, src2)\n",
        "\n",
        "cv2.imshow('src1', src1) \n",
        "cv2.imshow('src2', src2)\n",
        "cv2.imshow('dst1', dst1)\n",
        "cv2.imshow('dst2', dst2)\n",
        "cv2.imshow('dst3', dst3)\n",
        "cv2.imshow('dst4', dst4)\n",
        "\n",
        "cv2.waitKey()\n",
        "cv2.destroyAllWindows()"
      ]
    },
    {
      "cell_type": "code",
      "execution_count": null,
      "id": "950a29cc",
      "metadata": {
        "id": "950a29cc"
      },
      "outputs": [],
      "source": [
        "src1 = np.zeros((256,256), np.uint8)\n",
        "cv2.rectangle(src1,(10,10),(128,240),255,-1)\n",
        "\n",
        "src2 = np.zeros((256,256), np.uint8)\n",
        "cv2.circle(src2,(128,128), 50, 255, -1)\n",
        "\n",
        "cv2.imshow('src1', src1)\n",
        "cv2.imshow('src2', src2)\n",
        "\n",
        "cv2.waitKey()\n",
        "cv2.destroyAllWindows()"
      ]
    },
    {
      "cell_type": "code",
      "execution_count": null,
      "id": "470f42de",
      "metadata": {
        "scrolled": true,
        "id": "470f42de",
        "outputId": "89d856a4-1398-413d-e0b7-c31d4496901a"
      },
      "outputs": [
        {
          "data": {
            "text/plain": [
              "(<AxesSubplot:title={'center':'dst_not'}>,\n",
              " <matplotlib.image.AxesImage at 0x1b71c687820>,\n",
              " (-0.5, 255.5, 255.5, -0.5),\n",
              " Text(0.5, 1.0, 'dst_not'))"
            ]
          },
          "execution_count": 5,
          "metadata": {},
          "output_type": "execute_result"
        },
        {
          "data": {
            "image/png": "[encoded data removed]",
            "text/plain": [
              "<Figure size 864x432 with 6 Axes>"
            ]
          },
          "metadata": {
            "needs_background": "light"
          },
          "output_type": "display_data"
        }
      ],
      "source": [
        "\n",
        "src1 = np.zeros((256,256), np.uint8)\n",
        "cv2.rectangle(src1, (10,10), (127,248), 255, -1)\n",
        "\n",
        "src2 = np.zeros((256,256),np.uint8)\n",
        "cv2.circle(src2, (128,128),50,255,-1)\n",
        "\n",
        "dst_and = cv2.bitwise_and(src1, src2)\n",
        "dst_or = cv2.bitwise_or(src1, src2)\n",
        "dst_xor = cv2.bitwise_xor(src1, src2)\n",
        "dst_not = cv2.bitwise_not(src1)\n",
        "\n",
        "plt.figure(figsize=(12,6))\n",
        "\n",
        "plt.subplot(231), plt.imshow(src1, cmap='gray'), plt.axis('off'), plt.title('src1')\n",
        "plt.subplot(232), plt.imshow(src2, cmap='gray'), plt.axis('off'), plt.title('src2')\n",
        "plt.subplot(233), plt.imshow(dst_and, cmap='gray'), plt.axis('off'), plt.title('dst_and')\n",
        "plt.subplot(234), plt.imshow(dst_or, cmap='gray'), plt.axis('off'), plt.title('dst_or')\n",
        "plt.subplot(235), plt.imshow(dst_xor, cmap='gray'), plt.axis('off'), plt.title('dst_xor')\n",
        "plt.subplot(236), plt.imshow(dst_not, cmap='gray'), plt.axis('off'), plt.title('dst_not')"
      ]
    },
    {
      "cell_type": "code",
      "execution_count": null,
      "id": "77cdd982",
      "metadata": {
        "id": "77cdd982"
      },
      "outputs": [],
      "source": [
        ""
      ]
    }
  ],
  "metadata": {
    "kernelspec": {
      "display_name": "Python 3 (ipykernel)",
      "language": "python",
      "name": "python3"
    },
    "language_info": {
      "codemirror_mode": {
        "name": "ipython",
        "version": 3
      },
      "file_extension": ".py",
      "mimetype": "text/x-python",
      "name": "python",
      "nbconvert_exporter": "python",
      "pygments_lexer": "ipython3",
      "version": "3.9.12"
    },
    "colab": {
      "name": "컴퓨터비전0721.ipynb",
      "provenance": [],
      "include_colab_link": true
    }
  },
  "nbformat": 4,
  "nbformat_minor": 5
}