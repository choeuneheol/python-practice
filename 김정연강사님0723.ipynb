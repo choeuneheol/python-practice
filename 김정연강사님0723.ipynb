{
  "cells": [
    {
      "cell_type": "markdown",
      "metadata": {
        "id": "view-in-github",
        "colab_type": "text"
      },
      "source": [
        "<a href=\"https://colab.research.google.com/github/choeuneheol/python-practice/blob/master/%EA%B9%80%EC%A0%95%EC%97%B0%EA%B0%95%EC%82%AC%EB%8B%980723.ipynb\" target=\"_parent\"><img src=\"https://colab.research.google.com/assets/colab-badge.svg\" alt=\"Open In Colab\"/></a>"
      ]
    },
    {
      "cell_type": "markdown",
      "id": "8a8ce8e7",
      "metadata": {
        "id": "8a8ce8e7"
      },
      "source": [
        "# SDLC(SYSTEM DEVELOPMENT LIFE CYCLE) 모형\n",
        "\n",
        "## 프로토타입\n",
        "핵심적인 기능을 먼저 만들어 평가한 후 구현하는 점진적 개발방법\n",
        "장점 - 요구사항 도출 용이, 시스템 이해 용이, 의사소통 향상\n",
        "단점 - 사용자의 오해(완제품),폐기되는 프로토타입 존재\n",
        "\n",
        "## 폭포수모델\n",
        "각 단계는 검토/승인을 거쳐 순차적,하향식으로 개발이 진행되는 생명주기 모델\n",
        "장점 - 이해하기 쉬움, 다음단계 진행 전에 결과 검증, 관리 용이\n",
        "단점 - 요구도출 어려움, 설계/코딩/테스트지연가능, 문제발견 지연\n",
        "\n",
        "## 나선형 모델\n",
        "폭포수와 프로토타입 모델 장점에 위험분석을 추가한 모델\n",
        "장점 - 점증적으로 개발 ->실패 위험감소, 테스트용이 피드백\n",
        "단점 - 관리 복잡\n",
        "\n",
        "## 애자일\n",
        "반복적이고 점진적인 접근 방법, 변화에 민첩하게 변경/반복\n",
        "장점 - 사용자 혹은 고객의 변화하는 요구사항을 수용하기 쉬움, 정형화 되지 않은 결과를\n",
        "요구하는 프로젝트에 유리, 사용자 및 개발 팀원 간의 강력한 의사소통\n",
        "단점 - 최종제품과 요구사항의 불일치 가능성, 팀을 구성하기 쉽지 않음. 정형화 되어있는\n",
        "업무에 적용하기 어려움\n",
        "\n",
        "# 소프트웨어 개발방법론의 종류\n",
        "\n",
        "1. 구조적 방법론\n",
        "전체 시스템을 기능에 따라 나누어 개발하고, 이를 통합는 분할과 정복 \n",
        "접근 방식의 방법론\n",
        "프로세스 중심의 하향식 방법론\n",
        "구조적 프로그래밍 표현을 위해 나씨-슈나이더만 차트 사용\n",
        "\n",
        "2. 정보공학\n",
        "정보시스템 개발에 필요한 관리 절차와 기법을 체계화\n",
        "개발주기를 이용해 대형 프로젝트를 수행하는 체계적인 방법론\n",
        "\n",
        "3. 객체지향\n",
        "'객체'라는 기본 단위로 시스템을 분석 및 설계\n",
        "복잡한 현실 세계를 사람이 이해하는 방식으로 시스템에 적용\n",
        "객체,클래스, 메세지를 사용\n",
        "\n",
        "4. CBD\n",
        "소프트웨어를 구성하는 컴포넌트를 조힙해서 새로운 응용 프로그램을 작성\n",
        "개발 기간 단축으로 인한 생산성 향상\n",
        "새로운 기능 추가 쉬움(확장성)\n",
        "소프트웨어 재사용이 가능\n",
        "\n",
        "개발 방법론 적용시 문제점 및 선택기준\n",
        "문제점\n",
        "프로젝트 특성과 다른 특정 방법론 적용\n",
        "형식적인 적용\n",
        "전문인력의 부족\n",
        "\n",
        "개선점 및 대책\n",
        "기업차원의 품질관리 인식\n",
        "효과적인 활용을 위한 교육\n",
        "유연하게 개발방법론 적용\n",
        "프로세스 성숙도와의 연계(CMM,ISO9000시리즈 등)\n",
        "\n",
        "선택기준\n",
        "프로젝트 환경\n",
        "개발자의 공감 및 협조\n",
        "자동화 정도\n",
        "\n",
        "\n",
        "애자일이란\n",
        "고객의 요구에 민첩하게 대응하고 그때그때 주어진 문제를 해결해 나가는 방법론\n",
        "\n",
        "scrum\n",
        "개발팀을 운영하는 효율적인 방법\n",
        "경험적 관리기법\n",
        "소프트웨어의 개발보다 팀의 개선과 프로젝트 관리에 중점을 둠\n",
        "스크럼 팀은 근거리에서 일하며, 자기 주도적, 자기 조직화 적인 특징을 가짐\n",
        "팀은 정의된 목표를 구행하며, 목표를 가장 잘 충족하는 최선의 방법을 결정하는 권한, 자율성과 책임이 부여\n",
        "\n",
        "\n"
      ]
    },
    {
      "cell_type": "code",
      "execution_count": null,
      "id": "8df2c158",
      "metadata": {
        "id": "8df2c158"
      },
      "outputs": [],
      "source": [
        ""
      ]
    },
    {
      "cell_type": "code",
      "execution_count": null,
      "id": "324539f6",
      "metadata": {
        "id": "324539f6"
      },
      "outputs": [],
      "source": [
        ""
      ]
    },
    {
      "cell_type": "code",
      "execution_count": null,
      "id": "2fc42fa7",
      "metadata": {
        "id": "2fc42fa7"
      },
      "outputs": [],
      "source": [
        ""
      ]
    },
    {
      "cell_type": "code",
      "execution_count": null,
      "id": "130c6dd8",
      "metadata": {
        "id": "130c6dd8"
      },
      "outputs": [],
      "source": [
        ""
      ]
    },
    {
      "cell_type": "code",
      "execution_count": null,
      "id": "e4ec2cba",
      "metadata": {
        "id": "e4ec2cba"
      },
      "outputs": [],
      "source": [
        ""
      ]
    },
    {
      "cell_type": "code",
      "execution_count": null,
      "id": "c5bfeccb",
      "metadata": {
        "id": "c5bfeccb"
      },
      "outputs": [],
      "source": [
        ""
      ]
    },
    {
      "cell_type": "code",
      "execution_count": null,
      "id": "913bc39e",
      "metadata": {
        "id": "913bc39e"
      },
      "outputs": [],
      "source": [
        ""
      ]
    },
    {
      "cell_type": "code",
      "execution_count": null,
      "id": "856aedc9",
      "metadata": {
        "id": "856aedc9"
      },
      "outputs": [],
      "source": [
        ""
      ]
    },
    {
      "cell_type": "code",
      "execution_count": null,
      "id": "ff9a0aa4",
      "metadata": {
        "id": "ff9a0aa4"
      },
      "outputs": [],
      "source": [
        ""
      ]
    },
    {
      "cell_type": "code",
      "execution_count": null,
      "id": "3ed59d5b",
      "metadata": {
        "id": "3ed59d5b"
      },
      "outputs": [],
      "source": [
        ""
      ]
    },
    {
      "cell_type": "code",
      "execution_count": null,
      "id": "697c4aae",
      "metadata": {
        "id": "697c4aae"
      },
      "outputs": [],
      "source": [
        ""
      ]
    }
  ],
  "metadata": {
    "kernelspec": {
      "display_name": "Python 3 (ipykernel)",
      "language": "python",
      "name": "python3"
    },
    "language_info": {
      "codemirror_mode": {
        "name": "ipython",
        "version": 3
      },
      "file_extension": ".py",
      "mimetype": "text/x-python",
      "name": "python",
      "nbconvert_exporter": "python",
      "pygments_lexer": "ipython3",
      "version": "3.9.12"
    },
    "colab": {
      "name": "김정연강사님0723.ipynb",
      "provenance": [],
      "include_colab_link": true
    }
  },
  "nbformat": 4,
  "nbformat_minor": 5
}