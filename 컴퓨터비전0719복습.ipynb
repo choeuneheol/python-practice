{
  "cells": [
    {
      "cell_type": "markdown",
      "metadata": {
        "id": "view-in-github",
        "colab_type": "text"
      },
      "source": [
        "<a href=\"https://colab.research.google.com/github/choeuneheol/python-practice/blob/master/%EC%BB%B4%ED%93%A8%ED%84%B0%EB%B9%84%EC%A0%840719%EB%B3%B5%EC%8A%B5.ipynb\" target=\"_parent\"><img src=\"https://colab.research.google.com/assets/colab-badge.svg\" alt=\"Open In Colab\"/></a>"
      ]
    },
    {
      "cell_type": "code",
      "execution_count": null,
      "id": "c1af4940",
      "metadata": {
        "id": "c1af4940"
      },
      "outputs": [],
      "source": [
        "import sys\n",
        "import os\n",
        "import numpy as np\n",
        "import cv2\n",
        "import matplotlib.pyplot as plt\n",
        "import glob"
      ]
    },
    {
      "cell_type": "code",
      "execution_count": null,
      "id": "26a86e59",
      "metadata": {
        "id": "26a86e59"
      },
      "outputs": [],
      "source": [
        "#카메라 동영상촬영\n",
        "\n",
        "cap = cv2.VideoCapture(0)\n",
        "\n",
        "if not cap.isOpened():\n",
        "    print('Video capture failed')\n",
        "    sys.exit()\n",
        "    \n",
        "while True:\n",
        "    ret, frame = cap.read()\n",
        "    \n",
        "    if ret is None:\n",
        "        print('frame read failed')\n",
        "        break\n",
        "        \n",
        "    edge = cv2.Canny(frame, 50, 150)\n",
        "    \n",
        "    cv2.imshow('image', frame)\n",
        "    cv2.imshow('edge', edge)\n",
        "    \n",
        "    if cv2.waitKey(30) == 27:\n",
        "        break\n",
        "        \n",
        "cap.release()\n",
        "cv2.destroyAllWindows()        "
      ]
    },
    {
      "cell_type": "code",
      "execution_count": null,
      "id": "950a0285",
      "metadata": {
        "id": "950a0285"
      },
      "outputs": [],
      "source": [
        "cap = cv2.VideoCapture(0)\n",
        "\n",
        "if not cap.isOpened():\n",
        "    print('Video capture failed')\n",
        "    sys.exit()\n",
        "    \n",
        "while True:\n",
        "    ret, frame = cap.read()\n",
        "    \n",
        "    if not ret:\n",
        "        print('frame read failed')\n",
        "        break\n",
        "        \n",
        "    edge = cv2.Canny(frame, 6, 100) #6, 100숫자가 높을수록 엣지가 옅어진다\n",
        "    cv2.imshow('frame', frame)\n",
        "    cv2.imshow('edge', edge)\n",
        "    \n",
        "    if cv2. waitKey(30) == 27:\n",
        "        break\n",
        "        \n",
        "cap.release()\n",
        "cv2.destroyAllWindows()"
      ]
    },
    {
      "cell_type": "code",
      "execution_count": null,
      "id": "7c52f473",
      "metadata": {
        "id": "7c52f473"
      },
      "outputs": [],
      "source": [
        "cap = cv2.VideoCapture(0)\n",
        "\n",
        "if not cap.isOpened():\n",
        "    print('Video capture failed')\n",
        "    sys.exit()\n",
        "    \n",
        "w = int(cap.get(cv2.CAP_PROP_FRAME_WIDTH))\n",
        "h = int(cap.get(cv2.CAP_PROP_FRAME_HEIGHT))\n",
        "fps = int(cap.get(cv2.CAP_PROP_FPS))\n",
        "fourcc = cv2.VideoWriter_fourcc(*'DICX')\n",
        "\n",
        "out = cv2.VideoWriter('output_edge.avi',fourcc = fourcc, fps=fps, frameSize=(w,h))\n",
        "\n",
        "while True:\n",
        "    ret, frame = cap.read()\n",
        "    \n",
        "    if not ret:\n",
        "        print('frame read failed')\n",
        "        break\n",
        "        \n",
        "    edge = cv2.Canny(frame,6,100)\n",
        "    edge_color = cv2.cvtColor(edge, cv2.COLOR_GRAY2BGR)\n",
        "    out.write(edge_color)\n",
        "    \n",
        "    cv2.imshow('frame', frame)\n",
        "    cv2.imshow('edge', edge)\n",
        "    \n",
        "    if cv2.waitKey(30) == 27:\n",
        "        break\n",
        "        \n",
        "out.release()\n",
        "cap.release()\n",
        "cv2.destroyAllWindows()\n",
        "    \n"
      ]
    },
    {
      "cell_type": "code",
      "execution_count": null,
      "id": "7ad2e737",
      "metadata": {
        "id": "7ad2e737"
      },
      "outputs": [],
      "source": [
        "#키보드 처리\n",
        "img = cv2.imread('fig/fig/cat.bmp', cv2.IMREAD_GRAYSCALE)\n",
        "    \n",
        "if img is None:\n",
        "    print('image read failed')\n",
        "    sys.exit()\n",
        "    \n",
        "cv2. imshow('image', img)\n",
        "\n",
        "while True:\n",
        "    key = cv2.waitKey()\n",
        "    if key == 27 or key == ord('q'):\n",
        "        break\n",
        "        \n",
        "    elif key == ord('i'):\n",
        "        img1 = 255 - img\n",
        "        cv2.imshow('image',img1)\n",
        "        \n",
        "    elif key == ord('e'):\n",
        "        edge = cv2.Canny(img,50,150)\n",
        "        cv2.imshow('image',edge)\n",
        "        \n",
        "    elif key == ord('r'):\n",
        "        cv2.imshow('image', img)\n",
        "        \n",
        "cv2.destroyAllWindows()"
      ]
    },
    {
      "cell_type": "code",
      "execution_count": null,
      "id": "a42cdf3d",
      "metadata": {
        "id": "a42cdf3d"
      },
      "outputs": [],
      "source": [
        "img_files = glob.glob('fig/fig/*.*')\n",
        "\n",
        "cv2.namedWindow('img', cv2.WINDOW_NORMAL)\n",
        "cv2.setWindowProperty('img', cv2.WND_PROP_FULLSCREEN, cv2.WINDOW_FULLSCREEN)\n",
        "\n",
        "idx = 0\n",
        "\n",
        "while True:\n",
        "    img = cv2.imread(img_files[idx])\n",
        "    \n",
        "    cv2.imshow('img',img)\n",
        "    \n",
        "    if cv2.waitKey(3000) == 27:\n",
        "        break\n",
        "        \n",
        "    idx += 1\n",
        "    \n",
        "    if idx >= len(img_files):\n",
        "        idx = 0\n",
        "        \n",
        "cv2.destroyAllWindows()\n",
        "\n"
      ]
    },
    {
      "cell_type": "code",
      "execution_count": null,
      "id": "ed9c33e7",
      "metadata": {
        "id": "ed9c33e7"
      },
      "outputs": [],
      "source": [
        ""
      ]
    },
    {
      "cell_type": "code",
      "execution_count": null,
      "id": "ca40f41c",
      "metadata": {
        "id": "ca40f41c"
      },
      "outputs": [],
      "source": [
        ""
      ]
    },
    {
      "cell_type": "code",
      "execution_count": null,
      "id": "d32fa6bb",
      "metadata": {
        "id": "d32fa6bb"
      },
      "outputs": [],
      "source": [
        ""
      ]
    },
    {
      "cell_type": "code",
      "execution_count": null,
      "id": "1bef1f44",
      "metadata": {
        "id": "1bef1f44"
      },
      "outputs": [],
      "source": [
        ""
      ]
    },
    {
      "cell_type": "code",
      "execution_count": null,
      "id": "fa496b75",
      "metadata": {
        "id": "fa496b75"
      },
      "outputs": [],
      "source": [
        ""
      ]
    },
    {
      "cell_type": "code",
      "execution_count": null,
      "id": "9516dadd",
      "metadata": {
        "id": "9516dadd"
      },
      "outputs": [],
      "source": [
        ""
      ]
    }
  ],
  "metadata": {
    "kernelspec": {
      "display_name": "Python 3 (ipykernel)",
      "language": "python",
      "name": "python3"
    },
    "language_info": {
      "codemirror_mode": {
        "name": "ipython",
        "version": 3
      },
      "file_extension": ".py",
      "mimetype": "text/x-python",
      "name": "python",
      "nbconvert_exporter": "python",
      "pygments_lexer": "ipython3",
      "version": "3.9.12"
    },
    "colab": {
      "name": "컴퓨터비전0719복습.ipynb",
      "provenance": [],
      "include_colab_link": true
    }
  },
  "nbformat": 4,
  "nbformat_minor": 5
}