{
  "cells": [
    {
      "cell_type": "markdown",
      "metadata": {
        "id": "view-in-github",
        "colab_type": "text"
      },
      "source": [
        "<a href=\"https://colab.research.google.com/github/choeuneheol/python-practice/blob/master/youtube0731.ipynb\" target=\"_parent\"><img src=\"https://colab.research.google.com/assets/colab-badge.svg\" alt=\"Open In Colab\"/></a>"
      ]
    },
    {
      "cell_type": "code",
      "execution_count": null,
      "id": "aa33a48c",
      "metadata": {
        "id": "aa33a48c"
      },
      "outputs": [],
      "source": [
        "import cv2\n",
        "import mediapipe as mp\n",
        "import numpy as np\n",
        "import time, os"
      ]
    },
    {
      "cell_type": "code",
      "execution_count": null,
      "id": "e61e921d",
      "metadata": {
        "collapsed": true,
        "id": "e61e921d",
        "outputId": "83b991ae-06c8-41be-835f-d2e29f859c31"
      },
      "outputs": [
        {
          "name": "stdout",
          "output_type": "stream",
          "text": [
            "come (5, 100)\n",
            "come (0,)\n",
            "away (1, 100)\n",
            "away (0,)\n",
            "spin (0,)\n",
            "spin (0,)\n"
          ]
        }
      ],
      "source": [
        "actions = ['come','away','spin']\n",
        "seq_length = 30\n",
        "secs_for_action = 30\n",
        "\n",
        "#mediapipe hands model\n",
        "mp_hands = mp.solutions.hands\n",
        "mp_drawing = mp.solutions.drawing_utils\n",
        "hands = mp_hands.Hands(max_num_hands=1,\n",
        "                      min_detection_confidence=0.5,\n",
        "                      min_tracking_confidence=0.5)\n",
        "\n",
        "cap = cv2.VideoCapture(0)\n",
        "\n",
        "created_time = int(time.time())\n",
        "os.makedirs('dataset', exist_ok=True)\n",
        "\n",
        "while cap.isOpened():\n",
        "    for idx, action in enumerate(actions):\n",
        "        data = []\n",
        "        \n",
        "        ret, img = cap.read()\n",
        "        \n",
        "        img = cv2.flip(img,1)\n",
        "        \n",
        "        cv2.putText(img, f'Waiting for collecting {action.upper()} action...', org=(10,30),\n",
        "                   fontFace=cv2.FONT_HERSHEY_SIMPLEX, fontScale=1, color=(255, 255, 255,), thickness=2)\n",
        "        cv2.imshow('img', img)\n",
        "        cv2.waitKey(3000)\n",
        "        \n",
        "        start_time = time.time()\n",
        "        \n",
        "        while time.time() - start_time < secs_for_action:\n",
        "            ret, img = cap.read()\n",
        "            \n",
        "            img = cv2.flip(img,1)\n",
        "            img = cv2.cvtColor(img, cv2.COLOR_BGR2RGB)\n",
        "            result = hands.process(img)\n",
        "            img = cv2.cvtColor(img, cv2.COLOR_RGB2BGR)\n",
        "            \n",
        "            if result.multi_hand_landmarks is not None:\n",
        "                for res in result.multi_hand_landmarks:\n",
        "                    joint = np.zeros((21,4))\n",
        "                    for j, lm in enumerate(res.landmark):\n",
        "                        joint[j] = [lm.x, lm.y, lm.z, lm.visibility]\n",
        "                        \n",
        "                    #Compute angles between joints\n",
        "                    v1 = joint[[0,1,2,3,0,5,6,7,0,9,10,11,0,13,14,15,0,17,18,19], :3]#parent joint\n",
        "                    v2 = joint[[1,2,3,4,5,6,7,8,9,10,11,12,13,14,15,16,17,18,19,20], :3]#child joint\n",
        "                    v = v2 - v1 #[20, 3]\n",
        "                    #Normalize v\n",
        "                    v = v / np.linalg.norm(v, axis=1)[:, np.newaxis]\n",
        "                    \n",
        "                    #Get angle using arcos if dot product\n",
        "                    angle = np.arccos(np.einsum('nt,nt->n',\n",
        "                                               v[[0,1,2,4,5,6,8,9,10,12,13,14,16,17,18],:],\n",
        "                                               v[[1,2,3,5,6,7,9,10,11,13,14,15,17,18,19],:])) # [15,]\n",
        "                    angle = np.degrees(angle) # Convert radian to degree\n",
        "                    \n",
        "                    angle_label = np.array([angle], dtype=np.float32)\n",
        "                    angle_label = np.append(angle_label, idx)#com,0 away,1 sping,2\n",
        "                    \n",
        "                    d = np.concatenate([joint.flatten(),angle_label])\n",
        "                    \n",
        "                    data.append(d)\n",
        "                    \n",
        "                    mp_drawing.draw_landmarks(img, res, mp_hands.HAND_CONNECTIONS)\n",
        "                    \n",
        "            cv2.imshow('img', img)\n",
        "            if cv2.waitKey(1) == ord('q'):\n",
        "                break\n",
        "                \n",
        "        data = np.array(data)\n",
        "        print(action, data.shape)\n",
        "        np.save(os.path.join('dataset', f'raw_{action}_{created_time}'), data)\n",
        "        \n",
        "        #Create sequence data\n",
        "        full_seq_data = []\n",
        "        for seq in range(len(data) - seq_length):\n",
        "            full_seq_data.append(data[seq:seq + seq_length])\n",
        "            \n",
        "        full_seq_data = np.array(full_seq_data)\n",
        "        print(action, full_seq_data.shape)\n",
        "        np.save(os.path.join('dataset', f'seq_{action}_{created_time}'), full_seq_data)\n",
        "    break\n",
        "    \n",
        "         "
      ]
    },
    {
      "cell_type": "code",
      "execution_count": null,
      "id": "42149286",
      "metadata": {
        "id": "42149286"
      },
      "outputs": [],
      "source": [
        "import numpy as np\n",
        "import os"
      ]
    },
    {
      "cell_type": "code",
      "execution_count": null,
      "id": "183f36b6",
      "metadata": {
        "id": "183f36b6"
      },
      "outputs": [],
      "source": [
        "os.environ['CUDA_VISIBLE_DEVICES'] = '1'\n",
        "os.environ['TF_FORCE_GPU_ALLOW_GROWTH'] = 'true'\n",
        "\n",
        "actions = [\n",
        "    'come',\n",
        "    'away',\n",
        "    'spin'\n",
        "]\n",
        "\n",
        "data = np.concatenate([\n",
        "    np.load('dataset/seq_come_1627646273.npy'),\n",
        "    np.load('dataset/seq_away_1627646273.npy'),\n",
        "    np.load('dataset/seq_spin_1627646273.npy')\n",
        "], axis=0)\n",
        "\n",
        "data.shape"
      ]
    },
    {
      "cell_type": "code",
      "execution_count": null,
      "id": "fc34bde1",
      "metadata": {
        "id": "fc34bde1"
      },
      "outputs": [],
      "source": [
        "x_data = data[:, :, :-1]\n",
        "labels = data[:, 0, -1]\n",
        "\n",
        "print(x_data.shape)\n",
        "print(labels.shape)"
      ]
    },
    {
      "cell_type": "code",
      "execution_count": null,
      "id": "72e01a94",
      "metadata": {
        "id": "72e01a94"
      },
      "outputs": [],
      "source": [
        "from tensorflow.keras.utils import to_categorical"
      ]
    },
    {
      "cell_type": "code",
      "execution_count": null,
      "id": "66990f45",
      "metadata": {
        "id": "66990f45"
      },
      "outputs": [],
      "source": [
        "y_data = to_categorical(labels, num_classes=len(actions))\n",
        "y_data.shape"
      ]
    },
    {
      "cell_type": "code",
      "execution_count": null,
      "id": "18c73c7b",
      "metadata": {
        "id": "18c73c7b"
      },
      "outputs": [],
      "source": [
        "from sklearn.model_selection import train_test_split"
      ]
    },
    {
      "cell_type": "code",
      "execution_count": null,
      "id": "1fe352f1",
      "metadata": {
        "id": "1fe352f1"
      },
      "outputs": [],
      "source": [
        "x_data = x_data.astype(np.float32)\n",
        "y_data = y_data.astype(np.float32)\n",
        "\n",
        "x_train, x_val, y_train, y_val = train_test_split(x_data, y_data, test_size=0.1, random_state=2022)\n",
        "\n",
        "print(x_train.shape, y_train.shape)\n",
        "print(x_val.shape, y_val.shape)"
      ]
    },
    {
      "cell_type": "code",
      "execution_count": null,
      "id": "b75c83ff",
      "metadata": {
        "id": "b75c83ff"
      },
      "outputs": [],
      "source": [
        "from tensorflow.keras.models import Sequential\n",
        "from tensorflow.keras.layers import LSTM, Dense"
      ]
    },
    {
      "cell_type": "code",
      "execution_count": null,
      "id": "356fc02a",
      "metadata": {
        "id": "356fc02a"
      },
      "outputs": [],
      "source": [
        "model = Sequential([\n",
        "    LSTM(64, activation='relu', input_shape=x_train.shape[1:3]),\n",
        "    Dense(32, activation='relu'),\n",
        "    Dense(len(actions), activation='softmax')\n",
        "])\n",
        "\n",
        "model.compile(optimizer='adam', loss='categorical_crossentropy', metrics=['acc'])\n",
        "model.summary()"
      ]
    },
    {
      "cell_type": "code",
      "execution_count": null,
      "id": "7b8ad63e",
      "metadata": {
        "id": "7b8ad63e"
      },
      "outputs": [],
      "source": [
        "from tensorflow.keras.callbacks import ModelCheckpoint, ReduceLROnPlateau"
      ]
    },
    {
      "cell_type": "code",
      "execution_count": null,
      "id": "e12fb507",
      "metadata": {
        "id": "e12fb507"
      },
      "outputs": [],
      "source": [
        "history = model.fit(x_train,\n",
        "                   y_trian,\n",
        "                   validation_data=(x_val, y_val),\n",
        "                   epochs =200,\n",
        "                   callbacks=[\n",
        "                       ModelCheckpoint('models/model.h5', monitor='val_acc', verbose=1, save_best_only=True, mode='auto'),\n",
        "                       ReduceLROnPlateau(monitor='val_acc', factor=0.5, patience=50, verbose=1, mode='auto')\n",
        "                   ])"
      ]
    },
    {
      "cell_type": "code",
      "execution_count": null,
      "id": "146320fa",
      "metadata": {
        "id": "146320fa"
      },
      "outputs": [],
      "source": [
        "import matplotlib.pyplot as plt\n",
        "\n",
        "fig, loss_ax = plt.subplots(figsize=(16,10))\n",
        "acc_ax = loss_ax.twinx()\n",
        "\n",
        "loss_ax.plot(history.history['loss'],'y',label='train loss')\n",
        "loss_ax.plot(history.history['val_loss'],'r',label='val loss')\n",
        "loss_ax.set_xlabel('epoch')\n",
        "loss_ax.set_ylabel('loss')\n",
        "loss_ax.legend(loc='upper left')\n",
        "\n",
        "acc_ax.plot(history.history['acc'],'b',label='train acc')\n",
        "acc_ax.plot(history.history['val_acc'],'g',label='val_acc')\n",
        "acc_ax.set_ylabel('accuracy')\n",
        "acc_ax.legend(loc='upper left')\n",
        "\n",
        "plt.show()\n",
        "\n"
      ]
    },
    {
      "cell_type": "code",
      "execution_count": null,
      "id": "558b074c",
      "metadata": {
        "id": "558b074c"
      },
      "outputs": [],
      "source": [
        "from sklearn.metrics import multilabel_confusion_matrix\n",
        "from tensorflow.keras.models import load_model"
      ]
    },
    {
      "cell_type": "code",
      "execution_count": null,
      "id": "57072bad",
      "metadata": {
        "id": "57072bad"
      },
      "outputs": [],
      "source": [
        "model = load_model('models/model.h5')\n",
        "\n",
        "y_pred = model.predict(x_val)\n",
        "\n",
        "multilabel_confusion_matrix(np.argmax(y_val,  axis=1), np.argmax(y_pred, axis=1))"
      ]
    },
    {
      "cell_type": "code",
      "execution_count": null,
      "id": "5e69b040",
      "metadata": {
        "id": "5e69b040"
      },
      "outputs": [],
      "source": [
        "import cv2\n",
        "import mediapipe as mp\n",
        "import numpy as np\n",
        "from tensorflow.keras.models import load_model"
      ]
    },
    {
      "cell_type": "code",
      "execution_count": null,
      "id": "edffbe47",
      "metadata": {
        "id": "edffbe47"
      },
      "outputs": [],
      "source": [
        "action = ['come', 'away', 'spin']\n",
        "seq_length = 30\n",
        "\n",
        "model = load_model('models/model2_1.0.h5')\n",
        "\n",
        "#Mediapipe hands model\n",
        "mp_hands = mp.solutions.hands\n",
        "mp_drawing = mp.solutions.drawing_utils\n",
        "hands = mp_hands.Hands(max_num_hands=1,\n",
        "                      min_detection_confidence=0.5,\n",
        "                      min_tracking_confidence=0.5)\n",
        "\n",
        "cap = cv2.VideoCapture(0)\n",
        "created_time = int(time.time())\n",
        "os.makedirs('dataset', exist_ok=True)\n",
        "\n",
        "while cap.isOpened():\n",
        "    for idx, action in enumerate(actions):\n",
        "        data = []\n",
        "        \n",
        "        ret, img = cap.read()\n",
        "        \n",
        "        img = cv2.flip(img,1)\n",
        "        \n",
        "        cv2.putText(img, f'Waiting for collecting {action.upper()} action...', org=(10,30),\n",
        "                   fontFace=cv2.FONT_HERSHEY_SIMPLEX, fontScale=1, color=(255, 255, 255,), thickness=2)\n",
        "        cv2.imshow('img', img)\n",
        "        cv2.waitKey(3000)\n",
        "        \n",
        "        start_time = time.time()\n",
        "        \n",
        "        while time.time() - start_time < secs_for_action:\n",
        "            ret, img = cap.read()\n",
        "            \n",
        "            img = cv2.flip(img,1)\n",
        "            img = cv2.cvtColor(img, cv2.COLOR_BGR2RGB)\n",
        "            result = hands.process(img)\n",
        "            img = cv2.cvtColor(img, cv2.COLOR_RGB2BGR)\n",
        "            \n",
        "            if result.multi_hand_landmarks is not None:\n",
        "                for res in result.multi_hand_landmarks:\n",
        "                    joint = np.zeros((21,4))\n",
        "                    for j, lm in enumerate(res.landmark):\n",
        "                        joint[j] = [lm.x, lm.y, lm.z, lm.visibility]\n",
        "                        \n",
        "                    #Compute angles between joints\n",
        "                    v1 = joint[[0,1,2,3,0,5,6,7,0,9,10,11,0,13,14,15,0,17,18,19], :3]#parent joint\n",
        "                    v2 = joint[[1,2,3,4,5,6,7,8,9,10,11,12,13,14,15,16,17,18,19,20], :3]#child joint\n",
        "                    v = v2 - v1 #[20, 3]\n",
        "                    #Normalize v\n",
        "                    v = v / np.linalg.norm(v, axis=1)[:, np.newaxis]\n",
        "                    \n",
        "                    #Get angle using arcos if dot product\n",
        "                    angle = np.arccos(np.einsum('nt,nt->n',\n",
        "                                               v[[0,1,2,4,5,6,8,9,10,12,13,14,16,17,18],:],\n",
        "                                               v[[1,2,3,5,6,7,9,10,11,13,14,15,17,18,19],:])) # [15,]\n",
        "                    angle = np.degrees(angle) # Convert radian to degree\n",
        "                    \n",
        "                    angle_label = np.array([angle], dtype=np.float32)\n",
        "                    angle_label = np.append(angle_label, idx)#com,0 away,1 sping,2\n",
        "                    \n",
        "                    d = np.concatenate([joint.flatten(),angle_label])\n",
        "                    \n",
        "                    data.append(d)\n",
        "                    \n",
        "                    mp_drawing.draw_landmarks(img, res, mp_hands.HAND_CONNECTIONS)\n",
        "                    \n",
        "                    if len(seq) > seq_tength:\n",
        "                        continue\n",
        "                        \n",
        "                    input_data = np.expand_dims(np.array(seq[-seq_length:], dtype=np.float32), axis=0)\n",
        "                    \n",
        "                    i_pred = int(np.argmax(y_prad))\n",
        "                    conf = y_pred[i_pred]\n",
        "                    \n",
        "                    if conf < 0.9:\n",
        "                        continue\n",
        "                        \n",
        "                    action = ations[i_pred]\n",
        "                    action_seq.append(action)\n",
        "                    \n",
        "                    if len(action_seq) < 3:\n",
        "                        continue\n",
        "                        \n",
        "                    this_action = '?'\n",
        "                    if action_seq[-1] == action_seq[-2] == action_seq[-3]:\n",
        "                        this_action = action\n",
        "                    \n",
        "                    cv2.putText(img, f'{this_action.upper()}', org=(int(res,landmark[0].x * img.shape[1]), int(\n",
        "                    res.landmark[0].y * img.shape[0] + 20)), fontFace=cv2.FONT_HERSHEY_SIMPLEX, fontScale=1,\n",
        "                               color=(255,255,255), thickness=2)                   \n",
        "                    \n",
        "            cv2.imshow('img', img)\n",
        "            if cv2.waitKey(1) == ord('q'):\n",
        "                break\n",
        "                \n",
        "        data = np.array(data)\n",
        "        print(action, data.shape)\n",
        "        np.save(os.path.join('dataset', f'raw_{action}_{created_time}'), data)\n",
        "        \n",
        "        #Create sequence data\n",
        "        full_seq_data = []\n",
        "        for seq in range(len(data) - seq_length):\n",
        "            full_seq_data.append(data[seq:seq + seq_length])\n",
        "            \n",
        "        full_seq_data = np.array(full_seq_data)\n",
        "        print(action, full_seq_data.shape)\n",
        "        np.save(os.path.join('dataset', f'seq_{action}_{created_time}'), full_seq_data)\n",
        "    break\n"
      ]
    },
    {
      "cell_type": "code",
      "execution_count": null,
      "id": "d497207f",
      "metadata": {
        "id": "d497207f"
      },
      "outputs": [],
      "source": [
        ""
      ]
    },
    {
      "cell_type": "code",
      "execution_count": null,
      "id": "3998b976",
      "metadata": {
        "id": "3998b976"
      },
      "outputs": [],
      "source": [
        ""
      ]
    },
    {
      "cell_type": "code",
      "execution_count": null,
      "id": "894c9f3f",
      "metadata": {
        "id": "894c9f3f"
      },
      "outputs": [],
      "source": [
        ""
      ]
    },
    {
      "cell_type": "code",
      "execution_count": null,
      "id": "014579cb",
      "metadata": {
        "id": "014579cb"
      },
      "outputs": [],
      "source": [
        ""
      ]
    },
    {
      "cell_type": "code",
      "execution_count": null,
      "id": "c80b1ed8",
      "metadata": {
        "id": "c80b1ed8"
      },
      "outputs": [],
      "source": [
        ""
      ]
    },
    {
      "cell_type": "code",
      "execution_count": null,
      "id": "cae8a06f",
      "metadata": {
        "id": "cae8a06f"
      },
      "outputs": [],
      "source": [
        ""
      ]
    },
    {
      "cell_type": "code",
      "execution_count": null,
      "id": "5e3400f7",
      "metadata": {
        "id": "5e3400f7"
      },
      "outputs": [],
      "source": [
        ""
      ]
    },
    {
      "cell_type": "code",
      "execution_count": null,
      "id": "6f20e598",
      "metadata": {
        "id": "6f20e598"
      },
      "outputs": [],
      "source": [
        ""
      ]
    },
    {
      "cell_type": "code",
      "execution_count": null,
      "id": "78784312",
      "metadata": {
        "id": "78784312"
      },
      "outputs": [],
      "source": [
        ""
      ]
    }
  ],
  "metadata": {
    "kernelspec": {
      "display_name": "Python 3 (ipykernel)",
      "language": "python",
      "name": "python3"
    },
    "language_info": {
      "codemirror_mode": {
        "name": "ipython",
        "version": 3
      },
      "file_extension": ".py",
      "mimetype": "text/x-python",
      "name": "python",
      "nbconvert_exporter": "python",
      "pygments_lexer": "ipython3",
      "version": "3.9.12"
    },
    "colab": {
      "name": "youtube0731.ipynb",
      "provenance": [],
      "include_colab_link": true
    }
  },
  "nbformat": 4,
  "nbformat_minor": 5
}