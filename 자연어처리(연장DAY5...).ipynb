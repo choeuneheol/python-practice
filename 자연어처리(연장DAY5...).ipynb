{
  "cells": [
    {
      "cell_type": "markdown",
      "metadata": {
        "id": "view-in-github",
        "colab_type": "text"
      },
      "source": [
        "<a href=\"https://colab.research.google.com/github/choeuneheol/python-practice/blob/master/%EC%9E%90%EC%97%B0%EC%96%B4%EC%B2%98%EB%A6%AC(%EC%97%B0%EC%9E%A5DAY5...).ipynb\" target=\"_parent\"><img src=\"https://colab.research.google.com/assets/colab-badge.svg\" alt=\"Open In Colab\"/></a>"
      ]
    },
    {
      "cell_type": "code",
      "execution_count": null,
      "id": "c7517aa9",
      "metadata": {
        "id": "c7517aa9"
      },
      "outputs": [],
      "source": [
        "import os\n",
        "import pandas as pd\n",
        "import tensorflow as tf\n",
        "from tensorflow.keras.preprocessing.sequence import pad_sequences\n",
        "from tensorflow.keras.utils import to_categorical"
      ]
    },
    {
      "cell_type": "code",
      "execution_count": null,
      "id": "05c532ab",
      "metadata": {
        "scrolled": true,
        "id": "05c532ab",
        "outputId": "2012d816-4290-43cf-ad4b-99143ae408d7"
      },
      "outputs": [
        {
          "name": "stdout",
          "output_type": "stream",
          "text": [
            "Requirement already satisfied: tensorflow in c:\\users\\easy1\\anaconda3\\lib\\site-packages (2.9.1)\n",
            "Requirement already satisfied: libclang>=13.0.0 in c:\\users\\easy1\\anaconda3\\lib\\site-packages (from tensorflow) (14.0.1)\n",
            "Requirement already satisfied: wrapt>=1.11.0 in c:\\users\\easy1\\anaconda3\\lib\\site-packages (from tensorflow) (1.12.1)\n",
            "Requirement already satisfied: flatbuffers<2,>=1.12 in c:\\users\\easy1\\anaconda3\\lib\\site-packages (from tensorflow) (1.12)\n",
            "Requirement already satisfied: grpcio<2.0,>=1.24.3 in c:\\users\\easy1\\anaconda3\\lib\\site-packages (from tensorflow) (1.42.0)\n",
            "Requirement already satisfied: packaging in c:\\users\\easy1\\anaconda3\\lib\\site-packages (from tensorflow) (21.3)\n",
            "Requirement already satisfied: keras-preprocessing>=1.1.1 in c:\\users\\easy1\\anaconda3\\lib\\site-packages (from tensorflow) (1.1.2)\n",
            "Requirement already satisfied: tensorflow-io-gcs-filesystem>=0.23.1 in c:\\users\\easy1\\anaconda3\\lib\\site-packages (from tensorflow) (0.26.0)\n",
            "Requirement already satisfied: keras<2.10.0,>=2.9.0rc0 in c:\\users\\easy1\\anaconda3\\lib\\site-packages (from tensorflow) (2.9.0)\n",
            "Requirement already satisfied: google-pasta>=0.1.1 in c:\\users\\easy1\\anaconda3\\lib\\site-packages (from tensorflow) (0.2.0)\n",
            "Requirement already satisfied: termcolor>=1.1.0 in c:\\users\\easy1\\anaconda3\\lib\\site-packages (from tensorflow) (1.1.0)\n",
            "Requirement already satisfied: absl-py>=1.0.0 in c:\\users\\easy1\\anaconda3\\lib\\site-packages (from tensorflow) (1.1.0)\n",
            "Requirement already satisfied: typing-extensions>=3.6.6 in c:\\users\\easy1\\anaconda3\\lib\\site-packages (from tensorflow) (4.1.1)\n",
            "Requirement already satisfied: h5py>=2.9.0 in c:\\users\\easy1\\anaconda3\\lib\\site-packages (from tensorflow) (3.6.0)\n",
            "Requirement already satisfied: opt-einsum>=2.3.2 in c:\\users\\easy1\\anaconda3\\lib\\site-packages (from tensorflow) (3.3.0)\n",
            "Requirement already satisfied: protobuf<3.20,>=3.9.2 in c:\\users\\easy1\\anaconda3\\lib\\site-packages (from tensorflow) (3.19.1)\n",
            "Requirement already satisfied: gast<=0.4.0,>=0.2.1 in c:\\users\\easy1\\anaconda3\\lib\\site-packages (from tensorflow) (0.4.0)\n",
            "Requirement already satisfied: six>=1.12.0 in c:\\users\\easy1\\anaconda3\\lib\\site-packages (from tensorflow) (1.16.0)\n",
            "Requirement already satisfied: tensorboard<2.10,>=2.9 in c:\\users\\easy1\\anaconda3\\lib\\site-packages (from tensorflow) (2.9.1)\n",
            "Requirement already satisfied: astunparse>=1.6.0 in c:\\users\\easy1\\anaconda3\\lib\\site-packages (from tensorflow) (1.6.3)\n",
            "Requirement already satisfied: setuptools in c:\\users\\easy1\\anaconda3\\lib\\site-packages (from tensorflow) (61.2.0)\n",
            "Requirement already satisfied: tensorflow-estimator<2.10.0,>=2.9.0rc0 in c:\\users\\easy1\\anaconda3\\lib\\site-packages (from tensorflow) (2.9.0)\n",
            "Requirement already satisfied: numpy>=1.20 in c:\\users\\easy1\\anaconda3\\lib\\site-packages (from tensorflow) (1.21.5)\n",
            "Requirement already satisfied: wheel<1.0,>=0.23.0 in c:\\users\\easy1\\anaconda3\\lib\\site-packages (from astunparse>=1.6.0->tensorflow) (0.37.1)\n",
            "Requirement already satisfied: google-auth<3,>=1.6.3 in c:\\users\\easy1\\anaconda3\\lib\\site-packages (from tensorboard<2.10,>=2.9->tensorflow) (1.33.0)\n",
            "Requirement already satisfied: markdown>=2.6.8 in c:\\users\\easy1\\anaconda3\\lib\\site-packages (from tensorboard<2.10,>=2.9->tensorflow) (3.3.4)\n",
            "Requirement already satisfied: google-auth-oauthlib<0.5,>=0.4.1 in c:\\users\\easy1\\anaconda3\\lib\\site-packages (from tensorboard<2.10,>=2.9->tensorflow) (0.4.6)\n",
            "Requirement already satisfied: werkzeug>=1.0.1 in c:\\users\\easy1\\anaconda3\\lib\\site-packages (from tensorboard<2.10,>=2.9->tensorflow) (2.0.3)\n",
            "Requirement already satisfied: tensorboard-data-server<0.7.0,>=0.6.0 in c:\\users\\easy1\\anaconda3\\lib\\site-packages (from tensorboard<2.10,>=2.9->tensorflow) (0.6.1)\n",
            "Requirement already satisfied: requests<3,>=2.21.0 in c:\\users\\easy1\\anaconda3\\lib\\site-packages (from tensorboard<2.10,>=2.9->tensorflow) (2.27.1)\n",
            "Requirement already satisfied: tensorboard-plugin-wit>=1.6.0 in c:\\users\\easy1\\anaconda3\\lib\\site-packages (from tensorboard<2.10,>=2.9->tensorflow) (1.8.1)\n",
            "Requirement already satisfied: rsa<5,>=3.1.4 in c:\\users\\easy1\\anaconda3\\lib\\site-packages (from google-auth<3,>=1.6.3->tensorboard<2.10,>=2.9->tensorflow) (4.7.2)\n",
            "Requirement already satisfied: pyasn1-modules>=0.2.1 in c:\\users\\easy1\\anaconda3\\lib\\site-packages (from google-auth<3,>=1.6.3->tensorboard<2.10,>=2.9->tensorflow) (0.2.8)\n",
            "Requirement already satisfied: cachetools<5.0,>=2.0.0 in c:\\users\\easy1\\anaconda3\\lib\\site-packages (from google-auth<3,>=1.6.3->tensorboard<2.10,>=2.9->tensorflow) (4.2.2)\n",
            "Requirement already satisfied: requests-oauthlib>=0.7.0 in c:\\users\\easy1\\anaconda3\\lib\\site-packages (from google-auth-oauthlib<0.5,>=0.4.1->tensorboard<2.10,>=2.9->tensorflow) (1.3.1)\n",
            "Requirement already satisfied: pyasn1<0.5.0,>=0.4.6 in c:\\users\\easy1\\anaconda3\\lib\\site-packages (from pyasn1-modules>=0.2.1->google-auth<3,>=1.6.3->tensorboard<2.10,>=2.9->tensorflow) (0.4.8)\n",
            "Requirement already satisfied: urllib3<1.27,>=1.21.1 in c:\\users\\easy1\\anaconda3\\lib\\site-packages (from requests<3,>=2.21.0->tensorboard<2.10,>=2.9->tensorflow) (1.26.9)\n",
            "Requirement already satisfied: charset-normalizer~=2.0.0 in c:\\users\\easy1\\anaconda3\\lib\\site-packages (from requests<3,>=2.21.0->tensorboard<2.10,>=2.9->tensorflow) (2.0.4)\n",
            "Requirement already satisfied: idna<4,>=2.5 in c:\\users\\easy1\\anaconda3\\lib\\site-packages (from requests<3,>=2.21.0->tensorboard<2.10,>=2.9->tensorflow) (3.3)\n",
            "Requirement already satisfied: certifi>=2017.4.17 in c:\\users\\easy1\\anaconda3\\lib\\site-packages (from requests<3,>=2.21.0->tensorboard<2.10,>=2.9->tensorflow) (2021.10.8)\n",
            "Requirement already satisfied: oauthlib>=3.0.0 in c:\\users\\easy1\\anaconda3\\lib\\site-packages (from requests-oauthlib>=0.7.0->google-auth-oauthlib<0.5,>=0.4.1->tensorboard<2.10,>=2.9->tensorflow) (3.2.0)\n",
            "Requirement already satisfied: pyparsing!=3.0.5,>=2.0.2 in c:\\users\\easy1\\anaconda3\\lib\\site-packages (from packaging->tensorflow) (3.0.4)\n"
          ]
        }
      ],
      "source": [
        "!pip install --upgrade tensorflow"
      ]
    },
    {
      "cell_type": "code",
      "execution_count": null,
      "id": "60757547",
      "metadata": {
        "id": "60757547",
        "outputId": "9f974948-709d-40ec-dd93-5b905f84811e"
      },
      "outputs": [
        {
          "data": {
            "text/plain": [
              "'C:\\\\Users\\\\easy1\\\\OneDrive\\\\바탕 화면\\\\0705스터디프로젝트시작'"
            ]
          },
          "execution_count": 165,
          "metadata": {},
          "output_type": "execute_result"
        }
      ],
      "source": [
        "os.getcwd() "
      ]
    },
    {
      "cell_type": "code",
      "execution_count": null,
      "id": "b57b4787",
      "metadata": {
        "id": "b57b4787",
        "outputId": "c40b6f91-6618-4442-ca0d-31b54274dae1"
      },
      "outputs": [
        {
          "name": "stdout",
          "output_type": "stream",
          "text": [
            " C 드라이브의 볼륨: Windows\n",
            " 볼륨 일련 번호: EC49-8B27\n",
            "\n",
            " C:\\Users\\easy1\\OneDrive\\바탕 화면\\0705스터디프로젝트시작 디렉터리\n",
            "\n",
            "2022-07-05  오후 02:46    <DIR>          .\n",
            "2022-07-05  오전 10:04    <DIR>          ..\n",
            "2022-07-05  오전 09:15    <DIR>          .ipynb_checkpoints\n",
            "2022-07-05  오전 09:29    <DIR>          drive-download-20220705T001005Z-001\n",
            "2022-07-05  오전 09:10           210,384 drive-download-20220705T001005Z-001.zip\n",
            "2022-07-05  오전 09:44         4,272,575 fra.7z\n",
            "2022-07-05  오전 09:33        29,347,444 fra.txt\n",
            "2022-07-05  오후 02:46            93,918 자연어처리연장DAY5.ipynb\n",
            "               4개 파일          33,924,321 바이트\n",
            "               4개 디렉터리  243,662,499,840 바이트 남음\n"
          ]
        }
      ],
      "source": [
        "ls"
      ]
    },
    {
      "cell_type": "code",
      "execution_count": null,
      "id": "9753bd68",
      "metadata": {
        "id": "9753bd68",
        "outputId": "67d0bbc2-dac9-43e6-82c7-e8b24269fc10"
      },
      "outputs": [
        {
          "data": {
            "text/plain": [
              "'C:\\\\Users\\\\easy1\\\\OneDrive\\\\바탕 화면\\\\0705스터디프로젝트시작'"
            ]
          },
          "execution_count": 167,
          "metadata": {},
          "output_type": "execute_result"
        }
      ],
      "source": [
        "os.getcwd()"
      ]
    },
    {
      "cell_type": "code",
      "execution_count": null,
      "id": "fca8e73e",
      "metadata": {
        "id": "fca8e73e",
        "outputId": "493e0c6e-2f6a-4969-9f99-9202a703b61c"
      },
      "outputs": [
        {
          "name": "stderr",
          "output_type": "stream",
          "text": [
            "'wget'은(는) 내부 또는 외부 명령, 실행할 수 있는 프로그램, 또는\n",
            "배치 파일이 아닙니다.\n"
          ]
        }
      ],
      "source": [
        "!wget http://www.manythings.org/anki/fra-eng.zip"
      ]
    },
    {
      "cell_type": "code",
      "execution_count": null,
      "id": "ff80917b",
      "metadata": {
        "id": "ff80917b"
      },
      "outputs": [],
      "source": [
        "lines = pd.read_csv('./fra.txt',names = ['src','tar','lic'], sep='\\t')"
      ]
    },
    {
      "cell_type": "code",
      "execution_count": null,
      "id": "eb2b2711",
      "metadata": {
        "id": "eb2b2711",
        "outputId": "0fd2c218-792e-462a-dc2c-9669df60a798"
      },
      "outputs": [
        {
          "name": "stdout",
          "output_type": "stream",
          "text": [
            "A carbon footprint is the amount of carbon dioxide pollution that we produce as a result of our activities. Some people try to reduce their carbon footprint because they are concerned about climate change.\n",
            "문장의 길이: 205\n",
            "Death is something that we're often discouraged to talk about or even think about, but I've realized that preparing for death is one of the most empowering things you can do. Thinking about death clarifies your life.\n",
            "문장의 길이: 216\n",
            "Since there are usually multiple websites on any given topic, I usually just click the back button when I arrive on any webpage that has pop-up advertising. I just go to the next page found by Google and hope for something less irritating.\n",
            "문장의 길이: 239\n",
            "If someone who doesn't know your background says that you sound like a native speaker, it means they probably noticed something about your speaking that made them realize you weren't a native speaker. In other words, you don't really sound like a native speaker.\n",
            "문장의 길이: 262\n",
            "It may be impossible to get a completely error-free corpus due to the nature of this kind of collaborative effort. However, if we encourage members to contribute sentences in their own languages rather than experiment in languages they are learning, we might be able to minimize errors.\n",
            "문장의 길이: 286\n"
          ]
        }
      ],
      "source": [
        "for i in lines.src.iloc[-5:]:\n",
        "    print(i)\n",
        "    print('문장의 길이:', len(i))"
      ]
    },
    {
      "cell_type": "code",
      "execution_count": null,
      "id": "d62e0b41",
      "metadata": {
        "id": "d62e0b41"
      },
      "outputs": [],
      "source": [
        "lines['length_src'] = lines.src.apply(lambda x:len(x))\n",
        "lines['length_tar'] = lines.tar.apply(lambda x:len(x))"
      ]
    },
    {
      "cell_type": "code",
      "execution_count": null,
      "id": "0fdb157a",
      "metadata": {
        "id": "0fdb157a",
        "outputId": "c2cc9574-d804-42f2-f268-50f6d1d7280e"
      },
      "outputs": [
        {
          "data": {
            "text/html": [
              "<div>\n",
              "<style scoped>\n",
              "    .dataframe tbody tr th:only-of-type {\n",
              "        vertical-align: middle;\n",
              "    }\n",
              "\n",
              "    .dataframe tbody tr th {\n",
              "        vertical-align: top;\n",
              "    }\n",
              "\n",
              "    .dataframe thead th {\n",
              "        text-align: right;\n",
              "    }\n",
              "</style>\n",
              "<table border=\"1\" class=\"dataframe\">\n",
              "  <thead>\n",
              "    <tr style=\"text-align: right;\">\n",
              "      <th></th>\n",
              "      <th>src</th>\n",
              "      <th>tar</th>\n",
              "      <th>lic</th>\n",
              "      <th>length_src</th>\n",
              "      <th>length_tar</th>\n",
              "    </tr>\n",
              "  </thead>\n",
              "  <tbody>\n",
              "    <tr>\n",
              "      <th>0</th>\n",
              "      <td>Go.</td>\n",
              "      <td>Va !</td>\n",
              "      <td>CC-BY 2.0 (France) Attribution: tatoeba.org #2...</td>\n",
              "      <td>3</td>\n",
              "      <td>4</td>\n",
              "    </tr>\n",
              "    <tr>\n",
              "      <th>1</th>\n",
              "      <td>Go.</td>\n",
              "      <td>Marche.</td>\n",
              "      <td>CC-BY 2.0 (France) Attribution: tatoeba.org #2...</td>\n",
              "      <td>3</td>\n",
              "      <td>7</td>\n",
              "    </tr>\n",
              "    <tr>\n",
              "      <th>2</th>\n",
              "      <td>Go.</td>\n",
              "      <td>Bouge !</td>\n",
              "      <td>CC-BY 2.0 (France) Attribution: tatoeba.org #2...</td>\n",
              "      <td>3</td>\n",
              "      <td>7</td>\n",
              "    </tr>\n",
              "    <tr>\n",
              "      <th>3</th>\n",
              "      <td>Hi.</td>\n",
              "      <td>Salut !</td>\n",
              "      <td>CC-BY 2.0 (France) Attribution: tatoeba.org #5...</td>\n",
              "      <td>3</td>\n",
              "      <td>7</td>\n",
              "    </tr>\n",
              "    <tr>\n",
              "      <th>4</th>\n",
              "      <td>Hi.</td>\n",
              "      <td>Salut.</td>\n",
              "      <td>CC-BY 2.0 (France) Attribution: tatoeba.org #5...</td>\n",
              "      <td>3</td>\n",
              "      <td>6</td>\n",
              "    </tr>\n",
              "    <tr>\n",
              "      <th>...</th>\n",
              "      <td>...</td>\n",
              "      <td>...</td>\n",
              "      <td>...</td>\n",
              "      <td>...</td>\n",
              "      <td>...</td>\n",
              "    </tr>\n",
              "    <tr>\n",
              "      <th>194508</th>\n",
              "      <td>A carbon footprint is the amount of carbon dio...</td>\n",
              "      <td>Une empreinte carbone est la somme de pollutio...</td>\n",
              "      <td>CC-BY 2.0 (France) Attribution: tatoeba.org #1...</td>\n",
              "      <td>205</td>\n",
              "      <td>227</td>\n",
              "    </tr>\n",
              "    <tr>\n",
              "      <th>194509</th>\n",
              "      <td>Death is something that we're often discourage...</td>\n",
              "      <td>La mort est une chose qu'on nous décourage sou...</td>\n",
              "      <td>CC-BY 2.0 (France) Attribution: tatoeba.org #1...</td>\n",
              "      <td>216</td>\n",
              "      <td>263</td>\n",
              "    </tr>\n",
              "    <tr>\n",
              "      <th>194510</th>\n",
              "      <td>Since there are usually multiple websites on a...</td>\n",
              "      <td>Puisqu'il y a de multiples sites web sur chaqu...</td>\n",
              "      <td>CC-BY 2.0 (France) Attribution: tatoeba.org #9...</td>\n",
              "      <td>239</td>\n",
              "      <td>305</td>\n",
              "    </tr>\n",
              "    <tr>\n",
              "      <th>194511</th>\n",
              "      <td>If someone who doesn't know your background sa...</td>\n",
              "      <td>Si quelqu'un qui ne connaît pas vos antécédent...</td>\n",
              "      <td>CC-BY 2.0 (France) Attribution: tatoeba.org #9...</td>\n",
              "      <td>262</td>\n",
              "      <td>325</td>\n",
              "    </tr>\n",
              "    <tr>\n",
              "      <th>194512</th>\n",
              "      <td>It may be impossible to get a completely error...</td>\n",
              "      <td>Il est peut-être impossible d'obtenir un Corpu...</td>\n",
              "      <td>CC-BY 2.0 (France) Attribution: tatoeba.org #2...</td>\n",
              "      <td>286</td>\n",
              "      <td>349</td>\n",
              "    </tr>\n",
              "  </tbody>\n",
              "</table>\n",
              "<p>194513 rows × 5 columns</p>\n",
              "</div>"
            ],
            "text/plain": [
              "                                                      src  \\\n",
              "0                                                     Go.   \n",
              "1                                                     Go.   \n",
              "2                                                     Go.   \n",
              "3                                                     Hi.   \n",
              "4                                                     Hi.   \n",
              "...                                                   ...   \n",
              "194508  A carbon footprint is the amount of carbon dio...   \n",
              "194509  Death is something that we're often discourage...   \n",
              "194510  Since there are usually multiple websites on a...   \n",
              "194511  If someone who doesn't know your background sa...   \n",
              "194512  It may be impossible to get a completely error...   \n",
              "\n",
              "                                                      tar  \\\n",
              "0                                                    Va !   \n",
              "1                                                 Marche.   \n",
              "2                                                 Bouge !   \n",
              "3                                                 Salut !   \n",
              "4                                                  Salut.   \n",
              "...                                                   ...   \n",
              "194508  Une empreinte carbone est la somme de pollutio...   \n",
              "194509  La mort est une chose qu'on nous décourage sou...   \n",
              "194510  Puisqu'il y a de multiples sites web sur chaqu...   \n",
              "194511  Si quelqu'un qui ne connaît pas vos antécédent...   \n",
              "194512  Il est peut-être impossible d'obtenir un Corpu...   \n",
              "\n",
              "                                                      lic  length_src  \\\n",
              "0       CC-BY 2.0 (France) Attribution: tatoeba.org #2...           3   \n",
              "1       CC-BY 2.0 (France) Attribution: tatoeba.org #2...           3   \n",
              "2       CC-BY 2.0 (France) Attribution: tatoeba.org #2...           3   \n",
              "3       CC-BY 2.0 (France) Attribution: tatoeba.org #5...           3   \n",
              "4       CC-BY 2.0 (France) Attribution: tatoeba.org #5...           3   \n",
              "...                                                   ...         ...   \n",
              "194508  CC-BY 2.0 (France) Attribution: tatoeba.org #1...         205   \n",
              "194509  CC-BY 2.0 (France) Attribution: tatoeba.org #1...         216   \n",
              "194510  CC-BY 2.0 (France) Attribution: tatoeba.org #9...         239   \n",
              "194511  CC-BY 2.0 (France) Attribution: tatoeba.org #9...         262   \n",
              "194512  CC-BY 2.0 (France) Attribution: tatoeba.org #2...         286   \n",
              "\n",
              "        length_tar  \n",
              "0                4  \n",
              "1                7  \n",
              "2                7  \n",
              "3                7  \n",
              "4                6  \n",
              "...            ...  \n",
              "194508         227  \n",
              "194509         263  \n",
              "194510         305  \n",
              "194511         325  \n",
              "194512         349  \n",
              "\n",
              "[194513 rows x 5 columns]"
            ]
          },
          "execution_count": 172,
          "metadata": {},
          "output_type": "execute_result"
        }
      ],
      "source": [
        "lines"
      ]
    },
    {
      "cell_type": "code",
      "execution_count": null,
      "id": "b85d707e",
      "metadata": {
        "id": "b85d707e",
        "outputId": "1ea820cb-7f77-451b-c9fe-27e9436ab657"
      },
      "outputs": [
        {
          "name": "stdout",
          "output_type": "stream",
          "text": [
            "src 평균: 30.3\n",
            "src 중앙값:  28.0\n",
            "src 최대값:  286\n"
          ]
        },
        {
          "data": {
            "image/png": "[encoded data removed]",
            "text/plain": [
              "<Figure size 432x288 with 1 Axes>"
            ]
          },
          "metadata": {
            "needs_background": "light"
          },
          "output_type": "display_data"
        }
      ],
      "source": [
        "print('src 평균: %.1f' %(lines.length_src.mean()))\n",
        "print('src 중앙값: ', lines.length_src.median())\n",
        "print('src 최대값: ', lines.length_src.max())\n",
        "lines.length_src.plot(kind='hist', bins= 100);\n"
      ]
    },
    {
      "cell_type": "code",
      "execution_count": null,
      "id": "3d150b5b",
      "metadata": {
        "id": "3d150b5b",
        "outputId": "cad1978e-60e1-4df6-fce4-88491afdde06"
      },
      "outputs": [
        {
          "name": "stdout",
          "output_type": "stream",
          "text": [
            "tar 평균: 35.8\n",
            "tar 중앙값:  33.0\n",
            "tar 최대값:  349\n"
          ]
        },
        {
          "data": {
            "image/png": "[encoded data removed]",
            "text/plain": [
              "<Figure size 432x288 with 1 Axes>"
            ]
          },
          "metadata": {
            "needs_background": "light"
          },
          "output_type": "display_data"
        }
      ],
      "source": [
        "print('tar 평균: %.1f'%(lines.length_tar.mean()))\n",
        "print('tar 중앙값: ', lines.length_tar.median())\n",
        "print('tar 최대값: ', lines.length_tar.max())\n",
        "lines.length_tar.plot(kind='hist', bins= 100);"
      ]
    },
    {
      "cell_type": "code",
      "execution_count": null,
      "id": "640afa2e",
      "metadata": {
        "id": "640afa2e",
        "outputId": "2573fdfe-0ccf-41c4-f423-2d7f5661f774"
      },
      "outputs": [
        {
          "data": {
            "text/html": [
              "<div>\n",
              "<style scoped>\n",
              "    .dataframe tbody tr th:only-of-type {\n",
              "        vertical-align: middle;\n",
              "    }\n",
              "\n",
              "    .dataframe tbody tr th {\n",
              "        vertical-align: top;\n",
              "    }\n",
              "\n",
              "    .dataframe thead th {\n",
              "        text-align: right;\n",
              "    }\n",
              "</style>\n",
              "<table border=\"1\" class=\"dataframe\">\n",
              "  <thead>\n",
              "    <tr style=\"text-align: right;\">\n",
              "      <th></th>\n",
              "      <th>src</th>\n",
              "      <th>tar</th>\n",
              "      <th>lic</th>\n",
              "      <th>length_src</th>\n",
              "      <th>length_tar</th>\n",
              "    </tr>\n",
              "  </thead>\n",
              "  <tbody>\n",
              "    <tr>\n",
              "      <th>17677</th>\n",
              "      <td>Everybody stayed.</td>\n",
              "      <td>Tout le monde est resté.</td>\n",
              "      <td>CC-BY 2.0 (France) Attribution: tatoeba.org #2...</td>\n",
              "      <td>17</td>\n",
              "      <td>24</td>\n",
              "    </tr>\n",
              "    <tr>\n",
              "      <th>13197</th>\n",
              "      <td>Come talk to me.</td>\n",
              "      <td>Viens et parle-moi.</td>\n",
              "      <td>CC-BY 2.0 (France) Attribution: tatoeba.org #3...</td>\n",
              "      <td>16</td>\n",
              "      <td>19</td>\n",
              "    </tr>\n",
              "    <tr>\n",
              "      <th>73231</th>\n",
              "      <td>Stop being so nice to me.</td>\n",
              "      <td>Arrêtez d'être aussi gentille avec moi !</td>\n",
              "      <td>CC-BY 2.0 (France) Attribution: tatoeba.org #1...</td>\n",
              "      <td>25</td>\n",
              "      <td>40</td>\n",
              "    </tr>\n",
              "    <tr>\n",
              "      <th>136456</th>\n",
              "      <td>Tom wanted to be a better teacher.</td>\n",
              "      <td>Tom voulait être un meilleur professeur.</td>\n",
              "      <td>CC-BY 2.0 (France) Attribution: tatoeba.org #5...</td>\n",
              "      <td>34</td>\n",
              "      <td>40</td>\n",
              "    </tr>\n",
              "    <tr>\n",
              "      <th>94769</th>\n",
              "      <td>I was miserable and unhappy.</td>\n",
              "      <td>J'étais misérable et malheureux.</td>\n",
              "      <td>CC-BY 2.0 (France) Attribution: tatoeba.org #2...</td>\n",
              "      <td>28</td>\n",
              "      <td>32</td>\n",
              "    </tr>\n",
              "    <tr>\n",
              "      <th>181530</th>\n",
              "      <td>Women who seek to be equal with men lack ambit...</td>\n",
              "      <td>Les femmes qui cherchent à égaler les hommes m...</td>\n",
              "      <td>CC-BY 2.0 (France) Attribution: tatoeba.org #1...</td>\n",
              "      <td>50</td>\n",
              "      <td>65</td>\n",
              "    </tr>\n",
              "    <tr>\n",
              "      <th>10635</th>\n",
              "      <td>I refuse to go.</td>\n",
              "      <td>Je refuse d'y aller.</td>\n",
              "      <td>CC-BY 2.0 (France) Attribution: tatoeba.org #3...</td>\n",
              "      <td>15</td>\n",
              "      <td>20</td>\n",
              "    </tr>\n",
              "    <tr>\n",
              "      <th>52886</th>\n",
              "      <td>We're not going there.</td>\n",
              "      <td>Nous n'y allons pas.</td>\n",
              "      <td>CC-BY 2.0 (France) Attribution: tatoeba.org #3...</td>\n",
              "      <td>22</td>\n",
              "      <td>20</td>\n",
              "    </tr>\n",
              "    <tr>\n",
              "      <th>34314</th>\n",
              "      <td>Do you go to church?</td>\n",
              "      <td>Fréquentez-vous l'église ?</td>\n",
              "      <td>CC-BY 2.0 (France) Attribution: tatoeba.org #1...</td>\n",
              "      <td>20</td>\n",
              "      <td>26</td>\n",
              "    </tr>\n",
              "    <tr>\n",
              "      <th>92795</th>\n",
              "      <td>He started to speak English.</td>\n",
              "      <td>Il s'est mis à parler anglais.</td>\n",
              "      <td>CC-BY 2.0 (France) Attribution: tatoeba.org #2...</td>\n",
              "      <td>28</td>\n",
              "      <td>30</td>\n",
              "    </tr>\n",
              "  </tbody>\n",
              "</table>\n",
              "</div>"
            ],
            "text/plain": [
              "                                                      src  \\\n",
              "17677                                   Everybody stayed.   \n",
              "13197                                    Come talk to me.   \n",
              "73231                           Stop being so nice to me.   \n",
              "136456                 Tom wanted to be a better teacher.   \n",
              "94769                        I was miserable and unhappy.   \n",
              "181530  Women who seek to be equal with men lack ambit...   \n",
              "10635                                     I refuse to go.   \n",
              "52886                              We're not going there.   \n",
              "34314                                Do you go to church?   \n",
              "92795                        He started to speak English.   \n",
              "\n",
              "                                                      tar  \\\n",
              "17677                            Tout le monde est resté.   \n",
              "13197                                 Viens et parle-moi.   \n",
              "73231            Arrêtez d'être aussi gentille avec moi !   \n",
              "136456           Tom voulait être un meilleur professeur.   \n",
              "94769                    J'étais misérable et malheureux.   \n",
              "181530  Les femmes qui cherchent à égaler les hommes m...   \n",
              "10635                                Je refuse d'y aller.   \n",
              "52886                                Nous n'y allons pas.   \n",
              "34314                          Fréquentez-vous l'église ?   \n",
              "92795                      Il s'est mis à parler anglais.   \n",
              "\n",
              "                                                      lic  length_src  \\\n",
              "17677   CC-BY 2.0 (France) Attribution: tatoeba.org #2...          17   \n",
              "13197   CC-BY 2.0 (France) Attribution: tatoeba.org #3...          16   \n",
              "73231   CC-BY 2.0 (France) Attribution: tatoeba.org #1...          25   \n",
              "136456  CC-BY 2.0 (France) Attribution: tatoeba.org #5...          34   \n",
              "94769   CC-BY 2.0 (France) Attribution: tatoeba.org #2...          28   \n",
              "181530  CC-BY 2.0 (France) Attribution: tatoeba.org #1...          50   \n",
              "10635   CC-BY 2.0 (France) Attribution: tatoeba.org #3...          15   \n",
              "52886   CC-BY 2.0 (France) Attribution: tatoeba.org #3...          22   \n",
              "34314   CC-BY 2.0 (France) Attribution: tatoeba.org #1...          20   \n",
              "92795   CC-BY 2.0 (France) Attribution: tatoeba.org #2...          28   \n",
              "\n",
              "        length_tar  \n",
              "17677           24  \n",
              "13197           19  \n",
              "73231           40  \n",
              "136456          40  \n",
              "94769           32  \n",
              "181530          65  \n",
              "10635           20  \n",
              "52886           20  \n",
              "34314           26  \n",
              "92795           30  "
            ]
          },
          "execution_count": 175,
          "metadata": {},
          "output_type": "execute_result"
        }
      ],
      "source": [
        "lines.sample(10)"
      ]
    },
    {
      "cell_type": "code",
      "execution_count": null,
      "id": "1de1495e",
      "metadata": {
        "id": "1de1495e"
      },
      "outputs": [],
      "source": [
        ""
      ]
    },
    {
      "cell_type": "code",
      "execution_count": null,
      "id": "e88441ed",
      "metadata": {
        "id": "e88441ed"
      },
      "outputs": [],
      "source": [
        "lines_30 = lines.loc[lines.length_src <=30]"
      ]
    },
    {
      "cell_type": "code",
      "execution_count": null,
      "id": "93286f25",
      "metadata": {
        "id": "93286f25",
        "outputId": "42c30c2d-a572-4028-9fed-d1896c66a0e7"
      },
      "outputs": [
        {
          "data": {
            "text/plain": [
              "(113350, 5)"
            ]
          },
          "execution_count": 177,
          "metadata": {},
          "output_type": "execute_result"
        }
      ],
      "source": [
        "lines_30.shape"
      ]
    },
    {
      "cell_type": "code",
      "execution_count": null,
      "id": "756a2dbc",
      "metadata": {
        "id": "756a2dbc"
      },
      "outputs": [],
      "source": [
        "lines_30 = lines_30.reset_index()"
      ]
    },
    {
      "cell_type": "code",
      "execution_count": null,
      "id": "7bff5e4b",
      "metadata": {
        "id": "7bff5e4b",
        "outputId": "2244550b-302c-46ac-f67e-60d8a1b3fe95"
      },
      "outputs": [
        {
          "data": {
            "text/html": [
              "<div>\n",
              "<style scoped>\n",
              "    .dataframe tbody tr th:only-of-type {\n",
              "        vertical-align: middle;\n",
              "    }\n",
              "\n",
              "    .dataframe tbody tr th {\n",
              "        vertical-align: top;\n",
              "    }\n",
              "\n",
              "    .dataframe thead th {\n",
              "        text-align: right;\n",
              "    }\n",
              "</style>\n",
              "<table border=\"1\" class=\"dataframe\">\n",
              "  <thead>\n",
              "    <tr style=\"text-align: right;\">\n",
              "      <th></th>\n",
              "      <th>index</th>\n",
              "      <th>src</th>\n",
              "      <th>tar</th>\n",
              "      <th>lic</th>\n",
              "      <th>length_src</th>\n",
              "      <th>length_tar</th>\n",
              "    </tr>\n",
              "  </thead>\n",
              "  <tbody>\n",
              "    <tr>\n",
              "      <th>0</th>\n",
              "      <td>0</td>\n",
              "      <td>Go.</td>\n",
              "      <td>Va !</td>\n",
              "      <td>CC-BY 2.0 (France) Attribution: tatoeba.org #2...</td>\n",
              "      <td>3</td>\n",
              "      <td>4</td>\n",
              "    </tr>\n",
              "    <tr>\n",
              "      <th>1</th>\n",
              "      <td>1</td>\n",
              "      <td>Go.</td>\n",
              "      <td>Marche.</td>\n",
              "      <td>CC-BY 2.0 (France) Attribution: tatoeba.org #2...</td>\n",
              "      <td>3</td>\n",
              "      <td>7</td>\n",
              "    </tr>\n",
              "    <tr>\n",
              "      <th>2</th>\n",
              "      <td>2</td>\n",
              "      <td>Go.</td>\n",
              "      <td>Bouge !</td>\n",
              "      <td>CC-BY 2.0 (France) Attribution: tatoeba.org #2...</td>\n",
              "      <td>3</td>\n",
              "      <td>7</td>\n",
              "    </tr>\n",
              "    <tr>\n",
              "      <th>3</th>\n",
              "      <td>3</td>\n",
              "      <td>Hi.</td>\n",
              "      <td>Salut !</td>\n",
              "      <td>CC-BY 2.0 (France) Attribution: tatoeba.org #5...</td>\n",
              "      <td>3</td>\n",
              "      <td>7</td>\n",
              "    </tr>\n",
              "    <tr>\n",
              "      <th>4</th>\n",
              "      <td>4</td>\n",
              "      <td>Hi.</td>\n",
              "      <td>Salut.</td>\n",
              "      <td>CC-BY 2.0 (France) Attribution: tatoeba.org #5...</td>\n",
              "      <td>3</td>\n",
              "      <td>6</td>\n",
              "    </tr>\n",
              "    <tr>\n",
              "      <th>...</th>\n",
              "      <td>...</td>\n",
              "      <td>...</td>\n",
              "      <td>...</td>\n",
              "      <td>...</td>\n",
              "      <td>...</td>\n",
              "      <td>...</td>\n",
              "    </tr>\n",
              "    <tr>\n",
              "      <th>113345</th>\n",
              "      <td>119977</td>\n",
              "      <td>Do you like cake? \"Yes, I do.\"</td>\n",
              "      <td>«Aimez-vous les gâteaux ?» «Oui, j'aime ça.»</td>\n",
              "      <td>CC-BY 2.0 (France) Attribution: tatoeba.org #7...</td>\n",
              "      <td>30</td>\n",
              "      <td>44</td>\n",
              "    </tr>\n",
              "    <tr>\n",
              "      <th>113346</th>\n",
              "      <td>119978</td>\n",
              "      <td>Have you eaten? \"Yes, I have.\"</td>\n",
              "      <td>« As-tu mangé ? » « Oui. »</td>\n",
              "      <td>CC-BY 2.0 (France) Attribution: tatoeba.org #6...</td>\n",
              "      <td>30</td>\n",
              "      <td>26</td>\n",
              "    </tr>\n",
              "    <tr>\n",
              "      <th>113347</th>\n",
              "      <td>119979</td>\n",
              "      <td>Have you eaten? \"Yes, I have.\"</td>\n",
              "      <td>« Avez-vous mangé ? » « Oui. »</td>\n",
              "      <td>CC-BY 2.0 (France) Attribution: tatoeba.org #6...</td>\n",
              "      <td>30</td>\n",
              "      <td>30</td>\n",
              "    </tr>\n",
              "    <tr>\n",
              "      <th>113348</th>\n",
              "      <td>119980</td>\n",
              "      <td>How's it going? \"Not too bad.\"</td>\n",
              "      <td>« Comment ça va ? » « Pas trop mal. »</td>\n",
              "      <td>CC-BY 2.0 (France) Attribution: tatoeba.org #4...</td>\n",
              "      <td>30</td>\n",
              "      <td>37</td>\n",
              "    </tr>\n",
              "    <tr>\n",
              "      <th>113349</th>\n",
              "      <td>119981</td>\n",
              "      <td>Who is it? \"It's your mother.\"</td>\n",
              "      <td>« Qui est-ce ? » « C'est ta mère. »</td>\n",
              "      <td>CC-BY 2.0 (France) Attribution: tatoeba.org #1...</td>\n",
              "      <td>30</td>\n",
              "      <td>35</td>\n",
              "    </tr>\n",
              "  </tbody>\n",
              "</table>\n",
              "<p>113350 rows × 6 columns</p>\n",
              "</div>"
            ],
            "text/plain": [
              "         index                             src  \\\n",
              "0            0                             Go.   \n",
              "1            1                             Go.   \n",
              "2            2                             Go.   \n",
              "3            3                             Hi.   \n",
              "4            4                             Hi.   \n",
              "...        ...                             ...   \n",
              "113345  119977  Do you like cake? \"Yes, I do.\"   \n",
              "113346  119978  Have you eaten? \"Yes, I have.\"   \n",
              "113347  119979  Have you eaten? \"Yes, I have.\"   \n",
              "113348  119980  How's it going? \"Not too bad.\"   \n",
              "113349  119981  Who is it? \"It's your mother.\"   \n",
              "\n",
              "                                                 tar  \\\n",
              "0                                               Va !   \n",
              "1                                            Marche.   \n",
              "2                                            Bouge !   \n",
              "3                                            Salut !   \n",
              "4                                             Salut.   \n",
              "...                                              ...   \n",
              "113345  «Aimez-vous les gâteaux ?» «Oui, j'aime ça.»   \n",
              "113346                    « As-tu mangé ? » « Oui. »   \n",
              "113347                « Avez-vous mangé ? » « Oui. »   \n",
              "113348         « Comment ça va ? » « Pas trop mal. »   \n",
              "113349           « Qui est-ce ? » « C'est ta mère. »   \n",
              "\n",
              "                                                      lic  length_src  \\\n",
              "0       CC-BY 2.0 (France) Attribution: tatoeba.org #2...           3   \n",
              "1       CC-BY 2.0 (France) Attribution: tatoeba.org #2...           3   \n",
              "2       CC-BY 2.0 (France) Attribution: tatoeba.org #2...           3   \n",
              "3       CC-BY 2.0 (France) Attribution: tatoeba.org #5...           3   \n",
              "4       CC-BY 2.0 (France) Attribution: tatoeba.org #5...           3   \n",
              "...                                                   ...         ...   \n",
              "113345  CC-BY 2.0 (France) Attribution: tatoeba.org #7...          30   \n",
              "113346  CC-BY 2.0 (France) Attribution: tatoeba.org #6...          30   \n",
              "113347  CC-BY 2.0 (France) Attribution: tatoeba.org #6...          30   \n",
              "113348  CC-BY 2.0 (France) Attribution: tatoeba.org #4...          30   \n",
              "113349  CC-BY 2.0 (France) Attribution: tatoeba.org #1...          30   \n",
              "\n",
              "        length_tar  \n",
              "0                4  \n",
              "1                7  \n",
              "2                7  \n",
              "3                7  \n",
              "4                6  \n",
              "...            ...  \n",
              "113345          44  \n",
              "113346          26  \n",
              "113347          30  \n",
              "113348          37  \n",
              "113349          35  \n",
              "\n",
              "[113350 rows x 6 columns]"
            ]
          },
          "execution_count": 179,
          "metadata": {},
          "output_type": "execute_result"
        }
      ],
      "source": [
        "lines_30"
      ]
    },
    {
      "cell_type": "code",
      "execution_count": null,
      "id": "c6048bda",
      "metadata": {
        "id": "c6048bda",
        "outputId": "1fc90357-6e65-46d9-efd1-43fc03c78ee6"
      },
      "outputs": [
        {
          "data": {
            "text/plain": [
              "Index(['index', 'src', 'tar', 'lic', 'length_src', 'length_tar'], dtype='object')"
            ]
          },
          "execution_count": 180,
          "metadata": {},
          "output_type": "execute_result"
        }
      ],
      "source": [
        "lines_30.columns"
      ]
    },
    {
      "cell_type": "code",
      "execution_count": null,
      "id": "648a0e00",
      "metadata": {
        "id": "648a0e00"
      },
      "outputs": [],
      "source": [
        "lines_30.drop(['index','lic','length_src','length_tar'],axis=1, inplace=True)"
      ]
    },
    {
      "cell_type": "code",
      "execution_count": null,
      "id": "ff39ccb9",
      "metadata": {
        "id": "ff39ccb9",
        "outputId": "55be1f48-bbab-46de-b77b-a0b195e41b24"
      },
      "outputs": [
        {
          "data": {
            "text/html": [
              "<div>\n",
              "<style scoped>\n",
              "    .dataframe tbody tr th:only-of-type {\n",
              "        vertical-align: middle;\n",
              "    }\n",
              "\n",
              "    .dataframe tbody tr th {\n",
              "        vertical-align: top;\n",
              "    }\n",
              "\n",
              "    .dataframe thead th {\n",
              "        text-align: right;\n",
              "    }\n",
              "</style>\n",
              "<table border=\"1\" class=\"dataframe\">\n",
              "  <thead>\n",
              "    <tr style=\"text-align: right;\">\n",
              "      <th></th>\n",
              "      <th>src</th>\n",
              "      <th>tar</th>\n",
              "    </tr>\n",
              "  </thead>\n",
              "  <tbody>\n",
              "    <tr>\n",
              "      <th>19142</th>\n",
              "      <td>I'll take a beer.</td>\n",
              "      <td>Je prendrai une bière.</td>\n",
              "    </tr>\n",
              "    <tr>\n",
              "      <th>32911</th>\n",
              "      <td>We're saving lives.</td>\n",
              "      <td>Nous sauvons des vies.</td>\n",
              "    </tr>\n",
              "    <tr>\n",
              "      <th>103786</th>\n",
              "      <td>That isn't your only problem.</td>\n",
              "      <td>Ce n'est pas ton seul problème.</td>\n",
              "    </tr>\n",
              "    <tr>\n",
              "      <th>108458</th>\n",
              "      <td>I have enough money to buy it.</td>\n",
              "      <td>Je dispose d'assez d'argent pour faire son acq...</td>\n",
              "    </tr>\n",
              "    <tr>\n",
              "      <th>48426</th>\n",
              "      <td>His heart beat slowly.</td>\n",
              "      <td>Son cœur battait lentement.</td>\n",
              "    </tr>\n",
              "    <tr>\n",
              "      <th>41486</th>\n",
              "      <td>How could we not win?</td>\n",
              "      <td>Comment pourrions-nous ne pas gagner ?</td>\n",
              "    </tr>\n",
              "    <tr>\n",
              "      <th>44663</th>\n",
              "      <td>The maid made my bed.</td>\n",
              "      <td>La bonne a fait mon lit.</td>\n",
              "    </tr>\n",
              "    <tr>\n",
              "      <th>71187</th>\n",
              "      <td>I saw her clean the room.</td>\n",
              "      <td>Je l'ai vue ranger la chambre.</td>\n",
              "    </tr>\n",
              "    <tr>\n",
              "      <th>58816</th>\n",
              "      <td>The suit's custom-made.</td>\n",
              "      <td>Le costume est fait sur mesure.</td>\n",
              "    </tr>\n",
              "    <tr>\n",
              "      <th>67882</th>\n",
              "      <td>You can't get rid of me.</td>\n",
              "      <td>Tu ne peux pas te débarrasser de moi.</td>\n",
              "    </tr>\n",
              "  </tbody>\n",
              "</table>\n",
              "</div>"
            ],
            "text/plain": [
              "                                   src  \\\n",
              "19142                I'll take a beer.   \n",
              "32911              We're saving lives.   \n",
              "103786   That isn't your only problem.   \n",
              "108458  I have enough money to buy it.   \n",
              "48426           His heart beat slowly.   \n",
              "41486            How could we not win?   \n",
              "44663            The maid made my bed.   \n",
              "71187        I saw her clean the room.   \n",
              "58816          The suit's custom-made.   \n",
              "67882         You can't get rid of me.   \n",
              "\n",
              "                                                      tar  \n",
              "19142                              Je prendrai une bière.  \n",
              "32911                              Nous sauvons des vies.  \n",
              "103786                    Ce n'est pas ton seul problème.  \n",
              "108458  Je dispose d'assez d'argent pour faire son acq...  \n",
              "48426                         Son cœur battait lentement.  \n",
              "41486              Comment pourrions-nous ne pas gagner ?  \n",
              "44663                            La bonne a fait mon lit.  \n",
              "71187                      Je l'ai vue ranger la chambre.  \n",
              "58816                     Le costume est fait sur mesure.  \n",
              "67882               Tu ne peux pas te débarrasser de moi.  "
            ]
          },
          "execution_count": 182,
          "metadata": {},
          "output_type": "execute_result"
        }
      ],
      "source": [
        "lines_30.sample(10)"
      ]
    },
    {
      "cell_type": "code",
      "execution_count": null,
      "id": "2a45899c",
      "metadata": {
        "id": "2a45899c"
      },
      "outputs": [],
      "source": [
        "#<sos> : \\t\n",
        "#<eos> : \\n\n",
        "lines_30['tar'] = lines.tar.apply(lambda x: '\\t ' + x + '\\n' )"
      ]
    },
    {
      "cell_type": "code",
      "execution_count": null,
      "id": "f493211f",
      "metadata": {
        "id": "f493211f",
        "outputId": "8e88d948-b75e-4d7b-d891-72dbfea1973c"
      },
      "outputs": [
        {
          "data": {
            "text/html": [
              "<div>\n",
              "<style scoped>\n",
              "    .dataframe tbody tr th:only-of-type {\n",
              "        vertical-align: middle;\n",
              "    }\n",
              "\n",
              "    .dataframe tbody tr th {\n",
              "        vertical-align: top;\n",
              "    }\n",
              "\n",
              "    .dataframe thead th {\n",
              "        text-align: right;\n",
              "    }\n",
              "</style>\n",
              "<table border=\"1\" class=\"dataframe\">\n",
              "  <thead>\n",
              "    <tr style=\"text-align: right;\">\n",
              "      <th></th>\n",
              "      <th>src</th>\n",
              "      <th>tar</th>\n",
              "    </tr>\n",
              "  </thead>\n",
              "  <tbody>\n",
              "    <tr>\n",
              "      <th>45354</th>\n",
              "      <td>Tom is overconfident.</td>\n",
              "      <td>\\t Tom est trop sûr de lui.\\n</td>\n",
              "    </tr>\n",
              "    <tr>\n",
              "      <th>111699</th>\n",
              "      <td>Tom is an electrical engineer.</td>\n",
              "      <td>\\t Tom est ingénieur en électricité.\\n</td>\n",
              "    </tr>\n",
              "    <tr>\n",
              "      <th>384</th>\n",
              "      <td>Push it.</td>\n",
              "      <td>\\t Poussez-la.\\n</td>\n",
              "    </tr>\n",
              "    <tr>\n",
              "      <th>74197</th>\n",
              "      <td>Tom decided to cooperate.</td>\n",
              "      <td>\\t Tom a décidé de coopérer.\\n</td>\n",
              "    </tr>\n",
              "    <tr>\n",
              "      <th>83632</th>\n",
              "      <td>You have such pretty eyes.</td>\n",
              "      <td>\\t Tu as de si jolis yeux.\\n</td>\n",
              "    </tr>\n",
              "    <tr>\n",
              "      <th>91146</th>\n",
              "      <td>You and I are the same age.</td>\n",
              "      <td>\\t Vous et moi sommes du même âge.\\n</td>\n",
              "    </tr>\n",
              "    <tr>\n",
              "      <th>96891</th>\n",
              "      <td>They are reading their book.</td>\n",
              "      <td>\\t Elles lisent leur livre.\\n</td>\n",
              "    </tr>\n",
              "    <tr>\n",
              "      <th>3723</th>\n",
              "      <td>Release him.</td>\n",
              "      <td>\\t Relâchez-le !\\n</td>\n",
              "    </tr>\n",
              "    <tr>\n",
              "      <th>70433</th>\n",
              "      <td>I don't like you anymore.</td>\n",
              "      <td>\\t Tu ne me plais plus.\\n</td>\n",
              "    </tr>\n",
              "    <tr>\n",
              "      <th>33504</th>\n",
              "      <td>You look satisfied.</td>\n",
              "      <td>\\t Vous avez l'air satisfaite.\\n</td>\n",
              "    </tr>\n",
              "  </tbody>\n",
              "</table>\n",
              "</div>"
            ],
            "text/plain": [
              "                                   src                                     tar\n",
              "45354            Tom is overconfident.           \\t Tom est trop sûr de lui.\\n\n",
              "111699  Tom is an electrical engineer.  \\t Tom est ingénieur en électricité.\\n\n",
              "384                           Push it.                        \\t Poussez-la.\\n\n",
              "74197        Tom decided to cooperate.          \\t Tom a décidé de coopérer.\\n\n",
              "83632       You have such pretty eyes.            \\t Tu as de si jolis yeux.\\n\n",
              "91146      You and I are the same age.    \\t Vous et moi sommes du même âge.\\n\n",
              "96891     They are reading their book.           \\t Elles lisent leur livre.\\n\n",
              "3723                      Release him.                      \\t Relâchez-le !\\n\n",
              "70433        I don't like you anymore.               \\t Tu ne me plais plus.\\n\n",
              "33504              You look satisfied.        \\t Vous avez l'air satisfaite.\\n"
            ]
          },
          "execution_count": 184,
          "metadata": {},
          "output_type": "execute_result"
        }
      ],
      "source": [
        "lines_30.sample(10)"
      ]
    },
    {
      "cell_type": "code",
      "execution_count": null,
      "id": "f0447a71",
      "metadata": {
        "id": "f0447a71"
      },
      "outputs": [],
      "source": [
        "src_vocab = set()\n",
        "for line in lines_30.src:\n",
        "    for char in line:\n",
        "        src_vocab.add(char)\n",
        "\n",
        "tar_vocab = set()\n",
        "for line in lines_30.tar:\n",
        "    for char in line:\n",
        "        tar_vocab.add(char)\n"
      ]
    },
    {
      "cell_type": "code",
      "execution_count": null,
      "id": "4f7cbc9b",
      "metadata": {
        "id": "4f7cbc9b",
        "outputId": "2486c874-3cda-491c-c4f6-5385ea6bd933"
      },
      "outputs": [
        {
          "name": "stdout",
          "output_type": "stream",
          "text": [
            "src_vocab \n",
            " {'i', '€', \"'\", 'K', 'j', '’', '2', 'a', '!', 'D', 'w', 'u', 'C', 'F', 'Z', 'G', '9', 'O', 's', 'V', 'q', 'R', 'n', 'b', 'é', '\\xa0', 'h', 'p', 'W', 'r', 'g', 'Y', 'x', 'S', '?', 'H', 'y', '°', 'J', '/', 'l', '$', '&', 'A', '4', 'c', '5', 'M', 'L', 't', 'E', 'v', 'B', '%', '-', '7', 'N', 'I', 'k', 'P', 'U', 'f', 'Q', '.', '1', '\"', 'o', 'm', '0', ' ', '‘', '8', 'z', 'd', ',', '6', '3', 'e', ':', 'X', 'T'}\n",
            "src_vocab length \n",
            " 81 \n",
            "\n",
            "tar_vocab \n",
            " {'i', \"'\", 'j', 'K', 'î', '’', '\\u202f', '2', 'a', '!', 'D', 'w', 'À', 'u', 'C', 'F', 'Z', '9', 'G', 'O', 's', 'V', 'q', '\\u2009', 'R', 'n', 'b', 'é', '\\xa0', 'h', 'p', 'W', 'r', 'g', 'Y', 'x', 'S', '(', '?', 'ê', '‽', 'y', 'H', 'ç', 'œ', 'J', 'l', '$', 'Ô', '&', 'A', '4', 'c', '5', 'M', '«', '»', 'L', 'Ç', 't', 'E', 'ë', 'à', '+', 'v', 'Ê', 'ô', 'û', 'B', '%', '-', '7', 'N', 'I', 'k', 'â', 'P', 'U', 'É', 'f', 'Q', 'ï', 'ü', '.', '1', '\"', ')', '\\n', 'ù', '\\t', 'o', 'è', 'm', '0', ' ', '\\u200b', '‘', '8', 'z', 'd', ',', '6', '3', 'e', ':', 'X', 'T'}\n",
            "tar_vocab length \n",
            " 107\n"
          ]
        }
      ],
      "source": [
        "print('src_vocab','\\n', src_vocab)\n",
        "print('src_vocab length','\\n', len(src_vocab), '\\n')\n",
        "print('tar_vocab','\\n', tar_vocab)\n",
        "print('tar_vocab length','\\n', len(tar_vocab))"
      ]
    },
    {
      "cell_type": "code",
      "execution_count": null,
      "id": "e90421d0",
      "metadata": {
        "id": "e90421d0",
        "outputId": "7db3abeb-f843-4b27-9e70-70f682b2d284"
      },
      "outputs": [
        {
          "name": "stdout",
          "output_type": "stream",
          "text": [
            "src_vocab_size: 82\n",
            "tar_vocab_size: 108\n"
          ]
        }
      ],
      "source": [
        "src_vocab_size = len(src_vocab) + 1\n",
        "tar_vocab_size = len(tar_vocab) + 1\n",
        "print('src_vocab_size:', src_vocab_size)\n",
        "print('tar_vocab_size:', tar_vocab_size)"
      ]
    },
    {
      "cell_type": "code",
      "execution_count": null,
      "id": "30e9783f",
      "metadata": {
        "id": "30e9783f"
      },
      "outputs": [],
      "source": [
        "src_vocab = sorted(src_vocab)\n",
        "tar_vocab = sorted(tar_vocab)"
      ]
    },
    {
      "cell_type": "code",
      "execution_count": null,
      "id": "4342ec97",
      "metadata": {
        "id": "4342ec97",
        "outputId": "11fce876-f115-421d-bb6b-9cd7ec93e7e1"
      },
      "outputs": [
        {
          "name": "stdout",
          "output_type": "stream",
          "text": [
            "['b', 'c', 'd', 'e', 'f', 'g', 'h', 'i', 'j', 'k', 'l', 'm', 'n', 'o', 'p', 'q', 'r', 's', 't', 'u', 'v', 'w', 'x', 'y', 'z']\n",
            "['X', 'Y', 'Z', 'a', 'b', 'c', 'd', 'e', 'f', 'g', 'h', 'i', 'j', 'k', 'l', 'm', 'n', 'o', 'p', 'q', 'r', 's', 't', 'u', 'v']\n"
          ]
        }
      ],
      "source": [
        "print(src_vocab[50:75])\n",
        "print(tar_vocab[50:75])"
      ]
    },
    {
      "cell_type": "code",
      "execution_count": null,
      "id": "18e0df3e",
      "metadata": {
        "id": "18e0df3e",
        "outputId": "a3c57191-58f2-4df1-fd7a-866716169eac"
      },
      "outputs": [
        {
          "name": "stdout",
          "output_type": "stream",
          "text": [
            "[' ', '!']\n",
            "['\\t', '\\n']\n"
          ]
        }
      ],
      "source": [
        "print(src_vocab[:2])\n",
        "print(tar_vocab[:2])"
      ]
    },
    {
      "cell_type": "code",
      "execution_count": null,
      "id": "52c678b6",
      "metadata": {
        "id": "52c678b6"
      },
      "outputs": [],
      "source": [
        "#dict([('a','b')]) 딕셔너리로 가능\n",
        "\n",
        "src_to_index =  dict([(word,i+1) for i, word in enumerate (src_vocab)])\n",
        "tar_to_index =  dict([(word,i+1) for i, word in enumerate (tar_vocab)])\n"
      ]
    },
    {
      "cell_type": "code",
      "execution_count": null,
      "id": "0f6dec3b",
      "metadata": {
        "id": "0f6dec3b",
        "outputId": "2054dc34-333c-4d51-e2d8-4bdc36c4646c"
      },
      "outputs": [
        {
          "name": "stdout",
          "output_type": "stream",
          "text": [
            "{' ': 1, '!': 2, '\"': 3, '$': 4, '%': 5, '&': 6, \"'\": 7, ',': 8, '-': 9, '.': 10, '/': 11, '0': 12, '1': 13, '2': 14, '3': 15, '4': 16, '5': 17, '6': 18, '7': 19, '8': 20, '9': 21, ':': 22, '?': 23, 'A': 24, 'B': 25, 'C': 26, 'D': 27, 'E': 28, 'F': 29, 'G': 30, 'H': 31, 'I': 32, 'J': 33, 'K': 34, 'L': 35, 'M': 36, 'N': 37, 'O': 38, 'P': 39, 'Q': 40, 'R': 41, 'S': 42, 'T': 43, 'U': 44, 'V': 45, 'W': 46, 'X': 47, 'Y': 48, 'Z': 49, 'a': 50, 'b': 51, 'c': 52, 'd': 53, 'e': 54, 'f': 55, 'g': 56, 'h': 57, 'i': 58, 'j': 59, 'k': 60, 'l': 61, 'm': 62, 'n': 63, 'o': 64, 'p': 65, 'q': 66, 'r': 67, 's': 68, 't': 69, 'u': 70, 'v': 71, 'w': 72, 'x': 73, 'y': 74, 'z': 75, '\\xa0': 76, '°': 77, 'é': 78, '‘': 79, '’': 80, '€': 81}\n",
            "{'\\t': 1, '\\n': 2, ' ': 3, '!': 4, '\"': 5, '$': 6, '%': 7, '&': 8, \"'\": 9, '(': 10, ')': 11, '+': 12, ',': 13, '-': 14, '.': 15, '0': 16, '1': 17, '2': 18, '3': 19, '4': 20, '5': 21, '6': 22, '7': 23, '8': 24, '9': 25, ':': 26, '?': 27, 'A': 28, 'B': 29, 'C': 30, 'D': 31, 'E': 32, 'F': 33, 'G': 34, 'H': 35, 'I': 36, 'J': 37, 'K': 38, 'L': 39, 'M': 40, 'N': 41, 'O': 42, 'P': 43, 'Q': 44, 'R': 45, 'S': 46, 'T': 47, 'U': 48, 'V': 49, 'W': 50, 'X': 51, 'Y': 52, 'Z': 53, 'a': 54, 'b': 55, 'c': 56, 'd': 57, 'e': 58, 'f': 59, 'g': 60, 'h': 61, 'i': 62, 'j': 63, 'k': 64, 'l': 65, 'm': 66, 'n': 67, 'o': 68, 'p': 69, 'q': 70, 'r': 71, 's': 72, 't': 73, 'u': 74, 'v': 75, 'w': 76, 'x': 77, 'y': 78, 'z': 79, '\\xa0': 80, '«': 81, '»': 82, 'À': 83, 'Ç': 84, 'É': 85, 'Ê': 86, 'Ô': 87, 'à': 88, 'â': 89, 'ç': 90, 'è': 91, 'é': 92, 'ê': 93, 'ë': 94, 'î': 95, 'ï': 96, 'ô': 97, 'ù': 98, 'û': 99, 'ü': 100, 'œ': 101, '\\u2009': 102, '\\u200b': 103, '‘': 104, '’': 105, '\\u202f': 106, '‽': 107}\n"
          ]
        }
      ],
      "source": [
        "print(src_to_index)\n",
        "print(tar_to_index)"
      ]
    },
    {
      "cell_type": "code",
      "execution_count": null,
      "id": "6bd6f5da",
      "metadata": {
        "id": "6bd6f5da",
        "outputId": "8da88285-aca5-4e58-dc80-d7a7881437d3"
      },
      "outputs": [
        {
          "data": {
            "text/plain": [
              "50"
            ]
          },
          "execution_count": 193,
          "metadata": {},
          "output_type": "execute_result"
        }
      ],
      "source": [
        "src_to_index['a']"
      ]
    },
    {
      "cell_type": "code",
      "execution_count": null,
      "id": "e21e7bea",
      "metadata": {
        "id": "e21e7bea"
      },
      "outputs": [],
      "source": [
        "encoder_input = []\n",
        "\n",
        "for line in lines_30.src:\n",
        "    encoded_line = []\n",
        "    for char in line:\n",
        "        encoded_line.append(src_to_index[char])\n",
        "    encoder_input.append(encoded_line)"
      ]
    },
    {
      "cell_type": "code",
      "execution_count": null,
      "id": "9c1201ab",
      "metadata": {
        "id": "9c1201ab",
        "outputId": "88c6cc88-e558-4619-be3d-f56a323274b7"
      },
      "outputs": [
        {
          "name": "stdout",
          "output_type": "stream",
          "text": [
            "src 문장 인코딩: [[30, 64, 10], [30, 64, 10], [30, 64, 10], [31, 58, 10], [31, 58, 10]]\n",
            "src 문장 원본 :  \n",
            " 0    Go.\n",
            "1    Go.\n",
            "2    Go.\n",
            "3    Hi.\n",
            "4    Hi.\n",
            "Name: src, dtype: object\n"
          ]
        }
      ],
      "source": [
        "print('src 문장 인코딩:', encoder_input[:5])\n",
        "print('src 문장 원본 : ', '\\n', lines_30.src[:5])"
      ]
    },
    {
      "cell_type": "code",
      "execution_count": null,
      "id": "059228ff",
      "metadata": {
        "id": "059228ff",
        "outputId": "5060b7b9-a503-456e-c957-785d52329b89"
      },
      "outputs": [
        {
          "name": "stdout",
          "output_type": "stream",
          "text": [
            "src 문장 인코딩 last_one: "
          ]
        },
        {
          "name": "stderr",
          "output_type": "stream",
          "text": [
            "IOPub data rate exceeded.\n",
            "The notebook server will temporarily stop sending output\n",
            "to the client in order to avoid crashing it.\n",
            "To change this limit, set the config variable\n",
            "`--NotebookApp.iopub_data_rate_limit`.\n",
            "\n",
            "Current values:\n",
            "NotebookApp.iopub_data_rate_limit=1000000.0 (bytes/sec)\n",
            "NotebookApp.rate_limit_window=3.0 (secs)\n",
            "\n"
          ]
        }
      ],
      "source": [
        "print('src 문장 인코딩 last_one:', encoder_input[:])"
      ]
    },
    {
      "cell_type": "code",
      "execution_count": null,
      "id": "bdb8cbc2",
      "metadata": {
        "id": "bdb8cbc2",
        "outputId": "9aff948f-5561-49d1-ed1e-161487cb3362"
      },
      "outputs": [
        {
          "data": {
            "text/plain": [
              "30"
            ]
          },
          "execution_count": 197,
          "metadata": {},
          "output_type": "execute_result"
        }
      ],
      "source": [
        "src_to_index['G']"
      ]
    },
    {
      "cell_type": "code",
      "execution_count": null,
      "id": "94b0f506",
      "metadata": {
        "id": "94b0f506"
      },
      "outputs": [],
      "source": [
        "decoder_input = []\n",
        "\n",
        "for line in lines_30.tar:\n",
        "    encoded_line = []\n",
        "    for char in line:\n",
        "        encoded_line.append(tar_to_index[char])\n",
        "    decoder_input.append(encoded_line)"
      ]
    },
    {
      "cell_type": "code",
      "execution_count": null,
      "id": "8a37d0f4",
      "metadata": {
        "id": "8a37d0f4",
        "outputId": "27ca9933-c199-4a55-858e-3a9ebbbbd381"
      },
      "outputs": [
        {
          "name": "stdout",
          "output_type": "stream",
          "text": [
            "src 문장 인코딩: [[1, 3, 49, 54, 3, 4, 2], [1, 3, 40, 54, 71, 56, 61, 58, 15, 2], [1, 3, 29, 68, 74, 60, 58, 3, 4, 2], [1, 3, 46, 54, 65, 74, 73, 3, 4, 2], [1, 3, 46, 54, 65, 74, 73, 15, 2]]\n",
            "src 문장 원본 :  \n",
            " 0       \\t Va !\\n\n",
            "1    \\t Marche.\\n\n",
            "2    \\t Bouge !\\n\n",
            "3    \\t Salut !\\n\n",
            "4     \\t Salut.\\n\n",
            "Name: tar, dtype: object\n"
          ]
        }
      ],
      "source": [
        "print('src 문장 인코딩:', decoder_input[:5])\n",
        "print('src 문장 원본 : ', '\\n', lines_30.tar[:5])"
      ]
    },
    {
      "cell_type": "code",
      "execution_count": null,
      "id": "0488581a",
      "metadata": {
        "id": "0488581a"
      },
      "outputs": [],
      "source": [
        "decoder_target = []\n",
        "\n",
        "for line in lines_30.tar:\n",
        "    timestep = 0\n",
        "    encoded_line = []\n",
        "    for char in line:\n",
        "        if timestep > 1:\n",
        "            encoded_line.append(tar_to_index[char])\n",
        "        timestep += 1\n",
        "    decoder_target.append(encoded_line)"
      ]
    },
    {
      "cell_type": "code",
      "execution_count": null,
      "id": "ac78a86d",
      "metadata": {
        "id": "ac78a86d",
        "outputId": "50c12560-340c-4745-f275-b732a272d6b3"
      },
      "outputs": [
        {
          "name": "stdout",
          "output_type": "stream",
          "text": [
            "[[30, 64, 10], [30, 64, 10], [30, 64, 10], [31, 58, 10], [31, 58, 10]]\n",
            "[[1, 3, 49, 54, 3, 4, 2], [1, 3, 40, 54, 71, 56, 61, 58, 15, 2], [1, 3, 29, 68, 74, 60, 58, 3, 4, 2], [1, 3, 46, 54, 65, 74, 73, 3, 4, 2], [1, 3, 46, 54, 65, 74, 73, 15, 2]]\n",
            "[[49, 54, 3, 4, 2], [40, 54, 71, 56, 61, 58, 15, 2], [29, 68, 74, 60, 58, 3, 4, 2], [46, 54, 65, 74, 73, 3, 4, 2], [46, 54, 65, 74, 73, 15, 2]]\n"
          ]
        }
      ],
      "source": [
        "print(encoder_input[:5])\n",
        "print(decoder_input[:5])\n",
        "print(decoder_target[:5])\n"
      ]
    },
    {
      "cell_type": "code",
      "execution_count": null,
      "id": "614dff1f",
      "metadata": {
        "id": "614dff1f",
        "outputId": "ec0ab929-f850-4316-d3f6-0be0536493c5"
      },
      "outputs": [
        {
          "data": {
            "text/plain": [
              "0                                            Va !\\n\n",
              "1                                         Marche.\\n\n",
              "2                                         Bouge !\\n\n",
              "3                                         Salut !\\n\n",
              "4                                          Salut.\\n\n",
              "                            ...                    \n",
              "113345                Un siècle fait cent années.\\n\n",
              "113346       Une vague de froid attaqua l'Europe.\\n\n",
              "113347       Un crocodile n’est pas un alligator.\\n\n",
              "113348     La vache laitière est un animal utile.\\n\n",
              "113349                    On dansera ce vendredi.\\n\n",
              "Name: tar, Length: 113350, dtype: object"
            ]
          },
          "execution_count": 202,
          "metadata": {},
          "output_type": "execute_result"
        }
      ],
      "source": [
        "lines_30.tar.apply(lambda x: x[1:])"
      ]
    },
    {
      "cell_type": "code",
      "execution_count": null,
      "id": "c33273f3",
      "metadata": {
        "scrolled": true,
        "id": "c33273f3",
        "outputId": "b839cce2-17e8-4cf4-fef9-b742a661e91b"
      },
      "outputs": [
        {
          "name": "stdout",
          "output_type": "stream",
          "text": [
            "max_src_len: 30\n",
            "max_tar_len: 79\n"
          ]
        }
      ],
      "source": [
        "max_src_len = max([len(line) for line in lines_30.src])\n",
        "max_tar_len = max([len(line) for line in lines_30.tar])\n",
        "print('max_src_len:',max_src_len)\n",
        "print('max_tar_len:',max_tar_len)"
      ]
    },
    {
      "cell_type": "code",
      "execution_count": null,
      "id": "0ed60db0",
      "metadata": {
        "id": "0ed60db0"
      },
      "outputs": [],
      "source": [
        "encoder_input = pad_sequences(encoder_input, maxlen = max_src_len, padding='post')\n",
        "decoder_input = pad_sequences(decoder_input, maxlen = max_tar_len, padding='post')\n",
        "decoder_target = pad_sequences(decoder_target, maxlen = max_tar_len, padding='post')\n"
      ]
    },
    {
      "cell_type": "code",
      "execution_count": null,
      "id": "65db4a4b",
      "metadata": {
        "scrolled": true,
        "id": "65db4a4b",
        "outputId": "84544435-cbaa-4b9d-deea-39f1fd4773c5"
      },
      "outputs": [
        {
          "name": "stdout",
          "output_type": "stream",
          "text": [
            "[30 64 10  0  0  0  0  0  0  0  0  0  0  0  0  0  0  0  0  0  0  0  0  0\n",
            "  0  0  0  0  0  0]\n",
            "30\n",
            "[ 1  3 49 54  3  4  2  0  0  0  0  0  0  0  0  0  0  0  0  0  0  0  0  0\n",
            "  0  0  0  0  0  0  0  0  0  0  0  0  0  0  0  0  0  0  0  0  0  0  0  0\n",
            "  0  0  0  0  0  0  0  0  0  0  0  0  0  0  0  0  0  0  0  0  0  0  0  0\n",
            "  0  0  0  0  0  0  0]\n",
            "79\n",
            "[49 54  3  4  2  0  0  0  0  0  0  0  0  0  0  0  0  0  0  0  0  0  0  0\n",
            "  0  0  0  0  0  0  0  0  0  0  0  0  0  0  0  0  0  0  0  0  0  0  0  0\n",
            "  0  0  0  0  0  0  0  0  0  0  0  0  0  0  0  0  0  0  0  0  0  0  0  0\n",
            "  0  0  0  0  0  0  0]\n",
            "79\n"
          ]
        }
      ],
      "source": [
        "print(encoder_input[0])\n",
        "print(len(encoder_input[0]))\n",
        "print(decoder_input[0])\n",
        "print(len(decoder_input[0]))\n",
        "print(decoder_target[0])\n",
        "print(len(decoder_target[0]))\n"
      ]
    },
    {
      "cell_type": "code",
      "execution_count": null,
      "id": "d56b16b1",
      "metadata": {
        "id": "d56b16b1",
        "outputId": "815e40ed-7844-4184-8ab9-bed1e7b59925"
      },
      "outputs": [
        {
          "name": "stdout",
          "output_type": "stream",
          "text": [
            "[0. 0. 0. 0. 0. 0. 0. 0. 0. 0. 0. 0. 0. 0. 0. 0. 0. 0. 0. 0. 0. 0. 0. 0.\n",
            " 0. 0. 0. 0. 0. 0. 1.]\n",
            "31\n"
          ]
        }
      ],
      "source": [
        "print(to_categorical(encoder_input[0][0]))\n",
        "print(len(to_categorical(encoder_input[0][0])))"
      ]
    },
    {
      "cell_type": "code",
      "execution_count": null,
      "id": "86c29999",
      "metadata": {
        "id": "86c29999"
      },
      "outputs": [],
      "source": [
        "encoder_input = to_categorical(encoder_input)\n",
        "decoder_input = to_categorical(decoder_input)\n",
        "decoder_target = to_categorical(decoder_target)"
      ]
    },
    {
      "cell_type": "code",
      "execution_count": null,
      "id": "c689b29d",
      "metadata": {
        "id": "c689b29d",
        "outputId": "08086711-c7d4-42a4-e6ed-fdff61a9f810"
      },
      "outputs": [
        {
          "name": "stdout",
          "output_type": "stream",
          "text": [
            "encoder input dim: (113350, 30, 82)\n",
            "number of samples:  113350\n",
            "max_src_len: 30\n",
            "src_vocab_size: 82\n",
            "----------------------------------------\n",
            "decoder input dim: (113350, 79, 108)\n",
            "number of samples: 113350\n",
            "max_tar_len: 79\n",
            "tar_vocab_size: 108\n",
            "----------------------------------------\n",
            "decoder target dim: (113350, 79, 108)\n"
          ]
        }
      ],
      "source": [
        "print('encoder input dim:', encoder_input.shape)\n",
        "print('number of samples: ', lines_30.shape[0])\n",
        "print('max_src_len:',max_src_len)\n",
        "print('src_vocab_size:', src_vocab_size)\n",
        "print('-'*40)\n",
        "print('decoder input dim:', decoder_input.shape)\n",
        "print('number of samples:', lines_30.shape[0])\n",
        "print('max_tar_len:', max_tar_len)\n",
        "print('tar_vocab_size:', tar_vocab_size)\n",
        "print('-'*40)\n",
        "print('decoder target dim:', decoder_target.shape)\n"
      ]
    },
    {
      "cell_type": "code",
      "execution_count": null,
      "id": "87ed9f47",
      "metadata": {
        "id": "87ed9f47"
      },
      "outputs": [],
      "source": [
        "from tensorflow.keras.layers import Input, SimpleRNN, LSTM, Embedding, Dense\n",
        "from tensorflow.keras.models import Model\n",
        "import numpy as np"
      ]
    },
    {
      "cell_type": "code",
      "execution_count": null,
      "id": "d242473b",
      "metadata": {
        "id": "d242473b",
        "outputId": "9f4a5306-a799-4def-96c3-77cbf3608ac7"
      },
      "outputs": [
        {
          "name": "stdout",
          "output_type": "stream",
          "text": [
            "KerasTensor(type_spec=TensorSpec(shape=(None, 82), dtype=tf.float32, name='input_13'), name='input_13', description=\"created by layer 'input_13'\")\n",
            "KerasTensor(type_spec=TensorSpec(shape=(None, 82), dtype=tf.float32, name='input_14'), name='input_14', description=\"created by layer 'input_14'\")\n",
            "KerasTensor(type_spec=TensorSpec(shape=(None, None, 82), dtype=tf.float32, name='input_15'), name='input_15', description=\"created by layer 'input_15'\")\n"
          ]
        }
      ],
      "source": [
        "print(Input(82))\n",
        "print(Input(shape=(82)))\n",
        "print(Input(shape=(None, src_vocab_size)))"
      ]
    },
    {
      "cell_type": "code",
      "execution_count": null,
      "id": "091c37d3",
      "metadata": {
        "id": "091c37d3"
      },
      "outputs": [],
      "source": [
        "encoder_input_test = Input(82)\n",
        "encoder_inputs = Input(shape=(None, src_vocab_size))"
      ]
    },
    {
      "cell_type": "code",
      "execution_count": null,
      "id": "776c04a4",
      "metadata": {
        "id": "776c04a4",
        "outputId": "e274165b-bc86-4860-c039-12cd10bb8ac2"
      },
      "outputs": [
        {
          "name": "stdout",
          "output_type": "stream",
          "text": [
            "tf.Tensor(\n",
            "[[-0.02010467 -0.00719608 -0.04739439 ...  0.05926302 -0.09720987\n",
            "   0.08029704]\n",
            " [-0.02010467 -0.00719608 -0.04739439 ...  0.05926302 -0.09720987\n",
            "   0.08029704]\n",
            " [-0.02010467 -0.00719608 -0.04739439 ...  0.05926302 -0.09720987\n",
            "   0.08029704]\n",
            " ...\n",
            " [-0.02048034  0.00451981 -0.0126261  ... -0.0021705   0.00142284\n",
            "  -0.01181701]\n",
            " [-0.01022105  0.0293772  -0.00567231 ... -0.00042544 -0.01714927\n",
            "  -0.00429813]\n",
            " [-0.00109391  0.01155221 -0.01057624 ... -0.00907972 -0.00348639\n",
            "   0.0046707 ]], shape=(113350, 256), dtype=float32)\n"
          ]
        }
      ],
      "source": [
        "print(LSTM(units=256)(encoder_inputs))"
      ]
    },
    {
      "cell_type": "code",
      "execution_count": null,
      "id": "a3985785",
      "metadata": {
        "id": "a3985785",
        "outputId": "16767713-51ef-4bcf-9ced-9e8ebf1dc82a"
      },
      "outputs": [
        {
          "name": "stdout",
          "output_type": "stream",
          "text": [
            "KerasTensor(type_spec=TensorSpec(shape=(None, 256), dtype=tf.float32, name=None), name='lstm_65/PartitionedCall:0', description=\"created by layer 'lstm_65'\")\n",
            "KerasTensor(type_spec=TensorSpec(shape=(None, None, 256), dtype=tf.float32, name=None), name='lstm_66/PartitionedCall:1', description=\"created by layer 'lstm_66'\")\n",
            "[<KerasTensor: shape=(None, 256) dtype=float32 (created by layer 'lstm_67')>, <KerasTensor: shape=(None, 256) dtype=float32 (created by layer 'lstm_67')>, <KerasTensor: shape=(None, 256) dtype=float32 (created by layer 'lstm_67')>]\n",
            "[<KerasTensor: shape=(None, None, 256) dtype=float32 (created by layer 'lstm_68')>, <KerasTensor: shape=(None, 256) dtype=float32 (created by layer 'lstm_68')>, <KerasTensor: shape=(None, 256) dtype=float32 (created by layer 'lstm_68')>]\n"
          ]
        }
      ],
      "source": [
        "print(LSTM(units=256)(encoder_inputs))\n",
        "print(LSTM(units=256, return_sequences=True, return_state=False)(encoder_inputs))\n",
        "print(LSTM(units=256, return_sequences=False, return_state=True)(encoder_inputs))\n",
        "print(LSTM(units=256, return_sequences=True, return_state=True)(encoder_inputs))"
      ]
    },
    {
      "cell_type": "code",
      "execution_count": null,
      "id": "95983e50",
      "metadata": {
        "id": "95983e50",
        "outputId": "eff9eba5-4711-47b4-ed95-7db2c9007fdf"
      },
      "outputs": [
        {
          "name": "stdout",
          "output_type": "stream",
          "text": [
            "KerasTensor(type_spec=TensorSpec(shape=(None, 256), dtype=tf.float32, name=None), name='lstm_69/PartitionedCall:0', description=\"created by layer 'lstm_69'\")\n",
            "KerasTensor(type_spec=TensorSpec(shape=(None, None, 256), dtype=tf.float32, name=None), name='lstm_70/PartitionedCall:1', description=\"created by layer 'lstm_70'\")\n",
            "[<KerasTensor: shape=(None, 256) dtype=float32 (created by layer 'lstm_71')>, <KerasTensor: shape=(None, 256) dtype=float32 (created by layer 'lstm_71')>, <KerasTensor: shape=(None, 256) dtype=float32 (created by layer 'lstm_71')>]\n",
            "[<KerasTensor: shape=(None, None, 256) dtype=float32 (created by layer 'lstm_72')>, <KerasTensor: shape=(None, 256) dtype=float32 (created by layer 'lstm_72')>, <KerasTensor: shape=(None, 256) dtype=float32 (created by layer 'lstm_72')>]\n"
          ]
        }
      ],
      "source": [
        "# print(SimpleRNN(256, return_sequences=True)(encoder_input))\n",
        "print(LSTM(units=256)(encoder_inputs))\n",
        "print(LSTM(units=256, return_sequences=True, return_state=False)(encoder_inputs))\n",
        "print(LSTM(units=256, return_sequences=False, return_state=True)(encoder_inputs))\n",
        "print(LSTM(units=256, return_sequences=True, return_state=True)(encoder_inputs))"
      ]
    },
    {
      "cell_type": "code",
      "execution_count": null,
      "id": "22bb890f",
      "metadata": {
        "id": "22bb890f"
      },
      "outputs": [],
      "source": [
        "# print(LSTM(units=256)(encoder_input_test)) 차원을 맞추어주지 않아서 오류발생 3차원으로 맞춰야함"
      ]
    },
    {
      "cell_type": "code",
      "execution_count": null,
      "id": "198361ca",
      "metadata": {
        "id": "198361ca"
      },
      "outputs": [],
      "source": [
        "encoder_rnn = SimpleRNN(256, return_sequences=True)\n",
        "encoder_lstm = LSTM(units=256, return_state=True)"
      ]
    },
    {
      "cell_type": "code",
      "execution_count": null,
      "id": "b781e7f9",
      "metadata": {
        "id": "b781e7f9",
        "outputId": "710477e1-1fc7-4af5-bf12-ac1ab24979ae"
      },
      "outputs": [
        {
          "data": {
            "text/plain": [
              "[<KerasTensor: shape=(None, 256) dtype=float32 (created by layer 'lstm_75')>,\n",
              " <KerasTensor: shape=(None, 256) dtype=float32 (created by layer 'lstm_75')>,\n",
              " <KerasTensor: shape=(None, 256) dtype=float32 (created by layer 'lstm_75')>]"
            ]
          },
          "execution_count": 233,
          "metadata": {},
          "output_type": "execute_result"
        }
      ],
      "source": [
        "encoder_lstm(encoder_inputs)"
      ]
    },
    {
      "cell_type": "code",
      "execution_count": null,
      "id": "4b1dde53",
      "metadata": {
        "id": "4b1dde53",
        "outputId": "69b2bb93-8e92-4387-a648-88909dbfff31"
      },
      "outputs": [
        {
          "data": {
            "text/plain": [
              "[<KerasTensor: shape=(None, 256) dtype=float32 (created by layer 'lstm_75')>,\n",
              " <KerasTensor: shape=(None, 256) dtype=float32 (created by layer 'lstm_75')>,\n",
              " <KerasTensor: shape=(None, 256) dtype=float32 (created by layer 'lstm_75')>]"
            ]
          },
          "execution_count": 234,
          "metadata": {},
          "output_type": "execute_result"
        }
      ],
      "source": [
        "encoder_lstm(encoder_inputs)"
      ]
    },
    {
      "cell_type": "code",
      "execution_count": null,
      "id": "f9bd80a3",
      "metadata": {
        "id": "f9bd80a3"
      },
      "outputs": [],
      "source": [
        "# LSTM(units=256, return_sequences=True)(Input(shape=(None, src_vocab_size)))\n",
        "encoder_outputs, state_h, state_c = encoder_lstm(encoder_inputs)"
      ]
    },
    {
      "cell_type": "code",
      "execution_count": null,
      "id": "6d4b81ec",
      "metadata": {
        "id": "6d4b81ec"
      },
      "outputs": [],
      "source": [
        "# encoder_rnn(encoder_inputs)"
      ]
    },
    {
      "cell_type": "code",
      "execution_count": null,
      "id": "da8063ec",
      "metadata": {
        "id": "da8063ec",
        "outputId": "3f990235-d975-4f82-8958-a7a0deb72943"
      },
      "outputs": [
        {
          "name": "stdout",
          "output_type": "stream",
          "text": [
            "encoder_outputs: KerasTensor(type_spec=TensorSpec(shape=(None, 256), dtype=tf.float32, name=None), name='lstm_75/PartitionedCall:0', description=\"created by layer 'lstm_75'\")\n",
            "state_h: KerasTensor(type_spec=TensorSpec(shape=(None, 256), dtype=tf.float32, name=None), name='lstm_75/PartitionedCall:2', description=\"created by layer 'lstm_75'\")\n",
            "state_c: KerasTensor(type_spec=TensorSpec(shape=(None, 256), dtype=tf.float32, name=None), name='lstm_75/PartitionedCall:3', description=\"created by layer 'lstm_75'\")\n"
          ]
        }
      ],
      "source": [
        "print('encoder_outputs:',encoder_outputs)\n",
        "print('state_h:', state_h)\n",
        "print('state_c:', state_c)"
      ]
    },
    {
      "cell_type": "code",
      "execution_count": null,
      "id": "370ce247",
      "metadata": {
        "id": "370ce247",
        "outputId": "3f8f7bab-4016-4826-a097-0eb6d14fa954"
      },
      "outputs": [
        {
          "name": "stdout",
          "output_type": "stream",
          "text": [
            "[<KerasTensor: shape=(None, 256) dtype=float32 (created by layer 'lstm_75')>, <KerasTensor: shape=(None, 256) dtype=float32 (created by layer 'lstm_75')>]\n"
          ]
        }
      ],
      "source": [
        "encoder_states = [state_h, state_c]\n",
        "print(encoder_states) # context vector"
      ]
    },
    {
      "cell_type": "code",
      "execution_count": null,
      "id": "1a1a4e17",
      "metadata": {
        "id": "1a1a4e17",
        "outputId": "a20b257f-4545-497d-b980-7eb230cbfa3f"
      },
      "outputs": [
        {
          "name": "stdout",
          "output_type": "stream",
          "text": [
            "108\n"
          ]
        }
      ],
      "source": [
        "print(tar_vocab_size)\n",
        "decoder_inputs = Input(shape=(None, tar_vocab_size))"
      ]
    },
    {
      "cell_type": "code",
      "execution_count": null,
      "id": "58ad0df8",
      "metadata": {
        "id": "58ad0df8",
        "outputId": "2463ac78-9a9f-422a-f092-008f65cc80a3"
      },
      "outputs": [
        {
          "data": {
            "text/plain": [
              "<KerasTensor: shape=(None, None, 108) dtype=float32 (created by layer 'input_18')>"
            ]
          },
          "execution_count": 240,
          "metadata": {},
          "output_type": "execute_result"
        }
      ],
      "source": [
        "decoder_inputs"
      ]
    },
    {
      "cell_type": "code",
      "execution_count": null,
      "id": "eab758ce",
      "metadata": {
        "id": "eab758ce"
      },
      "outputs": [],
      "source": [
        "decoder_lstm = LSTM(units=256, return_state=True, return_sequences=True)"
      ]
    },
    {
      "cell_type": "code",
      "execution_count": null,
      "id": "d0f022be",
      "metadata": {
        "id": "d0f022be"
      },
      "outputs": [],
      "source": [
        ""
      ]
    },
    {
      "cell_type": "code",
      "execution_count": null,
      "id": "c6021f4b",
      "metadata": {
        "id": "c6021f4b"
      },
      "outputs": [],
      "source": [
        "decoder_outputs, _, _ = decoder_lstm(decoder_inputs, initial_state=encoder_states)"
      ]
    },
    {
      "cell_type": "code",
      "execution_count": null,
      "id": "a0cebf77",
      "metadata": {
        "id": "a0cebf77",
        "outputId": "68543c1d-ef82-4a8d-9e1f-b402e5de922e"
      },
      "outputs": [
        {
          "data": {
            "text/plain": [
              "<KerasTensor: shape=(None, 256) dtype=float32 (created by layer 'tf.math.multiply_2')>"
            ]
          },
          "execution_count": 243,
          "metadata": {},
          "output_type": "execute_result"
        }
      ],
      "source": [
        "_ * 10"
      ]
    },
    {
      "cell_type": "code",
      "execution_count": null,
      "id": "743bccd9",
      "metadata": {
        "id": "743bccd9",
        "outputId": "dd8570c4-160c-479d-f0f8-6d1b8118e9f0"
      },
      "outputs": [
        {
          "name": "stdout",
          "output_type": "stream",
          "text": [
            "KerasTensor(type_spec=TensorSpec(shape=(None, None, 256), dtype=tf.float32, name=None), name='lstm_76/PartitionedCall:1', description=\"created by layer 'lstm_76'\")\n"
          ]
        }
      ],
      "source": [
        "print(decoder_outputs)"
      ]
    },
    {
      "cell_type": "code",
      "execution_count": null,
      "id": "e26aa6e5",
      "metadata": {
        "id": "e26aa6e5",
        "outputId": "7cb17e28-a9c0-4225-a740-a58ed236290e"
      },
      "outputs": [
        {
          "name": "stdout",
          "output_type": "stream",
          "text": [
            "108\n"
          ]
        },
        {
          "data": {
            "text/plain": [
              "<keras.layers.core.dense.Dense at 0x2414be16730>"
            ]
          },
          "execution_count": 245,
          "metadata": {},
          "output_type": "execute_result"
        }
      ],
      "source": [
        "print(tar_vocab_size)\n",
        "Dense(tar_vocab_size, activation='softmax')"
      ]
    },
    {
      "cell_type": "code",
      "execution_count": null,
      "id": "d1ad99ca",
      "metadata": {
        "id": "d1ad99ca",
        "outputId": "c79a5c8a-5c41-41c7-d4db-6617282a3e07"
      },
      "outputs": [
        {
          "name": "stdout",
          "output_type": "stream",
          "text": [
            "108\n"
          ]
        }
      ],
      "source": [
        "print(tar_vocab_size)\n",
        "decoder_softmax_layer = Dense(tar_vocab_size, activation = 'softmax')"
      ]
    },
    {
      "cell_type": "code",
      "execution_count": null,
      "id": "af247346",
      "metadata": {
        "id": "af247346"
      },
      "outputs": [],
      "source": [
        "decoder_outputs = decoder_softmax_layer(decoder_outputs)"
      ]
    },
    {
      "cell_type": "code",
      "execution_count": null,
      "id": "f8fa5889",
      "metadata": {
        "id": "f8fa5889",
        "outputId": "890084b9-ff6f-4853-9db4-0235c8e75299"
      },
      "outputs": [
        {
          "name": "stdout",
          "output_type": "stream",
          "text": [
            "KerasTensor(type_spec=TensorSpec(shape=(None, None, 108), dtype=tf.float32, name=None), name='dense_3/Softmax:0', description=\"created by layer 'dense_3'\")\n"
          ]
        }
      ],
      "source": [
        "print(decoder_outputs)"
      ]
    },
    {
      "cell_type": "code",
      "execution_count": null,
      "id": "53199a9c",
      "metadata": {
        "id": "53199a9c",
        "outputId": "f2cdc777-1d88-4212-9d1a-929bf33090f4"
      },
      "outputs": [
        {
          "name": "stdout",
          "output_type": "stream",
          "text": [
            "<keras.engine.functional.Functional object at 0x0000024149DEB550>\n"
          ]
        }
      ],
      "source": [
        "model=Model([encoder_inputs, decoder_inputs], decoder_outputs)\n",
        "print(model)"
      ]
    },
    {
      "cell_type": "code",
      "execution_count": null,
      "id": "df943942",
      "metadata": {
        "id": "df943942"
      },
      "outputs": [],
      "source": [
        "model.compile(optimizer='rmsprop', loss='categorical_crossentropy')"
      ]
    },
    {
      "cell_type": "code",
      "execution_count": null,
      "id": "520fd9ba",
      "metadata": {
        "id": "520fd9ba",
        "outputId": "43c77ca2-8baf-47e7-933c-0941989d0e89"
      },
      "outputs": [
        {
          "name": "stdout",
          "output_type": "stream",
          "text": [
            "Model: \"model\"\n",
            "__________________________________________________________________________________________________\n",
            " Layer (type)                   Output Shape         Param #     Connected to                     \n",
            "==================================================================================================\n",
            " input_17 (InputLayer)          [(None, None, 82)]   0           []                               \n",
            "                                                                                                  \n",
            " input_18 (InputLayer)          [(None, None, 108)]  0           []                               \n",
            "                                                                                                  \n",
            " lstm_75 (LSTM)                 [(None, 256),        347136      ['input_17[0][0]']               \n",
            "                                 (None, 256),                                                     \n",
            "                                 (None, 256)]                                                     \n",
            "                                                                                                  \n",
            " lstm_76 (LSTM)                 [(None, None, 256),  373760      ['input_18[0][0]',               \n",
            "                                 (None, 256),                     'lstm_75[2][1]',                \n",
            "                                 (None, 256)]                     'lstm_75[2][2]']                \n",
            "                                                                                                  \n",
            " dense_3 (Dense)                (None, None, 108)    27756       ['lstm_76[0][0]']                \n",
            "                                                                                                  \n",
            "==================================================================================================\n",
            "Total params: 748,652\n",
            "Trainable params: 748,652\n",
            "Non-trainable params: 0\n",
            "__________________________________________________________________________________________________\n"
          ]
        }
      ],
      "source": [
        "model.summary()"
      ]
    },
    {
      "cell_type": "code",
      "execution_count": null,
      "id": "1899218e",
      "metadata": {
        "scrolled": true,
        "id": "1899218e",
        "outputId": "3d6d8ab5-c950-40f8-b26b-d9e976c7b1e9"
      },
      "outputs": [
        {
          "ename": "NameError",
          "evalue": "name 'input_' is not defined",
          "output_type": "error",
          "traceback": [
            "\u001b[1;31m---------------------------------------------------------------------------\u001b[0m",
            "\u001b[1;31mNameError\u001b[0m                                 Traceback (most recent call last)",
            "Input \u001b[1;32mIn [252]\u001b[0m, in \u001b[0;36m<cell line: 1>\u001b[1;34m()\u001b[0m\n\u001b[1;32m----> 1\u001b[0m \u001b[38;5;28mprint\u001b[39m(\u001b[43minput_\u001b[49m)\n",
            "\u001b[1;31mNameError\u001b[0m: name 'input_' is not defined"
          ]
        }
      ],
      "source": [
        "print(input_)"
      ]
    },
    {
      "cell_type": "code",
      "execution_count": null,
      "id": "e28456ed",
      "metadata": {
        "id": "e28456ed",
        "outputId": "ab817ed2-37ce-40bd-a9a8-f95e57905691"
      },
      "outputs": [
        {
          "name": "stdout",
          "output_type": "stream",
          "text": [
            "Epoch 1/5\n",
            "1417/1417 [==============================] - 300s 212ms/step - loss: 0.4595 - val_loss: 0.6573\n",
            "Epoch 2/5\n",
            "1417/1417 [==============================] - 301s 213ms/step - loss: 0.4418 - val_loss: 0.6442\n",
            "Epoch 3/5\n",
            "1417/1417 [==============================] - 307s 217ms/step - loss: 0.4269 - val_loss: 0.6327\n",
            "Epoch 4/5\n",
            "1417/1417 [==============================] - 306s 216ms/step - loss: 0.4144 - val_loss: 0.6217\n",
            "Epoch 5/5\n",
            "1417/1417 [==============================] - 308s 217ms/step - loss: 0.4037 - val_loss: 0.6151\n"
          ]
        },
        {
          "data": {
            "text/plain": [
              "<keras.callbacks.History at 0x23f0f39b310>"
            ]
          },
          "execution_count": 262,
          "metadata": {},
          "output_type": "execute_result"
        }
      ],
      "source": [
        "model.fit(x=[encoder_input, decoder_input] , y= decoder_target,\n",
        "         batch_size=64, epochs=5, validation_split=0.2)"
      ]
    },
    {
      "cell_type": "code",
      "execution_count": null,
      "id": "72020e31",
      "metadata": {
        "id": "72020e31"
      },
      "outputs": [],
      "source": [
        "model.save_weights('./')"
      ]
    },
    {
      "cell_type": "code",
      "execution_count": null,
      "id": "1480224c",
      "metadata": {
        "id": "1480224c"
      },
      "outputs": [],
      "source": [
        "model.save_weights('ed_fra_eng_0705.h5')"
      ]
    },
    {
      "cell_type": "code",
      "execution_count": null,
      "id": "ab9ad54e",
      "metadata": {
        "id": "ab9ad54e",
        "outputId": "fc3118bf-18ec-4cf4-fbcf-4653d620ae46"
      },
      "outputs": [
        {
          "name": "stdout",
          "output_type": "stream",
          "text": [
            "Model: \"model\"\n",
            "__________________________________________________________________________________________________\n",
            " Layer (type)                   Output Shape         Param #     Connected to                     \n",
            "==================================================================================================\n",
            " input_17 (InputLayer)          [(None, None, 82)]   0           []                               \n",
            "                                                                                                  \n",
            " input_18 (InputLayer)          [(None, None, 108)]  0           []                               \n",
            "                                                                                                  \n",
            " lstm_75 (LSTM)                 [(None, 256),        347136      ['input_17[0][0]']               \n",
            "                                 (None, 256),                                                     \n",
            "                                 (None, 256)]                                                     \n",
            "                                                                                                  \n",
            " lstm_76 (LSTM)                 [(None, None, 256),  373760      ['input_18[0][0]',               \n",
            "                                 (None, 256),                     'lstm_75[2][1]',                \n",
            "                                 (None, 256)]                     'lstm_75[2][2]']                \n",
            "                                                                                                  \n",
            " dense_3 (Dense)                (None, None, 108)    27756       ['lstm_76[0][0]']                \n",
            "                                                                                                  \n",
            "==================================================================================================\n",
            "Total params: 748,652\n",
            "Trainable params: 748,652\n",
            "Non-trainable params: 0\n",
            "__________________________________________________________________________________________________\n"
          ]
        }
      ],
      "source": [
        "model.summary()"
      ]
    },
    {
      "cell_type": "code",
      "execution_count": null,
      "id": "212e85d3",
      "metadata": {
        "id": "212e85d3",
        "outputId": "4c3742b7-2fd5-41b9-a800-29cbbb1b70eb"
      },
      "outputs": [
        {
          "name": "stdout",
          "output_type": "stream",
          "text": [
            "KerasTensor(type_spec=TensorSpec(shape=(None, None, 82), dtype=tf.float32, name='input_17'), name='input_17', description=\"created by layer 'input_17'\")\n",
            "KerasTensor(type_spec=TensorSpec(shape=(None, None, 108), dtype=tf.float32, name='input_18'), name='input_18', description=\"created by layer 'input_18'\")\n"
          ]
        }
      ],
      "source": [
        "print(encoder_inputs)\n",
        "print(decoder_inputs)"
      ]
    },
    {
      "cell_type": "code",
      "execution_count": null,
      "id": "451751b3",
      "metadata": {
        "id": "451751b3"
      },
      "outputs": [],
      "source": [
        "encoder_model = Model(inputs=encoder_inputs, outputs=encoder_states)"
      ]
    },
    {
      "cell_type": "code",
      "execution_count": null,
      "id": "a48bf760",
      "metadata": {
        "id": "a48bf760",
        "outputId": "ad6fb6ed-1583-4e2d-af7e-54a4c9bfc695"
      },
      "outputs": [
        {
          "name": "stdout",
          "output_type": "stream",
          "text": [
            "Model: \"model_3\"\n",
            "_________________________________________________________________\n",
            " Layer (type)                Output Shape              Param #   \n",
            "=================================================================\n",
            " input_17 (InputLayer)       [(None, None, 82)]        0         \n",
            "                                                                 \n",
            " lstm_75 (LSTM)              [(None, 256),             347136    \n",
            "                              (None, 256),                       \n",
            "                              (None, 256)]                       \n",
            "                                                                 \n",
            "=================================================================\n",
            "Total params: 347,136\n",
            "Trainable params: 347,136\n",
            "Non-trainable params: 0\n",
            "_________________________________________________________________\n"
          ]
        }
      ],
      "source": [
        "encoder_model.summary()"
      ]
    },
    {
      "cell_type": "code",
      "execution_count": null,
      "id": "f6b92b48",
      "metadata": {
        "id": "f6b92b48",
        "outputId": "29ebb646-1a44-4ccc-cd53-404bb3e2be55"
      },
      "outputs": [
        {
          "name": "stdout",
          "output_type": "stream",
          "text": [
            "KerasTensor(type_spec=TensorSpec(shape=(None, 256), dtype=tf.float32, name='input_21'), name='input_21', description=\"created by layer 'input_21'\")\n",
            "KerasTensor(type_spec=TensorSpec(shape=(None, 256), dtype=tf.float32, name='input_22'), name='input_22', description=\"created by layer 'input_22'\")\n"
          ]
        }
      ],
      "source": [
        "decoder_state_input_h = Input(shape=(256,))\n",
        "decoder_state_input_c = Input(shape=(256,))\n",
        "decoder_state_input = [decoder_state_input_h, decoder_state_input_c]\n",
        "print(decoder_state_input_h)\n",
        "print(decoder_state_input_c)"
      ]
    },
    {
      "cell_type": "code",
      "execution_count": null,
      "id": "550b76fc",
      "metadata": {
        "id": "550b76fc"
      },
      "outputs": [],
      "source": [
        "decoder_outputs, state_h, state_c = decoder_lstm(decoder_inputs, initial_state=decoder_state_input)"
      ]
    },
    {
      "cell_type": "code",
      "execution_count": null,
      "id": "594ac50b",
      "metadata": {
        "id": "594ac50b",
        "outputId": "b685344e-b15a-44be-f99e-b2560616f04e"
      },
      "outputs": [
        {
          "name": "stdout",
          "output_type": "stream",
          "text": [
            "KerasTensor(type_spec=TensorSpec(shape=(None, None, 256), dtype=tf.float32, name=None), name='lstm_76/PartitionedCall:1', description=\"created by layer 'lstm_76'\")\n",
            "KerasTensor(type_spec=TensorSpec(shape=(None, 256), dtype=tf.float32, name=None), name='lstm_76/PartitionedCall:2', description=\"created by layer 'lstm_76'\")\n",
            "KerasTensor(type_spec=TensorSpec(shape=(None, 256), dtype=tf.float32, name=None), name='lstm_76/PartitionedCall:3', description=\"created by layer 'lstm_76'\")\n"
          ]
        }
      ],
      "source": [
        "print(decoder_outputs)\n",
        "print(state_h)\n",
        "print(state_c)"
      ]
    },
    {
      "cell_type": "code",
      "execution_count": null,
      "id": "9e6c364c",
      "metadata": {
        "id": "9e6c364c"
      },
      "outputs": [],
      "source": [
        "decoder_states = [state_h, state_c]\n",
        "decoder_outputs = decoder_softmax_layer(decoder_outputs)\n",
        "decoder_model = Model(inputs=[decoder_inputs] + decoder_state_input,\n",
        "                     outputs=[decoder_outputs, state_h, state_c])"
      ]
    },
    {
      "cell_type": "code",
      "execution_count": null,
      "id": "fe5f8389",
      "metadata": {
        "id": "fe5f8389",
        "outputId": "140825b4-39ec-43b3-f21a-42caac91dc10"
      },
      "outputs": [
        {
          "name": "stdout",
          "output_type": "stream",
          "text": [
            "KerasTensor(type_spec=TensorSpec(shape=(None, None, 108), dtype=tf.float32, name='input_18'), name='input_18', description=\"created by layer 'input_18'\")\n",
            "[<KerasTensor: shape=(None, 256) dtype=float32 (created by layer 'input_21')>, <KerasTensor: shape=(None, 256) dtype=float32 (created by layer 'input_22')>]\n",
            "[<KerasTensor: shape=(None, None, 108) dtype=float32 (created by layer 'input_18')>, <KerasTensor: shape=(None, 256) dtype=float32 (created by layer 'input_21')>, <KerasTensor: shape=(None, 256) dtype=float32 (created by layer 'input_22')>]\n"
          ]
        }
      ],
      "source": [
        "print(decoder_inputs)\n",
        "print(decoder_state_input)\n",
        "print([decoder_inputs] + decoder_state_input)"
      ]
    },
    {
      "cell_type": "code",
      "execution_count": null,
      "id": "f0a20b45",
      "metadata": {
        "scrolled": false,
        "id": "f0a20b45",
        "outputId": "916707c8-61da-4c3a-f02f-bea9e19a6bf1"
      },
      "outputs": [
        {
          "name": "stdout",
          "output_type": "stream",
          "text": [
            "KerasTensor(type_spec=TensorSpec(shape=(None, None, 108), dtype=tf.float32, name=None), name='dense_3/Softmax:0', description=\"created by layer 'dense_3'\")\n",
            "KerasTensor(type_spec=TensorSpec(shape=(None, 256), dtype=tf.float32, name='input_21'), name='input_21', description=\"created by layer 'input_21'\")\n",
            "KerasTensor(type_spec=TensorSpec(shape=(None, 256), dtype=tf.float32, name='input_22'), name='input_22', description=\"created by layer 'input_22'\")\n"
          ]
        }
      ],
      "source": [
        "# [decoder_inputs, decoder_state_input_h, decoder_state_input_c]\n",
        "print(decoder_outputs)\n",
        "print(decoder_state_input_h)\n",
        "print(decoder_state_input_c)"
      ]
    },
    {
      "cell_type": "code",
      "execution_count": null,
      "id": "c690405b",
      "metadata": {
        "id": "c690405b",
        "outputId": "fcf61102-e057-4b4f-c2c5-a64163e96954"
      },
      "outputs": [
        {
          "name": "stdout",
          "output_type": "stream",
          "text": [
            "{' ': 1, '!': 2, '\"': 3, '$': 4, '%': 5, '&': 6, \"'\": 7, ',': 8, '-': 9, '.': 10, '/': 11, '0': 12, '1': 13, '2': 14, '3': 15, '4': 16, '5': 17, '6': 18, '7': 19, '8': 20, '9': 21, ':': 22, '?': 23, 'A': 24, 'B': 25, 'C': 26, 'D': 27, 'E': 28, 'F': 29, 'G': 30, 'H': 31, 'I': 32, 'J': 33, 'K': 34, 'L': 35, 'M': 36, 'N': 37, 'O': 38, 'P': 39, 'Q': 40, 'R': 41, 'S': 42, 'T': 43, 'U': 44, 'V': 45, 'W': 46, 'X': 47, 'Y': 48, 'Z': 49, 'a': 50, 'b': 51, 'c': 52, 'd': 53, 'e': 54, 'f': 55, 'g': 56, 'h': 57, 'i': 58, 'j': 59, 'k': 60, 'l': 61, 'm': 62, 'n': 63, 'o': 64, 'p': 65, 'q': 66, 'r': 67, 's': 68, 't': 69, 'u': 70, 'v': 71, 'w': 72, 'x': 73, 'y': 74, 'z': 75, '\\xa0': 76, '°': 77, 'é': 78, '‘': 79, '’': 80, '€': 81}\n",
            "{'\\t': 1, '\\n': 2, ' ': 3, '!': 4, '\"': 5, '$': 6, '%': 7, '&': 8, \"'\": 9, '(': 10, ')': 11, '+': 12, ',': 13, '-': 14, '.': 15, '0': 16, '1': 17, '2': 18, '3': 19, '4': 20, '5': 21, '6': 22, '7': 23, '8': 24, '9': 25, ':': 26, '?': 27, 'A': 28, 'B': 29, 'C': 30, 'D': 31, 'E': 32, 'F': 33, 'G': 34, 'H': 35, 'I': 36, 'J': 37, 'K': 38, 'L': 39, 'M': 40, 'N': 41, 'O': 42, 'P': 43, 'Q': 44, 'R': 45, 'S': 46, 'T': 47, 'U': 48, 'V': 49, 'W': 50, 'X': 51, 'Y': 52, 'Z': 53, 'a': 54, 'b': 55, 'c': 56, 'd': 57, 'e': 58, 'f': 59, 'g': 60, 'h': 61, 'i': 62, 'j': 63, 'k': 64, 'l': 65, 'm': 66, 'n': 67, 'o': 68, 'p': 69, 'q': 70, 'r': 71, 's': 72, 't': 73, 'u': 74, 'v': 75, 'w': 76, 'x': 77, 'y': 78, 'z': 79, '\\xa0': 80, '«': 81, '»': 82, 'À': 83, 'Ç': 84, 'É': 85, 'Ê': 86, 'Ô': 87, 'à': 88, 'â': 89, 'ç': 90, 'è': 91, 'é': 92, 'ê': 93, 'ë': 94, 'î': 95, 'ï': 96, 'ô': 97, 'ù': 98, 'û': 99, 'ü': 100, 'œ': 101, '\\u2009': 102, '\\u200b': 103, '‘': 104, '’': 105, '\\u202f': 106, '‽': 107}\n",
            "dict_items([(' ', 1), ('!', 2), ('\"', 3), ('$', 4), ('%', 5), ('&', 6), (\"'\", 7), (',', 8), ('-', 9), ('.', 10), ('/', 11), ('0', 12), ('1', 13), ('2', 14), ('3', 15), ('4', 16), ('5', 17), ('6', 18), ('7', 19), ('8', 20), ('9', 21), (':', 22), ('?', 23), ('A', 24), ('B', 25), ('C', 26), ('D', 27), ('E', 28), ('F', 29), ('G', 30), ('H', 31), ('I', 32), ('J', 33), ('K', 34), ('L', 35), ('M', 36), ('N', 37), ('O', 38), ('P', 39), ('Q', 40), ('R', 41), ('S', 42), ('T', 43), ('U', 44), ('V', 45), ('W', 46), ('X', 47), ('Y', 48), ('Z', 49), ('a', 50), ('b', 51), ('c', 52), ('d', 53), ('e', 54), ('f', 55), ('g', 56), ('h', 57), ('i', 58), ('j', 59), ('k', 60), ('l', 61), ('m', 62), ('n', 63), ('o', 64), ('p', 65), ('q', 66), ('r', 67), ('s', 68), ('t', 69), ('u', 70), ('v', 71), ('w', 72), ('x', 73), ('y', 74), ('z', 75), ('\\xa0', 76), ('°', 77), ('é', 78), ('‘', 79), ('’', 80), ('€', 81)])\n"
          ]
        }
      ],
      "source": [
        "print(src_to_index)\n",
        "print(tar_to_index)\n",
        "print(src_to_index.items())"
      ]
    },
    {
      "cell_type": "code",
      "execution_count": null,
      "id": "7b15de22",
      "metadata": {
        "id": "7b15de22"
      },
      "outputs": [],
      "source": [
        "index_to_src = dict((i, char)for char, i in src_to_index.items())\n",
        "index_to_tar = dict((i, char)for char, i in tar_to_index.items())"
      ]
    },
    {
      "cell_type": "code",
      "execution_count": null,
      "id": "ae3bb6be",
      "metadata": {
        "id": "ae3bb6be",
        "outputId": "955391c3-8c65-4393-ca65-2397ccd5830f"
      },
      "outputs": [
        {
          "name": "stdout",
          "output_type": "stream",
          "text": [
            "{' ': 1, '!': 2, '\"': 3, '$': 4, '%': 5, '&': 6, \"'\": 7, ',': 8, '-': 9, '.': 10, '/': 11, '0': 12, '1': 13, '2': 14, '3': 15, '4': 16, '5': 17, '6': 18, '7': 19, '8': 20, '9': 21, ':': 22, '?': 23, 'A': 24, 'B': 25, 'C': 26, 'D': 27, 'E': 28, 'F': 29, 'G': 30, 'H': 31, 'I': 32, 'J': 33, 'K': 34, 'L': 35, 'M': 36, 'N': 37, 'O': 38, 'P': 39, 'Q': 40, 'R': 41, 'S': 42, 'T': 43, 'U': 44, 'V': 45, 'W': 46, 'X': 47, 'Y': 48, 'Z': 49, 'a': 50, 'b': 51, 'c': 52, 'd': 53, 'e': 54, 'f': 55, 'g': 56, 'h': 57, 'i': 58, 'j': 59, 'k': 60, 'l': 61, 'm': 62, 'n': 63, 'o': 64, 'p': 65, 'q': 66, 'r': 67, 's': 68, 't': 69, 'u': 70, 'v': 71, 'w': 72, 'x': 73, 'y': 74, 'z': 75, '\\xa0': 76, '°': 77, 'é': 78, '‘': 79, '’': 80, '€': 81}\n",
            "{'\\t': 1, '\\n': 2, ' ': 3, '!': 4, '\"': 5, '$': 6, '%': 7, '&': 8, \"'\": 9, '(': 10, ')': 11, '+': 12, ',': 13, '-': 14, '.': 15, '0': 16, '1': 17, '2': 18, '3': 19, '4': 20, '5': 21, '6': 22, '7': 23, '8': 24, '9': 25, ':': 26, '?': 27, 'A': 28, 'B': 29, 'C': 30, 'D': 31, 'E': 32, 'F': 33, 'G': 34, 'H': 35, 'I': 36, 'J': 37, 'K': 38, 'L': 39, 'M': 40, 'N': 41, 'O': 42, 'P': 43, 'Q': 44, 'R': 45, 'S': 46, 'T': 47, 'U': 48, 'V': 49, 'W': 50, 'X': 51, 'Y': 52, 'Z': 53, 'a': 54, 'b': 55, 'c': 56, 'd': 57, 'e': 58, 'f': 59, 'g': 60, 'h': 61, 'i': 62, 'j': 63, 'k': 64, 'l': 65, 'm': 66, 'n': 67, 'o': 68, 'p': 69, 'q': 70, 'r': 71, 's': 72, 't': 73, 'u': 74, 'v': 75, 'w': 76, 'x': 77, 'y': 78, 'z': 79, '\\xa0': 80, '«': 81, '»': 82, 'À': 83, 'Ç': 84, 'É': 85, 'Ê': 86, 'Ô': 87, 'à': 88, 'â': 89, 'ç': 90, 'è': 91, 'é': 92, 'ê': 93, 'ë': 94, 'î': 95, 'ï': 96, 'ô': 97, 'ù': 98, 'û': 99, 'ü': 100, 'œ': 101, '\\u2009': 102, '\\u200b': 103, '‘': 104, '’': 105, '\\u202f': 106, '‽': 107}\n",
            "{1: ' ', 2: '!', 3: '\"', 4: '$', 5: '%', 6: '&', 7: \"'\", 8: ',', 9: '-', 10: '.', 11: '/', 12: '0', 13: '1', 14: '2', 15: '3', 16: '4', 17: '5', 18: '6', 19: '7', 20: '8', 21: '9', 22: ':', 23: '?', 24: 'A', 25: 'B', 26: 'C', 27: 'D', 28: 'E', 29: 'F', 30: 'G', 31: 'H', 32: 'I', 33: 'J', 34: 'K', 35: 'L', 36: 'M', 37: 'N', 38: 'O', 39: 'P', 40: 'Q', 41: 'R', 42: 'S', 43: 'T', 44: 'U', 45: 'V', 46: 'W', 47: 'X', 48: 'Y', 49: 'Z', 50: 'a', 51: 'b', 52: 'c', 53: 'd', 54: 'e', 55: 'f', 56: 'g', 57: 'h', 58: 'i', 59: 'j', 60: 'k', 61: 'l', 62: 'm', 63: 'n', 64: 'o', 65: 'p', 66: 'q', 67: 'r', 68: 's', 69: 't', 70: 'u', 71: 'v', 72: 'w', 73: 'x', 74: 'y', 75: 'z', 76: '\\xa0', 77: '°', 78: 'é', 79: '‘', 80: '’', 81: '€'}\n",
            "{1: '\\t', 2: '\\n', 3: ' ', 4: '!', 5: '\"', 6: '$', 7: '%', 8: '&', 9: \"'\", 10: '(', 11: ')', 12: '+', 13: ',', 14: '-', 15: '.', 16: '0', 17: '1', 18: '2', 19: '3', 20: '4', 21: '5', 22: '6', 23: '7', 24: '8', 25: '9', 26: ':', 27: '?', 28: 'A', 29: 'B', 30: 'C', 31: 'D', 32: 'E', 33: 'F', 34: 'G', 35: 'H', 36: 'I', 37: 'J', 38: 'K', 39: 'L', 40: 'M', 41: 'N', 42: 'O', 43: 'P', 44: 'Q', 45: 'R', 46: 'S', 47: 'T', 48: 'U', 49: 'V', 50: 'W', 51: 'X', 52: 'Y', 53: 'Z', 54: 'a', 55: 'b', 56: 'c', 57: 'd', 58: 'e', 59: 'f', 60: 'g', 61: 'h', 62: 'i', 63: 'j', 64: 'k', 65: 'l', 66: 'm', 67: 'n', 68: 'o', 69: 'p', 70: 'q', 71: 'r', 72: 's', 73: 't', 74: 'u', 75: 'v', 76: 'w', 77: 'x', 78: 'y', 79: 'z', 80: '\\xa0', 81: '«', 82: '»', 83: 'À', 84: 'Ç', 85: 'É', 86: 'Ê', 87: 'Ô', 88: 'à', 89: 'â', 90: 'ç', 91: 'è', 92: 'é', 93: 'ê', 94: 'ë', 95: 'î', 96: 'ï', 97: 'ô', 98: 'ù', 99: 'û', 100: 'ü', 101: 'œ', 102: '\\u2009', 103: '\\u200b', 104: '‘', 105: '’', 106: '\\u202f', 107: '‽'}\n"
          ]
        }
      ],
      "source": [
        "print(src_to_index)\n",
        "print(tar_to_index)\n",
        "print(index_to_src)\n",
        "print(index_to_tar)"
      ]
    },
    {
      "cell_type": "code",
      "execution_count": null,
      "id": "0f451c43",
      "metadata": {
        "scrolled": true,
        "id": "0f451c43",
        "outputId": "aedf7363-db96-47aa-a826-9be8b7b7ad50"
      },
      "outputs": [
        {
          "name": "stdout",
          "output_type": "stream",
          "text": [
            "Model: \"model_3\"\n",
            "_________________________________________________________________\n",
            " Layer (type)                Output Shape              Param #   \n",
            "=================================================================\n",
            " input_17 (InputLayer)       [(None, None, 82)]        0         \n",
            "                                                                 \n",
            " lstm_75 (LSTM)              [(None, 256),             347136    \n",
            "                              (None, 256),                       \n",
            "                              (None, 256)]                       \n",
            "                                                                 \n",
            "=================================================================\n",
            "Total params: 347,136\n",
            "Trainable params: 347,136\n",
            "Non-trainable params: 0\n",
            "_________________________________________________________________\n"
          ]
        }
      ],
      "source": [
        "encoder_model.summary()"
      ]
    },
    {
      "cell_type": "code",
      "execution_count": null,
      "id": "6c3aba63",
      "metadata": {
        "id": "6c3aba63",
        "outputId": "a6e06b22-a02b-4975-aaf4-21b80730eab2"
      },
      "outputs": [
        {
          "name": "stdout",
          "output_type": "stream",
          "text": [
            "[[0. 0.]\n",
            " [0. 0.]]\n",
            "108\n",
            "[[[0. 0. 0. 0. 0. 0. 0. 0. 0. 0. 0. 0. 0. 0. 0. 0. 0. 0. 0. 0. 0. 0. 0.\n",
            "   0. 0. 0. 0. 0. 0. 0. 0. 0. 0. 0. 0. 0. 0. 0. 0. 0. 0. 0. 0. 0. 0. 0.\n",
            "   0. 0. 0. 0. 0. 0. 0. 0. 0. 0. 0. 0. 0. 0. 0. 0. 0. 0. 0. 0. 0. 0. 0.\n",
            "   0. 0. 0. 0. 0. 0. 0. 0. 0. 0. 0. 0. 0. 0. 0. 0. 0. 0. 0. 0. 0. 0. 0.\n",
            "   0. 0. 0. 0. 0. 0. 0. 0. 0. 0. 0. 0. 0. 0. 0. 0.]]]\n",
            "(1, 1, 108)\n"
          ]
        }
      ],
      "source": [
        "#<sos> 입력값 생성\n",
        "print(np.zeros((2,2)))\n",
        "print(tar_vocab_size)\n",
        "print(np.zeros((1,1,tar_vocab_size)))\n",
        "target_seq = np.zeros((1,1, tar_vocab_size))\n",
        "print(target_seq.shape)"
      ]
    },
    {
      "cell_type": "code",
      "execution_count": null,
      "id": "a0895e90",
      "metadata": {
        "id": "a0895e90",
        "outputId": "9990e84e-3ae5-4d66-eb6f-7e3e61137bb3"
      },
      "outputs": [
        {
          "data": {
            "text/plain": [
              "1"
            ]
          },
          "execution_count": 335,
          "metadata": {},
          "output_type": "execute_result"
        }
      ],
      "source": [
        "tar_to_index['\\t']"
      ]
    },
    {
      "cell_type": "code",
      "execution_count": null,
      "id": "1ab9fd80",
      "metadata": {
        "id": "1ab9fd80",
        "outputId": "032a11b0-7f5b-45e8-f04c-61422d555be1"
      },
      "outputs": [
        {
          "name": "stdout",
          "output_type": "stream",
          "text": [
            "[[[0. 0. 0. 0. 0. 0. 0. 0. 0. 0. 0. 0. 0. 0. 0. 0. 0. 0. 0. 0. 0. 0. 0.\n",
            "   0. 0. 0. 0. 0. 0. 0. 0. 0. 0. 0. 0. 0. 0. 0. 0. 0. 0. 0. 0. 0. 0. 0.\n",
            "   0. 0. 0. 0. 0. 0. 0. 0. 0. 0. 0. 0. 0. 0. 0. 0. 0. 0. 0. 0. 0. 0. 0.\n",
            "   0. 0. 0. 0. 0. 0. 0. 0. 0. 0. 0. 0. 0. 0. 0. 0. 0. 0. 0. 0. 0. 0. 0.\n",
            "   0. 0. 0. 0. 0. 0. 0. 0. 0. 0. 0. 0. 0. 0. 0. 0.]]]\n",
            "[[0. 0. 0. 0. 0. 0. 0. 0. 0. 0. 0. 0. 0. 0. 0. 0. 0. 0. 0. 0. 0. 0. 0. 0.\n",
            "  0. 0. 0. 0. 0. 0. 0. 0. 0. 0. 0. 0. 0. 0. 0. 0. 0. 0. 0. 0. 0. 0. 0. 0.\n",
            "  0. 0. 0. 0. 0. 0. 0. 0. 0. 0. 0. 0. 0. 0. 0. 0. 0. 0. 0. 0. 0. 0. 0. 0.\n",
            "  0. 0. 0. 0. 0. 0. 0. 0. 0. 0. 0. 0. 0. 0. 0. 0. 0. 0. 0. 0. 0. 0. 0. 0.\n",
            "  0. 0. 0. 0. 0. 0. 0. 0. 0. 0. 0. 0.]]\n",
            "[0. 0. 0. 0. 0. 0. 0. 0. 0. 0. 0. 0. 0. 0. 0. 0. 0. 0. 0. 0. 0. 0. 0. 0.\n",
            " 0. 0. 0. 0. 0. 0. 0. 0. 0. 0. 0. 0. 0. 0. 0. 0. 0. 0. 0. 0. 0. 0. 0. 0.\n",
            " 0. 0. 0. 0. 0. 0. 0. 0. 0. 0. 0. 0. 0. 0. 0. 0. 0. 0. 0. 0. 0. 0. 0. 0.\n",
            " 0. 0. 0. 0. 0. 0. 0. 0. 0. 0. 0. 0. 0. 0. 0. 0. 0. 0. 0. 0. 0. 0. 0. 0.\n",
            " 0. 0. 0. 0. 0. 0. 0. 0. 0. 0. 0. 0.]\n",
            "0.0\n"
          ]
        }
      ],
      "source": [
        "print(target_seq)\n",
        "print(target_seq[0])\n",
        "print(target_seq[0][0])\n",
        "print(target_seq[0,0,1])"
      ]
    },
    {
      "cell_type": "code",
      "execution_count": null,
      "id": "04fe5337",
      "metadata": {
        "id": "04fe5337"
      },
      "outputs": [],
      "source": [
        "target_seq[0,0,1]=1"
      ]
    },
    {
      "cell_type": "code",
      "execution_count": null,
      "id": "a65cd440",
      "metadata": {
        "id": "a65cd440",
        "outputId": "6e24efa8-a888-4c86-ad84-69f45be67594"
      },
      "outputs": [
        {
          "name": "stdout",
          "output_type": "stream",
          "text": [
            "[[[0. 1. 0. 0. 0. 0. 0. 0. 0. 0. 0. 0. 0. 0. 0. 0. 0. 0. 0. 0. 0. 0. 0.\n",
            "   0. 0. 0. 0. 0. 0. 0. 0. 0. 0. 0. 0. 0. 0. 0. 0. 0. 0. 0. 0. 0. 0. 0.\n",
            "   0. 0. 0. 0. 0. 0. 0. 0. 0. 0. 0. 0. 0. 0. 0. 0. 0. 0. 0. 0. 0. 0. 0.\n",
            "   0. 0. 0. 0. 0. 0. 0. 0. 0. 0. 0. 0. 0. 0. 0. 0. 0. 0. 0. 0. 0. 0. 0.\n",
            "   0. 0. 0. 0. 0. 0. 0. 0. 0. 0. 0. 0. 0. 0. 0. 0.]]]\n",
            "(1, 1, 108)\n"
          ]
        }
      ],
      "source": [
        "print(target_seq)\n",
        "print(target_seq.shape)"
      ]
    },
    {
      "cell_type": "code",
      "execution_count": null,
      "id": "1b466c49",
      "metadata": {
        "id": "1b466c49",
        "outputId": "e2a7cad8-330e-4eaa-b9e0-d4e9b076df66"
      },
      "outputs": [
        {
          "name": "stdout",
          "output_type": "stream",
          "text": [
            "[[0. 0. 0. ... 0. 0. 0.]\n",
            " [0. 0. 0. ... 0. 0. 0.]\n",
            " [0. 0. 0. ... 0. 0. 0.]\n",
            " ...\n",
            " [1. 0. 0. ... 0. 0. 0.]\n",
            " [1. 0. 0. ... 0. 0. 0.]\n",
            " [1. 0. 0. ... 0. 0. 0.]]\n"
          ]
        }
      ],
      "source": [
        "print(encoder_input[0])"
      ]
    },
    {
      "cell_type": "code",
      "execution_count": null,
      "id": "41b396db",
      "metadata": {
        "id": "41b396db",
        "outputId": "9c4af7f6-e10b-4388-a0f1-ee57d630e5f3"
      },
      "outputs": [
        {
          "name": "stdout",
          "output_type": "stream",
          "text": [
            "Model: \"model_4\"\n",
            "__________________________________________________________________________________________________\n",
            " Layer (type)                   Output Shape         Param #     Connected to                     \n",
            "==================================================================================================\n",
            " input_18 (InputLayer)          [(None, None, 108)]  0           []                               \n",
            "                                                                                                  \n",
            " input_21 (InputLayer)          [(None, 256)]        0           []                               \n",
            "                                                                                                  \n",
            " input_22 (InputLayer)          [(None, 256)]        0           []                               \n",
            "                                                                                                  \n",
            " lstm_76 (LSTM)                 [(None, None, 256),  373760      ['input_18[0][0]',               \n",
            "                                 (None, 256),                     'input_21[0][0]',               \n",
            "                                 (None, 256)]                     'input_22[0][0]']               \n",
            "                                                                                                  \n",
            " dense_3 (Dense)                (None, None, 108)    27756       ['lstm_76[2][0]']                \n",
            "                                                                                                  \n",
            "==================================================================================================\n",
            "Total params: 401,516\n",
            "Trainable params: 401,516\n",
            "Non-trainable params: 0\n",
            "__________________________________________________________________________________________________\n"
          ]
        }
      ],
      "source": [
        "decoder_model.summary()"
      ]
    },
    {
      "cell_type": "code",
      "execution_count": null,
      "id": "ffc7e306",
      "metadata": {
        "id": "ffc7e306",
        "outputId": "9628f748-bbd9-4750-cdc5-30e107ea9f54"
      },
      "outputs": [
        {
          "name": "stdout",
          "output_type": "stream",
          "text": [
            "1 target_seq (<sos>, decoder model 예측 시 입력)\n",
            "***************************************************************************\n",
            "target_seq: \n",
            " [[[0. 1. 0. 0. 0. 0. 0. 0. 0. 0. 0. 0. 0. 0. 0. 0. 0. 0. 0. 0. 0. 0. 0.\n",
            "   0. 0. 0. 0. 0. 0. 0. 0. 0. 0. 0. 0. 0. 0. 0. 0. 0. 0. 0. 0. 0. 0. 0.\n",
            "   0. 0. 0. 0. 0. 0. 0. 0. 0. 0. 0. 0. 0. 0. 0. 0. 0. 0. 0. 0. 0. 0. 0.\n",
            "   0. 0. 0. 0. 0. 0. 0. 0. 0. 0. 0. 0. 0. 0. 0. 0. 0. 0. 0. 0. 0. 0. 0.\n",
            "   0. 0. 0. 0. 0. 0. 0. 0. 0. 0. 0. 0. 0. 0. 0. 0.]]]\n",
            "target_seq[0][0]: [0. 1. 0. 0. 0. 0. 0. 0. 0. 0. 0. 0. 0. 0. 0. 0. 0. 0. 0. 0. 0. 0. 0. 0.\n",
            " 0. 0. 0. 0. 0. 0. 0. 0. 0. 0. 0. 0. 0. 0. 0. 0. 0. 0. 0. 0. 0. 0. 0. 0.\n",
            " 0. 0. 0. 0. 0. 0. 0. 0. 0. 0. 0. 0. 0. 0. 0. 0. 0. 0. 0. 0. 0. 0. 0. 0.\n",
            " 0. 0. 0. 0. 0. 0. 0. 0. 0. 0. 0. 0. 0. 0. 0. 0. 0. 0. 0. 0. 0. 0. 0. 0.\n",
            " 0. 0. 0. 0. 0. 0. 0. 0. 0. 0. 0. 0.]\n",
            "len(target_seq[0][0]): 108\n",
            "target_seq.shape: (1, 1, 108)\n",
            "***************************************************************************\n"
          ]
        }
      ],
      "source": [
        "print('1 target_seq (<sos>, decoder model 예측 시 입력)')\n",
        "print('*'*75)\n",
        "print('target_seq:','\\n', target_seq)\n",
        "print('target_seq[0][0]:', target_seq[0][0])\n",
        "print('len(target_seq[0][0]):', len(target_seq[0][0]))\n",
        "print('target_seq.shape:', target_seq.shape)\n",
        "print('*'*75)"
      ]
    },
    {
      "cell_type": "code",
      "execution_count": null,
      "id": "9a3f1222",
      "metadata": {
        "id": "9a3f1222",
        "outputId": "561124b8-7927-4989-dd7c-cfda7f9c8245"
      },
      "outputs": [
        {
          "name": "stdout",
          "output_type": "stream",
          "text": [
            "2 states_value (인코더 모델 히든, 셀 상태 출력을 예측 시 입력)\n",
            "- 75\n",
            "states_value: \n",
            " [array([[-0.50582755,  0.3270781 , -0.81683266, ..., -0.97951233,\n",
            "         0.8188819 , -0.08533001],\n",
            "       [-0.50582755,  0.3270781 , -0.81683266, ..., -0.97951233,\n",
            "         0.8188819 , -0.08533001],\n",
            "       [-0.50582755,  0.3270781 , -0.81683266, ..., -0.97951233,\n",
            "         0.8188819 , -0.08533001],\n",
            "       ...,\n",
            "       [-0.02250035,  0.06579947,  0.9458047 , ..., -0.38284114,\n",
            "         0.47484368, -0.8845446 ],\n",
            "       [-0.06818507,  0.5987558 , -0.84146917, ..., -0.05364773,\n",
            "         0.33302024,  0.7782463 ],\n",
            "       [-0.01737162,  0.6432283 , -0.8684892 , ...,  0.04264984,\n",
            "         0.16659407,  0.8694936 ]], dtype=float32), array([[-10.792576  ,  18.5118    ,  -4.3467245 , ...,  -2.6525257 ,\n",
            "          2.7966201 ,  -0.09787604],\n",
            "       [-10.792576  ,  18.5118    ,  -4.3467245 , ...,  -2.6525257 ,\n",
            "          2.7966201 ,  -0.09787604],\n",
            "       [-10.792576  ,  18.5118    ,  -4.3467245 , ...,  -2.6525257 ,\n",
            "          2.7966201 ,  -0.09787604],\n",
            "       ...,\n",
            "       [-13.208139  ,  16.008305  ,   1.849969  , ...,  -0.40693858,\n",
            "          8.463811  ,  -3.9894323 ],\n",
            "       [ -5.134244  ,  13.417846  ,  -3.5893826 , ...,  -0.11689827,\n",
            "          7.8481946 ,   4.895992  ],\n",
            "       [ -9.106799  ,  13.725818  ,  -1.4241371 , ...,   0.39824948,\n",
            "         10.762267  ,   4.6710935 ]], dtype=float32)]\n",
            "len(states_value): 2\n",
            "---------------------------------------------------------------------------\n",
            "2.1 히든 상태값 (state_value[0])\n",
            "----------------------------------------------------------------------\n",
            "[[-0.50582755  0.3270781  -0.81683266 ... -0.97951233  0.8188819\n",
            "  -0.08533001]\n",
            " [-0.50582755  0.3270781  -0.81683266 ... -0.97951233  0.8188819\n",
            "  -0.08533001]\n",
            " [-0.50582755  0.3270781  -0.81683266 ... -0.97951233  0.8188819\n",
            "  -0.08533001]\n",
            " ...\n",
            " [-0.02250035  0.06579947  0.9458047  ... -0.38284114  0.47484368\n",
            "  -0.8845446 ]\n",
            " [-0.06818507  0.5987558  -0.84146917 ... -0.05364773  0.33302024\n",
            "   0.7782463 ]\n",
            " [-0.01737162  0.6432283  -0.8684892  ...  0.04264984  0.16659407\n",
            "   0.8694936 ]]\n",
            "states_value[0].shape: (113350, 256)\n",
            "---------------------------------------------------------------------- \n",
            "\n",
            "2.2 셀 상태값 (state_value[1])\n",
            "----------------------------------------------------------------------\n",
            "[[-10.792576    18.5118      -4.3467245  ...  -2.6525257    2.7966201\n",
            "   -0.09787604]\n",
            " [-10.792576    18.5118      -4.3467245  ...  -2.6525257    2.7966201\n",
            "   -0.09787604]\n",
            " [-10.792576    18.5118      -4.3467245  ...  -2.6525257    2.7966201\n",
            "   -0.09787604]\n",
            " ...\n",
            " [-13.208139    16.008305     1.849969   ...  -0.40693858   8.463811\n",
            "   -3.9894323 ]\n",
            " [ -5.134244    13.417846    -3.5893826  ...  -0.11689827   7.8481946\n",
            "    4.895992  ]\n",
            " [ -9.106799    13.725818    -1.4241371  ...   0.39824948  10.762267\n",
            "    4.6710935 ]]\n",
            "states_value[1].shape: (113350, 256)\n",
            "---------------------------------------------------------------------- \n",
            "\n"
          ]
        }
      ],
      "source": [
        "print('2 states_value (인코더 모델 히든, 셀 상태 출력을 예측 시 입력)')\n",
        "print('-', 75)\n",
        "print('states_value:', '\\n', states_value)\n",
        "print('len(states_value):', len(states_value))\n",
        "print('-'* 75)\n",
        "print('2.1 히든 상태값 (state_value[0])')\n",
        "print('-' * 70)\n",
        "print(states_value[0])\n",
        "print('states_value[0].shape:', states_value[0].shape)\n",
        "print('-' * 70, '\\n')\n",
        "\n",
        "print('2.2 셀 상태값 (state_value[1])')\n",
        "print('-' * 70)\n",
        "print(states_value[1])\n",
        "print('states_value[1].shape:', states_value[1].shape)\n",
        "print('-' * 70, '\\n')"
      ]
    },
    {
      "cell_type": "code",
      "execution_count": null,
      "id": "e5f92169",
      "metadata": {
        "scrolled": true,
        "id": "e5f92169",
        "outputId": "91895dd2-769a-447e-a16f-c413619abd5a"
      },
      "outputs": [
        {
          "name": "stdout",
          "output_type": "stream",
          "text": [
            "[[[0. 1. 0. 0. 0. 0. 0. 0. 0. 0. 0. 0. 0. 0. 0. 0. 0. 0. 0. 0. 0. 0. 0.\n",
            "   0. 0. 0. 0. 0. 0. 0. 0. 0. 0. 0. 0. 0. 0. 0. 0. 0. 0. 0. 0. 0. 0. 0.\n",
            "   0. 0. 0. 0. 0. 0. 0. 0. 0. 0. 0. 0. 0. 0. 0. 0. 0. 0. 0. 0. 0. 0. 0.\n",
            "   0. 0. 0. 0. 0. 0. 0. 0. 0. 0. 0. 0. 0. 0. 0. 0. 0. 0. 0. 0. 0. 0. 0.\n",
            "   0. 0. 0. 0. 0. 0. 0. 0. 0. 0. 0. 0. 0. 0. 0. 0.]]]\n",
            "[array([[[0., 1., 0., 0., 0., 0., 0., 0., 0., 0., 0., 0., 0., 0., 0., 0.,\n",
            "         0., 0., 0., 0., 0., 0., 0., 0., 0., 0., 0., 0., 0., 0., 0., 0.,\n",
            "         0., 0., 0., 0., 0., 0., 0., 0., 0., 0., 0., 0., 0., 0., 0., 0.,\n",
            "         0., 0., 0., 0., 0., 0., 0., 0., 0., 0., 0., 0., 0., 0., 0., 0.,\n",
            "         0., 0., 0., 0., 0., 0., 0., 0., 0., 0., 0., 0., 0., 0., 0., 0.,\n",
            "         0., 0., 0., 0., 0., 0., 0., 0., 0., 0., 0., 0., 0., 0., 0., 0.,\n",
            "         0., 0., 0., 0., 0., 0., 0., 0., 0., 0., 0., 0.]]])]\n",
            "[array([[-0.50582755,  0.3270781 , -0.81683266, ..., -0.97951233,\n",
            "         0.8188819 , -0.08533001],\n",
            "       [-0.50582755,  0.3270781 , -0.81683266, ..., -0.97951233,\n",
            "         0.8188819 , -0.08533001],\n",
            "       [-0.50582755,  0.3270781 , -0.81683266, ..., -0.97951233,\n",
            "         0.8188819 , -0.08533001],\n",
            "       ...,\n",
            "       [-0.02250035,  0.06579947,  0.9458047 , ..., -0.38284114,\n",
            "         0.47484368, -0.8845446 ],\n",
            "       [-0.06818507,  0.5987558 , -0.84146917, ..., -0.05364773,\n",
            "         0.33302024,  0.7782463 ],\n",
            "       [-0.01737162,  0.6432283 , -0.8684892 , ...,  0.04264984,\n",
            "         0.16659407,  0.8694936 ]], dtype=float32), array([[-10.792576  ,  18.5118    ,  -4.3467245 , ...,  -2.6525257 ,\n",
            "          2.7966201 ,  -0.09787604],\n",
            "       [-10.792576  ,  18.5118    ,  -4.3467245 , ...,  -2.6525257 ,\n",
            "          2.7966201 ,  -0.09787604],\n",
            "       [-10.792576  ,  18.5118    ,  -4.3467245 , ...,  -2.6525257 ,\n",
            "          2.7966201 ,  -0.09787604],\n",
            "       ...,\n",
            "       [-13.208139  ,  16.008305  ,   1.849969  , ...,  -0.40693858,\n",
            "          8.463811  ,  -3.9894323 ],\n",
            "       [ -5.134244  ,  13.417846  ,  -3.5893826 , ...,  -0.11689827,\n",
            "          7.8481946 ,   4.895992  ],\n",
            "       [ -9.106799  ,  13.725818  ,  -1.4241371 , ...,   0.39824948,\n",
            "         10.762267  ,   4.6710935 ]], dtype=float32)]\n"
          ]
        }
      ],
      "source": [
        "print(target_seq)\n",
        "print([target_seq])\n",
        "print(states_value)"
      ]
    },
    {
      "cell_type": "code",
      "execution_count": null,
      "id": "5f6c4946",
      "metadata": {
        "id": "5f6c4946",
        "outputId": "4e61cdd4-3de9-4aa7-d3df-59903e16ca9d"
      },
      "outputs": [
        {
          "name": "stdout",
          "output_type": "stream",
          "text": [
            "[array([[[0., 1., 0., 0., 0., 0., 0., 0., 0., 0., 0., 0., 0., 0., 0., 0.,\n",
            "         0., 0., 0., 0., 0., 0., 0., 0., 0., 0., 0., 0., 0., 0., 0., 0.,\n",
            "         0., 0., 0., 0., 0., 0., 0., 0., 0., 0., 0., 0., 0., 0., 0., 0.,\n",
            "         0., 0., 0., 0., 0., 0., 0., 0., 0., 0., 0., 0., 0., 0., 0., 0.,\n",
            "         0., 0., 0., 0., 0., 0., 0., 0., 0., 0., 0., 0., 0., 0., 0., 0.,\n",
            "         0., 0., 0., 0., 0., 0., 0., 0., 0., 0., 0., 0., 0., 0., 0., 0.,\n",
            "         0., 0., 0., 0., 0., 0., 0., 0., 0., 0., 0., 0.]]]), array([[-0.50582755,  0.3270781 , -0.81683266, ..., -0.97951233,\n",
            "         0.8188819 , -0.08533001],\n",
            "       [-0.50582755,  0.3270781 , -0.81683266, ..., -0.97951233,\n",
            "         0.8188819 , -0.08533001],\n",
            "       [-0.50582755,  0.3270781 , -0.81683266, ..., -0.97951233,\n",
            "         0.8188819 , -0.08533001],\n",
            "       ...,\n",
            "       [-0.02250035,  0.06579947,  0.9458047 , ..., -0.38284114,\n",
            "         0.47484368, -0.8845446 ],\n",
            "       [-0.06818507,  0.5987558 , -0.84146917, ..., -0.05364773,\n",
            "         0.33302024,  0.7782463 ],\n",
            "       [-0.01737162,  0.6432283 , -0.8684892 , ...,  0.04264984,\n",
            "         0.16659407,  0.8694936 ]], dtype=float32), array([[-10.792576  ,  18.5118    ,  -4.3467245 , ...,  -2.6525257 ,\n",
            "          2.7966201 ,  -0.09787604],\n",
            "       [-10.792576  ,  18.5118    ,  -4.3467245 , ...,  -2.6525257 ,\n",
            "          2.7966201 ,  -0.09787604],\n",
            "       [-10.792576  ,  18.5118    ,  -4.3467245 , ...,  -2.6525257 ,\n",
            "          2.7966201 ,  -0.09787604],\n",
            "       ...,\n",
            "       [-13.208139  ,  16.008305  ,   1.849969  , ...,  -0.40693858,\n",
            "          8.463811  ,  -3.9894323 ],\n",
            "       [ -5.134244  ,  13.417846  ,  -3.5893826 , ...,  -0.11689827,\n",
            "          7.8481946 ,   4.895992  ],\n",
            "       [ -9.106799  ,  13.725818  ,  -1.4241371 , ...,   0.39824948,\n",
            "         10.762267  ,   4.6710935 ]], dtype=float32)]\n",
            "3\n",
            "sos: [[[0. 1. 0. 0. 0. 0. 0. 0. 0. 0. 0. 0. 0. 0. 0. 0. 0. 0. 0. 0. 0. 0. 0.\n",
            "   0. 0. 0. 0. 0. 0. 0. 0. 0. 0. 0. 0. 0. 0. 0. 0. 0. 0. 0. 0. 0. 0. 0.\n",
            "   0. 0. 0. 0. 0. 0. 0. 0. 0. 0. 0. 0. 0. 0. 0. 0. 0. 0. 0. 0. 0. 0. 0.\n",
            "   0. 0. 0. 0. 0. 0. 0. 0. 0. 0. 0. 0. 0. 0. 0. 0. 0. 0. 0. 0. 0. 0. 0.\n",
            "   0. 0. 0. 0. 0. 0. 0. 0. 0. 0. 0. 0. 0. 0. 0. 0.]]]\n",
            "sos dim: (1, 1, 108)\n",
            "h: [[-0.50582755  0.3270781  -0.81683266 ... -0.97951233  0.8188819\n",
            "  -0.08533001]\n",
            " [-0.50582755  0.3270781  -0.81683266 ... -0.97951233  0.8188819\n",
            "  -0.08533001]\n",
            " [-0.50582755  0.3270781  -0.81683266 ... -0.97951233  0.8188819\n",
            "  -0.08533001]\n",
            " ...\n",
            " [-0.02250035  0.06579947  0.9458047  ... -0.38284114  0.47484368\n",
            "  -0.8845446 ]\n",
            " [-0.06818507  0.5987558  -0.84146917 ... -0.05364773  0.33302024\n",
            "   0.7782463 ]\n",
            " [-0.01737162  0.6432283  -0.8684892  ...  0.04264984  0.16659407\n",
            "   0.8694936 ]]\n",
            "h dim: (113350, 256)\n",
            "c: [[-10.792576    18.5118      -4.3467245  ...  -2.6525257    2.7966201\n",
            "   -0.09787604]\n",
            " [-10.792576    18.5118      -4.3467245  ...  -2.6525257    2.7966201\n",
            "   -0.09787604]\n",
            " [-10.792576    18.5118      -4.3467245  ...  -2.6525257    2.7966201\n",
            "   -0.09787604]\n",
            " ...\n",
            " [-13.208139    16.008305     1.849969   ...  -0.40693858   8.463811\n",
            "   -3.9894323 ]\n",
            " [ -5.134244    13.417846    -3.5893826  ...  -0.11689827   7.8481946\n",
            "    4.895992  ]\n",
            " [ -9.106799    13.725818    -1.4241371  ...   0.39824948  10.762267\n",
            "    4.6710935 ]]\n",
            "c dim: (113350, 256)\n"
          ]
        }
      ],
      "source": [
        "pre_input = [target_seq]+ states_value\n",
        "print(pre_input)\n",
        "print(len(pre_input))\n",
        "print('sos:',pre_input[0])\n",
        "print('sos dim:',pre_input[0].shape)\n",
        "print('h:',pre_input[1])\n",
        "print('h dim:',pre_input[1].shape)\n",
        "print('c:',pre_input[2])\n",
        "print('c dim:',pre_input[2].shape)"
      ]
    },
    {
      "cell_type": "code",
      "execution_count": null,
      "id": "f55a4905",
      "metadata": {
        "scrolled": true,
        "id": "f55a4905",
        "outputId": "822bcd9b-8cac-4d71-c748-96ddeba608e8"
      },
      "outputs": [
        {
          "ename": "ValueError",
          "evalue": "Data cardinality is ambiguous:\n  x sizes: 1, 113350, 113350\nMake sure all arrays contain the same number of samples.",
          "output_type": "error",
          "traceback": [
            "\u001b[1;31m---------------------------------------------------------------------------\u001b[0m",
            "\u001b[1;31mValueError\u001b[0m                                Traceback (most recent call last)",
            "Input \u001b[1;32mIn [345]\u001b[0m, in \u001b[0;36m<cell line: 1>\u001b[1;34m()\u001b[0m\n\u001b[1;32m----> 1\u001b[0m \u001b[43mdecoder_model\u001b[49m\u001b[38;5;241;43m.\u001b[39;49m\u001b[43mpredict\u001b[49m\u001b[43m(\u001b[49m\u001b[43mpre_input\u001b[49m\u001b[43m)\u001b[49m\n",
            "File \u001b[1;32m~\\anaconda3\\lib\\site-packages\\keras\\utils\\traceback_utils.py:67\u001b[0m, in \u001b[0;36mfilter_traceback.<locals>.error_handler\u001b[1;34m(*args, **kwargs)\u001b[0m\n\u001b[0;32m     65\u001b[0m \u001b[38;5;28;01mexcept\u001b[39;00m \u001b[38;5;167;01mException\u001b[39;00m \u001b[38;5;28;01mas\u001b[39;00m e:  \u001b[38;5;66;03m# pylint: disable=broad-except\u001b[39;00m\n\u001b[0;32m     66\u001b[0m   filtered_tb \u001b[38;5;241m=\u001b[39m _process_traceback_frames(e\u001b[38;5;241m.\u001b[39m__traceback__)\n\u001b[1;32m---> 67\u001b[0m   \u001b[38;5;28;01mraise\u001b[39;00m e\u001b[38;5;241m.\u001b[39mwith_traceback(filtered_tb) \u001b[38;5;28;01mfrom\u001b[39;00m \u001b[38;5;28mNone\u001b[39m\n\u001b[0;32m     68\u001b[0m \u001b[38;5;28;01mfinally\u001b[39;00m:\n\u001b[0;32m     69\u001b[0m   \u001b[38;5;28;01mdel\u001b[39;00m filtered_tb\n",
            "File \u001b[1;32m~\\anaconda3\\lib\\site-packages\\keras\\engine\\data_adapter.py:1655\u001b[0m, in \u001b[0;36m_check_data_cardinality\u001b[1;34m(data)\u001b[0m\n\u001b[0;32m   1651\u001b[0m   msg \u001b[38;5;241m+\u001b[39m\u001b[38;5;241m=\u001b[39m \u001b[38;5;124m\"\u001b[39m\u001b[38;5;124m  \u001b[39m\u001b[38;5;132;01m{}\u001b[39;00m\u001b[38;5;124m sizes: \u001b[39m\u001b[38;5;132;01m{}\u001b[39;00m\u001b[38;5;130;01m\\n\u001b[39;00m\u001b[38;5;124m\"\u001b[39m\u001b[38;5;241m.\u001b[39mformat(\n\u001b[0;32m   1652\u001b[0m       label, \u001b[38;5;124m\"\u001b[39m\u001b[38;5;124m, \u001b[39m\u001b[38;5;124m\"\u001b[39m\u001b[38;5;241m.\u001b[39mjoin(\u001b[38;5;28mstr\u001b[39m(i\u001b[38;5;241m.\u001b[39mshape[\u001b[38;5;241m0\u001b[39m])\n\u001b[0;32m   1653\u001b[0m                        \u001b[38;5;28;01mfor\u001b[39;00m i \u001b[38;5;129;01min\u001b[39;00m tf\u001b[38;5;241m.\u001b[39mnest\u001b[38;5;241m.\u001b[39mflatten(single_data)))\n\u001b[0;32m   1654\u001b[0m msg \u001b[38;5;241m+\u001b[39m\u001b[38;5;241m=\u001b[39m \u001b[38;5;124m\"\u001b[39m\u001b[38;5;124mMake sure all arrays contain the same number of samples.\u001b[39m\u001b[38;5;124m\"\u001b[39m\n\u001b[1;32m-> 1655\u001b[0m \u001b[38;5;28;01mraise\u001b[39;00m \u001b[38;5;167;01mValueError\u001b[39;00m(msg)\n",
            "\u001b[1;31mValueError\u001b[0m: Data cardinality is ambiguous:\n  x sizes: 1, 113350, 113350\nMake sure all arrays contain the same number of samples."
          ]
        }
      ],
      "source": [
        "decoder_model.predict(pre_input)"
      ]
    },
    {
      "cell_type": "code",
      "execution_count": null,
      "id": "5199cf36",
      "metadata": {
        "id": "5199cf36",
        "outputId": "c5cd3f9e-3924-4892-c8f1-e4da74d0f786"
      },
      "outputs": [
        {
          "name": "stdout",
          "output_type": "stream",
          "text": [
            "[0. 0. 0. 0. 0. 0. 0. 0. 0. 0. 0. 0. 0. 0. 0. 0. 0. 0. 0. 0. 0. 0. 0. 0.\n",
            " 0. 0. 0. 0. 0. 0. 1. 0. 0. 0. 0. 0. 0. 0. 0. 0. 0. 0. 0. 0. 0. 0. 0. 0.\n",
            " 0. 0. 0. 0. 0. 0. 0. 0. 0. 0. 0. 0. 0. 0. 0. 0. 0. 0. 0. 0. 0. 0. 0. 0.\n",
            " 0. 0. 0. 0. 0. 0. 0. 0. 0. 0.]\n"
          ]
        }
      ],
      "source": [
        "print(encoder_input[0][0])"
      ]
    },
    {
      "cell_type": "code",
      "execution_count": null,
      "id": "3138b0ca",
      "metadata": {
        "id": "3138b0ca",
        "outputId": "a186c86a-6f6f-4cc1-b175-d1abd8e9aaac"
      },
      "outputs": [
        {
          "name": "stdout",
          "output_type": "stream",
          "text": [
            "(array([30], dtype=int64),)\n"
          ]
        }
      ],
      "source": [
        "print(np.where(encoder_input[0][0]==1))"
      ]
    },
    {
      "cell_type": "code",
      "execution_count": null,
      "id": "bd0b00f9",
      "metadata": {
        "id": "bd0b00f9",
        "outputId": "9eca93a5-4658-4450-f760-4d6d6aefd06d"
      },
      "outputs": [
        {
          "name": "stdout",
          "output_type": "stream",
          "text": [
            "30\n"
          ]
        }
      ],
      "source": [
        "print(np.where(encoder_input[0][0]==1)[0][0])"
      ]
    },
    {
      "cell_type": "code",
      "execution_count": null,
      "id": "f7d34454",
      "metadata": {
        "id": "f7d34454",
        "outputId": "76fa6dd6-32dc-4aa2-b727-bea4499e3035"
      },
      "outputs": [
        {
          "name": "stdout",
          "output_type": "stream",
          "text": [
            "[' ', '!', '\"', '$', '%', '&', \"'\", ',', '-', '.', '/', '0', '1', '2', '3', '4', '5', '6', '7', '8', '9', ':', '?', 'A', 'B', 'C', 'D', 'E', 'F', 'G', 'H', 'I', 'J', 'K', 'L', 'M', 'N', 'O', 'P', 'Q', 'R', 'S', 'T', 'U', 'V', 'W', 'X', 'Y', 'Z', 'a', 'b', 'c', 'd', 'e', 'f', 'g', 'h', 'i', 'j', 'k', 'l', 'm', 'n', 'o', 'p', 'q', 'r', 's', 't', 'u', 'v', 'w', 'x', 'y', 'z', '\\xa0', '°', 'é', '‘', '’', '€']\n"
          ]
        }
      ],
      "source": [
        "print(src_vocab)"
      ]
    },
    {
      "cell_type": "code",
      "execution_count": null,
      "id": "c7499994",
      "metadata": {
        "id": "c7499994",
        "outputId": "d9d09a36-33bd-4b91-aaa9-5eace93b6765"
      },
      "outputs": [
        {
          "data": {
            "text/plain": [
              "src                                                         Go.\n",
              "tar                                                        Va !\n",
              "lic           CC-BY 2.0 (France) Attribution: tatoeba.org #2...\n",
              "length_src                                                    3\n",
              "length_tar                                                    4\n",
              "Name: 0, dtype: object"
            ]
          },
          "execution_count": 291,
          "metadata": {},
          "output_type": "execute_result"
        }
      ],
      "source": [
        "lines.iloc[0]"
      ]
    },
    {
      "cell_type": "code",
      "execution_count": null,
      "id": "33d3c5b6",
      "metadata": {
        "id": "33d3c5b6",
        "outputId": "02eef468-478a-4ffc-ad2e-52ad04d5b09c"
      },
      "outputs": [
        {
          "name": "stdout",
          "output_type": "stream",
          "text": [
            "3543/3543 [==============================] - 69s 19ms/step\n"
          ]
        }
      ],
      "source": [
        "states_value = encoder_model.predict(encoder_input)"
      ]
    },
    {
      "cell_type": "code",
      "execution_count": null,
      "id": "d128857f",
      "metadata": {
        "id": "d128857f",
        "outputId": "53b244b4-24c2-426c-e58a-664d16284de1"
      },
      "outputs": [
        {
          "name": "stdout",
          "output_type": "stream",
          "text": [
            "encoder_states_value\n",
            "***************************************************************************\n",
            "len(states_value): 2\n",
            "h: [array([[-0.50582755,  0.3270781 , -0.81683266, ..., -0.97951233,\n",
            "         0.8188819 , -0.08533001],\n",
            "       [-0.50582755,  0.3270781 , -0.81683266, ..., -0.97951233,\n",
            "         0.8188819 , -0.08533001],\n",
            "       [-0.50582755,  0.3270781 , -0.81683266, ..., -0.97951233,\n",
            "         0.8188819 , -0.08533001],\n",
            "       ...,\n",
            "       [-0.02250035,  0.06579947,  0.9458047 , ..., -0.38284114,\n",
            "         0.47484368, -0.8845446 ],\n",
            "       [-0.06818507,  0.5987558 , -0.84146917, ..., -0.05364773,\n",
            "         0.33302024,  0.7782463 ],\n",
            "       [-0.01737162,  0.6432283 , -0.8684892 , ...,  0.04264984,\n",
            "         0.16659407,  0.8694936 ]], dtype=float32), array([[-10.792576  ,  18.5118    ,  -4.3467245 , ...,  -2.6525257 ,\n",
            "          2.7966201 ,  -0.09787604],\n",
            "       [-10.792576  ,  18.5118    ,  -4.3467245 , ...,  -2.6525257 ,\n",
            "          2.7966201 ,  -0.09787604],\n",
            "       [-10.792576  ,  18.5118    ,  -4.3467245 , ...,  -2.6525257 ,\n",
            "          2.7966201 ,  -0.09787604],\n",
            "       ...,\n",
            "       [-13.208139  ,  16.008305  ,   1.849969  , ...,  -0.40693858,\n",
            "          8.463811  ,  -3.9894323 ],\n",
            "       [ -5.134244  ,  13.417846  ,  -3.5893826 , ...,  -0.11689827,\n",
            "          7.8481946 ,   4.895992  ],\n",
            "       [ -9.106799  ,  13.725818  ,  -1.4241371 , ...,   0.39824948,\n",
            "         10.762267  ,   4.6710935 ]], dtype=float32)]\n",
            "h: [[-0.50582755  0.3270781  -0.81683266 ... -0.97951233  0.8188819\n",
            "  -0.08533001]\n",
            " [-0.50582755  0.3270781  -0.81683266 ... -0.97951233  0.8188819\n",
            "  -0.08533001]\n",
            " [-0.50582755  0.3270781  -0.81683266 ... -0.97951233  0.8188819\n",
            "  -0.08533001]\n",
            " ...\n",
            " [-0.02250035  0.06579947  0.9458047  ... -0.38284114  0.47484368\n",
            "  -0.8845446 ]\n",
            " [-0.06818507  0.5987558  -0.84146917 ... -0.05364773  0.33302024\n",
            "   0.7782463 ]\n",
            " [-0.01737162  0.6432283  -0.8684892  ...  0.04264984  0.16659407\n",
            "   0.8694936 ]]\n",
            "h dim:  (113350, 256)\n",
            "----------------------------------------------------------------------\n",
            "c: [[-10.792576    18.5118      -4.3467245  ...  -2.6525257    2.7966201\n",
            "   -0.09787604]\n",
            " [-10.792576    18.5118      -4.3467245  ...  -2.6525257    2.7966201\n",
            "   -0.09787604]\n",
            " [-10.792576    18.5118      -4.3467245  ...  -2.6525257    2.7966201\n",
            "   -0.09787604]\n",
            " ...\n",
            " [-13.208139    16.008305     1.849969   ...  -0.40693858   8.463811\n",
            "   -3.9894323 ]\n",
            " [ -5.134244    13.417846    -3.5893826  ...  -0.11689827   7.8481946\n",
            "    4.895992  ]\n",
            " [ -9.106799    13.725818    -1.4241371  ...   0.39824948  10.762267\n",
            "    4.6710935 ]]\n",
            "c dim:  (113350, 256)\n",
            "----------------------------------------------------------------------\n"
          ]
        }
      ],
      "source": [
        "print('encoder_states_value')\n",
        "print('*'*75)\n",
        "print('len(states_value):', len(states_value))\n",
        "print('h:',states_value)\n",
        "print('h:',states_value[0])\n",
        "print('h dim: ', states_value[0].shape)\n",
        "print('-'*70)\n",
        "print('c:',states_value[1])\n",
        "print('c dim: ', states_value[1].shape)\n",
        "print('-'*70)"
      ]
    },
    {
      "cell_type": "code",
      "execution_count": null,
      "id": "45a4d9f1",
      "metadata": {
        "id": "45a4d9f1"
      },
      "outputs": [],
      "source": [
        ""
      ]
    },
    {
      "cell_type": "code",
      "execution_count": null,
      "id": "168cced4",
      "metadata": {
        "id": "168cced4",
        "outputId": "86122f13-6908-49bc-9ea0-aa14826f6973"
      },
      "outputs": [
        {
          "name": "stdout",
          "output_type": "stream",
          "text": [
            "(113350, 30, 82)\n",
            "[[[0. 0. 0. ... 0. 0. 0.]\n",
            "  [0. 0. 0. ... 0. 0. 0.]\n",
            "  [0. 0. 0. ... 0. 0. 0.]\n",
            "  ...\n",
            "  [1. 0. 0. ... 0. 0. 0.]\n",
            "  [1. 0. 0. ... 0. 0. 0.]\n",
            "  [1. 0. 0. ... 0. 0. 0.]]\n",
            "\n",
            " [[0. 0. 0. ... 0. 0. 0.]\n",
            "  [0. 0. 0. ... 0. 0. 0.]\n",
            "  [0. 0. 0. ... 0. 0. 0.]\n",
            "  ...\n",
            "  [1. 0. 0. ... 0. 0. 0.]\n",
            "  [1. 0. 0. ... 0. 0. 0.]\n",
            "  [1. 0. 0. ... 0. 0. 0.]]\n",
            "\n",
            " [[0. 0. 0. ... 0. 0. 0.]\n",
            "  [0. 0. 0. ... 0. 0. 0.]\n",
            "  [0. 0. 0. ... 0. 0. 0.]\n",
            "  ...\n",
            "  [1. 0. 0. ... 0. 0. 0.]\n",
            "  [1. 0. 0. ... 0. 0. 0.]\n",
            "  [1. 0. 0. ... 0. 0. 0.]]\n",
            "\n",
            " ...\n",
            "\n",
            " [[0. 0. 0. ... 0. 0. 0.]\n",
            "  [0. 0. 0. ... 0. 0. 0.]\n",
            "  [0. 0. 0. ... 0. 0. 0.]\n",
            "  ...\n",
            "  [0. 0. 0. ... 0. 0. 0.]\n",
            "  [0. 0. 0. ... 0. 0. 0.]\n",
            "  [0. 0. 0. ... 0. 0. 0.]]\n",
            "\n",
            " [[0. 0. 0. ... 0. 0. 0.]\n",
            "  [0. 0. 0. ... 0. 0. 0.]\n",
            "  [0. 0. 0. ... 0. 0. 0.]\n",
            "  ...\n",
            "  [0. 0. 0. ... 0. 0. 0.]\n",
            "  [0. 0. 0. ... 0. 0. 0.]\n",
            "  [0. 0. 0. ... 0. 0. 0.]]\n",
            "\n",
            " [[0. 0. 0. ... 0. 0. 0.]\n",
            "  [0. 0. 0. ... 0. 0. 0.]\n",
            "  [0. 0. 0. ... 0. 0. 0.]\n",
            "  ...\n",
            "  [0. 0. 0. ... 0. 0. 0.]\n",
            "  [0. 0. 0. ... 0. 0. 0.]\n",
            "  [0. 0. 0. ... 0. 0. 0.]]]\n"
          ]
        }
      ],
      "source": [
        "print(encoder_input.shape)\n",
        "print(encoder_input)"
      ]
    },
    {
      "cell_type": "code",
      "execution_count": null,
      "id": "36796b5a",
      "metadata": {
        "id": "36796b5a"
      },
      "outputs": [],
      "source": [
        "model.save_weights('./')"
      ]
    },
    {
      "cell_type": "code",
      "execution_count": null,
      "id": "e66c2935",
      "metadata": {
        "id": "e66c2935"
      },
      "outputs": [],
      "source": [
        ""
      ]
    },
    {
      "cell_type": "code",
      "execution_count": null,
      "id": "2e1de437",
      "metadata": {
        "id": "2e1de437"
      },
      "outputs": [],
      "source": [
        ""
      ]
    },
    {
      "cell_type": "code",
      "execution_count": null,
      "id": "bdcac160",
      "metadata": {
        "id": "bdcac160"
      },
      "outputs": [],
      "source": [
        ""
      ]
    },
    {
      "cell_type": "code",
      "execution_count": null,
      "id": "17b6bfcf",
      "metadata": {
        "id": "17b6bfcf"
      },
      "outputs": [],
      "source": [
        ""
      ]
    },
    {
      "cell_type": "code",
      "execution_count": null,
      "id": "5c90130b",
      "metadata": {
        "id": "5c90130b"
      },
      "outputs": [],
      "source": [
        ""
      ]
    },
    {
      "cell_type": "code",
      "execution_count": null,
      "id": "9309eebb",
      "metadata": {
        "id": "9309eebb"
      },
      "outputs": [],
      "source": [
        ""
      ]
    },
    {
      "cell_type": "code",
      "execution_count": null,
      "id": "bdc147af",
      "metadata": {
        "id": "bdc147af"
      },
      "outputs": [],
      "source": [
        ""
      ]
    },
    {
      "cell_type": "code",
      "execution_count": null,
      "id": "75f84845",
      "metadata": {
        "id": "75f84845"
      },
      "outputs": [],
      "source": [
        ""
      ]
    }
  ],
  "metadata": {
    "kernelspec": {
      "display_name": "Python 3 (ipykernel)",
      "language": "python",
      "name": "python3"
    },
    "language_info": {
      "codemirror_mode": {
        "name": "ipython",
        "version": 3
      },
      "file_extension": ".py",
      "mimetype": "text/x-python",
      "name": "python",
      "nbconvert_exporter": "python",
      "pygments_lexer": "ipython3",
      "version": "3.9.12"
    },
    "colab": {
      "name": "자연어처리연장DAY5.ipynb",
      "provenance": [],
      "include_colab_link": true
    }
  },
  "nbformat": 4,
  "nbformat_minor": 5
}