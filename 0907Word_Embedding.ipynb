{
  "nbformat": 4,
  "nbformat_minor": 0,
  "metadata": {
    "colab": {
      "provenance": [],
      "collapsed_sections": [],
      "authorship_tag": "ABX9TyPrFxrlhdoynLcpBuXX86V+",
      "include_colab_link": true
    },
    "kernelspec": {
      "name": "python3",
      "display_name": "Python 3"
    },
    "language_info": {
      "name": "python"
    },
    "widgets": {
      "application/vnd.jupyter.widget-state+json": {
        "b420cd2f36a343c2a3f4a0307aa74e4a": {
          "model_module": "@jupyter-widgets/controls",
          "model_name": "HBoxModel",
          "model_module_version": "1.5.0",
          "state": {
            "_dom_classes": [],
            "_model_module": "@jupyter-widgets/controls",
            "_model_module_version": "1.5.0",
            "_model_name": "HBoxModel",
            "_view_count": null,
            "_view_module": "@jupyter-widgets/controls",
            "_view_module_version": "1.5.0",
            "_view_name": "HBoxView",
            "box_style": "",
            "children": [
              "IPY_MODEL_a300c48e3ecc49039961f38aba6ad4f9",
              "IPY_MODEL_89e15c15ffff46b1bd006bdf89682d1a",
              "IPY_MODEL_722d8a978dfe4dc4aca0e81c32e34fed"
            ],
            "layout": "IPY_MODEL_7b87a3a198ed457cad1b5e43442a7bc3"
          }
        },
        "a300c48e3ecc49039961f38aba6ad4f9": {
          "model_module": "@jupyter-widgets/controls",
          "model_name": "HTMLModel",
          "model_module_version": "1.5.0",
          "state": {
            "_dom_classes": [],
            "_model_module": "@jupyter-widgets/controls",
            "_model_module_version": "1.5.0",
            "_model_name": "HTMLModel",
            "_view_count": null,
            "_view_module": "@jupyter-widgets/controls",
            "_view_module_version": "1.5.0",
            "_view_name": "HTMLView",
            "description": "",
            "description_tooltip": null,
            "layout": "IPY_MODEL_e19a731dc6914f889ade9386bf0678ee",
            "placeholder": "​",
            "style": "IPY_MODEL_2e4c454ac13644d7bd4b4f1a063d4743",
            "value": "100%"
          }
        },
        "89e15c15ffff46b1bd006bdf89682d1a": {
          "model_module": "@jupyter-widgets/controls",
          "model_name": "FloatProgressModel",
          "model_module_version": "1.5.0",
          "state": {
            "_dom_classes": [],
            "_model_module": "@jupyter-widgets/controls",
            "_model_module_version": "1.5.0",
            "_model_name": "FloatProgressModel",
            "_view_count": null,
            "_view_module": "@jupyter-widgets/controls",
            "_view_module_version": "1.5.0",
            "_view_name": "ProgressView",
            "bar_style": "success",
            "description": "",
            "description_tooltip": null,
            "layout": "IPY_MODEL_f8615eb29ceb4156b0f6bacfd5711d36",
            "max": 2,
            "min": 0,
            "orientation": "horizontal",
            "style": "IPY_MODEL_a1fb1e63f1e94fb8a60e9209886a62a9",
            "value": 2
          }
        },
        "722d8a978dfe4dc4aca0e81c32e34fed": {
          "model_module": "@jupyter-widgets/controls",
          "model_name": "HTMLModel",
          "model_module_version": "1.5.0",
          "state": {
            "_dom_classes": [],
            "_model_module": "@jupyter-widgets/controls",
            "_model_module_version": "1.5.0",
            "_model_name": "HTMLModel",
            "_view_count": null,
            "_view_module": "@jupyter-widgets/controls",
            "_view_module_version": "1.5.0",
            "_view_name": "HTMLView",
            "description": "",
            "description_tooltip": null,
            "layout": "IPY_MODEL_bd3622b3c822428899b0b3fa849e5e90",
            "placeholder": "​",
            "style": "IPY_MODEL_cb970a15acd64cd4903a31ce16f9e8b0",
            "value": " 2/2 [00:00&lt;00:00, 39.13it/s]"
          }
        },
        "7b87a3a198ed457cad1b5e43442a7bc3": {
          "model_module": "@jupyter-widgets/base",
          "model_name": "LayoutModel",
          "model_module_version": "1.2.0",
          "state": {
            "_model_module": "@jupyter-widgets/base",
            "_model_module_version": "1.2.0",
            "_model_name": "LayoutModel",
            "_view_count": null,
            "_view_module": "@jupyter-widgets/base",
            "_view_module_version": "1.2.0",
            "_view_name": "LayoutView",
            "align_content": null,
            "align_items": null,
            "align_self": null,
            "border": null,
            "bottom": null,
            "display": null,
            "flex": null,
            "flex_flow": null,
            "grid_area": null,
            "grid_auto_columns": null,
            "grid_auto_flow": null,
            "grid_auto_rows": null,
            "grid_column": null,
            "grid_gap": null,
            "grid_row": null,
            "grid_template_areas": null,
            "grid_template_columns": null,
            "grid_template_rows": null,
            "height": null,
            "justify_content": null,
            "justify_items": null,
            "left": null,
            "margin": null,
            "max_height": null,
            "max_width": null,
            "min_height": null,
            "min_width": null,
            "object_fit": null,
            "object_position": null,
            "order": null,
            "overflow": null,
            "overflow_x": null,
            "overflow_y": null,
            "padding": null,
            "right": null,
            "top": null,
            "visibility": null,
            "width": null
          }
        },
        "e19a731dc6914f889ade9386bf0678ee": {
          "model_module": "@jupyter-widgets/base",
          "model_name": "LayoutModel",
          "model_module_version": "1.2.0",
          "state": {
            "_model_module": "@jupyter-widgets/base",
            "_model_module_version": "1.2.0",
            "_model_name": "LayoutModel",
            "_view_count": null,
            "_view_module": "@jupyter-widgets/base",
            "_view_module_version": "1.2.0",
            "_view_name": "LayoutView",
            "align_content": null,
            "align_items": null,
            "align_self": null,
            "border": null,
            "bottom": null,
            "display": null,
            "flex": null,
            "flex_flow": null,
            "grid_area": null,
            "grid_auto_columns": null,
            "grid_auto_flow": null,
            "grid_auto_rows": null,
            "grid_column": null,
            "grid_gap": null,
            "grid_row": null,
            "grid_template_areas": null,
            "grid_template_columns": null,
            "grid_template_rows": null,
            "height": null,
            "justify_content": null,
            "justify_items": null,
            "left": null,
            "margin": null,
            "max_height": null,
            "max_width": null,
            "min_height": null,
            "min_width": null,
            "object_fit": null,
            "object_position": null,
            "order": null,
            "overflow": null,
            "overflow_x": null,
            "overflow_y": null,
            "padding": null,
            "right": null,
            "top": null,
            "visibility": null,
            "width": null
          }
        },
        "2e4c454ac13644d7bd4b4f1a063d4743": {
          "model_module": "@jupyter-widgets/controls",
          "model_name": "DescriptionStyleModel",
          "model_module_version": "1.5.0",
          "state": {
            "_model_module": "@jupyter-widgets/controls",
            "_model_module_version": "1.5.0",
            "_model_name": "DescriptionStyleModel",
            "_view_count": null,
            "_view_module": "@jupyter-widgets/base",
            "_view_module_version": "1.2.0",
            "_view_name": "StyleView",
            "description_width": ""
          }
        },
        "f8615eb29ceb4156b0f6bacfd5711d36": {
          "model_module": "@jupyter-widgets/base",
          "model_name": "LayoutModel",
          "model_module_version": "1.2.0",
          "state": {
            "_model_module": "@jupyter-widgets/base",
            "_model_module_version": "1.2.0",
            "_model_name": "LayoutModel",
            "_view_count": null,
            "_view_module": "@jupyter-widgets/base",
            "_view_module_version": "1.2.0",
            "_view_name": "LayoutView",
            "align_content": null,
            "align_items": null,
            "align_self": null,
            "border": null,
            "bottom": null,
            "display": null,
            "flex": null,
            "flex_flow": null,
            "grid_area": null,
            "grid_auto_columns": null,
            "grid_auto_flow": null,
            "grid_auto_rows": null,
            "grid_column": null,
            "grid_gap": null,
            "grid_row": null,
            "grid_template_areas": null,
            "grid_template_columns": null,
            "grid_template_rows": null,
            "height": null,
            "justify_content": null,
            "justify_items": null,
            "left": null,
            "margin": null,
            "max_height": null,
            "max_width": null,
            "min_height": null,
            "min_width": null,
            "object_fit": null,
            "object_position": null,
            "order": null,
            "overflow": null,
            "overflow_x": null,
            "overflow_y": null,
            "padding": null,
            "right": null,
            "top": null,
            "visibility": null,
            "width": null
          }
        },
        "a1fb1e63f1e94fb8a60e9209886a62a9": {
          "model_module": "@jupyter-widgets/controls",
          "model_name": "ProgressStyleModel",
          "model_module_version": "1.5.0",
          "state": {
            "_model_module": "@jupyter-widgets/controls",
            "_model_module_version": "1.5.0",
            "_model_name": "ProgressStyleModel",
            "_view_count": null,
            "_view_module": "@jupyter-widgets/base",
            "_view_module_version": "1.2.0",
            "_view_name": "StyleView",
            "bar_color": null,
            "description_width": ""
          }
        },
        "bd3622b3c822428899b0b3fa849e5e90": {
          "model_module": "@jupyter-widgets/base",
          "model_name": "LayoutModel",
          "model_module_version": "1.2.0",
          "state": {
            "_model_module": "@jupyter-widgets/base",
            "_model_module_version": "1.2.0",
            "_model_name": "LayoutModel",
            "_view_count": null,
            "_view_module": "@jupyter-widgets/base",
            "_view_module_version": "1.2.0",
            "_view_name": "LayoutView",
            "align_content": null,
            "align_items": null,
            "align_self": null,
            "border": null,
            "bottom": null,
            "display": null,
            "flex": null,
            "flex_flow": null,
            "grid_area": null,
            "grid_auto_columns": null,
            "grid_auto_flow": null,
            "grid_auto_rows": null,
            "grid_column": null,
            "grid_gap": null,
            "grid_row": null,
            "grid_template_areas": null,
            "grid_template_columns": null,
            "grid_template_rows": null,
            "height": null,
            "justify_content": null,
            "justify_items": null,
            "left": null,
            "margin": null,
            "max_height": null,
            "max_width": null,
            "min_height": null,
            "min_width": null,
            "object_fit": null,
            "object_position": null,
            "order": null,
            "overflow": null,
            "overflow_x": null,
            "overflow_y": null,
            "padding": null,
            "right": null,
            "top": null,
            "visibility": null,
            "width": null
          }
        },
        "cb970a15acd64cd4903a31ce16f9e8b0": {
          "model_module": "@jupyter-widgets/controls",
          "model_name": "DescriptionStyleModel",
          "model_module_version": "1.5.0",
          "state": {
            "_model_module": "@jupyter-widgets/controls",
            "_model_module_version": "1.5.0",
            "_model_name": "DescriptionStyleModel",
            "_view_count": null,
            "_view_module": "@jupyter-widgets/base",
            "_view_module_version": "1.2.0",
            "_view_name": "StyleView",
            "description_width": ""
          }
        }
      }
    },
    "accelerator": "GPU",
    "gpuClass": "standard"
  },
  "cells": [
    {
      "cell_type": "markdown",
      "metadata": {
        "id": "view-in-github",
        "colab_type": "text"
      },
      "source": [
        "<a href=\"https://colab.research.google.com/github/choeuneheol/python-practice/blob/master/0907Word_Embedding.ipynb\" target=\"_parent\"><img src=\"https://colab.research.google.com/assets/colab-badge.svg\" alt=\"Open In Colab\"/></a>"
      ]
    },
    {
      "cell_type": "markdown",
      "source": [
        "# NLP_Tutorial_03_Word_Embedding_2"
      ],
      "metadata": {
        "id": "RuVWh97pvF5J"
      }
    },
    {
      "cell_type": "code",
      "source": [
        "## Package 설치\n",
        "\n",
        " ## datasets(huggingface 자연어처리 dataset)\n",
        " ## konlpy (한글 자연어처리 Tool)\n",
        " ## tqdm (반복문의 Progress Bar)\n",
        " ## glove_python_binary (Glove 임베딩)"
      ],
      "metadata": {
        "id": "Y5MGeiGev0fJ"
      },
      "execution_count": null,
      "outputs": []
    },
    {
      "cell_type": "code",
      "source": [
        "!pip install datasets\n",
        "!pip install konlpy\n",
        "!pip install tqdm\n",
        "!pip install glove_python_binary"
      ],
      "metadata": {
        "colab": {
          "base_uri": "https://localhost:8080/"
        },
        "id": "JBqfGdUNwNYz",
        "outputId": "6162fd8e-23ad-40f7-a8cc-cd738bda98d5"
      },
      "execution_count": null,
      "outputs": [
        {
          "output_type": "stream",
          "name": "stdout",
          "text": [
            "Looking in indexes: https://pypi.org/simple, https://us-python.pkg.dev/colab-wheels/public/simple/\n",
            "Requirement already satisfied: datasets in /usr/local/lib/python3.7/dist-packages (2.4.0)\n",
            "Requirement already satisfied: responses<0.19 in /usr/local/lib/python3.7/dist-packages (from datasets) (0.18.0)\n",
            "Requirement already satisfied: dill<0.3.6 in /usr/local/lib/python3.7/dist-packages (from datasets) (0.3.5.1)\n",
            "Requirement already satisfied: huggingface-hub<1.0.0,>=0.1.0 in /usr/local/lib/python3.7/dist-packages (from datasets) (0.9.1)\n",
            "Requirement already satisfied: tqdm>=4.62.1 in /usr/local/lib/python3.7/dist-packages (from datasets) (4.64.0)\n",
            "Requirement already satisfied: pyarrow>=6.0.0 in /usr/local/lib/python3.7/dist-packages (from datasets) (6.0.1)\n",
            "Requirement already satisfied: pandas in /usr/local/lib/python3.7/dist-packages (from datasets) (1.3.5)\n",
            "Requirement already satisfied: requests>=2.19.0 in /usr/local/lib/python3.7/dist-packages (from datasets) (2.23.0)\n",
            "Requirement already satisfied: fsspec[http]>=2021.11.1 in /usr/local/lib/python3.7/dist-packages (from datasets) (2022.8.1)\n",
            "Requirement already satisfied: aiohttp in /usr/local/lib/python3.7/dist-packages (from datasets) (3.8.1)\n",
            "Requirement already satisfied: multiprocess in /usr/local/lib/python3.7/dist-packages (from datasets) (0.70.13)\n",
            "Requirement already satisfied: importlib-metadata in /usr/local/lib/python3.7/dist-packages (from datasets) (4.12.0)\n",
            "Requirement already satisfied: numpy>=1.17 in /usr/local/lib/python3.7/dist-packages (from datasets) (1.21.6)\n",
            "Requirement already satisfied: xxhash in /usr/local/lib/python3.7/dist-packages (from datasets) (3.0.0)\n",
            "Requirement already satisfied: packaging in /usr/local/lib/python3.7/dist-packages (from datasets) (21.3)\n",
            "Requirement already satisfied: attrs>=17.3.0 in /usr/local/lib/python3.7/dist-packages (from aiohttp->datasets) (22.1.0)\n",
            "Requirement already satisfied: yarl<2.0,>=1.0 in /usr/local/lib/python3.7/dist-packages (from aiohttp->datasets) (1.8.1)\n",
            "Requirement already satisfied: aiosignal>=1.1.2 in /usr/local/lib/python3.7/dist-packages (from aiohttp->datasets) (1.2.0)\n",
            "Requirement already satisfied: charset-normalizer<3.0,>=2.0 in /usr/local/lib/python3.7/dist-packages (from aiohttp->datasets) (2.1.1)\n",
            "Requirement already satisfied: asynctest==0.13.0 in /usr/local/lib/python3.7/dist-packages (from aiohttp->datasets) (0.13.0)\n",
            "Requirement already satisfied: async-timeout<5.0,>=4.0.0a3 in /usr/local/lib/python3.7/dist-packages (from aiohttp->datasets) (4.0.2)\n",
            "Requirement already satisfied: typing-extensions>=3.7.4 in /usr/local/lib/python3.7/dist-packages (from aiohttp->datasets) (4.1.1)\n",
            "Requirement already satisfied: frozenlist>=1.1.1 in /usr/local/lib/python3.7/dist-packages (from aiohttp->datasets) (1.3.1)\n",
            "Requirement already satisfied: multidict<7.0,>=4.5 in /usr/local/lib/python3.7/dist-packages (from aiohttp->datasets) (6.0.2)\n",
            "Requirement already satisfied: filelock in /usr/local/lib/python3.7/dist-packages (from huggingface-hub<1.0.0,>=0.1.0->datasets) (3.8.0)\n",
            "Requirement already satisfied: pyyaml>=5.1 in /usr/local/lib/python3.7/dist-packages (from huggingface-hub<1.0.0,>=0.1.0->datasets) (6.0)\n",
            "Requirement already satisfied: pyparsing!=3.0.5,>=2.0.2 in /usr/local/lib/python3.7/dist-packages (from packaging->datasets) (3.0.9)\n",
            "Requirement already satisfied: chardet<4,>=3.0.2 in /usr/local/lib/python3.7/dist-packages (from requests>=2.19.0->datasets) (3.0.4)\n",
            "Requirement already satisfied: certifi>=2017.4.17 in /usr/local/lib/python3.7/dist-packages (from requests>=2.19.0->datasets) (2022.6.15)\n",
            "Requirement already satisfied: urllib3!=1.25.0,!=1.25.1,<1.26,>=1.21.1 in /usr/local/lib/python3.7/dist-packages (from requests>=2.19.0->datasets) (1.25.11)\n",
            "Requirement already satisfied: idna<3,>=2.5 in /usr/local/lib/python3.7/dist-packages (from requests>=2.19.0->datasets) (2.10)\n",
            "Requirement already satisfied: zipp>=0.5 in /usr/local/lib/python3.7/dist-packages (from importlib-metadata->datasets) (3.8.1)\n",
            "Requirement already satisfied: pytz>=2017.3 in /usr/local/lib/python3.7/dist-packages (from pandas->datasets) (2022.2.1)\n",
            "Requirement already satisfied: python-dateutil>=2.7.3 in /usr/local/lib/python3.7/dist-packages (from pandas->datasets) (2.8.2)\n",
            "Requirement already satisfied: six>=1.5 in /usr/local/lib/python3.7/dist-packages (from python-dateutil>=2.7.3->pandas->datasets) (1.15.0)\n",
            "Looking in indexes: https://pypi.org/simple, https://us-python.pkg.dev/colab-wheels/public/simple/\n",
            "Requirement already satisfied: konlpy in /usr/local/lib/python3.7/dist-packages (0.6.0)\n",
            "Requirement already satisfied: JPype1>=0.7.0 in /usr/local/lib/python3.7/dist-packages (from konlpy) (1.4.0)\n",
            "Requirement already satisfied: numpy>=1.6 in /usr/local/lib/python3.7/dist-packages (from konlpy) (1.21.6)\n",
            "Requirement already satisfied: lxml>=4.1.0 in /usr/local/lib/python3.7/dist-packages (from konlpy) (4.9.1)\n",
            "Requirement already satisfied: typing-extensions in /usr/local/lib/python3.7/dist-packages (from JPype1>=0.7.0->konlpy) (4.1.1)\n",
            "Looking in indexes: https://pypi.org/simple, https://us-python.pkg.dev/colab-wheels/public/simple/\n",
            "Requirement already satisfied: tqdm in /usr/local/lib/python3.7/dist-packages (4.64.0)\n",
            "Looking in indexes: https://pypi.org/simple, https://us-python.pkg.dev/colab-wheels/public/simple/\n",
            "Requirement already satisfied: glove_python_binary in /usr/local/lib/python3.7/dist-packages (0.2.0)\n",
            "Requirement already satisfied: numpy in /usr/local/lib/python3.7/dist-packages (from glove_python_binary) (1.21.6)\n",
            "Requirement already satisfied: scipy in /usr/local/lib/python3.7/dist-packages (from glove_python_binary) (1.7.3)\n"
          ]
        }
      ]
    },
    {
      "cell_type": "markdown",
      "source": [
        "# 3-0. 데이터셋 준비\n",
        " Naver sentiment Movie corpus(nsmc)\n",
        " \n",
        " 영화 리뷰를 별점으로 기준으로 긍정(1), 부정(0)으로 구분한 데이터셋"
      ],
      "metadata": {
        "id": "L6hXxpEJwaGJ"
      }
    },
    {
      "cell_type": "code",
      "source": [
        "from datasets import load_dataset\n",
        "\n",
        "#nsmc 데이터셋 다운로드\n",
        "dataset = load_dataset(\"nsmc\")\n",
        "\n",
        "train_sents = [dataset[\"train\"][idx][\"document\"] for idx in range(len(dataset[\"train\"]))]\n",
        "train_labels = [dataset[\"train\"][idx][\"label\"] for idx in range(len(dataset[\"train\"]))]\n",
        "test_sents = [dataset[\"test\"][idx][\"document\"] for idx in range(len(dataset[\"test\"]))]\n",
        "test_labels = [dataset[\"test\"][idx][\"label\"] for idx in range(len(dataset[\"test\"]))]"
      ],
      "metadata": {
        "colab": {
          "base_uri": "https://localhost:8080/",
          "height": 85,
          "referenced_widgets": [
            "b420cd2f36a343c2a3f4a0307aa74e4a",
            "a300c48e3ecc49039961f38aba6ad4f9",
            "89e15c15ffff46b1bd006bdf89682d1a",
            "722d8a978dfe4dc4aca0e81c32e34fed",
            "7b87a3a198ed457cad1b5e43442a7bc3",
            "e19a731dc6914f889ade9386bf0678ee",
            "2e4c454ac13644d7bd4b4f1a063d4743",
            "f8615eb29ceb4156b0f6bacfd5711d36",
            "a1fb1e63f1e94fb8a60e9209886a62a9",
            "bd3622b3c822428899b0b3fa849e5e90",
            "cb970a15acd64cd4903a31ce16f9e8b0"
          ]
        },
        "id": "j0CjnIQ3wxnO",
        "outputId": "800efb8f-ac77-42e3-9b26-1627119ef2af"
      },
      "execution_count": null,
      "outputs": [
        {
          "output_type": "stream",
          "name": "stderr",
          "text": [
            "WARNING:datasets.builder:Using custom data configuration default\n",
            "WARNING:datasets.builder:Reusing dataset nsmc (/root/.cache/huggingface/datasets/nsmc/default/1.1.0/bfd4729bf1a67114e5267e6916b9e4807010aeb238e4a3c2b95fbfa3a014b5f3)\n"
          ]
        },
        {
          "output_type": "display_data",
          "data": {
            "text/plain": [
              "  0%|          | 0/2 [00:00<?, ?it/s]"
            ],
            "application/vnd.jupyter.widget-view+json": {
              "version_major": 2,
              "version_minor": 0,
              "model_id": "b420cd2f36a343c2a3f4a0307aa74e4a"
            }
          },
          "metadata": {}
        }
      ]
    },
    {
      "cell_type": "code",
      "source": [
        "from konlpy.tag import Okt\n",
        "from tqdm import tqdm\n",
        "\n",
        "# stopwords 정의\n",
        "stopwords = [\"하다\",\"한\",\"에\",\"와\",\"자\",\"과\",\"걍\",\"잘\",\"좀\",\"는\",\"의\",\"가\",\"이\",\"은\",\"들\"]\n",
        "\n",
        "okt = Okt()\n",
        "\n",
        "train_nsmc_corpus = []\n",
        "for sent_i in tqdm(train_sents):\n",
        "  new_sent_i = sent_i.replace(\"[^가-힣ㄱ-하-ㅣ ]\",\"\")\n",
        "  tokens = okt.morphs(sent_i, stem=True) #어간 추출\n",
        "  tokens = [word_i for word_i in tokens if word_i not in stopwords]\n",
        "\n",
        "  train_nsmc_corpus.append(tokens)\n",
        "\n",
        "  test_nsmc_corpus = []\n",
        "  for sent_i in tqdm(test_sents):\n",
        "    new_sent_i = sent_i.replace(\"[^가-힣ㄱ-하-ㅣ ]\",\"\")\n",
        "    tokens = okt.morphs(sent_i, stem=True)\n",
        "    tokens = [word_i for word_i in tokens if word_i not in stopwords]\n",
        "\n",
        "    test_nsmc_corpus.append(tokens)\n",
        "# 자꾸 메모리가 부족하여 불러오질 못하고 있다..."
      ],
      "metadata": {
        "id": "VNCjMLGPx29E"
      },
      "execution_count": null,
      "outputs": []
    },
    {
      "cell_type": "markdown",
      "source": [
        "# 3-1.Word2Vec (cBow)\n",
        "\n",
        "word2Vec은 이웃 단어 예측을 통해 단어의 임베딩을 학습하는 기법\n",
        "\n",
        "\n",
        "CBow 기법 / Skip-Gram  기법\n",
        "\n",
        "\n",
        "\n",
        "CBow는 주위(Window) 단어를 보고 중심 단어를 예측"
      ],
      "metadata": {
        "id": "w9G7jZ1yzeES"
      }
    },
    {
      "cell_type": "code",
      "source": [
        "from gensim.models import Word2Vec\n",
        "\n",
        "#나는 학교에 지하철을 타고 간다\n",
        "#나는 학교에 [      ] 타고 간다\n",
        "#차, 버스, 지하철, 자전거\n",
        "CBOW_model = Word2Vec(sentences=train_nsmc_corpus , size = 100 , window = 5 , min_count=5 , workers = 4 , sg =0)\n",
        "# sg = 0 (CBOW) / sg = 1 (skip gram)"
      ],
      "metadata": {
        "id": "kviGQKaK0YyJ"
      },
      "execution_count": null,
      "outputs": []
    },
    {
      "cell_type": "code",
      "source": [
        "CBOW_model.wv.most_similar(\"송강호\", topn=5)"
      ],
      "metadata": {
        "id": "8QRyvcQ95jli"
      },
      "execution_count": null,
      "outputs": []
    },
    {
      "cell_type": "code",
      "source": [
        "# 사전에 없는 단어\n",
        "CBOW_model.wv.most_similar(\"자연어처리\", topn=5)"
      ],
      "metadata": {
        "id": "HJoq6Dz65tE3"
      },
      "execution_count": null,
      "outputs": []
    },
    {
      "cell_type": "code",
      "source": [
        "CBOW_model.wv[\"송강호\"]"
      ],
      "metadata": {
        "id": "ShwobOQc54Iw"
      },
      "execution_count": null,
      "outputs": []
    },
    {
      "cell_type": "code",
      "source": [
        "import numpy as np\n",
        "\n",
        "def sentence_embedding_word2vec(model, sentence, dim=100):\n",
        "  sent_emb = np.zeros(100)\n",
        "  n=0\n",
        "\n",
        "  for word_i in sentence:\n",
        "    #Vocab에 존재하지 않는 단어의 경우 예외처리\n",
        "    try:\n",
        "      word_emb = model.wv[word_i]\n",
        "      sent_emb += word_emb\n",
        "      n += 1\n",
        "    except:\n",
        "      pass\n",
        "\n",
        "    # 문장 임베딩 = 단어 임베딩의 평균\n",
        "    if n ! = 0:\n",
        "      sent_emb = sent_emb / n\n",
        "\n",
        "    return sent_emb\n",
        "  \n",
        "train_x_cbow = list()\n",
        "test_x_cbow = list()\n",
        "\n",
        "for train_sent in tqdm(train_nsmc_corpus):\n",
        "  train_x_cbow.append(sentence_embedding_word2vec(CBOW_model, train_sent))\n",
        "\n",
        "for test_sent in tqdm(test_nsmc_corpus):\n",
        "  test_x_cbow.append(sentence_embedding_word2vec(CBOW_model, test_sent))"
      ],
      "metadata": {
        "id": "yW_Iqpa05-RW"
      },
      "execution_count": null,
      "outputs": []
    },
    {
      "cell_type": "code",
      "source": [
        "print(train_x_cbow[0])"
      ],
      "metadata": {
        "id": "ZbZSFuuT966F"
      },
      "execution_count": null,
      "outputs": []
    },
    {
      "cell_type": "markdown",
      "source": [
        "# LogisticRegression\n",
        "\n",
        "Linear Regression : 실수 범위의 값으로 예측\n",
        "\n",
        "\n",
        "Logistic Regression : 0과 1사이의 값으로 예측"
      ],
      "metadata": {
        "id": "7HO5vaID9_91"
      }
    },
    {
      "cell_type": "code",
      "source": [
        "from sklearn.linear_model import LogisticRegression\n",
        "linear_model_cbow = LogisticRegression()\n",
        "linear_model_cbow.fit(train_x_cbow, train_labels)"
      ],
      "metadata": {
        "id": "FTb1AjAq-UMZ"
      },
      "execution_count": null,
      "outputs": []
    },
    {
      "cell_type": "code",
      "source": [
        "train_pred = linear_model_cbow.predict(train_x_cbow)\n",
        "print(\"train acc: {0}\".format(np.mean(train_pred == train_labels)))\n",
        "test_pred = linear_model_cbow.predict(test_x_cbow)\n",
        "print(\"test acc: {0}\".format(np.mean(test_pred == test_labels)))"
      ],
      "metadata": {
        "id": "yK6rbEQt-ms_"
      },
      "execution_count": null,
      "outputs": []
    },
    {
      "cell_type": "markdown",
      "source": [
        "# 3-2. Word2Vec (Skip-Gram)\n",
        "Skip-Gram은 중심 단어를 보고 주위(Window) 단어들을 예측"
      ],
      "metadata": {
        "id": "y4gpC8ip_EvD"
      }
    },
    {
      "cell_type": "code",
      "source": [],
      "metadata": {
        "id": "771Zo6v6_SEC"
      },
      "execution_count": null,
      "outputs": []
    }
  ]
}