{
 "cells": [
  {
   "cell_type": "code",
   "execution_count": 5,
   "id": "bae798c2",
   "metadata": {},
   "outputs": [
    {
     "name": "stdout",
     "output_type": "stream",
     "text": [
      "이름\t나이\t지역\n",
      "\n",
      "윤인성 25 강서구\n",
      "윤아린 24 강서구\n",
      "구름 3 강서구\n"
     ]
    }
   ],
   "source": [
    "# \\t을 사용하여 자리수 맞춤으로 출력\n",
    "print(\"이름\\t나이\\t지역\\n\")\n",
    "print(\"윤인성 25 강서구\")\n",
    "print(\"윤아린 24 강서구\")\n",
    "print(\"구름 3 강서구\")"
   ]
  },
  {
   "cell_type": "code",
   "execution_count": 10,
   "id": "15a88a40",
   "metadata": {},
   "outputs": [
    {
     "name": "stdout",
     "output_type": "stream",
     "text": [
      "동해물과 백두산이 마르고 닳도록\n",
      "하느님이 보우하사 우리 나라 만세\n",
      "무궁화 삼천리 화려강산 대한사람\n",
      "대한으로 길이 보전하세\n"
     ]
    }
   ],
   "source": [
    "print(\"\"\"동해물과 백두산이 마르고 닳도록\\n하느님이 보우하사 우리 나라 만세\\n무궁화 삼천리 화려강산 대한사람\\n대한으로 길이 보전하세\"\"\")"
   ]
  },
  {
   "cell_type": "code",
   "execution_count": 14,
   "id": "05689f38",
   "metadata": {},
   "outputs": [
    {
     "name": "stdout",
     "output_type": "stream",
     "text": [
      "Good afternoon!!end!!\n"
     ]
    }
   ],
   "source": [
    "print(\"Good\" + \" afternoon!!\"+\"end!!\")\n",
    "#print(\"Good\" + 1) #error"
   ]
  },
  {
   "cell_type": "code",
   "execution_count": 18,
   "id": "32a77c9b",
   "metadata": {},
   "outputs": [
    {
     "name": "stdout",
     "output_type": "stream",
     "text": [
      " test  test  test \n",
      " test  test  test \n"
     ]
    }
   ],
   "source": [
    "#문자열 * 숫자 => 숫자만큼 문자열 반복\n",
    "#숫자 * 문자열\n",
    "print(' test '*3)\n",
    "print(3 * ' test ')"
   ]
  },
  {
   "cell_type": "code",
   "execution_count": 19,
   "id": "b855f3e8",
   "metadata": {},
   "outputs": [
    {
     "name": "stdout",
     "output_type": "stream",
     "text": [
      "하\n",
      "요\n",
      "세\n"
     ]
    }
   ],
   "source": [
    "# 제로 인덱스\n",
    "a_str = '안녕하쎄요'\n",
    "print(a_str[2])\n",
    "print(a_str[-1])\n",
    "print(a_str[-2]) # 쎄~"
   ]
  },
  {
   "cell_type": "code",
   "execution_count": 25,
   "id": "e50f4d4c",
   "metadata": {},
   "outputs": [
    {
     "name": "stdout",
     "output_type": "stream",
     "text": [
      "안녕\n",
      "하세요\n",
      "안녕하\n",
      "안녕하세요\n",
      "세\n"
     ]
    }
   ],
   "source": [
    "# 범위의 자료를 검색 [start : end] : end는 포함하지 않는다\n",
    "# 안녕만 출력\n",
    "print(a_str[0 : 2])\n",
    "\n",
    "# 하부터  끝까지 출력\n",
    "print(a_str[2:])\n",
    "\n",
    "# 처음부터 '하' 까지만 출력\n",
    "print(a_str[ : 3])\n",
    "print(a_str[ : ])\n",
    "\n",
    "# 뒤에서부터 출력은 -입력\n",
    "print(a_str[-2])\n",
    "\n",
    "#print(a_str[10]) index out of range"
   ]
  },
  {
   "cell_type": "code",
   "execution_count": 28,
   "id": "c015c8c1",
   "metadata": {},
   "outputs": [
    {
     "name": "stdout",
     "output_type": "stream",
     "text": [
      "5\n",
      "하세\n",
      "<class 'str'>\n"
     ]
    }
   ],
   "source": [
    "# 자료의 타입을 알려주는 함수 : type()\n",
    "# 문자열의 길이를 구하는 함수 : len()\n",
    "print(len(a_str))\n",
    "print(a_str[ 2 : len(a_str)-1]) # a_str[2:5-1]\n",
    "print(type(a_str))"
   ]
  },
  {
   "cell_type": "code",
   "execution_count": 32,
   "id": "8a7cc4d7",
   "metadata": {},
   "outputs": [
    {
     "name": "stdout",
     "output_type": "stream",
     "text": [
      "6 2 6 1.5 1 9\n",
      "10 + 3 = 13\n",
      "10 // 3 = 3\n",
      "10 % 3 = 1\n"
     ]
    }
   ],
   "source": [
    "# 숫자 연산자 : +, -, *, /, //, %, **\n",
    "print(4+2, 4-2, 3*2, 3/2, 3//2, 3**2)\n",
    "a = 10; b = 3\n",
    "print(a, \"+\", b, \"=\", a+b)\n",
    "print(a, \"//\", b, \"=\", a//b)\n",
    "print(a, \"%\", b, \"=\", a%b)"
   ]
  },
  {
   "cell_type": "code",
   "execution_count": 37,
   "id": "be5e31f1",
   "metadata": {},
   "outputs": [
    {
     "data": {
      "text/plain": [
       "14"
      ]
     },
     "execution_count": 37,
     "metadata": {},
     "output_type": "execute_result"
    }
   ],
   "source": [
    "#변수 선언과 참조\n",
    "a = 10\n",
    "a = 11\n",
    "a +b"
   ]
  },
  {
   "cell_type": "code",
   "execution_count": null,
   "id": "8722b0aa",
   "metadata": {},
   "outputs": [],
   "source": [
    "string = \"안녕하세요\"\n",
    "string += \"!\"\n",
    "string += \"!\"\n",
    "print(\"string:\", string)"
   ]
  },
  {
   "cell_type": "code",
   "execution_count": 4,
   "id": "13a2ae0e",
   "metadata": {},
   "outputs": [
    {
     "name": "stdout",
     "output_type": "stream",
     "text": [
      "자료입력>1234\n",
      "1234\n"
     ]
    }
   ],
   "source": [
    "input_data = input(\"자료입력>\") # 값\n",
    "print(input_data)\n"
   ]
  },
  {
   "cell_type": "code",
   "execution_count": 6,
   "id": "37bde76d",
   "metadata": {},
   "outputs": [
    {
     "name": "stdout",
     "output_type": "stream",
     "text": [
      "1334.0\n",
      "1234.01\n"
     ]
    }
   ],
   "source": [
    "#데이터 타입 변경 -> int(), float(), str()\n",
    "print(float(input_data) + 100)\n",
    "print(str(float(input_data))+'1') # str -> float -> str"
   ]
  },
  {
   "cell_type": "code",
   "execution_count": 35,
   "id": "9a8726c5",
   "metadata": {},
   "outputs": [
    {
     "name": "stdout",
     "output_type": "stream",
     "text": [
      "# 기본\n",
      "52\n",
      "# 특정 칸에 출력하기\n",
      "   52\n",
      "        52\n",
      "# 빈칸을 0으로 채우기\n",
      "00052\n",
      "-0052\n"
     ]
    }
   ],
   "source": [
    "# 정수\n",
    "output_a = \"{:d}\".format(52)\n",
    "\n",
    "# 특정 칸에 출력하기\n",
    "output_b = \"{:5d}\".format(52)\n",
    "output_c = \"{:10d}\".format(52)\n",
    "\n",
    "#빈칸을 0으로 채우기\n",
    "output_d = \"{:05d}\".format(52)\n",
    "output_e = \"{:05d}\".format(-52)\n",
    "\n",
    "print(\"# 기본\")\n",
    "print(output_a)\n",
    "print(\"# 특정 칸에 출력하기\")\n",
    "print(output_b)\n",
    "print(output_c)\n",
    "print(\"# 빈칸을 0으로 채우기\")\n",
    "print(output_d)\n",
    "print(output_e)"
   ]
  },
  {
   "cell_type": "code",
   "execution_count": 37,
   "id": "06a3099b",
   "metadata": {},
   "outputs": [
    {
     "ename": "SyntaxError",
     "evalue": "unexpected EOF while parsing (Temp/ipykernel_15920/800016123.py, line 5)",
     "output_type": "error",
     "traceback": [
      "\u001b[1;36m  File \u001b[1;32m\"C:\\Users\\easy1\\AppData\\Local\\Temp/ipykernel_15920/800016123.py\"\u001b[1;36m, line \u001b[1;32m5\u001b[0m\n\u001b[1;33m    .format(type(input_a), type(input_b))\u001b[0m\n\u001b[1;37m                                         \n^\u001b[0m\n\u001b[1;31mSyntaxError\u001b[0m\u001b[1;31m:\u001b[0m unexpected EOF while parsing\n"
     ]
    }
   ],
   "source": [
    "#문자열 관련 함수 : \"{} {}\", format(data1, data2)\n",
    "print(\"{} {}\".format('test', 123))\n",
    "print(\"{} + {} = {}\". format(input_a, input_b , input_a + input_b))\n",
    "print('input_a type : {}\\t input_b type : {}'\\\n",
    "     .format(type(input_a), type(input_b))"
   ]
  },
  {
   "cell_type": "code",
   "execution_count": 38,
   "id": "b53e1647",
   "metadata": {},
   "outputs": [
    {
     "name": "stdout",
     "output_type": "stream",
     "text": [
      "영문자 입력 >python\n"
     ]
    },
    {
     "ename": "AttributeError",
     "evalue": "'function' object has no attribute 'str'",
     "output_type": "error",
     "traceback": [
      "\u001b[1;31m---------------------------------------------------------------------------\u001b[0m",
      "\u001b[1;31mAttributeError\u001b[0m                            Traceback (most recent call last)",
      "\u001b[1;32m~\\AppData\\Local\\Temp/ipykernel_15920/1831507061.py\u001b[0m in \u001b[0;36m<module>\u001b[1;34m\u001b[0m\n\u001b[0;32m      2\u001b[0m \u001b[0minput_str\u001b[0m \u001b[1;33m=\u001b[0m \u001b[0minput\u001b[0m\u001b[1;33m(\u001b[0m\u001b[1;34m\"영문자 입력 >\"\u001b[0m\u001b[1;33m)\u001b[0m\u001b[1;33m\u001b[0m\u001b[1;33m\u001b[0m\u001b[0m\n\u001b[0;32m      3\u001b[0m \u001b[1;31m#소문자로 출력 : 문자명.lower()\u001b[0m\u001b[1;33m\u001b[0m\u001b[1;33m\u001b[0m\u001b[0m\n\u001b[1;32m----> 4\u001b[1;33m \u001b[0mprint\u001b[0m\u001b[1;33m(\u001b[0m\u001b[1;34m\"소문자 출력 : {}\"\u001b[0m\u001b[1;33m.\u001b[0m\u001b[0mformat\u001b[0m\u001b[1;33m(\u001b[0m\u001b[0minput\u001b[0m\u001b[1;33m.\u001b[0m\u001b[0mstr\u001b[0m\u001b[1;33m.\u001b[0m\u001b[0mlower\u001b[0m\u001b[1;33m(\u001b[0m\u001b[1;33m)\u001b[0m\u001b[1;33m)\u001b[0m\u001b[1;33m)\u001b[0m\u001b[1;33m\u001b[0m\u001b[1;33m\u001b[0m\u001b[0m\n\u001b[0m\u001b[0;32m      5\u001b[0m \u001b[1;31m#대문자로 출력 : 문자열.upper()\u001b[0m\u001b[1;33m\u001b[0m\u001b[1;33m\u001b[0m\u001b[0m\n\u001b[0;32m      6\u001b[0m \u001b[0mprint\u001b[0m\u001b[1;33m(\u001b[0m\u001b[1;34m\"대문자 출력 : {}\"\u001b[0m\u001b[1;33m.\u001b[0m\u001b[0mformat\u001b[0m\u001b[1;33m(\u001b[0m\u001b[0minput\u001b[0m\u001b[1;33m.\u001b[0m\u001b[0mstr\u001b[0m\u001b[1;33m.\u001b[0m\u001b[0mupper\u001b[0m\u001b[1;33m(\u001b[0m\u001b[1;33m)\u001b[0m\u001b[1;33m)\u001b[0m\u001b[1;33m)\u001b[0m\u001b[1;33m\u001b[0m\u001b[1;33m\u001b[0m\u001b[0m\n",
      "\u001b[1;31mAttributeError\u001b[0m: 'function' object has no attribute 'str'"
     ]
    }
   ],
   "source": [
    "#키보드에서 영문자 입력 => input_str에 저장\n",
    "input_str = input(\"영문자 입력 >\")\n",
    "#소문자로 출력 : 문자명.lower()\n",
    "print(\"소문자 출력 : {}\".format(input.str.lower()))\n",
    "#대문자로 출력 : 문자열.upper()\n",
    "print(\"대문자 출력 : {}\".format(input.str.upper()))"
   ]
  },
  {
   "cell_type": "code",
   "execution_count": null,
   "id": "5f38fb7f",
   "metadata": {},
   "outputs": [],
   "source": []
  }
 ],
 "metadata": {
  "kernelspec": {
   "display_name": "Python 3 (ipykernel)",
   "language": "python",
   "name": "python3"
  },
  "language_info": {
   "codemirror_mode": {
    "name": "ipython",
    "version": 3
   },
   "file_extension": ".py",
   "mimetype": "text/x-python",
   "name": "python",
   "nbconvert_exporter": "python",
   "pygments_lexer": "ipython3",
   "version": "3.9.7"
  }
 },
 "nbformat": 4,
 "nbformat_minor": 5
}
