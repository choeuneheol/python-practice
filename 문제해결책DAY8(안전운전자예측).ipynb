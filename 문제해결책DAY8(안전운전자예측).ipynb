{
 "cells": [
  {
   "cell_type": "code",
   "execution_count": 1,
   "id": "0e0fd528",
   "metadata": {
    "_cell_guid": "b1076dfc-b9ad-4769-8c92-a6c4dae69d19",
    "_uuid": "8f2839f25d086af736a60e9eeb907d3b93b6e0e5",
    "execution": {
     "iopub.execute_input": "2022-06-23T10:59:06.215749Z",
     "iopub.status.busy": "2022-06-23T10:59:06.214798Z",
     "iopub.status.idle": "2022-06-23T10:59:06.230871Z",
     "shell.execute_reply": "2022-06-23T10:59:06.229795Z"
    },
    "papermill": {
     "duration": 0.025476,
     "end_time": "2022-06-23T10:59:06.233370",
     "exception": false,
     "start_time": "2022-06-23T10:59:06.207894",
     "status": "completed"
    },
    "tags": []
   },
   "outputs": [
    {
     "name": "stdout",
     "output_type": "stream",
     "text": [
      "/kaggle/input/porto-seguro-safe-driver-prediction/sample_submission.csv\n",
      "/kaggle/input/porto-seguro-safe-driver-prediction/train.csv\n",
      "/kaggle/input/porto-seguro-safe-driver-prediction/test.csv\n"
     ]
    }
   ],
   "source": [
    "# This Python 3 environment comes with many helpful analytics libraries installed\n",
    "# It is defined by the kaggle/python Docker image: https://github.com/kaggle/docker-python\n",
    "# For example, here's several helpful packages to load\n",
    "\n",
    "import numpy as np # linear algebra\n",
    "import pandas as pd # data processing, CSV file I/O (e.g. pd.read_csv)\n",
    "\n",
    "# Input data files are available in the read-only \"../input/\" directory\n",
    "# For example, running this (by clicking run or pressing Shift+Enter) will list all files under the input directory\n",
    "\n",
    "import os\n",
    "for dirname, _, filenames in os.walk('/kaggle/input'):\n",
    "    for filename in filenames:\n",
    "        print(os.path.join(dirname, filename))\n",
    "\n",
    "# You can write up to 20GB to the current directory (/kaggle/working/) that gets preserved as output when you create a version using \"Save & Run All\" \n",
    "# You can also write temporary files to /kaggle/temp/, but they won't be saved outside of the current session\n",
    "\n"
   ]
  },
  {
   "cell_type": "code",
   "execution_count": 2,
   "id": "32934e8b",
   "metadata": {
    "execution": {
     "iopub.execute_input": "2022-06-23T10:59:06.243522Z",
     "iopub.status.busy": "2022-06-23T10:59:06.242915Z",
     "iopub.status.idle": "2022-06-23T10:59:15.751995Z",
     "shell.execute_reply": "2022-06-23T10:59:15.750733Z"
    },
    "papermill": {
     "duration": 9.51703,
     "end_time": "2022-06-23T10:59:15.754763",
     "exception": false,
     "start_time": "2022-06-23T10:59:06.237733",
     "status": "completed"
    },
    "tags": []
   },
   "outputs": [],
   "source": [
    "import pandas as pd\n",
    "\n",
    "data_path='/kaggle/input/porto-seguro-safe-driver-prediction/'\n",
    "\n",
    "train = pd.read_csv(data_path + 'train.csv',index_col='id')\n",
    "test = pd.read_csv(data_path + 'test.csv',index_col='id')\n",
    "submissoion = pd.read_csv(data_path + 'sample_submission.csv',index_col='id')\n"
   ]
  },
  {
   "cell_type": "code",
   "execution_count": 3,
   "id": "b1c55190",
   "metadata": {
    "execution": {
     "iopub.execute_input": "2022-06-23T10:59:15.767668Z",
     "iopub.status.busy": "2022-06-23T10:59:15.767284Z",
     "iopub.status.idle": "2022-06-23T10:59:15.776224Z",
     "shell.execute_reply": "2022-06-23T10:59:15.775055Z"
    },
    "papermill": {
     "duration": 0.016993,
     "end_time": "2022-06-23T10:59:15.778448",
     "exception": false,
     "start_time": "2022-06-23T10:59:15.761455",
     "status": "completed"
    },
    "tags": []
   },
   "outputs": [
    {
     "data": {
      "text/plain": [
       "((595212, 58), (892816, 57))"
      ]
     },
     "execution_count": 3,
     "metadata": {},
     "output_type": "execute_result"
    }
   ],
   "source": [
    "train.shape, test.shape"
   ]
  },
  {
   "cell_type": "code",
   "execution_count": 4,
   "id": "31de16a5",
   "metadata": {
    "execution": {
     "iopub.execute_input": "2022-06-23T10:59:15.788729Z",
     "iopub.status.busy": "2022-06-23T10:59:15.787939Z",
     "iopub.status.idle": "2022-06-23T10:59:17.213088Z",
     "shell.execute_reply": "2022-06-23T10:59:17.210488Z"
    },
    "papermill": {
     "duration": 1.432936,
     "end_time": "2022-06-23T10:59:17.215590",
     "exception": false,
     "start_time": "2022-06-23T10:59:15.782654",
     "status": "completed"
    },
    "tags": []
   },
   "outputs": [],
   "source": [
    "all_data = pd.concat([train, test], ignore_index=True)\n",
    "all_data = all_data.drop('target', axis=1) #타깃값 제거"
   ]
  },
  {
   "cell_type": "code",
   "execution_count": 5,
   "id": "7452d04c",
   "metadata": {
    "execution": {
     "iopub.execute_input": "2022-06-23T10:59:17.229397Z",
     "iopub.status.busy": "2022-06-23T10:59:17.228612Z",
     "iopub.status.idle": "2022-06-23T10:59:17.236273Z",
     "shell.execute_reply": "2022-06-23T10:59:17.235140Z"
    },
    "papermill": {
     "duration": 0.016488,
     "end_time": "2022-06-23T10:59:17.238322",
     "exception": false,
     "start_time": "2022-06-23T10:59:17.221834",
     "status": "completed"
    },
    "tags": []
   },
   "outputs": [
    {
     "data": {
      "text/plain": [
       "Index(['ps_ind_01', 'ps_ind_02_cat', 'ps_ind_03', 'ps_ind_04_cat',\n",
       "       'ps_ind_05_cat', 'ps_ind_06_bin', 'ps_ind_07_bin', 'ps_ind_08_bin',\n",
       "       'ps_ind_09_bin', 'ps_ind_10_bin', 'ps_ind_11_bin', 'ps_ind_12_bin',\n",
       "       'ps_ind_13_bin', 'ps_ind_14', 'ps_ind_15', 'ps_ind_16_bin',\n",
       "       'ps_ind_17_bin', 'ps_ind_18_bin', 'ps_reg_01', 'ps_reg_02', 'ps_reg_03',\n",
       "       'ps_car_01_cat', 'ps_car_02_cat', 'ps_car_03_cat', 'ps_car_04_cat',\n",
       "       'ps_car_05_cat', 'ps_car_06_cat', 'ps_car_07_cat', 'ps_car_08_cat',\n",
       "       'ps_car_09_cat', 'ps_car_10_cat', 'ps_car_11_cat', 'ps_car_11',\n",
       "       'ps_car_12', 'ps_car_13', 'ps_car_14', 'ps_car_15', 'ps_calc_01',\n",
       "       'ps_calc_02', 'ps_calc_03', 'ps_calc_04', 'ps_calc_05', 'ps_calc_06',\n",
       "       'ps_calc_07', 'ps_calc_08', 'ps_calc_09', 'ps_calc_10', 'ps_calc_11',\n",
       "       'ps_calc_12', 'ps_calc_13', 'ps_calc_14', 'ps_calc_15_bin',\n",
       "       'ps_calc_16_bin', 'ps_calc_17_bin', 'ps_calc_18_bin', 'ps_calc_19_bin',\n",
       "       'ps_calc_20_bin'],\n",
       "      dtype='object')"
      ]
     },
     "execution_count": 5,
     "metadata": {},
     "output_type": "execute_result"
    }
   ],
   "source": [
    "all_features = all_data.columns # 전체 피처\n",
    "all_features"
   ]
  },
  {
   "cell_type": "code",
   "execution_count": 6,
   "id": "145a9f19",
   "metadata": {
    "execution": {
     "iopub.execute_input": "2022-06-23T10:59:17.249631Z",
     "iopub.status.busy": "2022-06-23T10:59:17.248793Z",
     "iopub.status.idle": "2022-06-23T10:59:21.579077Z",
     "shell.execute_reply": "2022-06-23T10:59:21.575311Z"
    },
    "papermill": {
     "duration": 4.344872,
     "end_time": "2022-06-23T10:59:21.587825",
     "exception": false,
     "start_time": "2022-06-23T10:59:17.242953",
     "status": "completed"
    },
    "tags": []
   },
   "outputs": [
    {
     "data": {
      "text/plain": [
       "<1488028x184 sparse matrix of type '<class 'numpy.float64'>'\n",
       "\twith 20832392 stored elements in Compressed Sparse Row format>"
      ]
     },
     "execution_count": 6,
     "metadata": {},
     "output_type": "execute_result"
    }
   ],
   "source": [
    "from sklearn.preprocessing import OneHotEncoder\n",
    "cat_features = [feature for feature in all_features if 'cat' in feature]\n",
    "onehot_encoder = OneHotEncoder()\n",
    "encoded_cat_matrix = onehot_encoder.fit_transform(all_data[cat_features])\n",
    "encoded_cat_matrix"
   ]
  },
  {
   "cell_type": "code",
   "execution_count": 7,
   "id": "ce723a28",
   "metadata": {
    "execution": {
     "iopub.execute_input": "2022-06-23T10:59:21.638356Z",
     "iopub.status.busy": "2022-06-23T10:59:21.636219Z",
     "iopub.status.idle": "2022-06-23T10:59:21.656031Z",
     "shell.execute_reply": "2022-06-23T10:59:21.652138Z"
    },
    "papermill": {
     "duration": 0.059311,
     "end_time": "2022-06-23T10:59:21.670196",
     "exception": false,
     "start_time": "2022-06-23T10:59:21.610885",
     "status": "completed"
    },
    "tags": []
   },
   "outputs": [],
   "source": [
    "# 추가로 제거할 피처\n",
    "drop_features = ['ps_ind_14','ps_ind_10_bin','ps_ind_11_bin',\n",
    "                'ps_ind_12_bin','ps_ind_13_bin','ps_car_14']\n",
    "\n",
    "remaining_features = [feature for feature in all_features\n",
    "                     if('cat' not in feature and\n",
    "                       'calc'not in feature and\n",
    "                       feature not in drop_features)]"
   ]
  },
  {
   "cell_type": "code",
   "execution_count": 8,
   "id": "32fcd6a4",
   "metadata": {
    "execution": {
     "iopub.execute_input": "2022-06-23T10:59:21.727687Z",
     "iopub.status.busy": "2022-06-23T10:59:21.722367Z",
     "iopub.status.idle": "2022-06-23T10:59:27.889892Z",
     "shell.execute_reply": "2022-06-23T10:59:27.887727Z"
    },
    "papermill": {
     "duration": 6.198066,
     "end_time": "2022-06-23T10:59:27.895469",
     "exception": false,
     "start_time": "2022-06-23T10:59:21.697403",
     "status": "completed"
    },
    "tags": []
   },
   "outputs": [],
   "source": [
    "from scipy import sparse\n",
    "all_data_sprs = sparse.hstack([sparse.csr_matrix(all_data[remaining_features]),\n",
    "                              encoded_cat_matrix],\n",
    "                             format='csr')"
   ]
  },
  {
   "cell_type": "code",
   "execution_count": 9,
   "id": "f9722119",
   "metadata": {
    "execution": {
     "iopub.execute_input": "2022-06-23T10:59:27.909283Z",
     "iopub.status.busy": "2022-06-23T10:59:27.908549Z",
     "iopub.status.idle": "2022-06-23T10:59:29.065535Z",
     "shell.execute_reply": "2022-06-23T10:59:29.064577Z"
    },
    "papermill": {
     "duration": 1.165872,
     "end_time": "2022-06-23T10:59:29.068013",
     "exception": false,
     "start_time": "2022-06-23T10:59:27.902141",
     "status": "completed"
    },
    "tags": []
   },
   "outputs": [],
   "source": [
    "#데이터 나누기\n",
    "num_train = len(train)\n",
    "\n",
    "x = all_data_sprs[:num_train]\n",
    "x_test = all_data_sprs[num_train:]\n",
    "\n",
    "y = train['target'].values"
   ]
  },
  {
   "cell_type": "code",
   "execution_count": 10,
   "id": "78f0c8ba",
   "metadata": {
    "execution": {
     "iopub.execute_input": "2022-06-23T10:59:29.079175Z",
     "iopub.status.busy": "2022-06-23T10:59:29.078616Z",
     "iopub.status.idle": "2022-06-23T10:59:29.088891Z",
     "shell.execute_reply": "2022-06-23T10:59:29.088004Z"
    },
    "papermill": {
     "duration": 0.018908,
     "end_time": "2022-06-23T10:59:29.091575",
     "exception": false,
     "start_time": "2022-06-23T10:59:29.072667",
     "status": "completed"
    },
    "tags": []
   },
   "outputs": [],
   "source": [
    "# 평가지표 계산 함수 작성\n",
    "\n",
    "import numpy as np\n",
    "\n",
    "def eval_gini(y_true, y_pred):\n",
    "    # 실젯값과 예측값의 크기가 서로 같은지 확인 (값이 다르면 오류 발생)\n",
    "    assert y_true.shape == y_pred.shape\n",
    "    \n",
    "    n_samples = y_true.shape[0]                        # 데이터 개수\n",
    "    L_mid = np.linspace(1/n_samples, 1, n_samples)    # 대각선 값\n",
    "    \n",
    "    # 1) 예측값에 대한 지니계수\n",
    "    pred_order = y_true[y_pred.argsort()]              # y_pred 크기순으로 y_true 값 정렬\n",
    "    L_pred = np.cumsum(pred_order)/np.sum(pred_order)  # 로렌츠 곡선\n",
    "    G_pred = np.sum(L_mid - L_pred)                    # 예측값에 대한 지니계수\n",
    "    \n",
    "    # 2) 예측이 완벽할 떄 지니계수\n",
    "    true_order = y_true[y_true.argsort()]              # y_true 크기순으로 y_true 값 정렬\n",
    "    L_true = np.cumsum(true_order)/np.sum(true_order)  # 로렌츠 곡선\n",
    "    G_true = np.sum(L_mid - L_true)                    # 예측이 완벽할 때 지니계수\n",
    "    \n",
    "    #정규화된 지니계수\n",
    "    return G_pred / G_true"
   ]
  },
  {
   "cell_type": "code",
   "execution_count": 11,
   "id": "018d1c50",
   "metadata": {
    "execution": {
     "iopub.execute_input": "2022-06-23T10:59:29.106541Z",
     "iopub.status.busy": "2022-06-23T10:59:29.104880Z",
     "iopub.status.idle": "2022-06-23T10:59:29.110750Z",
     "shell.execute_reply": "2022-06-23T10:59:29.109644Z"
    },
    "papermill": {
     "duration": 0.015455,
     "end_time": "2022-06-23T10:59:29.113273",
     "exception": false,
     "start_time": "2022-06-23T10:59:29.097818",
     "status": "completed"
    },
    "tags": []
   },
   "outputs": [],
   "source": [
    "# LightGBM용 gini() 함수\n",
    "def gini(preds, dtrain):\n",
    "    labels = dtrain.get_label()\n",
    "    return 'gini', eval_gini(labels, preds), True # 반환값"
   ]
  },
  {
   "cell_type": "code",
   "execution_count": 12,
   "id": "b24d58dc",
   "metadata": {
    "execution": {
     "iopub.execute_input": "2022-06-23T10:59:29.126218Z",
     "iopub.status.busy": "2022-06-23T10:59:29.125835Z",
     "iopub.status.idle": "2022-06-23T10:59:29.211413Z",
     "shell.execute_reply": "2022-06-23T10:59:29.210517Z"
    },
    "papermill": {
     "duration": 0.095359,
     "end_time": "2022-06-23T10:59:29.214307",
     "exception": false,
     "start_time": "2022-06-23T10:59:29.118948",
     "status": "completed"
    },
    "tags": []
   },
   "outputs": [],
   "source": [
    "from sklearn.model_selection import StratifiedKFold\n",
    "\n",
    "#층화 K폴드 교차 검증기\n",
    "folds = StratifiedKFold(n_splits=5, shuffle=True, random_state=1991)"
   ]
  },
  {
   "cell_type": "code",
   "execution_count": 13,
   "id": "d5203fef",
   "metadata": {
    "execution": {
     "iopub.execute_input": "2022-06-23T10:59:29.224692Z",
     "iopub.status.busy": "2022-06-23T10:59:29.224308Z",
     "iopub.status.idle": "2022-06-23T10:59:29.234272Z",
     "shell.execute_reply": "2022-06-23T10:59:29.233074Z"
    },
    "papermill": {
     "duration": 0.018526,
     "end_time": "2022-06-23T10:59:29.237343",
     "exception": false,
     "start_time": "2022-06-23T10:59:29.218817",
     "status": "completed"
    },
    "tags": []
   },
   "outputs": [],
   "source": [
    "params = {'objective': 'binary',\n",
    "         'learning_rate': 0.01,\n",
    "          'force_row_wise': True,\n",
    "          'random_state':0}"
   ]
  },
  {
   "cell_type": "code",
   "execution_count": 14,
   "id": "d6374dee",
   "metadata": {
    "execution": {
     "iopub.execute_input": "2022-06-23T10:59:29.249945Z",
     "iopub.status.busy": "2022-06-23T10:59:29.249000Z",
     "iopub.status.idle": "2022-06-23T10:59:29.256044Z",
     "shell.execute_reply": "2022-06-23T10:59:29.254980Z"
    },
    "papermill": {
     "duration": 0.015483,
     "end_time": "2022-06-23T10:59:29.258886",
     "exception": false,
     "start_time": "2022-06-23T10:59:29.243403",
     "status": "completed"
    },
    "tags": []
   },
   "outputs": [],
   "source": [
    "# OOF 방식으로 훈련된 모델로 검증 데이터 타깃값을 예측한 확률을 담을 1차원 배열\n",
    "oof_val_preds = np.zeros(x.shape[0])\n",
    "# OOF 방식으로 훈련된 모델로 테스트 데이터 타깃값을 예측한 확률을 담을 1차원 배열\n",
    "oof_test_preds = np.zeros(x_test.shape[0])"
   ]
  },
  {
   "cell_type": "code",
   "execution_count": 15,
   "id": "ba8e0058",
   "metadata": {
    "execution": {
     "iopub.execute_input": "2022-06-23T10:59:29.272233Z",
     "iopub.status.busy": "2022-06-23T10:59:29.271857Z",
     "iopub.status.idle": "2022-06-23T11:04:38.366604Z",
     "shell.execute_reply": "2022-06-23T11:04:38.365178Z"
    },
    "papermill": {
     "duration": 309.104583,
     "end_time": "2022-06-23T11:04:38.369361",
     "exception": false,
     "start_time": "2022-06-23T10:59:29.264778",
     "status": "completed"
    },
    "tags": []
   },
   "outputs": [
    {
     "data": {
      "text/html": [
       "<style type='text/css'>\n",
       ".datatable table.frame { margin-bottom: 0; }\n",
       ".datatable table.frame thead { border-bottom: none; }\n",
       ".datatable table.frame tr.coltypes td {  color: #FFFFFF;  line-height: 6px;  padding: 0 0.5em;}\n",
       ".datatable .bool    { background: #DDDD99; }\n",
       ".datatable .object  { background: #565656; }\n",
       ".datatable .int     { background: #5D9E5D; }\n",
       ".datatable .float   { background: #4040CC; }\n",
       ".datatable .str     { background: #CC4040; }\n",
       ".datatable .time    { background: #40CC40; }\n",
       ".datatable .row_index {  background: var(--jp-border-color3);  border-right: 1px solid var(--jp-border-color0);  color: var(--jp-ui-font-color3);  font-size: 9px;}\n",
       ".datatable .frame tbody td { text-align: left; }\n",
       ".datatable .frame tr.coltypes .row_index {  background: var(--jp-border-color0);}\n",
       ".datatable th:nth-child(2) { padding-left: 12px; }\n",
       ".datatable .hellipsis {  color: var(--jp-cell-editor-border-color);}\n",
       ".datatable .vellipsis {  background: var(--jp-layout-color0);  color: var(--jp-cell-editor-border-color);}\n",
       ".datatable .na {  color: var(--jp-cell-editor-border-color);  font-size: 80%;}\n",
       ".datatable .sp {  opacity: 0.25;}\n",
       ".datatable .footer { font-size: 9px; }\n",
       ".datatable .frame_dimensions {  background: var(--jp-border-color3);  border-top: 1px solid var(--jp-border-color0);  color: var(--jp-ui-font-color3);  display: inline-block;  opacity: 0.6;  padding: 1px 10px 1px 5px;}\n",
       "</style>\n"
      ],
      "text/plain": [
       "<IPython.core.display.HTML object>"
      ]
     },
     "metadata": {},
     "output_type": "display_data"
    },
    {
     "name": "stdout",
     "output_type": "stream",
     "text": [
      "######################################## 폴드 1 / 폴드 5 ########################################\n"
     ]
    },
    {
     "name": "stderr",
     "output_type": "stream",
     "text": [
      "/opt/conda/lib/python3.7/site-packages/lightgbm/engine.py:181: UserWarning: 'early_stopping_rounds' argument is deprecated and will be removed in a future release of LightGBM. Pass 'early_stopping()' callback via 'callbacks' argument instead.\n",
      "  _log_warning(\"'early_stopping_rounds' argument is deprecated and will be removed in a future release of LightGBM. \"\n",
      "/opt/conda/lib/python3.7/site-packages/lightgbm/engine.py:239: UserWarning: 'verbose_eval' argument is deprecated and will be removed in a future release of LightGBM. Pass 'log_evaluation()' callback via 'callbacks' argument instead.\n",
      "  _log_warning(\"'verbose_eval' argument is deprecated and will be removed in a future release of LightGBM. \"\n"
     ]
    },
    {
     "name": "stdout",
     "output_type": "stream",
     "text": [
      "[LightGBM] [Info] Number of positive: 17355, number of negative: 458814\n",
      "[LightGBM] [Info] Total Bins 1095\n",
      "[LightGBM] [Info] Number of data points in the train set: 476169, number of used features: 200\n",
      "[LightGBM] [Info] [binary:BoostFromScore]: pavg=0.036447 -> initscore=-3.274764\n",
      "[LightGBM] [Info] Start training from score -3.274764\n",
      "Training until validation scores don't improve for 100 rounds\n",
      "[100]\tvalid_0's binary_logloss: 0.153354\tvalid_0's gini: 0.261651\n",
      "[200]\tvalid_0's binary_logloss: 0.152426\tvalid_0's gini: 0.275704\n",
      "[300]\tvalid_0's binary_logloss: 0.152023\tvalid_0's gini: 0.282277\n",
      "[400]\tvalid_0's binary_logloss: 0.1518\tvalid_0's gini: 0.286648\n",
      "[500]\tvalid_0's binary_logloss: 0.151713\tvalid_0's gini: 0.287944\n",
      "[600]\tvalid_0's binary_logloss: 0.151672\tvalid_0's gini: 0.288637\n",
      "[700]\tvalid_0's binary_logloss: 0.151659\tvalid_0's gini: 0.288939\n",
      "Early stopping, best iteration is:\n",
      "[681]\tvalid_0's binary_logloss: 0.151659\tvalid_0's gini: 0.289034\n",
      "폴드 1 지니계수: 0.2890336154188232\n",
      "\n",
      "######################################## 폴드 2 / 폴드 5 ########################################\n",
      "[LightGBM] [Info] Number of positive: 17355, number of negative: 458814\n",
      "[LightGBM] [Info] Total Bins 1093\n",
      "[LightGBM] [Info] Number of data points in the train set: 476169, number of used features: 200\n",
      "[LightGBM] [Info] [binary:BoostFromScore]: pavg=0.036447 -> initscore=-3.274764\n",
      "[LightGBM] [Info] Start training from score -3.274764\n",
      "Training until validation scores don't improve for 100 rounds\n",
      "[100]\tvalid_0's binary_logloss: 0.153498\tvalid_0's gini: 0.249446\n",
      "[200]\tvalid_0's binary_logloss: 0.152708\tvalid_0's gini: 0.260777\n",
      "[300]\tvalid_0's binary_logloss: 0.152397\tvalid_0's gini: 0.267104\n",
      "[400]\tvalid_0's binary_logloss: 0.152234\tvalid_0's gini: 0.271522\n",
      "[500]\tvalid_0's binary_logloss: 0.152164\tvalid_0's gini: 0.273276\n",
      "[600]\tvalid_0's binary_logloss: 0.152136\tvalid_0's gini: 0.27426\n",
      "[700]\tvalid_0's binary_logloss: 0.152125\tvalid_0's gini: 0.274337\n",
      "[800]\tvalid_0's binary_logloss: 0.152116\tvalid_0's gini: 0.274634\n",
      "[900]\tvalid_0's binary_logloss: 0.152106\tvalid_0's gini: 0.274992\n",
      "[1000]\tvalid_0's binary_logloss: 0.152104\tvalid_0's gini: 0.275078\n",
      "Did not meet early stopping. Best iteration is:\n",
      "[983]\tvalid_0's binary_logloss: 0.152101\tvalid_0's gini: 0.275121\n",
      "폴드 2 지니계수: 0.27512085497432026\n",
      "\n",
      "######################################## 폴드 3 / 폴드 5 ########################################\n",
      "[LightGBM] [Info] Number of positive: 17356, number of negative: 458814\n",
      "[LightGBM] [Info] Total Bins 1097\n",
      "[LightGBM] [Info] Number of data points in the train set: 476170, number of used features: 200\n",
      "[LightGBM] [Info] [binary:BoostFromScore]: pavg=0.036449 -> initscore=-3.274707\n",
      "[LightGBM] [Info] Start training from score -3.274707\n",
      "Training until validation scores don't improve for 100 rounds\n",
      "[100]\tvalid_0's binary_logloss: 0.153263\tvalid_0's gini: 0.261144\n",
      "[200]\tvalid_0's binary_logloss: 0.15234\tvalid_0's gini: 0.271571\n",
      "[300]\tvalid_0's binary_logloss: 0.151981\tvalid_0's gini: 0.276391\n",
      "[400]\tvalid_0's binary_logloss: 0.151818\tvalid_0's gini: 0.278667\n",
      "[500]\tvalid_0's binary_logloss: 0.151758\tvalid_0's gini: 0.279899\n",
      "[600]\tvalid_0's binary_logloss: 0.15174\tvalid_0's gini: 0.280373\n",
      "Early stopping, best iteration is:\n",
      "[560]\tvalid_0's binary_logloss: 0.151737\tvalid_0's gini: 0.280598\n",
      "폴드 3 지니계수: 0.2805977528883293\n",
      "\n",
      "######################################## 폴드 4 / 폴드 5 ########################################\n",
      "[LightGBM] [Info] Number of positive: 17355, number of negative: 458815\n",
      "[LightGBM] [Info] Total Bins 1096\n",
      "[LightGBM] [Info] Number of data points in the train set: 476170, number of used features: 200\n",
      "[LightGBM] [Info] [binary:BoostFromScore]: pavg=0.036447 -> initscore=-3.274766\n",
      "[LightGBM] [Info] Start training from score -3.274766\n",
      "Training until validation scores don't improve for 100 rounds\n",
      "[100]\tvalid_0's binary_logloss: 0.153399\tvalid_0's gini: 0.25056\n",
      "[200]\tvalid_0's binary_logloss: 0.152556\tvalid_0's gini: 0.262835\n",
      "[300]\tvalid_0's binary_logloss: 0.152258\tvalid_0's gini: 0.267038\n",
      "[400]\tvalid_0's binary_logloss: 0.152118\tvalid_0's gini: 0.269715\n",
      "[500]\tvalid_0's binary_logloss: 0.15208\tvalid_0's gini: 0.270536\n",
      "[600]\tvalid_0's binary_logloss: 0.152085\tvalid_0's gini: 0.270629\n",
      "Early stopping, best iteration is:\n",
      "[522]\tvalid_0's binary_logloss: 0.152074\tvalid_0's gini: 0.270749\n",
      "폴드 4 지니계수: 0.2707490338932929\n",
      "\n",
      "######################################## 폴드 5 / 폴드 5 ########################################\n",
      "[LightGBM] [Info] Number of positive: 17355, number of negative: 458815\n",
      "[LightGBM] [Info] Total Bins 1098\n",
      "[LightGBM] [Info] Number of data points in the train set: 476170, number of used features: 200\n",
      "[LightGBM] [Info] [binary:BoostFromScore]: pavg=0.036447 -> initscore=-3.274766\n",
      "[LightGBM] [Info] Start training from score -3.274766\n",
      "Training until validation scores don't improve for 100 rounds\n",
      "[100]\tvalid_0's binary_logloss: 0.153483\tvalid_0's gini: 0.262106\n",
      "[200]\tvalid_0's binary_logloss: 0.152646\tvalid_0's gini: 0.273406\n",
      "[300]\tvalid_0's binary_logloss: 0.152291\tvalid_0's gini: 0.279805\n",
      "[400]\tvalid_0's binary_logloss: 0.152093\tvalid_0's gini: 0.284645\n",
      "[500]\tvalid_0's binary_logloss: 0.152004\tvalid_0's gini: 0.28713\n",
      "[600]\tvalid_0's binary_logloss: 0.151982\tvalid_0's gini: 0.287668\n",
      "Early stopping, best iteration is:\n",
      "[583]\tvalid_0's binary_logloss: 0.15198\tvalid_0's gini: 0.287804\n",
      "폴드 5 지니계수: 0.2878042213842625\n",
      "\n"
     ]
    }
   ],
   "source": [
    "import lightgbm as lgb\n",
    "\n",
    "for idx,(train_idx, valid_idx) in enumerate(folds.split(x,y)):\n",
    "    print('#'*40, f'폴드 {idx+1} / 폴드 {folds.n_splits}','#'*40)\n",
    "    \n",
    "    x_train, y_train = x[train_idx], y[train_idx]\n",
    "    x_valid, y_valid = x[valid_idx], y[valid_idx]\n",
    "    \n",
    "    dtrain = lgb.Dataset(x_train, y_train)\n",
    "    dvalid = lgb.Dataset(x_valid, y_valid)\n",
    "    \n",
    "    lgb_model = lgb.train(params=params,\n",
    "                         train_set=dtrain,\n",
    "                         num_boost_round=1000,\n",
    "                         valid_sets=dvalid,\n",
    "                         feval=gini,\n",
    "                         early_stopping_rounds=100,\n",
    "                         verbose_eval=100)\n",
    "    \n",
    "    oof_test_preds += lgb_model.predict(x_test)/folds.n_splits\n",
    "    oof_val_preds[valid_idx] += lgb_model.predict(x_valid)\n",
    "    \n",
    "    gini_score = eval_gini(y_valid, oof_val_preds[valid_idx])\n",
    "    print(f'폴드 {idx+1} 지니계수: {gini_score}\\n')\n",
    "    "
   ]
  },
  {
   "cell_type": "code",
   "execution_count": 16,
   "id": "b130927e",
   "metadata": {
    "execution": {
     "iopub.execute_input": "2022-06-23T11:04:38.385789Z",
     "iopub.status.busy": "2022-06-23T11:04:38.385377Z",
     "iopub.status.idle": "2022-06-23T11:04:38.497215Z",
     "shell.execute_reply": "2022-06-23T11:04:38.496017Z"
    },
    "papermill": {
     "duration": 0.122562,
     "end_time": "2022-06-23T11:04:38.499300",
     "exception": false,
     "start_time": "2022-06-23T11:04:38.376738",
     "status": "completed"
    },
    "tags": []
   },
   "outputs": [
    {
     "name": "stdout",
     "output_type": "stream",
     "text": [
      "OOF 검증 데이터 지니계수: 0.2804995714877777\n"
     ]
    }
   ],
   "source": [
    "print('OOF 검증 데이터 지니계수:', eval_gini(y, oof_val_preds))"
   ]
  },
  {
   "cell_type": "code",
   "execution_count": null,
   "id": "0755b872",
   "metadata": {
    "papermill": {
     "duration": 0.007036,
     "end_time": "2022-06-23T11:04:38.513573",
     "exception": false,
     "start_time": "2022-06-23T11:04:38.506537",
     "status": "completed"
    },
    "tags": []
   },
   "outputs": [],
   "source": []
  }
 ],
 "metadata": {
  "kernelspec": {
   "display_name": "Python 3",
   "language": "python",
   "name": "python3"
  },
  "language_info": {
   "codemirror_mode": {
    "name": "ipython",
    "version": 3
   },
   "file_extension": ".py",
   "mimetype": "text/x-python",
   "name": "python",
   "nbconvert_exporter": "python",
   "pygments_lexer": "ipython3",
   "version": "3.7.12"
  },
  "papermill": {
   "default_parameters": {},
   "duration": 342.510425,
   "end_time": "2022-06-23T11:04:39.545113",
   "environment_variables": {},
   "exception": null,
   "input_path": "__notebook__.ipynb",
   "output_path": "__notebook__.ipynb",
   "parameters": {},
   "start_time": "2022-06-23T10:58:57.034688",
   "version": "2.3.4"
  }
 },
 "nbformat": 4,
 "nbformat_minor": 5
}
