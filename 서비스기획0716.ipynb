{
  "cells": [
    {
      "cell_type": "markdown",
      "metadata": {
        "id": "view-in-github",
        "colab_type": "text"
      },
      "source": [
        "<a href=\"https://colab.research.google.com/github/choeuneheol/python-practice/blob/master/%EC%84%9C%EB%B9%84%EC%8A%A4%EA%B8%B0%ED%9A%8D0716.ipynb\" target=\"_parent\"><img src=\"https://colab.research.google.com/assets/colab-badge.svg\" alt=\"Open In Colab\"/></a>"
      ]
    },
    {
      "cell_type": "code",
      "execution_count": null,
      "id": "cc611317",
      "metadata": {
        "id": "cc611317"
      },
      "outputs": [],
      "source": [
        "#서비스기획\n",
        "\n",
        "1. 서비스기획 알아야할것들\n",
        "DB가 그나마 괜챃음\n",
        "\n",
        "SQL\n",
        "AWS\n",
        "\n",
        "UX와 비즈니스 모델까지 생각하여야 한다.\n",
        "\n",
        "개발환경과 비용을 고려하여야 한다.\n",
        "\n",
        "서비스 전체의 선순환을 생각해야한다.\n",
        "\n",
        "프로젝트에 들어가면 요구사항 정의서를 만들어서가라\n",
        "\n",
        "알아야할것1. 서비스는 맨땅에서 나오지 않는다!\n",
        "\n",
        "아이디어와 서비스기획은 다르다\n",
        "\n",
        "전략기획과 서비스 기획 모두 필요하다\n",
        "\n",
        "서비스 성장을 고려한 서비스 기획\n",
        "\n",
        "비즈니스 환경에 맞는 서비스 기획 필요\n",
        "\n",
        "위의모든것에 대한 결론 \n",
        "치열하게 고민하라\n",
        "치열하게 공부하라\n",
        "\n",
        "\n",
        "에자일 방법론을 가장 많이 쓰인다 - 스프린트'(sprint)라는 짧고 점진적인 개발 주기로 구성된 프로젝트 관리 방법론\n",
        "\n",
        "원문보기:\n",
        "https://www.ciokorea.com/news/166830#csidx087973a7098791a91c7648e93472cb3 \n",
        "    \n",
        "    \n",
        "워터폴 방식도 쓰인다 - 워터폴 방법론 또한 제품 개발에 사용되지만 개발 과정은 선형적이다.\n",
        "즉 프로젝트 시작부터 최종 결과물 전달까지 특정 순서에 따라 이뤄진다.\n",
        "워터폴 기반 프로젝트 팀은 아래의 프로세스나 주기를 동일하고 정확한 순서로 실행 및 완료한다\n",
        "\n",
        "원문보기:\n",
        "https://www.ciokorea.com/news/166830#csidx8ffe2b02a75bb219c1a45c56d9a0360 \n",
        "\n",
        "서비스 전략기획서를 만들어라\n",
        "\n",
        "역기획이란?\n",
        "\n",
        "이미 만들어진 사이트를 분석하는것    \n",
        "1. 비즈니스 모댈 파악\n",
        "2. 핵심 로직 분석\n",
        "3. 기업의 목표 분석\n",
        "\n",
        "ML.ops\n",
        "    \n",
        "2. 프로젝트 실무(기획과정 8단계)\n",
        "\n",
        "3. 서비스기획 사례"
      ]
    }
  ],
  "metadata": {
    "kernelspec": {
      "display_name": "Python 3 (ipykernel)",
      "language": "python",
      "name": "python3"
    },
    "language_info": {
      "codemirror_mode": {
        "name": "ipython",
        "version": 3
      },
      "file_extension": ".py",
      "mimetype": "text/x-python",
      "name": "python",
      "nbconvert_exporter": "python",
      "pygments_lexer": "ipython3",
      "version": "3.9.12"
    },
    "colab": {
      "name": "서비스기획0716.ipynb",
      "provenance": [],
      "include_colab_link": true
    }
  },
  "nbformat": 4,
  "nbformat_minor": 5
}