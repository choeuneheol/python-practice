{
  "nbformat": 4,
  "nbformat_minor": 0,
  "metadata": {
    "colab": {
      "name": "문제해결책DAY11(운전자예측).ipynb",
      "provenance": [],
      "authorship_tag": "ABX9TyPObeXlpynEzBHwTk8/kREq",
      "include_colab_link": true
    },
    "kernelspec": {
      "name": "python3",
      "display_name": "Python 3"
    },
    "language_info": {
      "name": "python"
    },
    "accelerator": "GPU",
    "gpuClass": "standard"
  },
  "cells": [
    {
      "cell_type": "markdown",
      "metadata": {
        "id": "view-in-github",
        "colab_type": "text"
      },
      "source": [
        "<a href=\"https://colab.research.google.com/github/choeuneheol/python-practice/blob/master/%EB%AC%B8%EC%A0%9C%ED%95%B4%EA%B2%B0%EC%B1%85DAY11(%EC%9A%B4%EC%A0%84%EC%9E%90%EC%98%88%EC%B8%A1).ipynb\" target=\"_parent\"><img src=\"https://colab.research.google.com/assets/colab-badge.svg\" alt=\"Open In Colab\"/></a>"
      ]
    },
    {
      "cell_type": "code",
      "execution_count": null,
      "metadata": {
        "id": "sNbSW-2spyC0"
      },
      "outputs": [],
      "source": [
        "import pandas as pd\n",
        "\n",
        "train = pd.read_csv('train.csv')\n",
        "test = pd.read_csv('test.csv')\n",
        "submission = pd.read_csv('sample_submission.csv')"
      ]
    },
    {
      "cell_type": "code",
      "source": [
        "all_data = pd.concat([train, test], ignore_index=True)\n",
        "all_data = all_data.drop('target',axis=1)"
      ],
      "metadata": {
        "id": "p-3ddtIYOcKl"
      },
      "execution_count": null,
      "outputs": []
    },
    {
      "cell_type": "code",
      "source": [
        "all_features = all_data.columns\n",
        "all_features"
      ],
      "metadata": {
        "colab": {
          "base_uri": "https://localhost:8080/"
        },
        "id": "YRHRA80eOqlJ",
        "outputId": "d306e0f1-2ab2-4da1-ec67-98faa8f44ae7"
      },
      "execution_count": null,
      "outputs": [
        {
          "output_type": "execute_result",
          "data": {
            "text/plain": [
              "Index(['id', 'ps_ind_01', 'ps_ind_02_cat', 'ps_ind_03', 'ps_ind_04_cat',\n",
              "       'ps_ind_05_cat', 'ps_ind_06_bin', 'ps_ind_07_bin', 'ps_ind_08_bin',\n",
              "       'ps_ind_09_bin', 'ps_ind_10_bin', 'ps_ind_11_bin', 'ps_ind_12_bin',\n",
              "       'ps_ind_13_bin', 'ps_ind_14', 'ps_ind_15', 'ps_ind_16_bin',\n",
              "       'ps_ind_17_bin', 'ps_ind_18_bin', 'ps_reg_01', 'ps_reg_02', 'ps_reg_03',\n",
              "       'ps_car_01_cat', 'ps_car_02_cat', 'ps_car_03_cat', 'ps_car_04_cat',\n",
              "       'ps_car_05_cat', 'ps_car_06_cat', 'ps_car_07_cat', 'ps_car_08_cat',\n",
              "       'ps_car_09_cat', 'ps_car_10_cat', 'ps_car_11_cat', 'ps_car_11',\n",
              "       'ps_car_12', 'ps_car_13', 'ps_car_14', 'ps_car_15', 'ps_calc_01',\n",
              "       'ps_calc_02', 'ps_calc_03', 'ps_calc_04', 'ps_calc_05', 'ps_calc_06',\n",
              "       'ps_calc_07', 'ps_calc_08', 'ps_calc_09', 'ps_calc_10', 'ps_calc_11',\n",
              "       'ps_calc_12', 'ps_calc_13', 'ps_calc_14', 'ps_calc_15_bin',\n",
              "       'ps_calc_16_bin', 'ps_calc_17_bin', 'ps_calc_18_bin', 'ps_calc_19_bin',\n",
              "       'ps_calc_20_bin'],\n",
              "      dtype='object')"
            ]
          },
          "metadata": {},
          "execution_count": 3
        }
      ]
    },
    {
      "cell_type": "code",
      "source": [
        "from sklearn.preprocessing import OneHotEncoder\n",
        "\n",
        "cat_features = [feature for feature in all_features if 'cat' in feature]\n",
        "\n",
        "onehot_encoder = OneHotEncoder()\n",
        "\n",
        "encoded_cat_matrix = onehot_encoder.fit_transform(all_data[cat_features])\n",
        "\n",
        "encoded_cat_matrix"
      ],
      "metadata": {
        "colab": {
          "base_uri": "https://localhost:8080/"
        },
        "id": "EAyCU6mdO1RU",
        "outputId": "73b311f0-3e15-4925-e4ea-3a60bc956a28"
      },
      "execution_count": null,
      "outputs": [
        {
          "output_type": "execute_result",
          "data": {
            "text/plain": [
              "<1488028x184 sparse matrix of type '<class 'numpy.float64'>'\n",
              "\twith 20832392 stored elements in Compressed Sparse Row format>"
            ]
          },
          "metadata": {},
          "execution_count": 4
        }
      ]
    },
    {
      "cell_type": "code",
      "source": [
        "drop_features = ['ps_ind_14','ps_ind_10_bin','ps_ind_11_bin',\n",
        "                 'ps_ind_12_bin','ps_ind_13_bin','ps_car_14']\n",
        "\n",
        "remaining_features = [feature for feature in all_features\n",
        "                      if('cat' not in feature and\n",
        "                         'calc'not in feature and\n",
        "                         feature not in drop_features)]"
      ],
      "metadata": {
        "id": "Vn6Z80vJQBjR"
      },
      "execution_count": null,
      "outputs": []
    },
    {
      "cell_type": "code",
      "source": [
        "from scipy import sparse\n",
        "\n",
        "all_data_sprs = sparse.hstack([sparse.csr_matrix(all_data[remaining_features]),\n",
        "                               encoded_cat_matrix],\n",
        "                              format='csr')"
      ],
      "metadata": {
        "id": "qZNMd1rhQzU1"
      },
      "execution_count": null,
      "outputs": []
    },
    {
      "cell_type": "code",
      "source": [
        "num_train = len(train)\n",
        "\n",
        "x = all_data_sprs[:num_train]\n",
        "x_test = all_data_sprs[num_train:]\n",
        "\n",
        "y=train['target'].values"
      ],
      "metadata": {
        "id": "yCoyeI9ZRnG4"
      },
      "execution_count": null,
      "outputs": []
    },
    {
      "cell_type": "code",
      "source": [
        "import numpy as np\n",
        "\n",
        "def eval_gini(y_true, y_pred):\n",
        "  assert y_true.shape == y_pred.shape\n",
        "\n",
        "  n_samples = y_true.shape[0]\n",
        "  L_mid = np.linspace(1/n_samples, 1, n_samples)\n",
        "\n",
        "  pred_order = y_true[y_pred.argsort()]\n",
        "  L_pred = np.cumsum(pred_order) / np.sum(pred_order)\n",
        "  G_pred = np.sum(L_mid - L_pred)\n",
        "\n",
        "  true_order = y_true[y_true.argsort()]\n",
        "  L_true = np.cumsum(true_order) / np.sum(true_order)\n",
        "  G_true = np.sum(L_mid - L_true)\n",
        "\n",
        "  return G_pred / G_true"
      ],
      "metadata": {
        "id": "fUe-Qf3JR-Xj"
      },
      "execution_count": null,
      "outputs": []
    },
    {
      "cell_type": "code",
      "source": [
        "def gini(preds, dtrain):\n",
        "  labels = dtrain.get_label()\n",
        "  return 'gini', eval_gini(labels, preds), True"
      ],
      "metadata": {
        "id": "nO7m6o9MTgCJ"
      },
      "execution_count": null,
      "outputs": []
    },
    {
      "cell_type": "code",
      "source": [
        "from sklearn.model_selection import StratifiedKFold\n",
        "\n",
        "folds = StratifiedKFold(n_splits=5, shuffle=True, random_state=1991)"
      ],
      "metadata": {
        "id": "MyseO0hgT4ra"
      },
      "execution_count": null,
      "outputs": []
    },
    {
      "cell_type": "code",
      "source": [
        "params = {'objective':'binary',\n",
        "          'learning_rate':0.01,\n",
        "          'force_row_wise': True,\n",
        "          'random_state':0}"
      ],
      "metadata": {
        "id": "9gJ6oedRUrtF"
      },
      "execution_count": null,
      "outputs": []
    },
    {
      "cell_type": "code",
      "source": [
        "oof_val_preds = np.zeros(x.shape[0])\n",
        "\n",
        "oof_test_preds = np.zeros(x_test.shape[0])"
      ],
      "metadata": {
        "id": "EUlZFcCxVmBs"
      },
      "execution_count": null,
      "outputs": []
    },
    {
      "cell_type": "code",
      "source": [
        "import lightgbm as lgb\n",
        "\n",
        "for idx, (train_idx, valid_idx) in enumerate(folds.split(x,y)):\n",
        "\n",
        "  print('#'*40, f'폴드 {idx+1} / 폴드 {folds.n_splits}','#'*40)\n",
        "\n",
        "  x_train, y_train = x[train_idx], y[train_idx]\n",
        "  x_valid, y_valid = x[valid_idx], y[valid_idx]\n",
        "\n",
        "  dtrain = lgb.Dataset(x_train, y_train)\n",
        "  dvalid = lgb.Dataset(x_valid, y_valid)\n",
        "\n",
        "  lgb_model = lgb.train(params=params,\n",
        "                        train_set=dtrain,\n",
        "                        num_boost_round=1000,\n",
        "                        valid_sets=dvalid,\n",
        "                        feval = gini,\n",
        "                        early_stopping_rounds=100,\n",
        "                        verbose_eval=100)\n",
        "  \n",
        "  oof_test_preds += lgb_model.predict(x_test)/folds.n_splits\n",
        "\n",
        "  oof_val_preds[valid_idx] += lgb_model.predict(x_valid)\n",
        "\n",
        "  gini_score = eval_gini(y_valid, oof_val_preds[valid_idx])\n",
        "\n",
        "  print(f'폴드 {idx+1} 지니계수: {gini_score}\\n')"
      ],
      "metadata": {
        "colab": {
          "base_uri": "https://localhost:8080/"
        },
        "id": "dnzhToteWhSQ",
        "outputId": "4b96c333-989b-4518-b42a-31fbe1f7473a"
      },
      "execution_count": null,
      "outputs": [
        {
          "output_type": "stream",
          "name": "stdout",
          "text": [
            "######################################## 폴드 1 / 폴드 5 ########################################\n",
            "Training until validation scores don't improve for 100 rounds.\n",
            "[100]\tvalid_0's binary_logloss: 0.153361\tvalid_0's gini: 0.261414\n",
            "[200]\tvalid_0's binary_logloss: 0.152422\tvalid_0's gini: 0.276386\n",
            "[300]\tvalid_0's binary_logloss: 0.152021\tvalid_0's gini: 0.282761\n",
            "[400]\tvalid_0's binary_logloss: 0.151806\tvalid_0's gini: 0.286927\n",
            "[500]\tvalid_0's binary_logloss: 0.151729\tvalid_0's gini: 0.288247\n",
            "[600]\tvalid_0's binary_logloss: 0.151687\tvalid_0's gini: 0.289139\n",
            "[700]\tvalid_0's binary_logloss: 0.151663\tvalid_0's gini: 0.289936\n",
            "[800]\tvalid_0's binary_logloss: 0.151653\tvalid_0's gini: 0.290213\n",
            "[900]\tvalid_0's binary_logloss: 0.15165\tvalid_0's gini: 0.290355\n",
            "[1000]\tvalid_0's binary_logloss: 0.151645\tvalid_0's gini: 0.290507\n",
            "Did not meet early stopping. Best iteration is:\n",
            "[998]\tvalid_0's binary_logloss: 0.151644\tvalid_0's gini: 0.290524\n",
            "폴드 1 지니계수: 0.2905237882587803\n",
            "\n",
            "######################################## 폴드 2 / 폴드 5 ########################################\n",
            "Training until validation scores don't improve for 100 rounds.\n",
            "[100]\tvalid_0's binary_logloss: 0.153508\tvalid_0's gini: 0.249181\n",
            "[200]\tvalid_0's binary_logloss: 0.152724\tvalid_0's gini: 0.260584\n",
            "[300]\tvalid_0's binary_logloss: 0.152415\tvalid_0's gini: 0.267235\n",
            "[400]\tvalid_0's binary_logloss: 0.152276\tvalid_0's gini: 0.270517\n",
            "[500]\tvalid_0's binary_logloss: 0.15221\tvalid_0's gini: 0.27219\n",
            "[600]\tvalid_0's binary_logloss: 0.152173\tvalid_0's gini: 0.273026\n",
            "[700]\tvalid_0's binary_logloss: 0.152168\tvalid_0's gini: 0.273201\n",
            "[800]\tvalid_0's binary_logloss: 0.152172\tvalid_0's gini: 0.273118\n",
            "Early stopping, best iteration is:\n",
            "[707]\tvalid_0's binary_logloss: 0.152165\tvalid_0's gini: 0.273302\n",
            "폴드 2 지니계수: 0.2733015686441049\n",
            "\n",
            "######################################## 폴드 3 / 폴드 5 ########################################\n",
            "Training until validation scores don't improve for 100 rounds.\n",
            "[100]\tvalid_0's binary_logloss: 0.15326\tvalid_0's gini: 0.261635\n",
            "[200]\tvalid_0's binary_logloss: 0.152341\tvalid_0's gini: 0.271479\n",
            "[300]\tvalid_0's binary_logloss: 0.151982\tvalid_0's gini: 0.276575\n",
            "[400]\tvalid_0's binary_logloss: 0.151813\tvalid_0's gini: 0.279119\n",
            "[500]\tvalid_0's binary_logloss: 0.151767\tvalid_0's gini: 0.279951\n",
            "[600]\tvalid_0's binary_logloss: 0.151751\tvalid_0's gini: 0.280278\n",
            "[700]\tvalid_0's binary_logloss: 0.15175\tvalid_0's gini: 0.280308\n",
            "Early stopping, best iteration is:\n",
            "[611]\tvalid_0's binary_logloss: 0.151746\tvalid_0's gini: 0.28046\n",
            "폴드 3 지니계수: 0.2804603293945084\n",
            "\n",
            "######################################## 폴드 4 / 폴드 5 ########################################\n",
            "Training until validation scores don't improve for 100 rounds.\n",
            "[100]\tvalid_0's binary_logloss: 0.15341\tvalid_0's gini: 0.25028\n",
            "[200]\tvalid_0's binary_logloss: 0.152569\tvalid_0's gini: 0.262633\n",
            "[300]\tvalid_0's binary_logloss: 0.152272\tvalid_0's gini: 0.266862\n",
            "[400]\tvalid_0's binary_logloss: 0.152142\tvalid_0's gini: 0.269302\n",
            "[500]\tvalid_0's binary_logloss: 0.152109\tvalid_0's gini: 0.269438\n",
            "Early stopping, best iteration is:\n",
            "[490]\tvalid_0's binary_logloss: 0.152105\tvalid_0's gini: 0.269576\n",
            "폴드 4 지니계수: 0.26957567178460773\n",
            "\n",
            "######################################## 폴드 5 / 폴드 5 ########################################\n",
            "Training until validation scores don't improve for 100 rounds.\n",
            "[100]\tvalid_0's binary_logloss: 0.153494\tvalid_0's gini: 0.261571\n",
            "[200]\tvalid_0's binary_logloss: 0.152649\tvalid_0's gini: 0.273293\n",
            "[300]\tvalid_0's binary_logloss: 0.152284\tvalid_0's gini: 0.280028\n",
            "[400]\tvalid_0's binary_logloss: 0.152092\tvalid_0's gini: 0.284236\n",
            "[500]\tvalid_0's binary_logloss: 0.152025\tvalid_0's gini: 0.286126\n",
            "[600]\tvalid_0's binary_logloss: 0.151988\tvalid_0's gini: 0.287467\n",
            "[700]\tvalid_0's binary_logloss: 0.151988\tvalid_0's gini: 0.287414\n",
            "Early stopping, best iteration is:\n",
            "[631]\tvalid_0's binary_logloss: 0.151983\tvalid_0's gini: 0.28756\n",
            "폴드 5 지니계수: 0.28756014885277936\n",
            "\n"
          ]
        }
      ]
    },
    {
      "cell_type": "code",
      "source": [
        "print('OOF 검증 데이터 지니계수:', eval_gini(y, oof_val_preds))"
      ],
      "metadata": {
        "colab": {
          "base_uri": "https://localhost:8080/"
        },
        "id": "k9pyUkidYwz3",
        "outputId": "4b43a88b-d2ae-42e7-ac66-446ec418201f"
      },
      "execution_count": null,
      "outputs": [
        {
          "output_type": "stream",
          "name": "stdout",
          "text": [
            "OOF 검증 데이터 지니계수: 0.2802139316622604\n"
          ]
        }
      ]
    },
    {
      "cell_type": "code",
      "source": [
        "submission['target'] = oof_test_preds\n",
        "submission.to_csv('submission.csv')"
      ],
      "metadata": {
        "id": "UeVWHQjCwy9Y"
      },
      "execution_count": null,
      "outputs": []
    },
    {
      "cell_type": "code",
      "source": [
        "import pandas as pd\n",
        "\n",
        "train = pd.read_csv('train.csv')\n",
        "test = pd.read_csv('test.csv')\n",
        "submission = pd.read_csv('submission.csv')"
      ],
      "metadata": {
        "id": "-yva841VxAJf"
      },
      "execution_count": null,
      "outputs": []
    },
    {
      "cell_type": "code",
      "source": [
        "all_data = pd.concat([train, test], ignore_index=True)\n",
        "all_data = all_data.drop('target', axis=1)\n",
        "\n",
        "all_features = all_data.columns"
      ],
      "metadata": {
        "id": "W3SeGvZJxb2u"
      },
      "execution_count": null,
      "outputs": []
    },
    {
      "cell_type": "code",
      "source": [
        "from sklearn.preprocessing import OneHotEncoder\n",
        "\n",
        "cat_features = [feature for feature in all_features if 'cat' in feature]\n",
        "\n",
        "onehot_encoder = OneHotEncoder()\n",
        "encoded_cat_matrix = onehot_encoder.fit_transform(all_data[cat_features])"
      ],
      "metadata": {
        "id": "n0TFtVWzxxYI"
      },
      "execution_count": null,
      "outputs": []
    },
    {
      "cell_type": "code",
      "source": [
        "all_data['num_missing'] = (all_data==-1).sum(axis=1)"
      ],
      "metadata": {
        "id": "GLRkU6IKyUoR"
      },
      "execution_count": null,
      "outputs": []
    },
    {
      "cell_type": "code",
      "source": [
        "remaining_features = [feature for feature in all_features\n",
        "                      if ('cat' not in feature and 'calc' not in feature)]\n",
        "remaining_features.append('num_missing')"
      ],
      "metadata": {
        "id": "BGIcSFfGyepT"
      },
      "execution_count": null,
      "outputs": []
    },
    {
      "cell_type": "code",
      "source": [
        "ind_features = [feature for feature in all_features if 'ind' in feature]\n",
        "\n",
        "is_first_feature = True\n",
        "for ind_feature in ind_features:\n",
        "  if is_first_feature:\n",
        "    all_data['mix_ind'] = all_data[ind_feature].astype(str) + '_'\n",
        "    is_first_feature = False\n",
        "  else:\n",
        "    all_data['mix_ind'] += all_data[ind_feature].astype(str) + '_'"
      ],
      "metadata": {
        "id": "xParQDPBy4Zw"
      },
      "execution_count": null,
      "outputs": []
    },
    {
      "cell_type": "code",
      "source": [
        "all_data['mix_ind']"
      ],
      "metadata": {
        "colab": {
          "base_uri": "https://localhost:8080/"
        },
        "id": "LHi0FKVOz0iu",
        "outputId": "392da8b7-710d-4394-9649-837da2cdcbe6"
      },
      "execution_count": null,
      "outputs": [
        {
          "output_type": "execute_result",
          "data": {
            "text/plain": [
              "0          2_2_5_1_0_0_1_0_0_0_0_0_0_0_11_0_1_0_\n",
              "1           1_1_7_0_0_0_0_1_0_0_0_0_0_0_3_0_0_1_\n",
              "2          5_4_9_1_0_0_0_1_0_0_0_0_0_0_12_1_0_0_\n",
              "3           0_1_2_0_0_1_0_0_0_0_0_0_0_0_8_1_0_0_\n",
              "4           0_2_0_1_0_1_0_0_0_0_0_0_0_0_9_1_0_0_\n",
              "                           ...                  \n",
              "1488023     0_1_6_0_0_0_1_0_0_0_0_0_0_0_2_0_0_1_\n",
              "1488024    5_3_5_1_0_0_0_1_0_0_0_0_0_0_11_1_0_0_\n",
              "1488025     0_1_5_0_0_1_0_0_0_0_0_0_0_0_5_0_0_1_\n",
              "1488026    6_1_5_1_0_0_0_0_1_0_0_0_0_0_13_1_0_0_\n",
              "1488027    7_1_4_1_0_0_0_0_1_0_0_0_0_0_12_1_0_0_\n",
              "Name: mix_ind, Length: 1488028, dtype: object"
            ]
          },
          "metadata": {},
          "execution_count": 22
        }
      ]
    },
    {
      "cell_type": "code",
      "source": [
        "all_data['ps_ind_02_cat'].value_counts()"
      ],
      "metadata": {
        "colab": {
          "base_uri": "https://localhost:8080/"
        },
        "id": "gU5RssvG0b-e",
        "outputId": "dd798b3b-7480-4365-920b-8499888d1895"
      },
      "execution_count": null,
      "outputs": [
        {
          "output_type": "execute_result",
          "data": {
            "text/plain": [
              " 1    1079327\n",
              " 2     309747\n",
              " 3      70172\n",
              " 4      28259\n",
              "-1        523\n",
              "Name: ps_ind_02_cat, dtype: int64"
            ]
          },
          "metadata": {},
          "execution_count": 23
        }
      ]
    },
    {
      "cell_type": "code",
      "source": [
        "all_data['ps_ind_02_cat'].value_counts().to_dict()"
      ],
      "metadata": {
        "colab": {
          "base_uri": "https://localhost:8080/"
        },
        "id": "ixi5G1FQ0aKV",
        "outputId": "53c8f4a3-9e78-4de3-a00d-d997508b633b"
      },
      "execution_count": null,
      "outputs": [
        {
          "output_type": "execute_result",
          "data": {
            "text/plain": [
              "{-1: 523, 1: 1079327, 2: 309747, 3: 70172, 4: 28259}"
            ]
          },
          "metadata": {},
          "execution_count": 24
        }
      ]
    },
    {
      "cell_type": "code",
      "source": [
        "cat_count_features = []\n",
        "for feature in cat_features+['mix_ind']:\n",
        "  val_counts_dict = all_data[feature].value_counts().to_dict()\n",
        "  all_data[f'{feature}_count'] = all_data[feature].apply(lambda x:\n",
        "                                                         val_counts_dict[x])\n",
        "  cat_count_features.append(f'{feature}_count')"
      ],
      "metadata": {
        "id": "n-pdgfFx0uOp"
      },
      "execution_count": null,
      "outputs": []
    },
    {
      "cell_type": "code",
      "source": [
        "cat_count_features"
      ],
      "metadata": {
        "colab": {
          "base_uri": "https://localhost:8080/"
        },
        "id": "tPjeeLMz1heN",
        "outputId": "de3401a8-867e-442e-cb83-106dfe9df586"
      },
      "execution_count": null,
      "outputs": [
        {
          "output_type": "execute_result",
          "data": {
            "text/plain": [
              "['ps_ind_02_cat_count',\n",
              " 'ps_ind_04_cat_count',\n",
              " 'ps_ind_05_cat_count',\n",
              " 'ps_car_01_cat_count',\n",
              " 'ps_car_02_cat_count',\n",
              " 'ps_car_03_cat_count',\n",
              " 'ps_car_04_cat_count',\n",
              " 'ps_car_05_cat_count',\n",
              " 'ps_car_06_cat_count',\n",
              " 'ps_car_07_cat_count',\n",
              " 'ps_car_08_cat_count',\n",
              " 'ps_car_09_cat_count',\n",
              " 'ps_car_10_cat_count',\n",
              " 'ps_car_11_cat_count',\n",
              " 'mix_ind_count']"
            ]
          },
          "metadata": {},
          "execution_count": 26
        }
      ]
    },
    {
      "cell_type": "code",
      "source": [
        "from scipy import sparse\n",
        "!pip3 install bayesian-optimization\n",
        "drop_features = ['ps_ind_14','ps_ind_10_bin','ps_ind_11_bin',\n",
        "                 'ps_ind_12_bin','ps_ind_13_bin','ps_car_14']\n",
        "\n",
        "all_data_remaining = all_data[remaining_features+cat_count_features].drop(drop_features, axis=1)\n",
        "all_data_sprs = sparse.hstack([sparse.csr_matrix(all_data_remaining),\n",
        "                               encoded_cat_matrix],\n",
        "                              format='csr')"
      ],
      "metadata": {
        "id": "BQjQ12df1rY1",
        "colab": {
          "base_uri": "https://localhost:8080/"
        },
        "outputId": "40469df4-c38c-46d5-a6df-b57434386a16"
      },
      "execution_count": null,
      "outputs": [
        {
          "output_type": "stream",
          "name": "stdout",
          "text": [
            "Looking in indexes: https://pypi.org/simple, https://us-python.pkg.dev/colab-wheels/public/simple/\n",
            "Collecting bayesian-optimization\n",
            "  Downloading bayesian-optimization-1.2.0.tar.gz (14 kB)\n",
            "Requirement already satisfied: numpy>=1.9.0 in /usr/local/lib/python3.7/dist-packages (from bayesian-optimization) (1.21.6)\n",
            "Requirement already satisfied: scipy>=0.14.0 in /usr/local/lib/python3.7/dist-packages (from bayesian-optimization) (1.4.1)\n",
            "Requirement already satisfied: scikit-learn>=0.18.0 in /usr/local/lib/python3.7/dist-packages (from bayesian-optimization) (1.0.2)\n",
            "Requirement already satisfied: threadpoolctl>=2.0.0 in /usr/local/lib/python3.7/dist-packages (from scikit-learn>=0.18.0->bayesian-optimization) (3.1.0)\n",
            "Requirement already satisfied: joblib>=0.11 in /usr/local/lib/python3.7/dist-packages (from scikit-learn>=0.18.0->bayesian-optimization) (1.1.0)\n",
            "Building wheels for collected packages: bayesian-optimization\n",
            "  Building wheel for bayesian-optimization (setup.py) ... \u001b[?25l\u001b[?25hdone\n",
            "  Created wheel for bayesian-optimization: filename=bayesian_optimization-1.2.0-py3-none-any.whl size=11685 sha256=646dcc492d0085a5d5029554b4cc7bb1f3f17166bad2406c4fa541f7a5d45bd7\n",
            "  Stored in directory: /root/.cache/pip/wheels/fd/9b/71/f127d694e02eb40bcf18c7ae9613b88a6be4470f57a8528c5b\n",
            "Successfully built bayesian-optimization\n",
            "Installing collected packages: bayesian-optimization\n",
            "Successfully installed bayesian-optimization-1.2.0\n"
          ]
        }
      ]
    },
    {
      "cell_type": "code",
      "source": [
        "num_train = len(train)\n",
        "\n",
        "x = all_data_sprs[:num_train]\n",
        "x_test = all_data_sprs[num_train:]\n",
        "\n",
        "y = train['target'].values"
      ],
      "metadata": {
        "id": "ytDdJNrZ2nYu"
      },
      "execution_count": null,
      "outputs": []
    },
    {
      "cell_type": "code",
      "source": [
        "import lightgbm as lgb\n",
        "from sklearn.model_selection import train_test_split\n",
        "\n",
        "x_train, x_valid, y_train, y_valid = train_test_split(x, y,\n",
        "                                                      test_size=0.2,\n",
        "                                                      random_state=0)\n",
        "\n",
        "bayes_dtrain = lgb.Dataset(x_train, y_train)\n",
        "bayes_dvalid = lgb.Dataset(x_valid, y_valid)"
      ],
      "metadata": {
        "id": "kVKN1nhQ3EdV"
      },
      "execution_count": null,
      "outputs": []
    },
    {
      "cell_type": "code",
      "source": [
        "param_bounds = {'num_leaves' : (30, 40),\n",
        "                'lambda_l1' : (0.7, 0.9),\n",
        "                'lambda_l2' : (0.9, 1),\n",
        "                'feature_fraction' : (0.6, 0.7),\n",
        "                'bagging_fraction' : (0.6, 0.9),\n",
        "                'min_child_samples' : (6, 10),\n",
        "                'min_child_weight' : (10, 40)}\n",
        "\n",
        "fixed_params = {'objective' : 'binary',\n",
        "                'learning_rate' : 0.005,\n",
        "                'bagging_freq' : 1,\n",
        "                'force_row_wise' : True,\n",
        "                'random_state' : 1991}"
      ],
      "metadata": {
        "id": "TClIcYVq30c7"
      },
      "execution_count": null,
      "outputs": []
    },
    {
      "cell_type": "code",
      "source": [
        "def eval_function(num_leaves, lambda_l1, lambda_l2, feature_fraction,\n",
        "                  bagging_fraction, min_child_samples, min_child_weight):\n",
        "  '''최적화하려는 평가지표(지니계수) 계산 함수'''\n",
        "\n",
        "  params = {'num_leaves' : int(round(num_leaves)),\n",
        "            'lambda_l1': lambda_l1,\n",
        "            'lambda_l2': lambda_l2,\n",
        "            'feature_fraction': feature_fraction,\n",
        "            'bagging_fraction': bagging_fraction,\n",
        "            'min_child_samples': int(round(min_child_samples)),\n",
        "            'min_child_weight': min_child_weight,\n",
        "            'feature_pre_filter': False}\n",
        "  params.update(fixed_params)\n",
        "\n",
        "  print('하이퍼파라미터:', params)\n",
        "\n",
        "  lgb_model = lgb.train(params=params,\n",
        "                        train_set=bayes_dtrain,\n",
        "                        num_boost_round=2500,\n",
        "                        valid_sets=bayes_dvalid,\n",
        "                        feval=gini,\n",
        "                        early_stopping_rounds=300,\n",
        "                        verbose_eval=False)\n",
        "  preds = lgb_model.predict(x_valid)\n",
        "\n",
        "  gini_score = eval_gini(y_valid, preds)\n",
        "  print(f'지니계수 : {gini_score}\\n')\n",
        "\n",
        "  return gini_score"
      ],
      "metadata": {
        "id": "ufMOyjMo46Cb"
      },
      "execution_count": null,
      "outputs": []
    },
    {
      "cell_type": "code",
      "source": [
        "from bayes_opt import BayesianOptimization\n",
        "\n",
        "optimizer = BayesianOptimization(f=eval_function,\n",
        "                                 pbounds=param_bounds,\n",
        "                                 random_state=0)"
      ],
      "metadata": {
        "id": "9ow3XLbbNG3Y"
      },
      "execution_count": null,
      "outputs": []
    },
    {
      "cell_type": "code",
      "source": [
        "optimizer.maximize(init_points=3, n_iter=6)"
      ],
      "metadata": {
        "colab": {
          "base_uri": "https://localhost:8080/"
        },
        "id": "9pOL7qjpNiSs",
        "outputId": "2aff2f82-7272-4705-aaaf-03d0f6b80ad1"
      },
      "execution_count": null,
      "outputs": [
        {
          "output_type": "stream",
          "name": "stdout",
          "text": [
            "|   iter    |  target   | baggin... | featur... | lambda_l1 | lambda_l2 | min_ch... | min_ch... | num_le... |\n",
            "-------------------------------------------------------------------------------------------------------------\n",
            "하이퍼파라미터: {'num_leaves': 34, 'lambda_l1': 0.8205526752143287, 'lambda_l2': 0.9544883182996897, 'feature_fraction': 0.6715189366372419, 'bagging_fraction': 0.7646440511781974, 'min_child_samples': 8, 'min_child_weight': 29.376823391999682, 'feature_pre_filter': False, 'objective': 'binary', 'learning_rate': 0.005, 'bagging_freq': 1, 'force_row_wise': True, 'random_state': 1991}\n",
            "지니계수 : 0.28417206059698985\n",
            "\n",
            "| \u001b[0m 1       \u001b[0m | \u001b[0m 0.2842  \u001b[0m | \u001b[0m 0.7646  \u001b[0m | \u001b[0m 0.6715  \u001b[0m | \u001b[0m 0.8206  \u001b[0m | \u001b[0m 0.9545  \u001b[0m | \u001b[0m 7.695   \u001b[0m | \u001b[0m 29.38   \u001b[0m | \u001b[0m 34.38   \u001b[0m |\n",
            "하이퍼파라미터: {'num_leaves': 39, 'lambda_l1': 0.7766883037651555, 'lambda_l2': 0.9791725038082665, 'feature_fraction': 0.6963662760501029, 'bagging_fraction': 0.867531900234624, 'min_child_samples': 8, 'min_child_weight': 27.04133683281797, 'feature_pre_filter': False, 'objective': 'binary', 'learning_rate': 0.005, 'bagging_freq': 1, 'force_row_wise': True, 'random_state': 1991}\n",
            "지니계수 : 0.28219821314768856\n",
            "\n",
            "| \u001b[0m 2       \u001b[0m | \u001b[0m 0.2822  \u001b[0m | \u001b[0m 0.8675  \u001b[0m | \u001b[0m 0.6964  \u001b[0m | \u001b[0m 0.7767  \u001b[0m | \u001b[0m 0.9792  \u001b[0m | \u001b[0m 8.116   \u001b[0m | \u001b[0m 27.04   \u001b[0m | \u001b[0m 39.26   \u001b[0m |\n",
            "하이퍼파라미터: {'num_leaves': 40, 'lambda_l1': 0.7040436794880651, 'lambda_l2': 0.9832619845547939, 'feature_fraction': 0.608712929970154, 'bagging_fraction': 0.6213108174593661, 'min_child_samples': 9, 'min_child_weight': 36.10036444740457, 'feature_pre_filter': False, 'objective': 'binary', 'learning_rate': 0.005, 'bagging_freq': 1, 'force_row_wise': True, 'random_state': 1991}\n",
            "지니계수 : 0.2840926403919025\n",
            "\n",
            "| \u001b[0m 3       \u001b[0m | \u001b[0m 0.2841  \u001b[0m | \u001b[0m 0.6213  \u001b[0m | \u001b[0m 0.6087  \u001b[0m | \u001b[0m 0.704   \u001b[0m | \u001b[0m 0.9833  \u001b[0m | \u001b[0m 9.113   \u001b[0m | \u001b[0m 36.1    \u001b[0m | \u001b[0m 39.79   \u001b[0m |\n",
            "하이퍼파라미터: {'num_leaves': 30, 'lambda_l1': 0.8444997594874222, 'lambda_l2': 0.9234023852202012, 'feature_fraction': 0.6593983245038058, 'bagging_fraction': 0.8977977822397395, 'min_child_samples': 9, 'min_child_weight': 10.549362495448534, 'feature_pre_filter': False, 'objective': 'binary', 'learning_rate': 0.005, 'bagging_freq': 1, 'force_row_wise': True, 'random_state': 1991}\n",
            "지니계수 : 0.2816440508928848\n",
            "\n",
            "| \u001b[0m 4       \u001b[0m | \u001b[0m 0.2816  \u001b[0m | \u001b[0m 0.8978  \u001b[0m | \u001b[0m 0.6594  \u001b[0m | \u001b[0m 0.8445  \u001b[0m | \u001b[0m 0.9234  \u001b[0m | \u001b[0m 8.619   \u001b[0m | \u001b[0m 10.55   \u001b[0m | \u001b[0m 30.09   \u001b[0m |\n",
            "하이퍼파라미터: {'num_leaves': 37, 'lambda_l1': 0.7738449330497988, 'lambda_l2': 0.9032695189818599, 'feature_fraction': 0.6606341064409726, 'bagging_fraction': 0.7666713964943057, 'min_child_samples': 9, 'min_child_weight': 29.306172421380474, 'feature_pre_filter': False, 'objective': 'binary', 'learning_rate': 0.005, 'bagging_freq': 1, 'force_row_wise': True, 'random_state': 1991}\n",
            "지니계수 : 0.2837604996839003\n",
            "\n",
            "| \u001b[0m 5       \u001b[0m | \u001b[0m 0.2838  \u001b[0m | \u001b[0m 0.7667  \u001b[0m | \u001b[0m 0.6606  \u001b[0m | \u001b[0m 0.7738  \u001b[0m | \u001b[0m 0.9033  \u001b[0m | \u001b[0m 8.769   \u001b[0m | \u001b[0m 29.31   \u001b[0m | \u001b[0m 36.6    \u001b[0m |\n",
            "하이퍼파라미터: {'num_leaves': 34, 'lambda_l1': 0.7529697867046545, 'lambda_l2': 0.9441919669546546, 'feature_fraction': 0.6910086392891761, 'bagging_fraction': 0.6639220478618455, 'min_child_samples': 9, 'min_child_weight': 34.28549901067133, 'feature_pre_filter': False, 'objective': 'binary', 'learning_rate': 0.005, 'bagging_freq': 1, 'force_row_wise': True, 'random_state': 1991}\n",
            "지니계수 : 0.2839781824556874\n",
            "\n",
            "| \u001b[0m 6       \u001b[0m | \u001b[0m 0.284   \u001b[0m | \u001b[0m 0.6639  \u001b[0m | \u001b[0m 0.691   \u001b[0m | \u001b[0m 0.753   \u001b[0m | \u001b[0m 0.9442  \u001b[0m | \u001b[0m 9.059   \u001b[0m | \u001b[0m 34.29   \u001b[0m | \u001b[0m 34.18   \u001b[0m |\n",
            "하이퍼파라미터: {'num_leaves': 30, 'lambda_l1': 0.7, 'lambda_l2': 0.9, 'feature_fraction': 0.6, 'bagging_fraction': 0.6, 'min_child_samples': 10, 'min_child_weight': 29.021456832813357, 'feature_pre_filter': False, 'objective': 'binary', 'learning_rate': 0.005, 'bagging_freq': 1, 'force_row_wise': True, 'random_state': 1991}\n",
            "지니계수 : 0.28362769596740506\n",
            "\n",
            "| \u001b[0m 7       \u001b[0m | \u001b[0m 0.2836  \u001b[0m | \u001b[0m 0.6     \u001b[0m | \u001b[0m 0.6     \u001b[0m | \u001b[0m 0.7     \u001b[0m | \u001b[0m 0.9     \u001b[0m | \u001b[0m 10.0    \u001b[0m | \u001b[0m 29.02   \u001b[0m | \u001b[0m 30.0    \u001b[0m |\n",
            "하이퍼파라미터: {'num_leaves': 36, 'lambda_l1': 0.8994531277089022, 'lambda_l2': 0.9670502031011076, 'feature_fraction': 0.683305192190723, 'bagging_fraction': 0.6993712313064048, 'min_child_samples': 6, 'min_child_weight': 39.923969913967625, 'feature_pre_filter': False, 'objective': 'binary', 'learning_rate': 0.005, 'bagging_freq': 1, 'force_row_wise': True, 'random_state': 1991}\n",
            "지니계수 : 0.2850140821756548\n",
            "\n",
            "| \u001b[95m 8       \u001b[0m | \u001b[95m 0.285   \u001b[0m | \u001b[95m 0.6994  \u001b[0m | \u001b[95m 0.6833  \u001b[0m | \u001b[95m 0.8995  \u001b[0m | \u001b[95m 0.9671  \u001b[0m | \u001b[95m 6.208   \u001b[0m | \u001b[95m 39.92   \u001b[0m | \u001b[95m 36.33   \u001b[0m |\n",
            "하이퍼파라미터: {'num_leaves': 31, 'lambda_l1': 0.9, 'lambda_l2': 1.0, 'feature_fraction': 0.6365071605659135, 'bagging_fraction': 0.6675321133794037, 'min_child_samples': 6, 'min_child_weight': 40.0, 'feature_pre_filter': False, 'objective': 'binary', 'learning_rate': 0.005, 'bagging_freq': 1, 'force_row_wise': True, 'random_state': 1991}\n",
            "지니계수 : 0.28440593795771707\n",
            "\n",
            "| \u001b[0m 9       \u001b[0m | \u001b[0m 0.2844  \u001b[0m | \u001b[0m 0.6675  \u001b[0m | \u001b[0m 0.6365  \u001b[0m | \u001b[0m 0.9     \u001b[0m | \u001b[0m 1.0     \u001b[0m | \u001b[0m 6.0     \u001b[0m | \u001b[0m 40.0    \u001b[0m | \u001b[0m 31.27   \u001b[0m |\n",
            "=============================================================================================================\n"
          ]
        }
      ]
    },
    {
      "cell_type": "code",
      "source": [
        "max_params=optimizer.max['params']\n",
        "max_params"
      ],
      "metadata": {
        "colab": {
          "base_uri": "https://localhost:8080/"
        },
        "id": "lQMfYRG4REGG",
        "outputId": "173ec4f7-9808-4835-fcee-125b9dd15e73"
      },
      "execution_count": null,
      "outputs": [
        {
          "output_type": "execute_result",
          "data": {
            "text/plain": [
              "{'bagging_fraction': 0.6993712313064048,\n",
              " 'feature_fraction': 0.683305192190723,\n",
              " 'lambda_l1': 0.8994531277089022,\n",
              " 'lambda_l2': 0.9670502031011076,\n",
              " 'min_child_samples': 6.2082141966432935,\n",
              " 'min_child_weight': 39.923969913967625,\n",
              " 'num_leaves': 36.33330764478684}"
            ]
          },
          "metadata": {},
          "execution_count": 34
        }
      ]
    },
    {
      "cell_type": "code",
      "source": [
        "max_params['num_leaves']=int(round(max_params['num_leaves']))\n",
        "max_params['min_child_samples'] = int(round(max_params['min_child_samples']))"
      ],
      "metadata": {
        "id": "16dlIoUBWjQO"
      },
      "execution_count": null,
      "outputs": []
    },
    {
      "cell_type": "code",
      "source": [
        "max_params.update(fixed_params)"
      ],
      "metadata": {
        "id": "h-QDMET0W6It"
      },
      "execution_count": null,
      "outputs": []
    },
    {
      "cell_type": "code",
      "source": [
        "max_params"
      ],
      "metadata": {
        "colab": {
          "base_uri": "https://localhost:8080/"
        },
        "id": "i7B_1XeZXCOR",
        "outputId": "93cf327c-959d-42be-b5ee-e83666835222"
      },
      "execution_count": null,
      "outputs": [
        {
          "output_type": "execute_result",
          "data": {
            "text/plain": [
              "{'bagging_fraction': 0.6993712313064048,\n",
              " 'bagging_freq': 1,\n",
              " 'feature_fraction': 0.683305192190723,\n",
              " 'force_row_wise': True,\n",
              " 'lambda_l1': 0.8994531277089022,\n",
              " 'lambda_l2': 0.9670502031011076,\n",
              " 'learning_rate': 0.005,\n",
              " 'min_child_samples': 6,\n",
              " 'min_child_weight': 39.923969913967625,\n",
              " 'num_leaves': 36,\n",
              " 'objective': 'binary',\n",
              " 'random_state': 1991}"
            ]
          },
          "metadata": {},
          "execution_count": 37
        }
      ]
    },
    {
      "cell_type": "code",
      "source": [
        "from sklearn.model_selection import StratifiedKFold\n",
        "\n",
        "folds = StratifiedKFold(n_splits=5, shuffle=True, random_state=1991)\n",
        "\n",
        "oof_val_preds = np.zeros(x.shape[0])\n",
        "\n",
        "oof_test_preds = np.zeros(x_test.shape[0])\n",
        "\n",
        "for idx, (train_idx, valid_idx) in enumerate(folds.split(x,y)):\n",
        "  print('#'*40, f'폴드 {idx+1} / 폴드 {folds.n_splits}','#'*40)\n",
        "\n",
        "  x_train, y_train = x[train_idx], y[train_idx]\n",
        "  x_valid, y_valid = x[valid_idx], y[valid_idx]\n",
        "\n",
        "  dtrain = lgb.Dataset(x_train, y_train)\n",
        "  dvalid = lgb.Dataset(x_valid, y_valid)\n",
        "\n",
        "  lgb_model = lgb.train(params=max_params,\n",
        "                        train_set=dtrain,\n",
        "                        num_boost_round=2500,\n",
        "                        valid_sets=dvalid,\n",
        "                        feval=gini,\n",
        "                        early_stopping_rounds=300,\n",
        "                        verbose_eval=100)\n",
        "  \n",
        "  oof_test_preds += lgb_model.predict(x_test)/folds.n_splits\n",
        "\n",
        "  oof_val_preds[valid_idx] += lgb_model.predict(x_valid)\n",
        "\n",
        "  gini_score = eval_gini(y_valid, oof_val_preds[valid_idx])\n",
        "  print(f'폴드 {idx+1} 지니계수 : {gini_score}\\n')"
      ],
      "metadata": {
        "colab": {
          "base_uri": "https://localhost:8080/"
        },
        "id": "mAMWcsNlXHqL",
        "outputId": "c1842157-7785-4a49-91a5-888db07eeb04"
      },
      "execution_count": null,
      "outputs": [
        {
          "output_type": "stream",
          "name": "stdout",
          "text": [
            "######################################## 폴드 1 / 폴드 5 ########################################\n",
            "Training until validation scores don't improve for 300 rounds.\n",
            "[100]\tvalid_0's binary_logloss: 0.154269\tvalid_0's gini: 0.269789\n",
            "[200]\tvalid_0's binary_logloss: 0.153211\tvalid_0's gini: 0.274297\n",
            "[300]\tvalid_0's binary_logloss: 0.152611\tvalid_0's gini: 0.279083\n",
            "[400]\tvalid_0's binary_logloss: 0.152248\tvalid_0's gini: 0.282755\n",
            "[500]\tvalid_0's binary_logloss: 0.152011\tvalid_0's gini: 0.285715\n",
            "[600]\tvalid_0's binary_logloss: 0.151851\tvalid_0's gini: 0.288343\n",
            "[700]\tvalid_0's binary_logloss: 0.151734\tvalid_0's gini: 0.290452\n",
            "[800]\tvalid_0's binary_logloss: 0.151643\tvalid_0's gini: 0.292275\n",
            "[900]\tvalid_0's binary_logloss: 0.151571\tvalid_0's gini: 0.293911\n",
            "[1000]\tvalid_0's binary_logloss: 0.151518\tvalid_0's gini: 0.295125\n",
            "[1100]\tvalid_0's binary_logloss: 0.15148\tvalid_0's gini: 0.295932\n",
            "[1200]\tvalid_0's binary_logloss: 0.151448\tvalid_0's gini: 0.296681\n",
            "[1300]\tvalid_0's binary_logloss: 0.151425\tvalid_0's gini: 0.297172\n",
            "[1400]\tvalid_0's binary_logloss: 0.151406\tvalid_0's gini: 0.297666\n",
            "[1500]\tvalid_0's binary_logloss: 0.151395\tvalid_0's gini: 0.297962\n",
            "[1600]\tvalid_0's binary_logloss: 0.151373\tvalid_0's gini: 0.298453\n",
            "[1700]\tvalid_0's binary_logloss: 0.151366\tvalid_0's gini: 0.298553\n",
            "[1800]\tvalid_0's binary_logloss: 0.15136\tvalid_0's gini: 0.298605\n",
            "[1900]\tvalid_0's binary_logloss: 0.151353\tvalid_0's gini: 0.298722\n",
            "[2000]\tvalid_0's binary_logloss: 0.151357\tvalid_0's gini: 0.298588\n",
            "[2100]\tvalid_0's binary_logloss: 0.151353\tvalid_0's gini: 0.29868\n",
            "Early stopping, best iteration is:\n",
            "[1885]\tvalid_0's binary_logloss: 0.151352\tvalid_0's gini: 0.298789\n",
            "폴드 1 지니계수 : 0.2987893389475461\n",
            "\n",
            "######################################## 폴드 2 / 폴드 5 ########################################\n",
            "Training until validation scores don't improve for 300 rounds.\n",
            "[100]\tvalid_0's binary_logloss: 0.154368\tvalid_0's gini: 0.254944\n",
            "[200]\tvalid_0's binary_logloss: 0.153378\tvalid_0's gini: 0.261581\n",
            "[300]\tvalid_0's binary_logloss: 0.152844\tvalid_0's gini: 0.266261\n",
            "[400]\tvalid_0's binary_logloss: 0.152527\tvalid_0's gini: 0.269921\n",
            "[500]\tvalid_0's binary_logloss: 0.15233\tvalid_0's gini: 0.27249\n",
            "[600]\tvalid_0's binary_logloss: 0.152197\tvalid_0's gini: 0.274674\n",
            "[700]\tvalid_0's binary_logloss: 0.152106\tvalid_0's gini: 0.276275\n",
            "[800]\tvalid_0's binary_logloss: 0.152037\tvalid_0's gini: 0.27788\n",
            "[900]\tvalid_0's binary_logloss: 0.151983\tvalid_0's gini: 0.279058\n",
            "[1000]\tvalid_0's binary_logloss: 0.151939\tvalid_0's gini: 0.280093\n",
            "[1100]\tvalid_0's binary_logloss: 0.151902\tvalid_0's gini: 0.280987\n",
            "[1200]\tvalid_0's binary_logloss: 0.151875\tvalid_0's gini: 0.281696\n",
            "[1300]\tvalid_0's binary_logloss: 0.151851\tvalid_0's gini: 0.282343\n",
            "[1400]\tvalid_0's binary_logloss: 0.151835\tvalid_0's gini: 0.282826\n",
            "[1500]\tvalid_0's binary_logloss: 0.151825\tvalid_0's gini: 0.283065\n",
            "[1600]\tvalid_0's binary_logloss: 0.151819\tvalid_0's gini: 0.283199\n",
            "[1700]\tvalid_0's binary_logloss: 0.151815\tvalid_0's gini: 0.283235\n",
            "[1800]\tvalid_0's binary_logloss: 0.151802\tvalid_0's gini: 0.283521\n",
            "[1900]\tvalid_0's binary_logloss: 0.151795\tvalid_0's gini: 0.283715\n",
            "[2000]\tvalid_0's binary_logloss: 0.151789\tvalid_0's gini: 0.283917\n",
            "[2100]\tvalid_0's binary_logloss: 0.151786\tvalid_0's gini: 0.284027\n",
            "[2200]\tvalid_0's binary_logloss: 0.151791\tvalid_0's gini: 0.283973\n",
            "[2300]\tvalid_0's binary_logloss: 0.151789\tvalid_0's gini: 0.283936\n",
            "[2400]\tvalid_0's binary_logloss: 0.151793\tvalid_0's gini: 0.283874\n",
            "Early stopping, best iteration is:\n",
            "[2107]\tvalid_0's binary_logloss: 0.151785\tvalid_0's gini: 0.284069\n",
            "폴드 2 지니계수 : 0.2840694507744431\n",
            "\n",
            "######################################## 폴드 3 / 폴드 5 ########################################\n",
            "Training until validation scores don't improve for 300 rounds.\n",
            "[100]\tvalid_0's binary_logloss: 0.154274\tvalid_0's gini: 0.260814\n",
            "[200]\tvalid_0's binary_logloss: 0.153209\tvalid_0's gini: 0.266497\n",
            "[300]\tvalid_0's binary_logloss: 0.152633\tvalid_0's gini: 0.270158\n",
            "[400]\tvalid_0's binary_logloss: 0.152283\tvalid_0's gini: 0.273416\n",
            "[500]\tvalid_0's binary_logloss: 0.152058\tvalid_0's gini: 0.276085\n",
            "[600]\tvalid_0's binary_logloss: 0.151917\tvalid_0's gini: 0.277958\n",
            "[700]\tvalid_0's binary_logloss: 0.151819\tvalid_0's gini: 0.279347\n",
            "[800]\tvalid_0's binary_logloss: 0.151753\tvalid_0's gini: 0.280545\n",
            "[900]\tvalid_0's binary_logloss: 0.151701\tvalid_0's gini: 0.281524\n",
            "[1000]\tvalid_0's binary_logloss: 0.151656\tvalid_0's gini: 0.282571\n",
            "[1100]\tvalid_0's binary_logloss: 0.151632\tvalid_0's gini: 0.283079\n",
            "[1200]\tvalid_0's binary_logloss: 0.151612\tvalid_0's gini: 0.283511\n",
            "[1300]\tvalid_0's binary_logloss: 0.151598\tvalid_0's gini: 0.283865\n",
            "[1400]\tvalid_0's binary_logloss: 0.151596\tvalid_0's gini: 0.283847\n",
            "[1500]\tvalid_0's binary_logloss: 0.151595\tvalid_0's gini: 0.283809\n",
            "[1600]\tvalid_0's binary_logloss: 0.151589\tvalid_0's gini: 0.283931\n",
            "[1700]\tvalid_0's binary_logloss: 0.151591\tvalid_0's gini: 0.283863\n",
            "[1800]\tvalid_0's binary_logloss: 0.15159\tvalid_0's gini: 0.283887\n",
            "[1900]\tvalid_0's binary_logloss: 0.151594\tvalid_0's gini: 0.283812\n",
            "Early stopping, best iteration is:\n",
            "[1615]\tvalid_0's binary_logloss: 0.151587\tvalid_0's gini: 0.283981\n",
            "폴드 3 지니계수 : 0.28398070611125303\n",
            "\n",
            "######################################## 폴드 4 / 폴드 5 ########################################\n",
            "Training until validation scores don't improve for 300 rounds.\n",
            "[100]\tvalid_0's binary_logloss: 0.154352\tvalid_0's gini: 0.25511\n",
            "[200]\tvalid_0's binary_logloss: 0.153342\tvalid_0's gini: 0.259957\n",
            "[300]\tvalid_0's binary_logloss: 0.152784\tvalid_0's gini: 0.264903\n",
            "[400]\tvalid_0's binary_logloss: 0.152465\tvalid_0's gini: 0.267999\n",
            "[500]\tvalid_0's binary_logloss: 0.152273\tvalid_0's gini: 0.270343\n",
            "[600]\tvalid_0's binary_logloss: 0.152151\tvalid_0's gini: 0.272009\n",
            "[700]\tvalid_0's binary_logloss: 0.152063\tvalid_0's gini: 0.273581\n",
            "[800]\tvalid_0's binary_logloss: 0.151999\tvalid_0's gini: 0.274918\n",
            "[900]\tvalid_0's binary_logloss: 0.151954\tvalid_0's gini: 0.275945\n",
            "[1000]\tvalid_0's binary_logloss: 0.151922\tvalid_0's gini: 0.276823\n",
            "[1100]\tvalid_0's binary_logloss: 0.151893\tvalid_0's gini: 0.277588\n",
            "[1200]\tvalid_0's binary_logloss: 0.151873\tvalid_0's gini: 0.278138\n",
            "[1300]\tvalid_0's binary_logloss: 0.151853\tvalid_0's gini: 0.278764\n",
            "[1400]\tvalid_0's binary_logloss: 0.151845\tvalid_0's gini: 0.279069\n",
            "[1500]\tvalid_0's binary_logloss: 0.15183\tvalid_0's gini: 0.279562\n",
            "[1600]\tvalid_0's binary_logloss: 0.151826\tvalid_0's gini: 0.279708\n",
            "[1700]\tvalid_0's binary_logloss: 0.151822\tvalid_0's gini: 0.279793\n",
            "[1800]\tvalid_0's binary_logloss: 0.151823\tvalid_0's gini: 0.279822\n",
            "[1900]\tvalid_0's binary_logloss: 0.151822\tvalid_0's gini: 0.279911\n",
            "[2000]\tvalid_0's binary_logloss: 0.15182\tvalid_0's gini: 0.280037\n",
            "[2100]\tvalid_0's binary_logloss: 0.151815\tvalid_0's gini: 0.280294\n",
            "[2200]\tvalid_0's binary_logloss: 0.151822\tvalid_0's gini: 0.280167\n",
            "[2300]\tvalid_0's binary_logloss: 0.151821\tvalid_0's gini: 0.280262\n",
            "Early stopping, best iteration is:\n",
            "[2091]\tvalid_0's binary_logloss: 0.151814\tvalid_0's gini: 0.28032\n",
            "폴드 4 지니계수 : 0.28031985818372057\n",
            "\n",
            "######################################## 폴드 5 / 폴드 5 ########################################\n",
            "Training until validation scores don't improve for 300 rounds.\n",
            "[100]\tvalid_0's binary_logloss: 0.154425\tvalid_0's gini: 0.263375\n",
            "[200]\tvalid_0's binary_logloss: 0.153417\tvalid_0's gini: 0.269739\n",
            "[300]\tvalid_0's binary_logloss: 0.152871\tvalid_0's gini: 0.273759\n",
            "[400]\tvalid_0's binary_logloss: 0.152545\tvalid_0's gini: 0.27715\n",
            "[500]\tvalid_0's binary_logloss: 0.152336\tvalid_0's gini: 0.280192\n",
            "[600]\tvalid_0's binary_logloss: 0.152193\tvalid_0's gini: 0.282854\n",
            "[700]\tvalid_0's binary_logloss: 0.152084\tvalid_0's gini: 0.28521\n",
            "[800]\tvalid_0's binary_logloss: 0.151999\tvalid_0's gini: 0.287288\n",
            "[900]\tvalid_0's binary_logloss: 0.151937\tvalid_0's gini: 0.288797\n",
            "[1000]\tvalid_0's binary_logloss: 0.151898\tvalid_0's gini: 0.289693\n",
            "[1100]\tvalid_0's binary_logloss: 0.151862\tvalid_0's gini: 0.290747\n",
            "[1200]\tvalid_0's binary_logloss: 0.15183\tvalid_0's gini: 0.291613\n",
            "[1300]\tvalid_0's binary_logloss: 0.151805\tvalid_0's gini: 0.292427\n",
            "[1400]\tvalid_0's binary_logloss: 0.151781\tvalid_0's gini: 0.293081\n",
            "[1500]\tvalid_0's binary_logloss: 0.151769\tvalid_0's gini: 0.293369\n",
            "[1600]\tvalid_0's binary_logloss: 0.151755\tvalid_0's gini: 0.293856\n",
            "[1700]\tvalid_0's binary_logloss: 0.151746\tvalid_0's gini: 0.294152\n",
            "[1800]\tvalid_0's binary_logloss: 0.151739\tvalid_0's gini: 0.294469\n",
            "[1900]\tvalid_0's binary_logloss: 0.151736\tvalid_0's gini: 0.294594\n",
            "[2000]\tvalid_0's binary_logloss: 0.151729\tvalid_0's gini: 0.294772\n",
            "[2100]\tvalid_0's binary_logloss: 0.151729\tvalid_0's gini: 0.294821\n",
            "[2200]\tvalid_0's binary_logloss: 0.151729\tvalid_0's gini: 0.294835\n",
            "[2300]\tvalid_0's binary_logloss: 0.151729\tvalid_0's gini: 0.294871\n",
            "[2400]\tvalid_0's binary_logloss: 0.151727\tvalid_0's gini: 0.294878\n",
            "[2500]\tvalid_0's binary_logloss: 0.15174\tvalid_0's gini: 0.294514\n",
            "Did not meet early stopping. Best iteration is:\n",
            "[2391]\tvalid_0's binary_logloss: 0.151726\tvalid_0's gini: 0.294919\n",
            "폴드 5 지니계수 : 0.2949191183184907\n",
            "\n"
          ]
        }
      ]
    },
    {
      "cell_type": "code",
      "source": [
        "print('OOF 검증 데이터 지니계수 :', eval_gini(y, oof_val_preds))"
      ],
      "metadata": {
        "colab": {
          "base_uri": "https://localhost:8080/"
        },
        "id": "2Cq2d9jZZtrp",
        "outputId": "6ba4b91d-203b-4294-bb35-7cefccad72f5"
      },
      "execution_count": null,
      "outputs": [
        {
          "output_type": "stream",
          "name": "stdout",
          "text": [
            "OOF 검증 데이터 지니계수 : 0.2883005260013878\n"
          ]
        }
      ]
    },
    {
      "cell_type": "code",
      "source": [
        "submission['target'] = oof_test_preds\n",
        "submission.to_csv('submission.csv')"
      ],
      "metadata": {
        "id": "ZB53qMscZ5zF"
      },
      "execution_count": null,
      "outputs": []
    },
    {
      "cell_type": "code",
      "source": [
        "def gini(preds, dtrain):\n",
        "  labels = dtrain.get_label()\n",
        "  return 'gini', eval_gini(labels, preds), True"
      ],
      "metadata": {
        "id": "DN3jwNCtaHFh"
      },
      "execution_count": null,
      "outputs": []
    },
    {
      "cell_type": "code",
      "source": [
        "def gini(preds, dtrain):\n",
        "  labels = dtrain.get_label()\n",
        "  return 'gini', eval_gini(labels,preds)"
      ],
      "metadata": {
        "id": "Xu6nMJP9aX5n"
      },
      "execution_count": null,
      "outputs": []
    },
    {
      "cell_type": "code",
      "source": [
        "import xgboost as xgb\n",
        "from sklearn.model_selection import train_test_split\n",
        "\n",
        "x_train, x_valid, y_train, y_valid = train_test_split(x,y,\n",
        "                                                      test_size=0.2,\n",
        "                                                      random_state=0)\n",
        "\n",
        "bayes_dtrain = xgb.DMatrix(x_train, y_train)\n",
        "bayes_dvalid = xgb.DMatrix(x_valid, y_valid)"
      ],
      "metadata": {
        "id": "plXyMafCamup"
      },
      "execution_count": null,
      "outputs": []
    },
    {
      "cell_type": "code",
      "source": [
        "param_bounds = {'max_depth':(4, 8),\n",
        "                'subsample':(0.6,0.9),\n",
        "                'colsample_bytree':(0.7, 1.0),\n",
        "                'min_child_weight':(5, 7),\n",
        "                'gamma':(8,11),\n",
        "                'reg_alpha':(7,9),\n",
        "                'reg_lambda':(1.1, 1.5),\n",
        "                'scale_pos_weight':(1.4, 1.6)}\n",
        "\n",
        "fixed_params = {'objective':'binary:logistic',\n",
        "                'learning_rete':0.02,\n",
        "                'random_state':1991}"
      ],
      "metadata": {
        "id": "3lyODL49bSKH"
      },
      "execution_count": null,
      "outputs": []
    },
    {
      "cell_type": "code",
      "source": [
        "def eval_function(max_depth, subsample, colsample_bytree, min_child_weight,\n",
        "                  reg_alpha, gamma, reg_lambda, scale_pos_weight):\n",
        "  '''최적화하려는 평가지표(지니계수) 계산 함수'''\n",
        "  params = {'max_depth':int(round(max_depth)),\n",
        "            'subsample':subsample,\n",
        "            'colsample_bytree':colsample_bytree,\n",
        "            'min_child_weight':min_child_weight,\n",
        "            'gamma':gamma,\n",
        "            'reg_alpha':reg_alpha,\n",
        "            'reg_lambda':reg_lambda,\n",
        "            'scale_pos_weight':scale_pos_weight}\n",
        "\n",
        "  params.update(fixed_params)\n",
        "\n",
        "  print('하이퍼파라미터 :', params)\n",
        "\n",
        "  xgb_model = xgb.train(params=params,\n",
        "                        dtrain=bayes_dtrain,\n",
        "                        num_boost_round=2000,\n",
        "                        evals=[(bayes_dvalid, 'bayes_dvalid')],\n",
        "                        maximize=True,\n",
        "                        feval=gini,\n",
        "                        early_stopping_rounds=200,\n",
        "                        verbose_eval=False)\n",
        "  \n",
        "  best_iter = xgb_model.best_iteration\n",
        "\n",
        "  preds = xgb_model.predict(bayes_dvalid,\n",
        "                            iteration_range=(0, best_iter))\n",
        "  \n",
        "  gini_score = eval_gini(y_valid, preds)\n",
        "  print(f'지니계수 : {gini_score}\\n')\n",
        "\n",
        "  return gini_score"
      ],
      "metadata": {
        "id": "yZlkp_9XcXVs"
      },
      "execution_count": null,
      "outputs": []
    },
    {
      "cell_type": "code",
      "source": [
        "from bayes_opt import BayesianOptimization\n",
        "\n",
        "optimizer = BayesianOptimization(f=eval_function,\n",
        "                                 pbounds=param_bounds,\n",
        "                                 random_state=0)\n",
        "\n",
        "optimizer.maximize(init_points=3, n_iter=6)"
      ],
      "metadata": {
        "colab": {
          "base_uri": "https://localhost:8080/",
          "height": 560
        },
        "id": "TMBF7HJpfSZT",
        "outputId": "b9a66f1a-4e4b-4c64-c6ce-98e01db65b16"
      },
      "execution_count": null,
      "outputs": [
        {
          "output_type": "stream",
          "name": "stdout",
          "text": [
            "|   iter    |  target   | colsam... |   gamma   | max_depth | min_ch... | reg_alpha | reg_la... | scale_... | subsample |\n",
            "-------------------------------------------------------------------------------------------------------------------------\n",
            "하이퍼파라미터 : {'max_depth': 6, 'subsample': 0.867531900234624, 'colsample_bytree': 0.8646440511781974, 'min_child_weight': 6.0897663659937935, 'gamma': 10.14556809911726, 'reg_alpha': 7.84730959867781, 'reg_lambda': 1.3583576452266626, 'scale_pos_weight': 1.4875174422525386, 'objective': 'binary:logistic', 'learning_rete': 0.02, 'random_state': 1991}\n"
          ]
        },
        {
          "output_type": "error",
          "ename": "TypeError",
          "evalue": "ignored",
          "traceback": [
            "\u001b[0;31m---------------------------------------------------------------------------\u001b[0m",
            "\u001b[0;31mKeyError\u001b[0m                                  Traceback (most recent call last)",
            "\u001b[0;32m/usr/local/lib/python3.7/dist-packages/bayes_opt/target_space.py\u001b[0m in \u001b[0;36mprobe\u001b[0;34m(self, params)\u001b[0m\n\u001b[1;32m    190\u001b[0m         \u001b[0;32mtry\u001b[0m\u001b[0;34m:\u001b[0m\u001b[0;34m\u001b[0m\u001b[0;34m\u001b[0m\u001b[0m\n\u001b[0;32m--> 191\u001b[0;31m             \u001b[0mtarget\u001b[0m \u001b[0;34m=\u001b[0m \u001b[0mself\u001b[0m\u001b[0;34m.\u001b[0m\u001b[0m_cache\u001b[0m\u001b[0;34m[\u001b[0m\u001b[0m_hashable\u001b[0m\u001b[0;34m(\u001b[0m\u001b[0mx\u001b[0m\u001b[0;34m)\u001b[0m\u001b[0;34m]\u001b[0m\u001b[0;34m\u001b[0m\u001b[0;34m\u001b[0m\u001b[0m\n\u001b[0m\u001b[1;32m    192\u001b[0m         \u001b[0;32mexcept\u001b[0m \u001b[0mKeyError\u001b[0m\u001b[0;34m:\u001b[0m\u001b[0;34m\u001b[0m\u001b[0;34m\u001b[0m\u001b[0m\n",
            "\u001b[0;31mKeyError\u001b[0m: (0.8646440511781974, 10.14556809911726, 6.411053504286576, 6.0897663659937935, 7.84730959867781, 1.3583576452266626, 1.4875174422525386, 0.867531900234624)",
            "\nDuring handling of the above exception, another exception occurred:\n",
            "\u001b[0;31mTypeError\u001b[0m                                 Traceback (most recent call last)",
            "\u001b[0;32m<ipython-input-48-71858366a526>\u001b[0m in \u001b[0;36m<module>\u001b[0;34m()\u001b[0m\n\u001b[1;32m      5\u001b[0m                                  random_state=0)\n\u001b[1;32m      6\u001b[0m \u001b[0;34m\u001b[0m\u001b[0m\n\u001b[0;32m----> 7\u001b[0;31m \u001b[0moptimizer\u001b[0m\u001b[0;34m.\u001b[0m\u001b[0mmaximize\u001b[0m\u001b[0;34m(\u001b[0m\u001b[0minit_points\u001b[0m\u001b[0;34m=\u001b[0m\u001b[0;36m3\u001b[0m\u001b[0;34m,\u001b[0m \u001b[0mn_iter\u001b[0m\u001b[0;34m=\u001b[0m\u001b[0;36m6\u001b[0m\u001b[0;34m)\u001b[0m\u001b[0;34m\u001b[0m\u001b[0;34m\u001b[0m\u001b[0m\n\u001b[0m",
            "\u001b[0;32m/usr/local/lib/python3.7/dist-packages/bayes_opt/bayesian_optimization.py\u001b[0m in \u001b[0;36mmaximize\u001b[0;34m(self, init_points, n_iter, acq, kappa, kappa_decay, kappa_decay_delay, xi, **gp_params)\u001b[0m\n\u001b[1;32m    183\u001b[0m                 \u001b[0miteration\u001b[0m \u001b[0;34m+=\u001b[0m \u001b[0;36m1\u001b[0m\u001b[0;34m\u001b[0m\u001b[0;34m\u001b[0m\u001b[0m\n\u001b[1;32m    184\u001b[0m \u001b[0;34m\u001b[0m\u001b[0m\n\u001b[0;32m--> 185\u001b[0;31m             \u001b[0mself\u001b[0m\u001b[0;34m.\u001b[0m\u001b[0mprobe\u001b[0m\u001b[0;34m(\u001b[0m\u001b[0mx_probe\u001b[0m\u001b[0;34m,\u001b[0m \u001b[0mlazy\u001b[0m\u001b[0;34m=\u001b[0m\u001b[0;32mFalse\u001b[0m\u001b[0;34m)\u001b[0m\u001b[0;34m\u001b[0m\u001b[0;34m\u001b[0m\u001b[0m\n\u001b[0m\u001b[1;32m    186\u001b[0m \u001b[0;34m\u001b[0m\u001b[0m\n\u001b[1;32m    187\u001b[0m             \u001b[0;32mif\u001b[0m \u001b[0mself\u001b[0m\u001b[0;34m.\u001b[0m\u001b[0m_bounds_transformer\u001b[0m\u001b[0;34m:\u001b[0m\u001b[0;34m\u001b[0m\u001b[0;34m\u001b[0m\u001b[0m\n",
            "\u001b[0;32m/usr/local/lib/python3.7/dist-packages/bayes_opt/bayesian_optimization.py\u001b[0m in \u001b[0;36mprobe\u001b[0;34m(self, params, lazy)\u001b[0m\n\u001b[1;32m    114\u001b[0m             \u001b[0mself\u001b[0m\u001b[0;34m.\u001b[0m\u001b[0m_queue\u001b[0m\u001b[0;34m.\u001b[0m\u001b[0madd\u001b[0m\u001b[0;34m(\u001b[0m\u001b[0mparams\u001b[0m\u001b[0;34m)\u001b[0m\u001b[0;34m\u001b[0m\u001b[0;34m\u001b[0m\u001b[0m\n\u001b[1;32m    115\u001b[0m         \u001b[0;32melse\u001b[0m\u001b[0;34m:\u001b[0m\u001b[0;34m\u001b[0m\u001b[0;34m\u001b[0m\u001b[0m\n\u001b[0;32m--> 116\u001b[0;31m             \u001b[0mself\u001b[0m\u001b[0;34m.\u001b[0m\u001b[0m_space\u001b[0m\u001b[0;34m.\u001b[0m\u001b[0mprobe\u001b[0m\u001b[0;34m(\u001b[0m\u001b[0mparams\u001b[0m\u001b[0;34m)\u001b[0m\u001b[0;34m\u001b[0m\u001b[0;34m\u001b[0m\u001b[0m\n\u001b[0m\u001b[1;32m    117\u001b[0m             \u001b[0mself\u001b[0m\u001b[0;34m.\u001b[0m\u001b[0mdispatch\u001b[0m\u001b[0;34m(\u001b[0m\u001b[0mEvents\u001b[0m\u001b[0;34m.\u001b[0m\u001b[0mOPTIMIZATION_STEP\u001b[0m\u001b[0;34m)\u001b[0m\u001b[0;34m\u001b[0m\u001b[0;34m\u001b[0m\u001b[0m\n\u001b[1;32m    118\u001b[0m \u001b[0;34m\u001b[0m\u001b[0m\n",
            "\u001b[0;32m/usr/local/lib/python3.7/dist-packages/bayes_opt/target_space.py\u001b[0m in \u001b[0;36mprobe\u001b[0;34m(self, params)\u001b[0m\n\u001b[1;32m    192\u001b[0m         \u001b[0;32mexcept\u001b[0m \u001b[0mKeyError\u001b[0m\u001b[0;34m:\u001b[0m\u001b[0;34m\u001b[0m\u001b[0;34m\u001b[0m\u001b[0m\n\u001b[1;32m    193\u001b[0m             \u001b[0mparams\u001b[0m \u001b[0;34m=\u001b[0m \u001b[0mdict\u001b[0m\u001b[0;34m(\u001b[0m\u001b[0mzip\u001b[0m\u001b[0;34m(\u001b[0m\u001b[0mself\u001b[0m\u001b[0;34m.\u001b[0m\u001b[0m_keys\u001b[0m\u001b[0;34m,\u001b[0m \u001b[0mx\u001b[0m\u001b[0;34m)\u001b[0m\u001b[0;34m)\u001b[0m\u001b[0;34m\u001b[0m\u001b[0;34m\u001b[0m\u001b[0m\n\u001b[0;32m--> 194\u001b[0;31m             \u001b[0mtarget\u001b[0m \u001b[0;34m=\u001b[0m \u001b[0mself\u001b[0m\u001b[0;34m.\u001b[0m\u001b[0mtarget_func\u001b[0m\u001b[0;34m(\u001b[0m\u001b[0;34m**\u001b[0m\u001b[0mparams\u001b[0m\u001b[0;34m)\u001b[0m\u001b[0;34m\u001b[0m\u001b[0;34m\u001b[0m\u001b[0m\n\u001b[0m\u001b[1;32m    195\u001b[0m             \u001b[0mself\u001b[0m\u001b[0;34m.\u001b[0m\u001b[0mregister\u001b[0m\u001b[0;34m(\u001b[0m\u001b[0mx\u001b[0m\u001b[0;34m,\u001b[0m \u001b[0mtarget\u001b[0m\u001b[0;34m)\u001b[0m\u001b[0;34m\u001b[0m\u001b[0;34m\u001b[0m\u001b[0m\n\u001b[1;32m    196\u001b[0m         \u001b[0;32mreturn\u001b[0m \u001b[0mtarget\u001b[0m\u001b[0;34m\u001b[0m\u001b[0;34m\u001b[0m\u001b[0m\n",
            "\u001b[0;32m<ipython-input-47-c4b7500617ac>\u001b[0m in \u001b[0;36meval_function\u001b[0;34m(max_depth, subsample, colsample_bytree, min_child_weight, reg_alpha, gamma, reg_lambda, scale_pos_weight)\u001b[0m\n\u001b[1;32m     27\u001b[0m \u001b[0;34m\u001b[0m\u001b[0m\n\u001b[1;32m     28\u001b[0m   preds = xgb_model.predict(bayes_dvalid,\n\u001b[0;32m---> 29\u001b[0;31m                             iteration_range=(0, best_iter))\n\u001b[0m\u001b[1;32m     30\u001b[0m \u001b[0;34m\u001b[0m\u001b[0m\n\u001b[1;32m     31\u001b[0m   \u001b[0mgini_score\u001b[0m \u001b[0;34m=\u001b[0m \u001b[0meval_gini\u001b[0m\u001b[0;34m(\u001b[0m\u001b[0my_valid\u001b[0m\u001b[0;34m,\u001b[0m \u001b[0mpreds\u001b[0m\u001b[0;34m)\u001b[0m\u001b[0;34m\u001b[0m\u001b[0;34m\u001b[0m\u001b[0m\n",
            "\u001b[0;31mTypeError\u001b[0m: predict() got an unexpected keyword argument 'iteration_range'"
          ]
        }
      ]
    },
    {
      "cell_type": "code",
      "source": [
        "max_params = optimizer.max['params']\n",
        "max_params"
      ],
      "metadata": {
        "id": "YDBc9MB9f7P4"
      },
      "execution_count": null,
      "outputs": []
    },
    {
      "cell_type": "code",
      "source": [
        "max_params['max_depth'] = int(round(max_params['max_depth']))\n",
        "max_params.update(fixed_params)\n",
        "max_params"
      ],
      "metadata": {
        "id": "2gUQsy_mgDww"
      },
      "execution_count": null,
      "outputs": []
    },
    {
      "cell_type": "code",
      "source": [
        "from sklearn.model_selection import StratifideKFold\n",
        "\n",
        "folds = StratifiedKFold(n_splits=5, shuffle=True, random_state=1991)\n",
        "\n",
        "oof_val_preds = np.zeros(x.shape[0])"
      ],
      "metadata": {
        "id": "tGENur2AgXA0"
      },
      "execution_count": null,
      "outputs": []
    },
    {
      "cell_type": "code",
      "source": [
        "oof_test_preds = np.zeros(x_test.shape[0])\n",
        "\n",
        "for idx, (train_idx, valid_idx) in enumerate(folds.split(x,y)):\n",
        "  print('#'*40, f'폴드 {idx+1} / 폴드 {folds.n_splits}','#'*40)\n",
        "\n",
        "  x_train, y_train = x[train_idx], y[train_idx]\n",
        "  x_valid, y_valid = x[valid_idx], y[valid_idx]\n",
        "\n",
        "  dtrain = xgb.DMatrix(x_train, y_train)\n",
        "  dvalid = xgb.Dmatrix(x_valid, y_valid)\n",
        "\n",
        "  xgb_model = xgb.train(params=max_params,\n",
        "                        dtrain=dtrain,\n",
        "                        num_boost_round=2000,\n",
        "                        evals[(dvalid, 'valid')],\n",
        "                        maximize=True,\n",
        "                        feval=gini,\n",
        "                        early_stopping_rounds=200,\n",
        "                        verbose_eval=100)\n",
        "  \n",
        "  best_iter = xgb_model.best_iteration\n",
        "\n",
        "  oof_test_pres += xgb_model.predict(dtest,\n",
        "                                     iteration_range=(0, best_iter))/folds.n_splits\n",
        "\n",
        "  oof_val_preds[valid_idx] += xgb_model.predict(dvalid,\n",
        "                                                iteration_range=(0, test_iter))\n",
        "  \n",
        "  gini_score = eval_gini(y_valid, oof_val_preds[valid_idx])\n",
        "  print(f'폴드 {idx+1} 지니계수 : {gini_score}\\n')"
      ],
      "metadata": {
        "id": "_hvTizbcgxIZ"
      },
      "execution_count": null,
      "outputs": []
    },
    {
      "cell_type": "code",
      "source": [
        "print('OOF 검증 데이터 지니계수 :', eval_gini(y, oof_val_preds))"
      ],
      "metadata": {
        "id": "KYD-red3ioSE"
      },
      "execution_count": null,
      "outputs": []
    },
    {
      "cell_type": "code",
      "source": [
        "submission['target'] = oof_test_preds\n",
        "submission.to_csv('submission.csv')"
      ],
      "metadata": {
        "id": "kg-GSFZYj-pq"
      },
      "execution_count": null,
      "outputs": []
    },
    {
      "cell_type": "code",
      "source": [
        "oof_test_preds = oof_test_preds_lgb * 0.5 + oof_test_preds_xgb * 0.5"
      ],
      "metadata": {
        "id": "bfb1crjDkWi2"
      },
      "execution_count": null,
      "outputs": []
    },
    {
      "cell_type": "code",
      "source": [
        "submission['target'] = oof_test_preds\n",
        "submission.to_csv('submission.csv')"
      ],
      "metadata": {
        "id": "xQJEfPkpki3d"
      },
      "execution_count": null,
      "outputs": []
    }
  ]
}