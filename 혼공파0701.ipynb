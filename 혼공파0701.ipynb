{
  "nbformat": 4,
  "nbformat_minor": 0,
  "metadata": {
    "colab": {
      "name": "혼공파0701.ipynb",
      "provenance": [],
      "authorship_tag": "ABX9TyNMIbJXvHg3TbfkMVHcB6L8",
      "include_colab_link": true
    },
    "kernelspec": {
      "name": "python3",
      "display_name": "Python 3"
    },
    "language_info": {
      "name": "python"
    }
  },
  "cells": [
    {
      "cell_type": "markdown",
      "metadata": {
        "id": "view-in-github",
        "colab_type": "text"
      },
      "source": [
        "<a href=\"https://colab.research.google.com/github/choeuneheol/python-practice/blob/master/%ED%98%BC%EA%B3%B5%ED%8C%8C0701.ipynb\" target=\"_parent\"><img src=\"https://colab.research.google.com/assets/colab-badge.svg\" alt=\"Open In Colab\"/></a>"
      ]
    },
    {
      "cell_type": "markdown",
      "source": [
        "#자료와 함께 리턴하기\n",
        "리턴 뒤에 자료를 입력하면 자료를 가지고 리턴합니다.(돌아갑니다.) 다음은 return 키워드 뒤에 100이라는 숫자를 \n",
        "\n",
        "입력한 코드입니다. 함수의 실행결과로 100이 출력되는 것을 확인할 수 있습니다."
      ],
      "metadata": {
        "id": "mk09gMt6Ck-5"
      }
    },
    {
      "cell_type": "code",
      "source": [
        "#자료와 함께 리턴하기\n",
        "\n",
        "# 함수를 정의합니다.\n",
        "\n",
        "def return_test():\n",
        "  return 100\n",
        "\n",
        "#함수를 호출합니다.\n",
        "value = return_test()\n",
        "print(value)"
      ],
      "metadata": {
        "colab": {
          "base_uri": "https://localhost:8080/"
        },
        "id": "2lDc-ikADBBi",
        "outputId": "b40415ea-01d1-403f-9882-569dfaf8243b"
      },
      "execution_count": 1,
      "outputs": [
        {
          "output_type": "stream",
          "name": "stdout",
          "text": [
            "100\n"
          ]
        }
      ]
    },
    {
      "cell_type": "markdown",
      "source": [
        "아무것도 리턴하지 않기\n",
        "\n",
        "아무것도 리턴하지 않았을때는 어떻게 출력될까요?\n"
      ],
      "metadata": {
        "id": "Ti5Odcn9DP-s"
      }
    },
    {
      "cell_type": "code",
      "source": [
        "#함수를 정의합니다.\n",
        "def return_test():\n",
        "  return\n",
        "\n",
        "#함수를 호출합니다.\n",
        "value = return_test()\n",
        "print(value)"
      ],
      "metadata": {
        "colab": {
          "base_uri": "https://localhost:8080/"
        },
        "id": "ZVu_DjqEDZyL",
        "outputId": "fa64170e-ac2f-46ba-a028-d19e89faf0d7"
      },
      "execution_count": 2,
      "outputs": [
        {
          "output_type": "stream",
          "name": "stdout",
          "text": [
            "None\n"
          ]
        }
      ]
    },
    {
      "cell_type": "markdown",
      "source": [
        "#기본적인 함수의 활용\n",
        "리턴과 관련된 구문의 형식을 간단하게 살펴보았습니다. 구문만 봐서는 어떻게 활용하는지 잘 이해 \n",
        "\n",
        "되지 않을 것입니다. 여기서는 함수를 활용하는 방법을 살펴보겠습니다. 일반적으로는 함수는 다음과\n",
        "\n",
        "같이 값을 만들어 리턴하는 형태로 많이 사용합니다."
      ],
      "metadata": {
        "id": "_fsWon6eDl32"
      }
    },
    {
      "cell_type": "code",
      "source": [
        "# def 함수(매개변수):\n",
        "#   변수 = 초깃값\n",
        "#   # 여러 가지 처리\n",
        "#   # 여러 가지 처리\n",
        "#   # 여러 가지 처리\n",
        "#   return 변수"
      ],
      "metadata": {
        "id": "vPexpdCUD5Ky"
      },
      "execution_count": null,
      "outputs": []
    },
    {
      "cell_type": "code",
      "source": [
        "#함수를 선언합니다.\n",
        "def sum_all(start, end):\n",
        "  #변수를 선언합니다.\n",
        "  output = 0\n",
        "  #반복문을 돌려 숫자를 더합니다.\n",
        "  for i in range(start, end + 1):\n",
        "    output += i\n",
        "    \n",
        "    #리턴합니다.\n",
        "  return output\n",
        "\n",
        "#함수를 호출합니다.\n",
        "print(\"0 to 100:\", sum_all(0, 100))\n",
        "print(\"0 to 1000:\", sum_all(0, 1000))\n",
        "print(\"50 to 100:\", sum_all(50, 100))\n",
        "print(\"500 to 1000:\", sum_all(500, 1000))\n"
      ],
      "metadata": {
        "colab": {
          "base_uri": "https://localhost:8080/"
        },
        "id": "EZ73ICjUEHtH",
        "outputId": "da670474-a1e3-49ea-9d3c-c64ae7060d0f"
      },
      "execution_count": 6,
      "outputs": [
        {
          "output_type": "stream",
          "name": "stdout",
          "text": [
            "0 to 100: 5050\n",
            "0 to 1000: 500500\n",
            "50 to 100: 3825\n",
            "500 to 1000: 375750\n"
          ]
        }
      ]
    },
    {
      "cell_type": "code",
      "source": [
        "#기본 매개변수와 키워드 매개변수를 활용해 범위의 정수를 더하는 정수\n",
        "\n",
        "#함수를 선언합니다.\n",
        "\n",
        "def sum_all(start=0, end=100, step=1):\n",
        "  output = 0\n",
        "  for i in range(start, end + 1, step):\n",
        "    output += i\n",
        "  return output\n",
        "\n",
        "print(\"A.\", sum_all(0, 100, 10))\n",
        "print(\"B.\", sum_all(end=100))\n",
        "print(\"C.\", sum_all(end=100, step=2))\n"
      ],
      "metadata": {
        "colab": {
          "base_uri": "https://localhost:8080/"
        },
        "id": "lD4cQB3QESRj",
        "outputId": "c0fb5a48-5d19-423b-8276-b827e8fdb725"
      },
      "execution_count": 7,
      "outputs": [
        {
          "output_type": "stream",
          "name": "stdout",
          "text": [
            "A. 550\n",
            "B. 5050\n",
            "C. 2550\n"
          ]
        }
      ]
    },
    {
      "cell_type": "markdown",
      "source": [
        "# 재귀 함수\n",
        "\n",
        "# 반복문으로 팩토리얼 구하기\n",
        "\n",
        "일단 반복문으로 팩토리얼 구하는 방법을 알아보겠습니다. 05-1에서 살펴본 start부터 end까지 더하는 함수를\n",
        "\n",
        "곱하는 함수로 바꾸기만 하면 됩니다. 일단 여러분이 직접 팩토리얼을 구하는 함수를 만들어 보세요.\n",
        "\n",
        "만들었다면 다음 코드를 확인합니다.\n",
        "\n"
      ],
      "metadata": {
        "id": "KYRVNLxpFyrg"
      }
    },
    {
      "cell_type": "code",
      "source": [
        "#함수를 선언합니다.\n",
        "def factorial(n):\n",
        "  output = 1\n",
        "\n",
        "  for i in range(1, n + 1):\n",
        "    output *= i\n",
        "\n",
        "  return output\n",
        "\n",
        "print(\"1!:\", factorial(1))\n",
        "print(\"2!:\", factorial(2))\n",
        "print(\"3!:\", factorial(3))\n",
        "print(\"4!:\", factorial(4))\n",
        "print(\"5!:\", factorial(5))"
      ],
      "metadata": {
        "colab": {
          "base_uri": "https://localhost:8080/"
        },
        "id": "uaNJrSpbGviC",
        "outputId": "e1c7126c-a7f2-4aa7-e900-9e574bbc1141"
      },
      "execution_count": 9,
      "outputs": [
        {
          "output_type": "stream",
          "name": "stdout",
          "text": [
            "1!: 1\n",
            "2!: 2\n",
            "3!: 6\n",
            "4!: 24\n",
            "5!: 120\n"
          ]
        }
      ]
    },
    {
      "cell_type": "code",
      "source": [
        "# 재귀 함수로 팩토리얼 구하기\n",
        "\n",
        "#함수를 선언합니다.\n",
        "\n",
        "def factorial(n):\n",
        "  if n == 0:\n",
        "    return 1\n",
        "  else:\n",
        "    return n * factorial(n-1)\n",
        "\n",
        "print(\"1!:\", factorial(1))\n",
        "print(\"2!:\", factorial(2))\n",
        "print(\"3!:\", factorial(3))\n",
        "print(\"4!:\", factorial(4))\n",
        "print(\"5!:\", factorial(5))"
      ],
      "metadata": {
        "colab": {
          "base_uri": "https://localhost:8080/"
        },
        "id": "9nXRFW3SHWa5",
        "outputId": "18f04169-7050-4055-a20f-b38b209e1886"
      },
      "execution_count": 11,
      "outputs": [
        {
          "output_type": "stream",
          "name": "stdout",
          "text": [
            "1!: 1\n",
            "2!: 2\n",
            "3!: 6\n",
            "4!: 24\n",
            "5!: 120\n"
          ]
        }
      ]
    },
    {
      "cell_type": "code",
      "source": [
        "#함수를 선언합니다.\n",
        "def fibonacci(n):\n",
        "  if n == 1:\n",
        "    return 1 \n",
        "  if n == 2:\n",
        "    return 1\n",
        "  else:\n",
        "    return fibonacci(n - 1) + fibonacci(n - 2)\n",
        "\n",
        "#함수를 호출합니다.\n",
        "print(\"fibonacci(1):\", fibonacci(1))\n",
        "print(\"fibonacci(2):\", fibonacci(2))\n",
        "print(\"fibonacci(3):\", fibonacci(3))\n",
        "print(\"fibonacci(4):\", fibonacci(4))\n",
        "print(\"fibonacci(5):\", fibonacci(5))"
      ],
      "metadata": {
        "colab": {
          "base_uri": "https://localhost:8080/"
        },
        "id": "qrCLQ7FdJHyM",
        "outputId": "75f9bc26-335a-4338-8714-7400213e5f8b"
      },
      "execution_count": 13,
      "outputs": [
        {
          "output_type": "stream",
          "name": "stdout",
          "text": [
            "fibonacci(1): 1\n",
            "fibonacci(2): 1\n",
            "fibonacci(3): 2\n",
            "fibonacci(4): 3\n",
            "fibonacci(5): 5\n"
          ]
        }
      ]
    },
    {
      "cell_type": "code",
      "source": [
        "#재귀 함수로 구현한 피보나치 수열(2)\n",
        "\n",
        "#변수를 선언합니다.\n",
        "\n",
        "counter = 0\n",
        "\n",
        "def fibonacci(n):\n",
        "  print(\"fibonacci({})를 구합니다.\".format(n))\n",
        "  global counter\n",
        "  counter +=1\n",
        "  #피보나치 수를 구합니다.\n",
        "  if n == 1:\n",
        "    return 1\n",
        "  if n == 2:\n",
        "    return 1\n",
        "  else:\n",
        "    return fibonacci(n-1) + fibonacci(n-2)\n",
        "fibonacci(10)\n",
        "print(\"---\")\n",
        "print(\"fibonacci(10) 계산에 활용된 덧셈 횟수는 {}번입니다.\".format(counter))\n"
      ],
      "metadata": {
        "colab": {
          "base_uri": "https://localhost:8080/"
        },
        "id": "4MmNj8iUJ6Uk",
        "outputId": "966c7da0-eacc-4a95-fb25-c25b166496c3"
      },
      "execution_count": 14,
      "outputs": [
        {
          "output_type": "stream",
          "name": "stdout",
          "text": [
            "fibonacci(10)를 구합니다.\n",
            "fibonacci(9)를 구합니다.\n",
            "fibonacci(8)를 구합니다.\n",
            "fibonacci(7)를 구합니다.\n",
            "fibonacci(6)를 구합니다.\n",
            "fibonacci(5)를 구합니다.\n",
            "fibonacci(4)를 구합니다.\n",
            "fibonacci(3)를 구합니다.\n",
            "fibonacci(2)를 구합니다.\n",
            "fibonacci(1)를 구합니다.\n",
            "fibonacci(2)를 구합니다.\n",
            "fibonacci(3)를 구합니다.\n",
            "fibonacci(2)를 구합니다.\n",
            "fibonacci(1)를 구합니다.\n",
            "fibonacci(4)를 구합니다.\n",
            "fibonacci(3)를 구합니다.\n",
            "fibonacci(2)를 구합니다.\n",
            "fibonacci(1)를 구합니다.\n",
            "fibonacci(2)를 구합니다.\n",
            "fibonacci(5)를 구합니다.\n",
            "fibonacci(4)를 구합니다.\n",
            "fibonacci(3)를 구합니다.\n",
            "fibonacci(2)를 구합니다.\n",
            "fibonacci(1)를 구합니다.\n",
            "fibonacci(2)를 구합니다.\n",
            "fibonacci(3)를 구합니다.\n",
            "fibonacci(2)를 구합니다.\n",
            "fibonacci(1)를 구합니다.\n",
            "fibonacci(6)를 구합니다.\n",
            "fibonacci(5)를 구합니다.\n",
            "fibonacci(4)를 구합니다.\n",
            "fibonacci(3)를 구합니다.\n",
            "fibonacci(2)를 구합니다.\n",
            "fibonacci(1)를 구합니다.\n",
            "fibonacci(2)를 구합니다.\n",
            "fibonacci(3)를 구합니다.\n",
            "fibonacci(2)를 구합니다.\n",
            "fibonacci(1)를 구합니다.\n",
            "fibonacci(4)를 구합니다.\n",
            "fibonacci(3)를 구합니다.\n",
            "fibonacci(2)를 구합니다.\n",
            "fibonacci(1)를 구합니다.\n",
            "fibonacci(2)를 구합니다.\n",
            "fibonacci(7)를 구합니다.\n",
            "fibonacci(6)를 구합니다.\n",
            "fibonacci(5)를 구합니다.\n",
            "fibonacci(4)를 구합니다.\n",
            "fibonacci(3)를 구합니다.\n",
            "fibonacci(2)를 구합니다.\n",
            "fibonacci(1)를 구합니다.\n",
            "fibonacci(2)를 구합니다.\n",
            "fibonacci(3)를 구합니다.\n",
            "fibonacci(2)를 구합니다.\n",
            "fibonacci(1)를 구합니다.\n",
            "fibonacci(4)를 구합니다.\n",
            "fibonacci(3)를 구합니다.\n",
            "fibonacci(2)를 구합니다.\n",
            "fibonacci(1)를 구합니다.\n",
            "fibonacci(2)를 구합니다.\n",
            "fibonacci(5)를 구합니다.\n",
            "fibonacci(4)를 구합니다.\n",
            "fibonacci(3)를 구합니다.\n",
            "fibonacci(2)를 구합니다.\n",
            "fibonacci(1)를 구합니다.\n",
            "fibonacci(2)를 구합니다.\n",
            "fibonacci(3)를 구합니다.\n",
            "fibonacci(2)를 구합니다.\n",
            "fibonacci(1)를 구합니다.\n",
            "fibonacci(8)를 구합니다.\n",
            "fibonacci(7)를 구합니다.\n",
            "fibonacci(6)를 구합니다.\n",
            "fibonacci(5)를 구합니다.\n",
            "fibonacci(4)를 구합니다.\n",
            "fibonacci(3)를 구합니다.\n",
            "fibonacci(2)를 구합니다.\n",
            "fibonacci(1)를 구합니다.\n",
            "fibonacci(2)를 구합니다.\n",
            "fibonacci(3)를 구합니다.\n",
            "fibonacci(2)를 구합니다.\n",
            "fibonacci(1)를 구합니다.\n",
            "fibonacci(4)를 구합니다.\n",
            "fibonacci(3)를 구합니다.\n",
            "fibonacci(2)를 구합니다.\n",
            "fibonacci(1)를 구합니다.\n",
            "fibonacci(2)를 구합니다.\n",
            "fibonacci(5)를 구합니다.\n",
            "fibonacci(4)를 구합니다.\n",
            "fibonacci(3)를 구합니다.\n",
            "fibonacci(2)를 구합니다.\n",
            "fibonacci(1)를 구합니다.\n",
            "fibonacci(2)를 구합니다.\n",
            "fibonacci(3)를 구합니다.\n",
            "fibonacci(2)를 구합니다.\n",
            "fibonacci(1)를 구합니다.\n",
            "fibonacci(6)를 구합니다.\n",
            "fibonacci(5)를 구합니다.\n",
            "fibonacci(4)를 구합니다.\n",
            "fibonacci(3)를 구합니다.\n",
            "fibonacci(2)를 구합니다.\n",
            "fibonacci(1)를 구합니다.\n",
            "fibonacci(2)를 구합니다.\n",
            "fibonacci(3)를 구합니다.\n",
            "fibonacci(2)를 구합니다.\n",
            "fibonacci(1)를 구합니다.\n",
            "fibonacci(4)를 구합니다.\n",
            "fibonacci(3)를 구합니다.\n",
            "fibonacci(2)를 구합니다.\n",
            "fibonacci(1)를 구합니다.\n",
            "fibonacci(2)를 구합니다.\n",
            "---\n",
            "fibonacci(10) 계산에 활용된 덧셈 횟수는 109번입니다.\n"
          ]
        }
      ]
    },
    {
      "cell_type": "code",
      "source": [
        "fibonacci(35)# 계산에 활용된 덧셈 횟수는 18454929번입니다."
      ],
      "metadata": {
        "id": "_hCKx5ZrK4YO"
      },
      "execution_count": null,
      "outputs": []
    },
    {
      "cell_type": "code",
      "source": [
        "#재귀함수를 구현한 피보나치 수열(3)\n",
        "\n",
        "#변수를 선언합니다.\n",
        "counter = 0\n",
        "\n",
        "#함수를 선언합니다.\n",
        "def fibonacci(n):\n",
        "  global counter #<- 글로벌 키워드를 써야한다\n",
        "  counter += 1\n",
        "  #피보나치 수를 구합니다.\n",
        "  if n == 1:\n",
        "    return 1\n",
        "  if n == 2:\n",
        "    return 1\n",
        "  else:\n",
        "    return fibonacci(n -1) + fibonacci(n - 2)\n",
        "\n",
        "#함수를 호출합니다.\n",
        "print(fibonacci(10))"
      ],
      "metadata": {
        "colab": {
          "base_uri": "https://localhost:8080/"
        },
        "id": "gvK3us9ZLEGr",
        "outputId": "4004da0d-7866-47eb-aac6-cde0c96d7ae3"
      },
      "execution_count": 22,
      "outputs": [
        {
          "output_type": "stream",
          "name": "stdout",
          "text": [
            "55\n"
          ]
        }
      ]
    },
    {
      "cell_type": "code",
      "source": [
        ""
      ],
      "metadata": {
        "id": "SgWzpk2bMA4u"
      },
      "execution_count": null,
      "outputs": []
    }
  ]
}