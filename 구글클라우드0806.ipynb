{
  "cells": [
    {
      "cell_type": "markdown",
      "metadata": {
        "id": "view-in-github",
        "colab_type": "text"
      },
      "source": [
        "<a href=\"https://colab.research.google.com/github/choeuneheol/python-practice/blob/master/%EA%B5%AC%EA%B8%80%ED%81%B4%EB%9D%BC%EC%9A%B0%EB%93%9C0806.ipynb\" target=\"_parent\"><img src=\"https://colab.research.google.com/assets/colab-badge.svg\" alt=\"Open In Colab\"/></a>"
      ]
    },
    {
      "cell_type": "markdown",
      "id": "4ee952c3",
      "metadata": {
        "id": "4ee952c3"
      },
      "source": [
        "# Kubernetes 기반의 데이터 분석\n",
        "\n",
        "# 클라우드 주요 서비스에 대한 이해\n",
        "- 컴퓨팅 혹은 가상 머신 서비스\n",
        "- 스토리지 서비스\n",
        "- 데이터베이스 서비스\n",
        "- 빅데이터 분석 서비스\n",
        "- 인공지능 서비스\n",
        "- API 서비스 \n",
        "- 네트워크 서비스\n",
        "- 보안 서비스\n",
        " \n",
        "# 스토리지 서비스\n",
        "여러 가상 머신이 공통적으로 사용할 수 있는 대용량 저장공간\n",
        "미디어 파일, 분석용 빅데이터, 로그 등을 저장\n",
        "거의 무한대에 가까운 저장 용량\n",
        "종량제 - 저장된 데이터 용량에 비례한 과금\n",
        "특별한 명령이나 API를 사용하여 접근\n",
        "\n",
        "# 데이터베이스 서비스\n",
        "PaaS 데이터베이스 서비스 권고\n",
        "AWS RDS, GCP Cloud SQL 등\n",
        "빠르게 시작할 수 있고,\n",
        "관리가 필요 없어 편리\n",
        "Orcle, MSSQL,등\n",
        "\n",
        "# 빅데이터 분석 서비스\n",
        "클라우드는 빅(많은 양의) 데이터 처리에 효율적 - 대규모 IT 시스템 제공\n",
        "여러 과정의 작업이 파이프라인처럼 필요\n",
        " - 데이터는 21세기의 원유이자 데이터 분석 과정은 원유 정제과정에 비유\n",
        " - 데이터 자체에는 가치가 있지 않고, 데이터에서 가치 있는 저오를 추출해야함\n",
        "클라우드는 데이터 분석 과정에 필요한 다양한 도구들을 제공\n",
        "\n",
        "수집 -  앱이나 백엔드 서버에서 로그를 수집\n",
        "        기업 내외부의 다양한 데이터를 가져오는 과정\n",
        "        다양한 데이터 소스에 연결하는 도구(큐,ETL등)필요\n",
        "변환 - 로그의 타입과 형식을 동일하게 정제하고 분석하기 좋게 변환\n",
        "        분석을 하기에 적합한 형태로 가공하는 과정에 필요한 도구(ETL, 분산처리 등)제공\n",
        "저장 - 변환된 데이터를 스토리지에 저장하고 높은 본안으로 보호\n",
        "        대용량 데이터를 저장하고도 빠르게 처리할 수 있는 도구(Hadoop, BigQuery 등 제공)\n",
        "분석 - 저장된 데이터를 분석하여 인사이트 도출\n",
        "        가공된 데이터로부터 의미있는 인사이트(가치)를 도출하는 과정\n",
        "        데이터 분서가가 쉽고 빠르게 사용할 수 있는 도구(BigQuert, Notebook등)제공\n",
        "        사람이 아닌 인공지능 기반의 분석 도구도 제공\n",
        "시각화 - 도출된 인사이트를 누구나 보기 좋게 대시보드나 그래프로 생성하여 공유\n",
        "         추출된 인사이트를 알아보기 좋게 표현(예:그래프, 표)하는 도구 (BI 등)제공\n",
        "\n",
        "# 인고지능 서비스\n",
        "데이터 분석의 한 분야였으나, 현재는 좋은 성과를 내면서 별도의 영역으로 발전\n",
        "인공지능에 필요한 대규모 IT 시스템을 제공 또는 맞춤형 AI/ML 서비스 제공\n",
        "비전(vision) AI\n",
        "음성인식(Speech To Text) 및 음성발화(Text To Speech)\n",
        "자연어 처리(Natural Language Processing)\n",
        "정형 데이터 분석\n",
        "\n",
        "MLOPS - 다음주에 배움\n",
        "\n",
        "# 네트워크/보안 서비스\n",
        "- 네트워크 구성과 보안 기능을 제공하는 서비스\n",
        "- 네트워크 서비스의 주요 종류는 VPC(Virtual Private Cloud), 로드밸런서 등\n",
        "  - 컴퓨팅 자원이나 데이터베이스 등이 서로 통신을 하기 위해서 사용하는 기본적인 네트워크\n",
        "  - 클라우드와 온프렘 데이터 센터 연결하는 전용선 서비스 포함\n",
        "보안 서비스는 주로 방화벽(firewall), 침입 방지(intrusion detection), 계정 관리 등\n",
        "  - 방화벽을 통해 외부에서의 침입을 차단 또는 침입을 알리는 기능\n",
        "    \n",
        "# Docker & Container\n",
        "\n",
        "컨테이너가 독립적으로 동작할 수 있는 환경 제공\n",
        "운영체제(커널)를 컨테이너들 간에 공유\n",
        "컨테이너는 호스트OS 자원을 공유 및 독립적 사용\n",
        "CPU\n",
        "메모리\n",
        "네트워크(소켓 등)\n",
        "기타\n",
        "컨테이너는 기본적으로 Stateless\n",
        "Doker의 소프트웨어는 기본적으로 다 리눅스임!\n",
        "\n",
        "필요한 리소스만 사용 \n",
        " \n",
        "생성된 컨테이너(image)를 Container Registry에 등록\n",
        "docker push\n",
        "\n",
        "Container Registry의 기능\n",
        "\n",
        "Source Repository(예:git)와 유사한데 Build된 컨테이너 Binary를 공유한다는 차이\n",
        "컨테이너 이미지를 쉽게 공유(Public or Private) \n",
        "컨테이너 간의 의존성 관리 (예:node 기반 컨테이너로 애플리케이션 컨테이너 제작)\n",
        "\n",
        "\n"
      ]
    }
  ],
  "metadata": {
    "kernelspec": {
      "display_name": "Python 3 (ipykernel)",
      "language": "python",
      "name": "python3"
    },
    "language_info": {
      "codemirror_mode": {
        "name": "ipython",
        "version": 3
      },
      "file_extension": ".py",
      "mimetype": "text/x-python",
      "name": "python",
      "nbconvert_exporter": "python",
      "pygments_lexer": "ipython3",
      "version": "3.9.12"
    },
    "colab": {
      "name": "구글클라우드0806.ipynb",
      "provenance": [],
      "include_colab_link": true
    }
  },
  "nbformat": 4,
  "nbformat_minor": 5
}