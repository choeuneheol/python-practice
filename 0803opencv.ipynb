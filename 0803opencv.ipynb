{
  "cells": [
    {
      "cell_type": "markdown",
      "metadata": {
        "id": "view-in-github",
        "colab_type": "text"
      },
      "source": [
        "<a href=\"https://colab.research.google.com/github/choeuneheol/python-practice/blob/master/0803opencv.ipynb\" target=\"_parent\"><img src=\"https://colab.research.google.com/assets/colab-badge.svg\" alt=\"Open In Colab\"/></a>"
      ]
    },
    {
      "cell_type": "code",
      "execution_count": null,
      "id": "c39d54bb",
      "metadata": {
        "id": "c39d54bb"
      },
      "outputs": [],
      "source": [
        "\n",
        "import argparse\n",
        "import cv2"
      ]
    },
    {
      "cell_type": "code",
      "execution_count": null,
      "id": "ce80af67",
      "metadata": {
        "id": "ce80af67"
      },
      "outputs": [],
      "source": [
        "def display_image(img):\n",
        "    print(\"(rows,cols,ch):{}\".format(img.shape))\n",
        "    \n",
        "    cv2.namedWindow('image', cv2.WINDOW_NORMAL)\n",
        "    cv2.imshow('image',img)\n",
        "    cv2.waitKey(0)\n",
        "    cv2.destroyAllWindows()\n",
        "    \n",
        "    ap=argparse.ArgumentParser()\n",
        "    ap.add_argument(\"-i\",\"--image\",required = True,\n",
        "                   help = \"path to the input image\")\n",
        "    args = vars(ap.parse_args())\n",
        "    \n",
        "    fiename = args[\"image\"]\n",
        "    \n",
        "    image = cv2.imread(filename, cv2.IMREAD_COLOR)\n",
        "    if(image is None):\n",
        "        print('{}:reading error'.format(filename))\n",
        "    else:\n",
        "        display_image(image)"
      ]
    },
    {
      "cell_type": "code",
      "execution_count": null,
      "id": "26d8938a",
      "metadata": {
        "id": "26d8938a"
      },
      "outputs": [],
      "source": [
        ""
      ]
    }
  ],
  "metadata": {
    "kernelspec": {
      "display_name": "Python 3 (ipykernel)",
      "language": "python",
      "name": "python3"
    },
    "language_info": {
      "codemirror_mode": {
        "name": "ipython",
        "version": 3
      },
      "file_extension": ".py",
      "mimetype": "text/x-python",
      "name": "python",
      "nbconvert_exporter": "python",
      "pygments_lexer": "ipython3",
      "version": "3.9.12"
    },
    "colab": {
      "name": "0803opencv.ipynb",
      "provenance": [],
      "include_colab_link": true
    }
  },
  "nbformat": 4,
  "nbformat_minor": 5
}