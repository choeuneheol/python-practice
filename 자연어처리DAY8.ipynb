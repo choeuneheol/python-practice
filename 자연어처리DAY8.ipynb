{
  "nbformat": 4,
  "nbformat_minor": 0,
  "metadata": {
    "colab": {
      "name": "자연어처리DAY8.ipynb",
      "provenance": [],
      "authorship_tag": "ABX9TyPFEy9XhF3uTDK5NTQM4tHp",
      "include_colab_link": true
    },
    "kernelspec": {
      "name": "python3",
      "display_name": "Python 3"
    },
    "language_info": {
      "name": "python"
    }
  },
  "cells": [
    {
      "cell_type": "markdown",
      "metadata": {
        "id": "view-in-github",
        "colab_type": "text"
      },
      "source": [
        "<a href=\"https://colab.research.google.com/github/choeuneheol/python-practice/blob/master/%EC%9E%90%EC%97%B0%EC%96%B4%EC%B2%98%EB%A6%ACDAY8.ipynb\" target=\"_parent\"><img src=\"https://colab.research.google.com/assets/colab-badge.svg\" alt=\"Open In Colab\"/></a>"
      ]
    },
    {
      "cell_type": "code",
      "execution_count": 25,
      "metadata": {
        "id": "Kdrd93nFiwD_"
      },
      "outputs": [],
      "source": [
        "# #RNN\n",
        "# #Recument Neural Network\n",
        "\n",
        "# from tensorflow.keras.layers import SimpleRNN\n",
        "# model.add(SimpleRNN(hidden_units))\n",
        "\n",
        "# model.add(SimpleRNN(hidden_units, input_shape=(timesteps, input_dim)))\n",
        "# #model.add(SimpleRNN(hidden_units, input_length=M, input_dim=N))"
      ]
    },
    {
      "cell_type": "code",
      "source": [
        "from tensorflow.keras.models import Sequential\n",
        "from tensorflow.keras.layers import SimpleRNN\n",
        "\n",
        "model = Sequential()\n",
        "model.add(SimpleRNN(3, input_shape=(2,10)))\n",
        "# model.add(SimpleRNN(3, input_length=2, input_dim=10))와 동일함.\n",
        "model.summary()\n"
      ],
      "metadata": {
        "colab": {
          "base_uri": "https://localhost:8080/"
        },
        "id": "qRHty_6AAtuW",
        "outputId": "3f4134bd-bd00-4417-e823-02c0614a7498"
      },
      "execution_count": 26,
      "outputs": [
        {
          "output_type": "stream",
          "name": "stdout",
          "text": [
            "Model: \"sequential_10\"\n",
            "_________________________________________________________________\n",
            " Layer (type)                Output Shape              Param #   \n",
            "=================================================================\n",
            " simple_rnn_16 (SimpleRNN)   (None, 3)                 42        \n",
            "                                                                 \n",
            "=================================================================\n",
            "Total params: 42\n",
            "Trainable params: 42\n",
            "Non-trainable params: 0\n",
            "_________________________________________________________________\n"
          ]
        }
      ]
    },
    {
      "cell_type": "code",
      "source": [
        "model = Sequential()\n",
        "model.add(SimpleRNN(3, batch_input_shape=(8,2,10)))\n",
        "model.summary()"
      ],
      "metadata": {
        "colab": {
          "base_uri": "https://localhost:8080/"
        },
        "id": "n3WwO4lCB130",
        "outputId": "5ccffb82-40ea-4533-b18d-14527ca3ba7d"
      },
      "execution_count": 27,
      "outputs": [
        {
          "output_type": "stream",
          "name": "stdout",
          "text": [
            "Model: \"sequential_11\"\n",
            "_________________________________________________________________\n",
            " Layer (type)                Output Shape              Param #   \n",
            "=================================================================\n",
            " simple_rnn_17 (SimpleRNN)   (8, 3)                    42        \n",
            "                                                                 \n",
            "=================================================================\n",
            "Total params: 42\n",
            "Trainable params: 42\n",
            "Non-trainable params: 0\n",
            "_________________________________________________________________\n"
          ]
        }
      ]
    },
    {
      "cell_type": "code",
      "source": [
        "model = Sequential()\n",
        "model.add(SimpleRNN(3, batch_input_shape=(8,2,10),return_sequences=True))\n",
        "model.summary()"
      ],
      "metadata": {
        "colab": {
          "base_uri": "https://localhost:8080/"
        },
        "id": "NGxKHrK4GhEN",
        "outputId": "1de50960-1dba-482d-b689-740e093ab34f"
      },
      "execution_count": 28,
      "outputs": [
        {
          "output_type": "stream",
          "name": "stdout",
          "text": [
            "Model: \"sequential_12\"\n",
            "_________________________________________________________________\n",
            " Layer (type)                Output Shape              Param #   \n",
            "=================================================================\n",
            " simple_rnn_18 (SimpleRNN)   (8, 2, 3)                 42        \n",
            "                                                                 \n",
            "=================================================================\n",
            "Total params: 42\n",
            "Trainable params: 42\n",
            "Non-trainable params: 0\n",
            "_________________________________________________________________\n"
          ]
        }
      ]
    },
    {
      "cell_type": "code",
      "source": [
        "#RNN 파이썬 구현\n",
        "\n",
        "import numpy as np\n",
        "timesteps =10\n",
        "input_dim=4\n",
        "hidden_units = 8\n",
        "inputs = np.random.random((timesteps, input_dim))\n",
        "hidden_state_t=np.zeros((hidden_units,))\n",
        "print('초기 은닉 상태 :', hidden_state_t)"
      ],
      "metadata": {
        "colab": {
          "base_uri": "https://localhost:8080/"
        },
        "id": "ZmOTmgGkGznq",
        "outputId": "658f02e3-4c1a-4e10-ac85-3f41dc8f5137"
      },
      "execution_count": 29,
      "outputs": [
        {
          "output_type": "stream",
          "name": "stdout",
          "text": [
            "초기 은닉 상태 : [0. 0. 0. 0. 0. 0. 0. 0.]\n"
          ]
        }
      ]
    },
    {
      "cell_type": "code",
      "source": [
        "inputs"
      ],
      "metadata": {
        "colab": {
          "base_uri": "https://localhost:8080/"
        },
        "id": "wXwO20byI1C_",
        "outputId": "fe378f55-8f1c-4ade-e222-3ba7e6f93863"
      },
      "execution_count": 30,
      "outputs": [
        {
          "output_type": "execute_result",
          "data": {
            "text/plain": [
              "array([[0.22134972, 0.16531696, 0.4335822 , 0.995191  ],\n",
              "       [0.73846026, 0.27243618, 0.12125189, 0.69179506],\n",
              "       [0.31193616, 0.39397884, 0.27488944, 0.82508895],\n",
              "       [0.35757967, 0.57892659, 0.92086245, 0.94119677],\n",
              "       [0.98392506, 0.17164423, 0.15200987, 0.12941719],\n",
              "       [0.41682009, 0.7070914 , 0.04366301, 0.30986553],\n",
              "       [0.05658912, 0.632865  , 0.82338625, 0.8241708 ],\n",
              "       [0.1072109 , 0.06789916, 0.75401863, 0.88750227],\n",
              "       [0.96785161, 0.83982441, 0.599203  , 0.78043346],\n",
              "       [0.05581218, 0.7329914 , 0.22707397, 0.7429134 ]])"
            ]
          },
          "metadata": {},
          "execution_count": 30
        }
      ]
    },
    {
      "cell_type": "code",
      "source": [
        "Wx = np.random.random((hidden_units, input_dim))\n",
        "Wh = np.random.random((hidden_units, hidden_units))\n",
        "b = np.random.random((hidden_units,))\n",
        "print('가중치 Wx의 크기(shape):',np.shape(Wx))\n",
        "print('가중치 Wx의 크기(shape):',np.shape(Wh))\n",
        "print('편향의 크기(shape) :',np.shape(b))"
      ],
      "metadata": {
        "colab": {
          "base_uri": "https://localhost:8080/"
        },
        "id": "iOTxzK6-JavV",
        "outputId": "dfd119cb-a090-48b1-cf74-6f6f2b452595"
      },
      "execution_count": 31,
      "outputs": [
        {
          "output_type": "stream",
          "name": "stdout",
          "text": [
            "가중치 Wx의 크기(shape): (8, 4)\n",
            "가중치 Wx의 크기(shape): (8, 8)\n",
            "편향의 크기(shape) : (8,)\n"
          ]
        }
      ]
    },
    {
      "cell_type": "code",
      "source": [
        "total_hidden_states=[]\n",
        "for input_t in inputs:\n",
        "  output_t = np.tanh(np.dot(Wx, input_t)+ np.dot(Wh,hidden_state_t)+b)\n",
        "  total_hidden_states.append(list(output_t))\n",
        "  hidden_state_t = output_t\n",
        "\n",
        "total_hidden_states = np.stack(total_hidden_states, axis=0)\n",
        "print('모든 시점의 은닉 상태:')\n",
        "print(total_hidden_states)"
      ],
      "metadata": {
        "colab": {
          "base_uri": "https://localhost:8080/"
        },
        "id": "3AJ8YFYXKkU2",
        "outputId": "111c2406-8b5b-4559-fa0f-3fca3c831078"
      },
      "execution_count": 32,
      "outputs": [
        {
          "output_type": "stream",
          "name": "stdout",
          "text": [
            "모든 시점의 은닉 상태:\n",
            "[[0.91172775 0.76270401 0.94380853 0.90285785 0.89254624 0.91863956\n",
            "  0.89721348 0.51660252]\n",
            " [0.99996232 0.99988046 0.99990393 0.99999353 0.99977148 0.99991764\n",
            "  0.99994553 0.99969187]\n",
            " [0.99998223 0.99995417 0.99998204 0.99999818 0.99995014 0.99997615\n",
            "  0.99997934 0.9999444 ]\n",
            " [0.99999309 0.99997276 0.99999666 0.99999921 0.99998675 0.99998931\n",
            "  0.99999035 0.99996769]\n",
            " [0.99998914 0.99997719 0.99995145 0.99999672 0.99992956 0.99996289\n",
            "  0.99998131 0.99993603]\n",
            " [0.99997407 0.99996546 0.99997297 0.99999745 0.99994974 0.99998037\n",
            "  0.99998435 0.99995059]\n",
            " [0.99998492 0.99995818 0.99999523 0.99999851 0.9999787  0.99998552\n",
            "  0.99998412 0.99996504]\n",
            " [0.99998282 0.99993662 0.99998747 0.99999682 0.99994026 0.99995862\n",
            "  0.99995925 0.99994344]\n",
            " [0.99999696 0.9999891  0.9999964  0.99999971 0.99999315 0.99999512\n",
            "  0.99999707 0.9999718 ]\n",
            " [0.99997068 0.99994881 0.99998615 0.99999815 0.99995931 0.99998321\n",
            "  0.99998209 0.99995404]]\n"
          ]
        }
      ]
    },
    {
      "cell_type": "code",
      "source": [
        "from tensorflow.keras.layers import Bidirectional\n",
        "timesteps=10\n",
        "input_dim = 5\n",
        "model= Sequential()\n",
        "model.add(Bidirectional(SimpleRNN(hidden_units, return_sequences=True), input_shape=(timesteps, input_dim)))"
      ],
      "metadata": {
        "id": "tDdoSUVvq0ff"
      },
      "execution_count": 33,
      "outputs": []
    },
    {
      "cell_type": "code",
      "source": [
        "model = Sequential()\n",
        "model.add(Bidirectional(SimpleRNN(hidden_units, return_sequences=True), input_shape=(timesteps, input_dim)))\n",
        "model.add(Bidirectional(SimpleRNN(hidden_units, return_sequences=True)))\n",
        "model.add(Bidirectional(SimpleRNN(hidden_units, return_sequences=True)))\n",
        "model.add(Bidirectional(SimpleRNN(hidden_units, return_sequences=True)))"
      ],
      "metadata": {
        "id": "4KGpR5Ceu00w"
      },
      "execution_count": 34,
      "outputs": []
    },
    {
      "cell_type": "code",
      "source": [
        "import numpy as np\n",
        "import tensorflow as tf\n",
        "from tensorflow.keras.layers import SimpleRNN, LSTM, Bidirectional\n",
        "\n",
        "train_x = [[0.1, 4.2, 1.5, 1.1, 1.8],[1.0, 3.1, 2.5, 0.7, 1.1],[0.3, 2.1, 1.5, 2.1, 0.1], [2.2, 1.4, 0.5, 0.9, 1.1]]\n",
        "print(np.shape(train_x))\n",
        "\n",
        "train_x = [[[0.1, 4.2, 1.5, 1.1, 2.8],[1.0,3.1,2.5,0.7,1.1],[0.3,2.1,1.5,2.1,0.1],[2.2,1.4,0.5,0.9,1.1]]]\n",
        "train_x = np.array(train_x, dtype=np.float32)\n",
        "print(train_x.shape)"
      ],
      "metadata": {
        "colab": {
          "base_uri": "https://localhost:8080/"
        },
        "id": "yseG300lvXJa",
        "outputId": "1b47296a-0dc3-4ec1-e72c-4a9bfdab329a"
      },
      "execution_count": 35,
      "outputs": [
        {
          "output_type": "stream",
          "name": "stdout",
          "text": [
            "(4, 5)\n",
            "(1, 4, 5)\n"
          ]
        }
      ]
    },
    {
      "cell_type": "code",
      "source": [
        "rnn = SimpleRNN(3)\n",
        "hidden_state = rnn(train_x)\n",
        "print('hidden state : {}, shape: {}'.format(hidden_state,hidden_state.shape))"
      ],
      "metadata": {
        "colab": {
          "base_uri": "https://localhost:8080/"
        },
        "id": "cjLbDV4eIzMz",
        "outputId": "98bb6f80-19b1-4406-d52a-a2779baad579"
      },
      "execution_count": 36,
      "outputs": [
        {
          "output_type": "stream",
          "name": "stdout",
          "text": [
            "hidden state : [[ 0.9650942   0.95050406 -0.37150925]], shape: (1, 3)\n"
          ]
        }
      ]
    },
    {
      "cell_type": "code",
      "source": [
        "rnn = SimpleRNN(3, return_sequences=True)\n",
        "hidden_state = rnn(train_x)\n",
        "print('hidden states : {}, shape:{}'.format(hidden_state, hidden_state.shape))"
      ],
      "metadata": {
        "colab": {
          "base_uri": "https://localhost:8080/"
        },
        "id": "artYiHEVJJYC",
        "outputId": "cac63e67-ade0-4834-fee9-547a8eb26ecf"
      },
      "execution_count": 41,
      "outputs": [
        {
          "output_type": "stream",
          "name": "stdout",
          "text": [
            "hidden states : [[[ 0.9964961   0.3588689  -0.9942177 ]\n",
            "  [ 0.9874585   0.56711155  0.7018847 ]\n",
            "  [-0.00404564 -0.67711824  0.5500403 ]\n",
            "  [ 0.9138429   0.93025666 -0.5733064 ]]], shape:(1, 4, 3)\n"
          ]
        }
      ]
    },
    {
      "cell_type": "code",
      "source": [
        "print('last hidden state : {}, shape:{}'.format(last_state, last_state.shape))"
      ],
      "metadata": {
        "colab": {
          "base_uri": "https://localhost:8080/"
        },
        "id": "ANHs5RAIJzuj",
        "outputId": "54cb00b9-8e2f-4443-c120-549741014b27"
      },
      "execution_count": 55,
      "outputs": [
        {
          "output_type": "stream",
          "name": "stdout",
          "text": [
            "last hidden state : [[-0.19777088 -0.04731996  0.29687196]], shape:(1, 3)\n"
          ]
        }
      ]
    },
    {
      "cell_type": "code",
      "source": [
        "lstm = LSTM(3, return_sequences=False, return_state=True)\n",
        "hidden_state, last_state, last_cell_state = lstm(train_x)\n",
        "print('hidden state : {}, shape:{}'.format(hidden_state, hidden_state.shape))\n",
        "print('last hidden state : {}, shape:{}'.format(last_state, last_state.shape))\n",
        "print('last cell state : {}, shape:{}'.format(last_cell_state, last_cell_state.shape))"
      ],
      "metadata": {
        "colab": {
          "base_uri": "https://localhost:8080/"
        },
        "id": "Ec8kq2PMKMxF",
        "outputId": "aec89f7a-96bb-4bae-a510-b3dc2c21361c"
      },
      "execution_count": 43,
      "outputs": [
        {
          "output_type": "stream",
          "name": "stdout",
          "text": [
            "hidden state : [[-0.19777088 -0.04731996  0.29687196]], shape:(1, 3)\n",
            "last hidden state : [[-0.19777088 -0.04731996  0.29687196]], shape:(1, 3)\n",
            "last cell state : [[-0.4778415 -0.7473347  1.1227415]], shape:(1, 3)\n"
          ]
        }
      ]
    },
    {
      "cell_type": "code",
      "source": [
        "lstm = LSTM(3, return_sequences=True, return_state=True)\n",
        "hidden_states, last_hidden_state, last_cell_state=lstm(train_x)\n",
        "print('hidden states : {}, shape:{}'.format(hidden_states, hidden_states.shape))\n",
        "print('last hidden states : {}, shape:{}'.format(last_hidden_state, last_hidden_state.shape))\n",
        "print('last cell state : {}, shape:{}'.format(last_cell_state, last_cell_state.shape))"
      ],
      "metadata": {
        "colab": {
          "base_uri": "https://localhost:8080/"
        },
        "id": "_GEpoWNpLrbY",
        "outputId": "44c294a7-adc6-4eac-a551-eb2a6e79d63a"
      },
      "execution_count": 44,
      "outputs": [
        {
          "output_type": "stream",
          "name": "stdout",
          "text": [
            "hidden states : [[[-0.33422008  0.03967107  0.04859337]\n",
            "  [-0.3556836   0.14815271  0.10450999]\n",
            "  [-0.33277744  0.39397198  0.10796875]\n",
            "  [-0.49650574  0.2670325   0.4388172 ]]], shape:(1, 4, 3)\n",
            "last hidden states : [[-0.49650574  0.2670325   0.4388172 ]], shape:(1, 3)\n",
            "last cell state : [[-0.91209656  0.782628    1.0019712 ]], shape:(1, 3)\n"
          ]
        }
      ]
    },
    {
      "cell_type": "code",
      "source": [
        "#Bidirectional LSTM Keras\n",
        "\n",
        "k_init = tf.keras.initializers.Constant(value=0.1)\n",
        "b_init = tf.keras.initializers.Constant(value=0)\n",
        "r_init = tf.keras.initializers.Constant(value=0.1)\n",
        "\n",
        "bilstm = Bidirectional(LSTM(3, return_sequences=False, return_state=True,\n",
        "kernel_initializer=k_init,bias_initializer=b_init, recurrent_initializer=r_init))\n",
        "hidden_state, forword_h, forward_c, backward_h, backward_c= bilstm(train_x)\n",
        "\n",
        "print('hidden states : {}, shape:{}'.format(hidden_state, hidden_states.shape))\n",
        "print('forword states : {}, shape:{}'.format(forword_h, forward_h.shape))\n",
        "print('backward states : {}, shape:{}'.format(backward_c, backward_c.shape))"
      ],
      "metadata": {
        "colab": {
          "base_uri": "https://localhost:8080/"
        },
        "id": "eRIn-KLqMeiG",
        "outputId": "32a609d3-ee41-4b36-8e76-522fea4e1566"
      },
      "execution_count": 54,
      "outputs": [
        {
          "output_type": "stream",
          "name": "stdout",
          "text": [
            "hidden states : [[0.63031393 0.63031393 0.63031393 0.7038734  0.7038734  0.7038734 ]], shape:(1, 4, 3)\n",
            "forword states : [[0.63031393 0.63031393 0.63031393]], shape:(1, 3)\n",
            "backward states : [[1.6402447 1.6402447 1.6402447]], shape:(1, 3)\n"
          ]
        }
      ]
    },
    {
      "cell_type": "code",
      "source": [
        ""
      ],
      "metadata": {
        "id": "PAd6ACLYNGfr"
      },
      "execution_count": null,
      "outputs": []
    }
  ]
}