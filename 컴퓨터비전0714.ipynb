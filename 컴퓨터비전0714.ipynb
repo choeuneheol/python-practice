{
  "cells": [
    {
      "cell_type": "markdown",
      "metadata": {
        "id": "view-in-github",
        "colab_type": "text"
      },
      "source": [
        "<a href=\"https://colab.research.google.com/github/choeuneheol/python-practice/blob/master/%EC%BB%B4%ED%93%A8%ED%84%B0%EB%B9%84%EC%A0%840714.ipynb\" target=\"_parent\"><img src=\"https://colab.research.google.com/assets/colab-badge.svg\" alt=\"Open In Colab\"/></a>"
      ]
    },
    {
      "cell_type": "code",
      "execution_count": null,
      "id": "1f352430",
      "metadata": {
        "id": "1f352430"
      },
      "outputs": [],
      "source": [
        "\n",
        "곰셈과 나눗셈을 하게되면 \n",
        "히스토그램으로보면 곱하기는 클리핑이 생긴다 나눗셈은 클리핑이 생기지 않는다\n",
        "\n",
        "mapping function\n",
        "\n",
        "\n",
        "트랜스포메이션(transformation) o(x,y) = m[i(x,y)]\n",
        "\n",
        "scalar arithmetic operation\n",
        "o(x,y) = k * i(x,y) + l  \n",
        "l=level, k=gain\n",
        "\n",
        "클리핑(clipping) 처리\n",
        "if(o(x,y)>255) o(x,y) = 255;\n",
        "if(o(x,y)<0) o(x,y) = 0;\n",
        "\n",
        "클리핑 처리중에서는 가장 많이 쓰이는것은 Grayscale StRetching(스트레칭이 가장 많이 쓰인다) shape을 바꿔준다\n",
        "\n",
        "평활화(range를 바꿔준다)\n",
        "\n",
        "히스토그램이 균일분포에 따르도록 그래프가 플랫하게 만들어보자 플랫하게 만들게되면 선명해진다\n",
        "\n",
        "CDF(누적확률분포)Cumulative Distribution Function\n",
        "\n",
        "pdf는 평균을 중심으로 되어있기 때문에 가운데가 솟아있다\n",
        "\n",
        "CDF는 숙제...\n",
        "\n",
        "Deriving Algorithm(2)\n",
        "\n",
        "o(l) * (n.max-n.min)\n",
        "\n",
        "Deriving Algorithm(3)\n",
        "\n",
        "\n",
        "# 화소 영억 처리\n",
        "\n",
        "회선마스크(Mask, 또는 filter)\n",
        "\n",
        "고주파를 나타는것은 - 엣지\n",
        "블러링은 고주파성분을 제거해줌\n",
        "저주파성분만 통과하게된다\n"
      ]
    },
    {
      "cell_type": "code",
      "execution_count": null,
      "id": "b3ab06bb",
      "metadata": {
        "id": "b3ab06bb"
      },
      "outputs": [],
      "source": [
        ""
      ]
    },
    {
      "cell_type": "code",
      "execution_count": null,
      "id": "c2332475",
      "metadata": {
        "id": "c2332475"
      },
      "outputs": [],
      "source": [
        "import cv2\n",
        "import sys\n",
        "import numpy as np\n",
        "import os\n"
      ]
    },
    {
      "cell_type": "code",
      "execution_count": null,
      "id": "e1395ae1",
      "metadata": {
        "id": "e1395ae1"
      },
      "outputs": [],
      "source": [
        "img = cv2.imread('images/puppy.bmp', cv2.IMREAD_COLOR)\n",
        "\n",
        "if img is None:\n",
        "    print('image read failed')\n",
        "    sys.exit()\n",
        "    \n",
        "cv2.namedWindow('image')\n",
        "cv2.imshow('image',img)\n",
        "\n",
        "# img_re = cv2.resize(img,(600,500))\n",
        "# cv2.imwrite('myfig.png',img_re)\n",
        "\n",
        "while True:\n",
        "    if cv2.waitKey() == 27:\n",
        "        break\n",
        "\n",
        "# print(kk)\n",
        "\n",
        "\n",
        "cv2.destroyAllWindows()"
      ]
    },
    {
      "cell_type": "code",
      "execution_count": null,
      "id": "27482f3c",
      "metadata": {
        "id": "27482f3c"
      },
      "outputs": [],
      "source": [
        "import matplotlib.pyplot as plt"
      ]
    },
    {
      "cell_type": "code",
      "execution_count": null,
      "id": "17c208fc",
      "metadata": {
        "id": "17c208fc"
      },
      "outputs": [],
      "source": [
        "img = cv2.imread('images/puppy.bmp')\n",
        "\n",
        "if img is None:\n",
        "    print('image read failed')\n",
        "    sys.exit()\n",
        "    \n",
        "imgRGB = cv2.cvtColor()\n",
        "    \n",
        "plt.imshow(img)\n",
        "plt.axis('off')\n",
        "plt.show()"
      ]
    },
    {
      "cell_type": "code",
      "execution_count": null,
      "id": "1d5c248c",
      "metadata": {
        "id": "1d5c248c"
      },
      "outputs": [],
      "source": [
        "import os"
      ]
    },
    {
      "cell_type": "code",
      "execution_count": null,
      "id": "49ad506d",
      "metadata": {
        "id": "49ad506d"
      },
      "outputs": [],
      "source": [
        "img_file_list = os.listdir('images/')\n",
        "\n",
        "# print(img_file_list)\n",
        "\n",
        "# img_files = glob.glob('images/*.bmp')\n",
        "# print(img_files)\n",
        "img_files = []\n",
        "for i in img_file_list:\n",
        "    img_temp = \"images/\" + i\n",
        "    img_files.append(img_temp)\n",
        "    \n",
        "print(img_files)\n",
        "\n",
        "cv2.namedWindow('scene', cv2.WINDOW_NORMAL)\n",
        "\n",
        "cv2.setWindowProperty('scene', cv2.WND_PROP_FULLSCREEN, cv2.WINDOW_FULLSCREEN)\n",
        "\n",
        "idx = 0\n",
        "while True:\n",
        "    img = cv2.imread(img_files[idx], cv2.IMREAD_COLOR)\n",
        "    \n",
        "    cv2.imshow('')\n",
        "    \n",
        "    if img is None:\n",
        "        print('Go home')\n",
        "        sys.exit()\n",
        "        \n",
        "    cv2.imshow('scene', img)\n",
        "    \n",
        "    if cv2.waitKey(3000) == 27:\n",
        "        break\n",
        "        \n",
        "    idx += 1\n",
        "    \n",
        "    if idx >= len(img_files):\n",
        "        idx = 0\n",
        "        \n",
        "cv2.destroyAllWindows()"
      ]
    },
    {
      "cell_type": "code",
      "execution_count": null,
      "id": "3cb3de81",
      "metadata": {
        "id": "3cb3de81"
      },
      "outputs": [],
      "source": [
        "img = cv2.imread('images/puppy.bmp', cv2.IMREAD_COLOR)\n",
        "\n",
        "if img is None:\n",
        "    print('image read failed')\n",
        "    sys.exit()\n",
        "    \n",
        "cv2.namedWindow('image')\n",
        "cv2.imshow('image',img)\n",
        "\n",
        "# img_re = cv2.resize(img,(600,500))\n",
        "# cv2.imwrite('myfig.png',img_re)\n",
        "\n",
        "while True:\n",
        "    if cv2.waitKey() == 27:\n",
        "        break\n",
        "\n",
        "# print(kk)\n",
        "\n",
        "\n",
        "cv2.destroyAllWindows()"
      ]
    },
    {
      "cell_type": "code",
      "execution_count": null,
      "id": "2cb79e90",
      "metadata": {
        "id": "2cb79e90"
      },
      "outputs": [],
      "source": [
        "h, w = img.shape[:2]\n",
        "# img.dtype\n",
        "# type(img)"
      ]
    },
    {
      "cell_type": "code",
      "execution_count": null,
      "id": "ef9cd480",
      "metadata": {
        "id": "ef9cd480"
      },
      "outputs": [],
      "source": [
        "img1 = cv2.imread('images/puppy.bmp')\n",
        "\n",
        "img2 = img1.copy()\n",
        "\n",
        "img1[100:200, 300:500] = (0, 0, 255)\n",
        "\n",
        "cv2.imshow('image1', img1)\n",
        "cv2.imshow('image2', img2)\n",
        "\n",
        "cv2.waitKey()\n",
        "\n",
        "cv2.destroyAllWindows()"
      ]
    },
    {
      "cell_type": "code",
      "execution_count": null,
      "id": "3798cc9b",
      "metadata": {
        "id": "3798cc9b"
      },
      "outputs": [],
      "source": [
        "# \n",
        "\n",
        "img1 = np.zeros((300, 400), dtype=np.uint8)\n",
        "img2 = np.ones((300, 400, 3), dtype=np.uint8)*255\n",
        "img3 = np.full((300, 400, 3), (255, 255, 0), dtype=np.uint8)\n",
        "\n",
        "cv2.imshow('img1', img1)\n",
        "cv2.imshow('img2', img2)\n",
        "cv2.imshow('img3', img3)\n",
        "\n",
        "cv2.waitKey()\n",
        "cv2.destroyAllWindows()"
      ]
    },
    {
      "cell_type": "code",
      "execution_count": null,
      "id": "f0cf552e",
      "metadata": {
        "id": "f0cf552e"
      },
      "outputs": [],
      "source": [
        "------------------------------------------------------------------------------------------------"
      ]
    },
    {
      "cell_type": "code",
      "execution_count": null,
      "id": "30592072",
      "metadata": {
        "id": "30592072"
      },
      "outputs": [],
      "source": [
        "import cv2\n",
        "import sys\n",
        "import os\n",
        "import numpy as np\n",
        "import matplotlib.pyplot as plt"
      ]
    },
    {
      "cell_type": "code",
      "execution_count": null,
      "id": "3854de66",
      "metadata": {
        "id": "3854de66"
      },
      "outputs": [],
      "source": [
        "#부분추출\n",
        "\n",
        "img1 = cv2.imread('images/puppy.bmp')\n",
        "\n",
        "img2 = img1[150:300, 200:500]\n",
        "img3 = img1[200:400, 300:500].copy()\n",
        "\n",
        "# circle(img, center, radius, color[, thickness[, lineType[, shift]]]) -> img\n",
        "cv2.circle(img2, (90,2), 70, (0, 0, 0), 1000, cv2.LINE_AA) #<- 강아지 코에 빨간 동그라미 합성\n",
        "\n",
        "\n",
        "cv2.imshow('image', img1)\n",
        "cv2.imshow('image2', img2)\n",
        "cv2.imshow('image3', img3)\n",
        "\n",
        "cv2.waitKey()\n",
        "cv2.destroyAllWindows()\n",
        "\n"
      ]
    },
    {
      "cell_type": "code",
      "execution_count": null,
      "id": "2f3fd18c",
      "metadata": {
        "id": "2f3fd18c"
      },
      "outputs": [],
      "source": [
        "img2.shape"
      ]
    },
    {
      "cell_type": "code",
      "execution_count": null,
      "id": "6720123b",
      "metadata": {
        "id": "6720123b"
      },
      "outputs": [],
      "source": [
        "#부분합성\n",
        "\n",
        "src = cv2.imread('images/airplane.bmp', cv2.IMREAD_COLOR)\n",
        "mask = cv2.imread('images/mask_plane.bmp', cv2.IMREAD_GRAYSCALE)\n",
        "dst = cv2.imread('images/field.bmp', cv2.IMREAD_COLOR)\n",
        "\n",
        "if src is None or mask is None or dst is None:\n",
        "    print('image read failed')\n",
        "    sys.exit()\n",
        "    \n",
        "# cv2.copy(src, mask, dst = None) -> dst \n",
        "# cv2.copyTo(src,mask,dst) \n",
        "# dst = cv2.copyTo(src, mask)\n",
        "    \n",
        "    \n",
        "dst[mask>0] = (0, 0, 255)\n",
        "    \n",
        "cv2.imshow('src', src)\n",
        "cv2.imshow('mask', mask)\n",
        "cv2.imshow('dst', dst)\n",
        "\n",
        "cv2.waitKey()\n",
        "cv2.destroyAllWindows()"
      ]
    },
    {
      "cell_type": "code",
      "execution_count": null,
      "id": "6e31b0bf",
      "metadata": {
        "id": "6e31b0bf"
      },
      "outputs": [],
      "source": [
        "src = cv2.imread('images/cow.png')\n",
        "dst = cv2.imread('images/green.png')\n",
        "\n",
        "src_gray = cv2.cvtColor(src, cv2.COLOR_BGR2GRAY) #<- 회색으로 만들고\n",
        "ret, src_mask = cv2.threshold(src_gray, 240, 255, cv2.THRESH_BINARY_INV) # <- 마스크를 따내려고하는식\n",
        "\n",
        "h,w = src.shape[:2]\n",
        "\n",
        "dst_crop = dst[400:400+h, 900:900+w]\n",
        "# dst = cv2.resize(dst,(w,h), interpolation = cv2.INTER_AREA)\n",
        "\n",
        "if src is None or dst is None:\n",
        "    print('image read failed')\n",
        "    sys.exit()\n",
        "\n",
        "# dst = cv2.bitwise_or(src)\n",
        "    \n",
        "cv2.copyTo(src, src_mask, dst_crop)\n",
        "    \n",
        "cv2.imshow('src', src)\n",
        "# cv2.imshow('src_gray', src_gray)\n",
        "# cv2.imshow('src_mask', src_mask)\n",
        "cv2.imshow('dst_crop', dst_crop)\n",
        "cv2.imshow('dst', dst)\n",
        "\n",
        "cv2.waitKey()\n",
        "\n",
        "cv2.destroyAllWindows()"
      ]
    },
    {
      "cell_type": "code",
      "execution_count": null,
      "id": "551181d2",
      "metadata": {
        "id": "551181d2"
      },
      "outputs": [],
      "source": [
        ""
      ]
    },
    {
      "cell_type": "code",
      "execution_count": null,
      "id": "296313ea",
      "metadata": {
        "id": "296313ea"
      },
      "outputs": [],
      "source": [
        ""
      ]
    },
    {
      "cell_type": "code",
      "execution_count": null,
      "id": "3f45f017",
      "metadata": {
        "id": "3f45f017"
      },
      "outputs": [],
      "source": [
        ""
      ]
    },
    {
      "cell_type": "code",
      "execution_count": null,
      "id": "04d17596",
      "metadata": {
        "id": "04d17596"
      },
      "outputs": [],
      "source": [
        ""
      ]
    },
    {
      "cell_type": "code",
      "execution_count": null,
      "id": "70b43ce7",
      "metadata": {
        "id": "70b43ce7"
      },
      "outputs": [],
      "source": [
        "src = cv2.imread('images/cow.png')\n",
        "dst = cv2.imread('images/green.png')\n",
        "\n",
        "src_gray = cv2.cvtColor(src, cv2.COLOR_BGR2GRAY)\n",
        "# treshold(src, thresh, maxval, type[, dst]) -> retval, dst\n",
        "ret, src_mask = cv2.threshold(src_gray, 240, 255, cv2.THRESH_BINARY_INV)\n",
        "\n",
        "h, w = src.shape[:2]\n",
        "\n",
        "dst_crop = dst[400:400+h, 700:700+w]\n",
        "# dst =cv2.resize(dst,(w, h), interpolation = cv2.INTER_AREA) # cv2\n",
        "\n",
        "# print(\"h = \", h, \"w = \", w)\n",
        "# cv2.copyTo(src, mask, dst=None) -> dst\n",
        "cv2.copyTo(src, src_mask, dst_crop)\n",
        "\n",
        "cv2.imshow('src', src)\n",
        "cv2.imshow('dst_crop', dst_crop)\n",
        "# cv2.imshow('src_mask', src_mask)\n",
        "cv2.imshow('dst', dst)\n",
        "\n",
        "cv2.waitKey()\n",
        "cv2.destroyAllWindows()"
      ]
    },
    {
      "cell_type": "code",
      "execution_count": null,
      "id": "ecb60ef3",
      "metadata": {
        "id": "ecb60ef3"
      },
      "outputs": [],
      "source": [
        ""
      ]
    },
    {
      "cell_type": "code",
      "execution_count": null,
      "id": "afb60c19",
      "metadata": {
        "id": "afb60c19"
      },
      "outputs": [],
      "source": [
        "src1 = cv2.imread('images/cow.png')\n",
        "dst1 = cv2.imread('images/green.png')\n",
        "\n",
        "src1_gray =cv2.cvtColor(src1, cv2.COLOR_BGR2GRAY)\n",
        "\n",
        "ret, src_mask = cv2.threshold(src1_gray, 240, 255, cv2.THRESH_BINARY_INV)\n",
        "\n",
        "h, w = src1.shape[:2]\n",
        "\n",
        "dst_crop = dst1[400:400+h, 700:700+w]\n",
        "# dst = cv2.resize(dst1, (w, h), interpolation = cv2.INTER_AREA)\n",
        "\n",
        "# print(\"h = \", h, \"w = \", w)\n",
        "cv2.copyTo(src1, src_mask, dst_crop)\n",
        "\n",
        "cv2.imshow('src1', src1)\n",
        "cv2.imshow('dst_crop', dst_crop)\n",
        "cv2.imshow('src_mask', src_mask)\n",
        "\n",
        "cv2.waitKey()\n",
        "cv2.destroyAllWindows()"
      ]
    },
    {
      "cell_type": "code",
      "execution_count": null,
      "id": "7cace31d",
      "metadata": {
        "id": "7cace31d"
      },
      "outputs": [],
      "source": [
        ""
      ]
    },
    {
      "cell_type": "code",
      "execution_count": null,
      "id": "b0679fbf",
      "metadata": {
        "id": "b0679fbf"
      },
      "outputs": [],
      "source": [
        ""
      ]
    },
    {
      "cell_type": "code",
      "execution_count": null,
      "id": "4d6ce333",
      "metadata": {
        "id": "4d6ce333"
      },
      "outputs": [],
      "source": [
        ""
      ]
    },
    {
      "cell_type": "code",
      "execution_count": null,
      "id": "b3476927",
      "metadata": {
        "id": "b3476927"
      },
      "outputs": [],
      "source": [
        ""
      ]
    },
    {
      "cell_type": "code",
      "execution_count": null,
      "id": "befd318c",
      "metadata": {
        "id": "befd318c"
      },
      "outputs": [],
      "source": [
        ""
      ]
    },
    {
      "cell_type": "code",
      "execution_count": null,
      "id": "21ad8d0f",
      "metadata": {
        "id": "21ad8d0f"
      },
      "outputs": [],
      "source": [
        ""
      ]
    },
    {
      "cell_type": "code",
      "execution_count": null,
      "id": "4aae132f",
      "metadata": {
        "id": "4aae132f"
      },
      "outputs": [],
      "source": [
        ""
      ]
    },
    {
      "cell_type": "code",
      "execution_count": null,
      "id": "53dfdf40",
      "metadata": {
        "id": "53dfdf40"
      },
      "outputs": [],
      "source": [
        ""
      ]
    },
    {
      "cell_type": "code",
      "execution_count": null,
      "id": "65c97797",
      "metadata": {
        "id": "65c97797"
      },
      "outputs": [],
      "source": [
        ""
      ]
    },
    {
      "cell_type": "code",
      "execution_count": null,
      "id": "21c74092",
      "metadata": {
        "id": "21c74092"
      },
      "outputs": [],
      "source": [
        ""
      ]
    },
    {
      "cell_type": "code",
      "execution_count": null,
      "id": "d4b006b3",
      "metadata": {
        "id": "d4b006b3"
      },
      "outputs": [],
      "source": [
        ""
      ]
    },
    {
      "cell_type": "code",
      "execution_count": null,
      "id": "63ead1a4",
      "metadata": {
        "id": "63ead1a4"
      },
      "outputs": [],
      "source": [
        ""
      ]
    },
    {
      "cell_type": "code",
      "execution_count": null,
      "id": "03529467",
      "metadata": {
        "id": "03529467"
      },
      "outputs": [],
      "source": [
        ""
      ]
    },
    {
      "cell_type": "code",
      "execution_count": null,
      "id": "ddaba8dd",
      "metadata": {
        "id": "ddaba8dd"
      },
      "outputs": [],
      "source": [
        ""
      ]
    },
    {
      "cell_type": "code",
      "execution_count": null,
      "id": "0031a5a1",
      "metadata": {
        "id": "0031a5a1"
      },
      "outputs": [],
      "source": [
        ""
      ]
    }
  ],
  "metadata": {
    "kernelspec": {
      "display_name": "Python 3 (ipykernel)",
      "language": "python",
      "name": "python3"
    },
    "language_info": {
      "codemirror_mode": {
        "name": "ipython",
        "version": 3
      },
      "file_extension": ".py",
      "mimetype": "text/x-python",
      "name": "python",
      "nbconvert_exporter": "python",
      "pygments_lexer": "ipython3",
      "version": "3.9.12"
    },
    "colab": {
      "name": "컴퓨터비전0714.ipynb",
      "provenance": [],
      "include_colab_link": true
    }
  },
  "nbformat": 4,
  "nbformat_minor": 5
}