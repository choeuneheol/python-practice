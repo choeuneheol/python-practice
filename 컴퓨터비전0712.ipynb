{
  "cells": [
    {
      "cell_type": "markdown",
      "metadata": {
        "id": "view-in-github",
        "colab_type": "text"
      },
      "source": [
        "<a href=\"https://colab.research.google.com/github/choeuneheol/python-practice/blob/master/%EC%BB%B4%ED%93%A8%ED%84%B0%EB%B9%84%EC%A0%840712.ipynb\" target=\"_parent\"><img src=\"https://colab.research.google.com/assets/colab-badge.svg\" alt=\"Open In Colab\"/></a>"
      ]
    },
    {
      "cell_type": "markdown",
      "id": "be00c455",
      "metadata": {
        "id": "be00c455"
      },
      "source": [
        "ADSP, ADP, 빅데이터분석기사  ADP는 조금 어렵고 ADSP와 빅데이터분석기시정도는 따놓기\n",
        "\n",
        "\n",
        "\n",
        "\n",
        "화소점처리 - 픽셀하나하나에 직접적인 연산을 하는것\n",
        "\n",
        "영역처리 - 영상을 흐리게 하거나 강조하게 나타내는 \n",
        "\n",
        "기하학 처리 \n",
        "\n",
        "프레임 처리 동영상\n",
        "\n",
        "분류\n",
        "feature -> target\n",
        "\n",
        "feature space \n",
        "\n",
        "원이 1일때 thinness ratio\n",
        "\n",
        "신호의 분류\n",
        "\n",
        "아날로그(analog) 신호\n",
        "자연계의 신호(지금 나의목소리)\n",
        "신호가 끊이지 않는 신호\n",
        "자연계신호는 연속이다\n",
        "\n",
        "기록하는 순간 디지털신호\n",
        "\n",
        "디지털 신호\n",
        "\n",
        "디지털 변환과정 표본화와 양자화가 있는데 양자화를 주로 다룰것임\n",
        "\n",
        "# 표본화 - 연속된 신호 파형에서 일정한 시간 간격으로 값을 취해 불연속적인 신호로 변환하는것 (샘플링)\n",
        "동영상은 초당30프레임\n",
        "\n",
        "## 표본화 정리(sampling Theory)\n",
        "\n",
        "원래의 아날로그 신호로 복원해 주는 최대 표본화 주기를 알려줌\n",
        "\n",
        "아날로그 신호에 있는 최대 주파수의 두 배 이상으로 표본화하면 원\n",
        "아날로그 신호로 복원할 수 있어 정보 손실 없이 재생이 가능함.\n",
        "\n",
        "두배Hz로 복원하면 정보 손실없이 재생가능\n",
        "\n",
        "두배이상하게되면 오버샘플링되기때문에 쓸모가없다.\n",
        "\n",
        "# 양자화() \n",
        "표본화 과정에서 얻은 표본 값을 그대로 이진 데이터로 표현하는 것은 비효율적\n",
        "\n",
        "###### 양자화\n",
        "-표본 값을 디지털 장치나 컴퓨터에서 표현할 수 있는 근사값으로 변환하는과정\n",
        "\n",
        "###### 영자화 비트수 \n",
        "-표본 값을 정밀하게 표현하는데 사용하는 비트 수 \n",
        "\n",
        "\n",
        "영상좌표와 매트릭스 좌표를 헷갈리지 않아야한다\n",
        "영상좌표는 (2,0)(m,n) 인데 매트릭스좌표는 (0,2),(n,m)로 나온다\n",
        "\n"
      ]
    },
    {
      "cell_type": "code",
      "execution_count": null,
      "id": "0c948227",
      "metadata": {
        "id": "0c948227",
        "outputId": "f31c8408-8950-49b4-8050-d8c4c06b0ce9"
      },
      "outputs": [
        {
          "name": "stdout",
          "output_type": "stream",
          "text": [
            "Collecting opencv-python\n",
            "  Downloading opencv_python-4.6.0.66-cp36-abi3-win_amd64.whl (35.6 MB)\n",
            "Requirement already satisfied: numpy>=1.19.3 in c:\\users\\easy1\\anaconda3\\lib\\site-packages (from opencv-python) (1.21.5)\n",
            "Installing collected packages: opencv-python\n",
            "Successfully installed opencv-python-4.6.0.66\n"
          ]
        }
      ],
      "source": [
        "! pip install opencv-python"
      ]
    },
    {
      "cell_type": "code",
      "execution_count": null,
      "id": "4976820a",
      "metadata": {
        "id": "4976820a"
      },
      "outputs": [],
      "source": [
        "import cv2\n",
        "import numpy as np\n",
        "import sys"
      ]
    },
    {
      "cell_type": "code",
      "execution_count": null,
      "id": "fef024ec",
      "metadata": {
        "scrolled": true,
        "id": "fef024ec",
        "outputId": "45e9c04e-7ae0-4bb9-d7c0-ff6949f56c7b"
      },
      "outputs": [
        {
          "ename": "AttributeError",
          "evalue": "module 'cv2' has no attribute 'destroAllWindows'",
          "output_type": "error",
          "traceback": [
            "\u001b[1;31m---------------------------------------------------------------------------\u001b[0m",
            "\u001b[1;31mAttributeError\u001b[0m                            Traceback (most recent call last)",
            "Input \u001b[1;32mIn [2]\u001b[0m, in \u001b[0;36m<cell line: 13>\u001b[1;34m()\u001b[0m\n\u001b[0;32m      8\u001b[0m cv2\u001b[38;5;241m.\u001b[39mimshow(\u001b[38;5;124m'\u001b[39m\u001b[38;5;124mimage\u001b[39m\u001b[38;5;124m'\u001b[39m, img)\n\u001b[0;32m     12\u001b[0m cv2\u001b[38;5;241m.\u001b[39mwaitKey()\n\u001b[1;32m---> 13\u001b[0m \u001b[43mcv2\u001b[49m\u001b[38;5;241;43m.\u001b[39;49m\u001b[43mdestroAllWindows\u001b[49m()\n\u001b[0;32m     14\u001b[0m cv2\u001b[38;5;241m.\u001b[39mwaitKey(\u001b[38;5;241m1\u001b[39m)\n",
            "\u001b[1;31mAttributeError\u001b[0m: module 'cv2' has no attribute 'destroAllWindows'"
          ]
        }
      ],
      "source": [
        "img = cv2.imread('images/puppy.bmp') #cv2.IMREAD_UNCHANGED #COLOR #UNCHANGED-알파채널이미지\n",
        "\n",
        "if img is None:\n",
        "    print('image read failed')\n",
        "    sys.exit()\n",
        "    \n",
        "cv2.namedWindow('image')\n",
        "cv2.imshow('image', img)\n",
        "\n",
        "\n",
        "\n",
        "cv2.waitKey()\n",
        "cv2.destroAllWindows()\n",
        "cv2.waitKey(1)\n",
        "#이미지는 넘파이로 나온다\n"
      ]
    },
    {
      "cell_type": "code",
      "execution_count": null,
      "id": "62766d6e",
      "metadata": {
        "scrolled": true,
        "id": "62766d6e",
        "outputId": "c7f09ff6-e72a-40dd-bb3f-124d3bea2821"
      },
      "outputs": [
        {
          "ename": "AttributeError",
          "evalue": "module 'cv2' has no attribute 'destroAllWindows'",
          "output_type": "error",
          "traceback": [
            "\u001b[1;31m---------------------------------------------------------------------------\u001b[0m",
            "\u001b[1;31mAttributeError\u001b[0m                            Traceback (most recent call last)",
            "Input \u001b[1;32mIn [3]\u001b[0m, in \u001b[0;36m<cell line: 28>\u001b[1;34m()\u001b[0m\n\u001b[0;32m     24\u001b[0m \u001b[38;5;66;03m#cv2.imshow('image', img2)\u001b[39;00m\n\u001b[0;32m     27\u001b[0m cv2\u001b[38;5;241m.\u001b[39mwaitKey()\n\u001b[1;32m---> 28\u001b[0m \u001b[43mcv2\u001b[49m\u001b[38;5;241;43m.\u001b[39;49m\u001b[43mdestroAllWindows\u001b[49m()\n",
            "\u001b[1;31mAttributeError\u001b[0m: module 'cv2' has no attribute 'destroAllWindows'"
          ]
        }
      ],
      "source": [
        "img = cv2.imread('images/puppy.bmp') #cv2.IMREAD_UNCHANGED #COLOR #UNCHANGED-알파채널이미지\n",
        "\n",
        "if img is None:\n",
        "    print('image read failed')\n",
        "    sys.exit()\n",
        "    \n",
        "#이미지키우는방법\n",
        "# resize(src, dsize[, dst[, fx[, fy[, interpolation]]]]) -> dst\n",
        "#img2 = cv2.resize(src = img, dsize = (500, 700))\n",
        "#src는 소스 dsize는 사이즈\n",
        "#오픈cv는 x축이 먼저\n",
        "\n",
        "#cv2. imwrite(filename, img, params = None)# ->retval\n",
        "\n",
        "#filemane : 저장할 파일 이름\n",
        "#img : 저장할 자료(numpy, ndarray)\n",
        "#params : 파일저장 옵션\n",
        "#retval : 성공 True, 실패 False\n",
        "\n",
        "cv2.imwrite('image/image_resize.bmp',img) #저장하는법\n",
        "\n",
        "cv2.namedWindow('image', cv2.WINDOW_NORMAL)#AUTOSIZE #NORMAL창크기에따라이미지바뀜\n",
        "cv2.imshow('image', img)\n",
        "#cv2.imshow('image', img2)\n",
        "\n",
        "\n",
        "cv2.waitKey()\n",
        "cv2.destroAllWindows()\n",
        "#cv2.waitKey(1)\n",
        "#이미지는 넘파이로 나온다\n"
      ]
    },
    {
      "cell_type": "code",
      "execution_count": null,
      "id": "018c90be",
      "metadata": {
        "id": "018c90be",
        "outputId": "cc15fa9c-8ff9-4d02-da65-f1f94e873c31"
      },
      "outputs": [
        {
          "data": {
            "text/plain": [
              "(480, 640, 3)"
            ]
          },
          "execution_count": 36,
          "metadata": {},
          "output_type": "execute_result"
        }
      ],
      "source": [
        "img.shape\n",
        "#480세로 640가로 RGB 3 빨강, 파랑, 초록이 겹쳐서 있다는 뜻"
      ]
    },
    {
      "cell_type": "code",
      "execution_count": null,
      "id": "0c72b395",
      "metadata": {
        "id": "0c72b395",
        "outputId": "8e0a1610-685d-4cd7-b067-0b206a1cf2c1"
      },
      "outputs": [
        {
          "data": {
            "text/plain": [
              "numpy.ndarray"
            ]
          },
          "execution_count": 22,
          "metadata": {},
          "output_type": "execute_result"
        }
      ],
      "source": [
        "type(img)"
      ]
    },
    {
      "cell_type": "code",
      "execution_count": null,
      "id": "1461473f",
      "metadata": {
        "id": "1461473f",
        "outputId": "8ff2017e-faab-4439-ec3c-61237425eaa5"
      },
      "outputs": [
        {
          "ename": "AttributeError",
          "evalue": "module 'cv2' has no attribute 'destoyAllWindows'",
          "output_type": "error",
          "traceback": [
            "\u001b[1;31m---------------------------------------------------------------------------\u001b[0m",
            "\u001b[1;31mAttributeError\u001b[0m                            Traceback (most recent call last)",
            "Input \u001b[1;32mIn [17]\u001b[0m, in \u001b[0;36m<cell line: 12>\u001b[1;34m()\u001b[0m\n\u001b[0;32m      8\u001b[0m cv2\u001b[38;5;241m.\u001b[39mimshow(\u001b[38;5;124m'\u001b[39m\u001b[38;5;124mimg\u001b[39m\u001b[38;5;124m'\u001b[39m,img)\n\u001b[0;32m     10\u001b[0m cv2\u001b[38;5;241m.\u001b[39mwaitKey()\n\u001b[1;32m---> 12\u001b[0m \u001b[43mcv2\u001b[49m\u001b[38;5;241;43m.\u001b[39;49m\u001b[43mdestoyAllWindows\u001b[49m()\n",
            "\u001b[1;31mAttributeError\u001b[0m: module 'cv2' has no attribute 'destoyAllWindows'"
          ]
        }
      ],
      "source": [
        "# img = cv2.imread('images/puppy.bmp')\n",
        "\n",
        "# if img is None:\n",
        "#     print('image read failed')\n",
        "#     sys.exit()\n",
        "\n",
        "# cv2.namedWindow('image')\n",
        "# cv2.imshow('img',img)\n",
        "\n",
        "# cv2.waitKey()\n",
        "\n",
        "# cv2.destoyAllWindows()"
      ]
    },
    {
      "cell_type": "code",
      "execution_count": null,
      "id": "d9de3af9",
      "metadata": {
        "id": "d9de3af9",
        "outputId": "1e09b140-6f29-4253-ede2-0c3d575505f2"
      },
      "outputs": [
        {
          "data": {
            "text/plain": [
              "(480, 640, 3)"
            ]
          },
          "execution_count": 16,
          "metadata": {},
          "output_type": "execute_result"
        }
      ],
      "source": [
        "img.shape"
      ]
    },
    {
      "cell_type": "code",
      "execution_count": null,
      "id": "85554280",
      "metadata": {
        "id": "85554280",
        "outputId": "24c13981-9f84-4bd8-f6b9-f047fb100008"
      },
      "outputs": [
        {
          "ename": "AttributeError",
          "evalue": "module 'cv2' has no attribute 'destroAllWindows'",
          "output_type": "error",
          "traceback": [
            "\u001b[1;31m---------------------------------------------------------------------------\u001b[0m",
            "\u001b[1;31mAttributeError\u001b[0m                            Traceback (most recent call last)",
            "Input \u001b[1;32mIn [7]\u001b[0m, in \u001b[0;36m<cell line: 15>\u001b[1;34m()\u001b[0m\n\u001b[0;32m     11\u001b[0m \u001b[38;5;66;03m# img2 = cv2.resize(img,(600, 500))\u001b[39;00m\n\u001b[0;32m     12\u001b[0m \u001b[38;5;66;03m# cv2.imwrite('img_resize.png',img2)\u001b[39;00m\n\u001b[0;32m     14\u001b[0m cv2\u001b[38;5;241m.\u001b[39mwaitKey()\n\u001b[1;32m---> 15\u001b[0m \u001b[43mcv2\u001b[49m\u001b[38;5;241;43m.\u001b[39;49m\u001b[43mdestroAllWindows\u001b[49m()\n",
            "\u001b[1;31mAttributeError\u001b[0m: module 'cv2' has no attribute 'destroAllWindows'"
          ]
        }
      ],
      "source": [
        "img = cv2.imread('images/puppy.bmp', cv2.IMREAD_GRAYSCALE)\n",
        "\n",
        "if img is None:\n",
        "    print('image rad failed')\n",
        "    sys.exit()\n",
        "    \n",
        "    \n",
        "cv2.namedWindow('image', cv2.WINDOW_AUTOSIZE)\n",
        "cv2.imshow('image', img)\n",
        "\n",
        "# img2 = cv2.resize(img,(600, 500))\n",
        "# cv2.imwrite('img_resize.png',img2)\n",
        "\n",
        "while True:\n",
        "    if cv2.waitKey() == 27:\n",
        "        break\n",
        "\n",
        "#cv2.waitKey()\n",
        "cv2.destroAllWindows()"
      ]
    },
    {
      "cell_type": "code",
      "execution_count": null,
      "id": "792e91d0",
      "metadata": {
        "id": "792e91d0",
        "outputId": "fb170b6f-7e54-45a6-b25e-21a5538b5314"
      },
      "outputs": [
        {
          "data": {
            "text/plain": [
              "(480, 640)"
            ]
          },
          "execution_count": 8,
          "metadata": {},
          "output_type": "execute_result"
        }
      ],
      "source": [
        "img.shape"
      ]
    },
    {
      "cell_type": "code",
      "execution_count": null,
      "id": "f850074d",
      "metadata": {
        "id": "f850074d",
        "outputId": "42a75d22-122e-4351-c5a9-5d986ef91fff"
      },
      "outputs": [
        {
          "ename": "AttributeError",
          "evalue": "module 'cv2' has no attribute 'destroAllWindows'",
          "output_type": "error",
          "traceback": [
            "\u001b[1;31m---------------------------------------------------------------------------\u001b[0m",
            "\u001b[1;31mAttributeError\u001b[0m                            Traceback (most recent call last)",
            "Input \u001b[1;32mIn [10]\u001b[0m, in \u001b[0;36m<cell line: 14>\u001b[1;34m()\u001b[0m\n\u001b[0;32m     11\u001b[0m     \u001b[38;5;28;01mif\u001b[39;00m cv2\u001b[38;5;241m.\u001b[39mwaitKey() \u001b[38;5;241m==\u001b[39m \u001b[38;5;241m27\u001b[39m:\n\u001b[0;32m     12\u001b[0m         \u001b[38;5;28;01mbreak\u001b[39;00m\n\u001b[1;32m---> 14\u001b[0m \u001b[43mcv2\u001b[49m\u001b[38;5;241;43m.\u001b[39;49m\u001b[43mdestroAllWindows\u001b[49m()\n",
            "\u001b[1;31mAttributeError\u001b[0m: module 'cv2' has no attribute 'destroAllWindows'"
          ]
        }
      ],
      "source": [
        "img = cv2.imread('images/puppy.bmp', cv2.IMREAD_COLOR)\n",
        "\n",
        "if img is None:\n",
        "    print('image read failed')\n",
        "    sys.exit()\n",
        "    \n",
        "cv2.namedWindow('image', cv2.WINDOW_AUTOSIZE)\n",
        "cv2.imshow('image', img)\n",
        "\n",
        "while True:\n",
        "    if cv2.waitKey() == 27:\n",
        "        break\n",
        "        \n",
        "cv2.destroAllWindows()"
      ]
    },
    {
      "cell_type": "code",
      "execution_count": null,
      "id": "63cb42cd",
      "metadata": {
        "id": "63cb42cd"
      },
      "outputs": [],
      "source": [
        "import matplotlib.pyplot as plt"
      ]
    },
    {
      "cell_type": "code",
      "execution_count": null,
      "id": "00fcfc48",
      "metadata": {
        "id": "00fcfc48",
        "outputId": "1a33ca5d-14c5-44ed-9024-62c3ba5c6f31"
      },
      "outputs": [
        {
          "data": {
            "image/png": "[encoded data removed]",
            "text/plain": [
              "<Figure size 432x288 with 1 Axes>"
            ]
          },
          "metadata": {
            "needs_background": "light"
          },
          "output_type": "display_data"
        }
      ],
      "source": [
        "#imgBGR= cv2.imread('images/puppy.bmp', cv2.IMREAD_COLOR)\n",
        "imgGRAY= cv2.imread('images/puppy.bmp', cv2.IMREAD_COLOR)\n",
        "\n",
        "if imgGRAY is None:\n",
        "    print('image read failed')\n",
        "    sys.exit()\n",
        "  \n",
        "imgRGB = cv2.cvtColor(imgBGR, cv2.COLOR_BGR2RGB) # BGR2RGB는 색 조절이 가능하다\n",
        "\n",
        "plt.imshow(imgGRAY, cmap = 'gray')\n",
        "plt.axis('off')\n",
        "plt.show()\n",
        "\n",
        "# cv.imshow('image', img)\n",
        "\n",
        "# while True:\n",
        "#     if cv2.waitKey() == 27:\n",
        "#         break\n",
        "        \n",
        "# cv2.destroyAllWindows()"
      ]
    },
    {
      "cell_type": "code",
      "execution_count": null,
      "id": "c7481863",
      "metadata": {
        "id": "c7481863"
      },
      "outputs": [],
      "source": [
        "imgBGR = cv2.imread('images/puppy.bmp', cv2.IMREAD_COLOR)\n",
        "imgGRAY = cv2.imread('images/puppy.bmp', cv.IMREAD_GRAYSCALE)\n",
        "\n",
        "if imgBGR is None or imgGRAY is None:\n",
        "    print('image read failed')\n",
        "    sys.exit()\n",
        "    \n",
        "imgRGB = cv2.cvtColor(imgBGR, cv2.COLOR_BGR2RGB)\n",
        "\n",
        "plt.figure(figsize=(10,10))\n",
        "plt.subplot(131), plt.imshow(imgBGR), plt.axis('off')\n",
        "plt.subplot(132), plt.imshow(imgRGB). plt.axis('off')\n",
        "plt.subplot(133), plt.imshow(imgGRAY, cmap= 'gray').plt.axis('off')\n",
        "plt.show*)"
      ]
    },
    {
      "cell_type": "code",
      "execution_count": null,
      "id": "086c13b3",
      "metadata": {
        "id": "086c13b3"
      },
      "outputs": [],
      "source": [
        ""
      ]
    },
    {
      "cell_type": "code",
      "execution_count": null,
      "id": "9943f949",
      "metadata": {
        "id": "9943f949"
      },
      "outputs": [],
      "source": [
        ""
      ]
    },
    {
      "cell_type": "code",
      "execution_count": null,
      "id": "3f1dd6a0",
      "metadata": {
        "id": "3f1dd6a0"
      },
      "outputs": [],
      "source": [
        ""
      ]
    },
    {
      "cell_type": "code",
      "execution_count": null,
      "id": "032cc751",
      "metadata": {
        "id": "032cc751"
      },
      "outputs": [],
      "source": [
        ""
      ]
    },
    {
      "cell_type": "code",
      "execution_count": null,
      "id": "96d974ad",
      "metadata": {
        "id": "96d974ad"
      },
      "outputs": [],
      "source": [
        ""
      ]
    },
    {
      "cell_type": "code",
      "execution_count": null,
      "id": "6bd467a4",
      "metadata": {
        "id": "6bd467a4"
      },
      "outputs": [],
      "source": [
        ""
      ]
    },
    {
      "cell_type": "code",
      "execution_count": null,
      "id": "4b4bea45",
      "metadata": {
        "id": "4b4bea45"
      },
      "outputs": [],
      "source": [
        ""
      ]
    },
    {
      "cell_type": "code",
      "execution_count": null,
      "id": "fd88c07d",
      "metadata": {
        "id": "fd88c07d"
      },
      "outputs": [],
      "source": [
        ""
      ]
    },
    {
      "cell_type": "code",
      "execution_count": null,
      "id": "42098af6",
      "metadata": {
        "id": "42098af6"
      },
      "outputs": [],
      "source": [
        ""
      ]
    },
    {
      "cell_type": "code",
      "execution_count": null,
      "id": "cf8826a9",
      "metadata": {
        "id": "cf8826a9"
      },
      "outputs": [],
      "source": [
        ""
      ]
    },
    {
      "cell_type": "code",
      "execution_count": null,
      "id": "fb2f8dbd",
      "metadata": {
        "id": "fb2f8dbd"
      },
      "outputs": [],
      "source": [
        ""
      ]
    },
    {
      "cell_type": "code",
      "execution_count": null,
      "id": "bd3e27af",
      "metadata": {
        "id": "bd3e27af"
      },
      "outputs": [],
      "source": [
        ""
      ]
    },
    {
      "cell_type": "code",
      "execution_count": null,
      "id": "d0444063",
      "metadata": {
        "id": "d0444063",
        "outputId": "d623a62b-2c3a-4749-bb0a-e782b0e9f1cb"
      },
      "outputs": [
        {
          "data": {
            "text/plain": [
              "'4.6.0'"
            ]
          },
          "execution_count": 5,
          "metadata": {},
          "output_type": "execute_result"
        }
      ],
      "source": [
        "import cv2\n",
        "import numpy as np\n",
        "import sys\n",
        "import os\n",
        "\n",
        "cv2.__version__"
      ]
    },
    {
      "cell_type": "code",
      "execution_count": null,
      "id": "ea65ea24",
      "metadata": {
        "id": "ea65ea24",
        "outputId": "f0f17f48-6cec-483c-9c84-89d85ee8bbe0"
      },
      "outputs": [
        {
          "data": {
            "text/plain": [
              "'C:\\\\Users\\\\easy1\\\\OneDrive\\\\바탕 화면\\\\컴퓨터비전'"
            ]
          },
          "execution_count": 6,
          "metadata": {},
          "output_type": "execute_result"
        }
      ],
      "source": [
        "%pwd"
      ]
    },
    {
      "cell_type": "code",
      "execution_count": null,
      "id": "83fb75c7",
      "metadata": {
        "id": "83fb75c7"
      },
      "outputs": [],
      "source": [
        "#영상 띄우는 방법\n",
        "img = cv2.imread(\"images/cat.bmp\")\n",
        "if img is None:#예외처리\n",
        "    print('이미지를 읽지 못하였습니다.')\n",
        "    sys.exit()\n",
        "    \n",
        "cv2.imshow('image',img)\n",
        "cv2.waitKey()\n",
        "cv2.destroyAllWindows()"
      ]
    },
    {
      "cell_type": "code",
      "execution_count": null,
      "id": "d68cb2dc",
      "metadata": {
        "id": "d68cb2dc",
        "outputId": "cf51f80a-b75e-4426-c6c4-5e0f1de3f91d"
      },
      "outputs": [
        {
          "data": {
            "text/plain": [
              "dtype('uint8')"
            ]
          },
          "execution_count": 11,
          "metadata": {},
          "output_type": "execute_result"
        }
      ],
      "source": [
        "img.shape\n",
        "img.dtype"
      ]
    },
    {
      "cell_type": "code",
      "execution_count": null,
      "id": "ae979776",
      "metadata": {
        "id": "ae979776",
        "outputId": "032987cb-6c5e-4156-d2f4-b46c6587b1bf"
      },
      "outputs": [
        {
          "data": {
            "text/plain": [
              "(480, 640, 3)"
            ]
          },
          "execution_count": 12,
          "metadata": {},
          "output_type": "execute_result"
        }
      ],
      "source": [
        "img.shape"
      ]
    },
    {
      "cell_type": "code",
      "execution_count": null,
      "id": "78130370",
      "metadata": {
        "id": "78130370"
      },
      "outputs": [],
      "source": [
        ""
      ]
    },
    {
      "cell_type": "code",
      "execution_count": null,
      "id": "efee3f7c",
      "metadata": {
        "id": "efee3f7c"
      },
      "outputs": [],
      "source": [
        ""
      ]
    },
    {
      "cell_type": "code",
      "execution_count": null,
      "id": "c0f25bc5",
      "metadata": {
        "id": "c0f25bc5"
      },
      "outputs": [],
      "source": [
        ""
      ]
    },
    {
      "cell_type": "code",
      "execution_count": null,
      "id": "94eba297",
      "metadata": {
        "id": "94eba297"
      },
      "outputs": [],
      "source": [
        ""
      ]
    },
    {
      "cell_type": "code",
      "execution_count": null,
      "id": "4a663bb6",
      "metadata": {
        "id": "4a663bb6"
      },
      "outputs": [],
      "source": [
        ""
      ]
    },
    {
      "cell_type": "code",
      "execution_count": null,
      "id": "8920b409",
      "metadata": {
        "id": "8920b409"
      },
      "outputs": [],
      "source": [
        ""
      ]
    },
    {
      "cell_type": "code",
      "execution_count": null,
      "id": "673dfb4e",
      "metadata": {
        "id": "673dfb4e"
      },
      "outputs": [],
      "source": [
        ""
      ]
    },
    {
      "cell_type": "code",
      "execution_count": null,
      "id": "12c87f26",
      "metadata": {
        "id": "12c87f26"
      },
      "outputs": [],
      "source": [
        ""
      ]
    },
    {
      "cell_type": "code",
      "execution_count": null,
      "id": "7367ece6",
      "metadata": {
        "id": "7367ece6"
      },
      "outputs": [],
      "source": [
        ""
      ]
    },
    {
      "cell_type": "code",
      "execution_count": null,
      "id": "347e41a8",
      "metadata": {
        "id": "347e41a8"
      },
      "outputs": [],
      "source": [
        ""
      ]
    },
    {
      "cell_type": "code",
      "execution_count": null,
      "id": "a080a3cf",
      "metadata": {
        "id": "a080a3cf"
      },
      "outputs": [],
      "source": [
        ""
      ]
    },
    {
      "cell_type": "code",
      "execution_count": null,
      "id": "339a2cf4",
      "metadata": {
        "id": "339a2cf4"
      },
      "outputs": [],
      "source": [
        ""
      ]
    },
    {
      "cell_type": "code",
      "execution_count": null,
      "id": "e7d9b2eb",
      "metadata": {
        "id": "e7d9b2eb"
      },
      "outputs": [],
      "source": [
        ""
      ]
    }
  ],
  "metadata": {
    "kernelspec": {
      "display_name": "Python 3 (ipykernel)",
      "language": "python",
      "name": "python3"
    },
    "language_info": {
      "codemirror_mode": {
        "name": "ipython",
        "version": 3
      },
      "file_extension": ".py",
      "mimetype": "text/x-python",
      "name": "python",
      "nbconvert_exporter": "python",
      "pygments_lexer": "ipython3",
      "version": "3.9.12"
    },
    "colab": {
      "name": "컴퓨터비전0712.ipynb",
      "provenance": [],
      "include_colab_link": true
    }
  },
  "nbformat": 4,
  "nbformat_minor": 5
}