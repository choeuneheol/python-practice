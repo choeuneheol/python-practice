{
  "cells": [
    {
      "cell_type": "markdown",
      "metadata": {
        "id": "view-in-github",
        "colab_type": "text"
      },
      "source": [
        "<a href=\"https://colab.research.google.com/github/choeuneheol/python-practice/blob/master/%EC%BB%B4%ED%93%A8%ED%84%B0%EB%B9%84%EC%A0%840715.ipynb\" target=\"_parent\"><img src=\"https://colab.research.google.com/assets/colab-badge.svg\" alt=\"Open In Colab\"/></a>"
      ]
    },
    {
      "cell_type": "code",
      "execution_count": null,
      "id": "6a34b2c2",
      "metadata": {
        "id": "6a34b2c2",
        "outputId": "39ba7852-5da8-42ab-fdd0-65bab1e2dd5d"
      },
      "outputs": [
        {
          "data": {
            "text/plain": [
              "'C:\\\\Users\\\\easy1\\\\OneDrive\\\\바탕 화면\\\\컴퓨터비전'"
            ]
          },
          "execution_count": 1,
          "metadata": {},
          "output_type": "execute_result"
        }
      ],
      "source": [
        "%pwd"
      ]
    },
    {
      "cell_type": "code",
      "execution_count": null,
      "id": "0fbb6235",
      "metadata": {
        "id": "0fbb6235"
      },
      "outputs": [],
      "source": [
        "#화소의 영역처리\n",
        "엠보싱효과, 블러링효과, 샤프닝 경계선 검출, 잡음제거 등 기술에쓰임\n",
        "\n",
        "#블러링\n",
        "고주파는 엣지부분 저주파는 평평한곳\n",
        "\n",
        "#경계선검출\n",
        "경계선은 영상의 밝기가 낮은 값에서 높은 값으로 또는 높은 값에서 \n",
        "낮은 값으로 변하는 지점에 있으므로 입력한 영상정보가 많이 듬\n",
        "\n",
        "#회선처리\n",
        "(커널,필터,마스크)라고 쓰임\n",
        "9개를 곱하고 더 한후 출력되기때문에 퓨리에연산작업를 넣어서 사용해야한다\n",
        "\n",
        "음의 계수에서는 음의 화소 값이 생성될 수 있으나 밝기는 항상 양의 값\n",
        "만 있으므로 생성된 화소 값에 일정한 상수를 더해서 양의 화소값이 \n",
        "나오도록함\n",
        "\n",
        "#가우시안 스무딩 필터링 처리 \n",
        "영상의 세세한 부분을 제거하여 부드럽게 한다고해서 스무딩처리라고함\n",
        "\n",
        "원본의 데이터를 손실하지 않으면서 부드럽게 연출하기 때문에\n",
        "가우시안 필터를 많이 사용함\n",
        "\n",
        "시그마가 크면클수록 평균필터랑 같아짐\n",
        "loss  path filter 이다\n",
        "\n",
        "에지검출에는 미분법으로 이용하여 검출한다\n",
        "\n",
        "미분회선마스크에는 로버츠, 소벨, 프리윗이 있는데 소벨이 가장\n",
        "많이 쓰인다\n",
        "\n",
        "로버츠 - 크기가작아 효과적사용가능, \n",
        "         단점 돌출된값 평균구할수 없고 잡음에 민감\n",
        "    \n",
        "프리윗 - 비교적 잘 평균화함 단점.. 대각선보다 수직에 놓인위치에 민감함\n",
        "\n",
        "소벨 - 돌출된 값 잘 평균함 단점.. 대각선방향에 민감하게 반응\n",
        "\n",
        "# 프레임처리\n",
        "\n",
        "thresHoding = 역치\n",
        "\n",
        "\n",
        "\n",
        "\n",
        "\n",
        "\n",
        "\n",
        "\n",
        "\n",
        "\n",
        "\n",
        "\n",
        "\n",
        "\n"
      ]
    },
    {
      "cell_type": "code",
      "execution_count": null,
      "id": "d9736406",
      "metadata": {
        "id": "d9736406"
      },
      "outputs": [],
      "source": [
        "import matplotlib.pyplot as plt\n",
        "import cv2\n",
        "import sys\n",
        "import os\n",
        "import numpy as np\n",
        "import glob"
      ]
    },
    {
      "cell_type": "code",
      "execution_count": null,
      "id": "878aaf6f",
      "metadata": {
        "id": "878aaf6f"
      },
      "outputs": [],
      "source": [
        "img = cv2.imread('images/puppy.bmp')\n",
        "\n",
        "if img is None:\n",
        "    print('image read failed')\n",
        "    sys.exit()\n",
        "\n",
        "img_re = cv2.resize(img, (500,400), interpolation = cv2.INTER_LINEAR)\n",
        "cv2.namedWindow('image', cv2.WINDOW_AUTOSIZE)\n",
        "cv2.imshow('image', img)\n",
        "\n",
        "cv2.waitKey()\n",
        "cv2.destroyAllWindows()"
      ]
    },
    {
      "cell_type": "code",
      "execution_count": null,
      "id": "76cd99dc",
      "metadata": {
        "id": "76cd99dc",
        "outputId": "bafd2345-c83b-4ed3-f838-c9fe9f9ca32a"
      },
      "outputs": [
        {
          "name": "stdout",
          "output_type": "stream",
          "text": [
            "['images\\\\airplane.bmp', 'images\\\\autumn_forest_park_128379_1920x1080.jpg', 'images\\\\boat_mountains_lake_135258_1920x1080.jpg', 'images\\\\cat.bmp', 'images\\\\cow.png', 'images\\\\field.bmp', 'images\\\\forest_fog_trees_128751_1920x1080.jpg', 'images\\\\green.png', 'images\\\\maddle-u8FLZRJW1Lk-unsplash.jpg', 'images\\\\mask_plane.bmp', 'images\\\\pexels-jessica-ticozzelli-12323169.jpg', 'images\\\\pexels-leah-kelley-12128377.jpg', 'images\\\\pier_dock_sea_dusk_shore_118549_1920x1080.jpg', 'images\\\\puppy.bmp', 'images\\\\road_marking_evening_clouds_horizon_120298_1920x1080.jpg']\n"
          ]
        }
      ],
      "source": [
        "img_files = glob.glob('images/*.*')\n",
        "print(img_files)\n",
        "\n",
        "cv2.namedWindow('image', cv2.WINDOW_NORMAL)\n",
        "cv2.setWindowProperty('image', cv2.WND_PROP_FULLSCREEN,\n",
        "                     cv2.WINDOW_FULLSCREEN)\n",
        "\n",
        "idx=0\n",
        "\n",
        "while True:\n",
        "    img = cv2.imread(img_files[idx])\n",
        "    \n",
        "    if img is None:\n",
        "        print('image read failed')\n",
        "        break\n",
        "        \n",
        "    if idx >= len(img_files):\n",
        "        print()\n",
        "        \n",
        "cv2.imshow('img_files', img)\n",
        "\n",
        "cv2.waitKey()\n",
        "cv2.destroyAllWindows()"
      ]
    },
    {
      "cell_type": "code",
      "execution_count": null,
      "id": "b5317e01",
      "metadata": {
        "id": "b5317e01"
      },
      "outputs": [],
      "source": [
        "h,w = img.shape[:2]"
      ]
    },
    {
      "cell_type": "code",
      "execution_count": null,
      "id": "4c81d223",
      "metadata": {
        "id": "4c81d223"
      },
      "outputs": [],
      "source": [
        "img1 = np.zeros((400, 500), dtype = np.uint8) #흑백중에 검정색\n",
        "img2 = np.full((400, 500, 3),(0,0,0), dtype = np.uint8) #컬러색중 검정색\n",
        "\n",
        "cv2.imshow('image 1', img1)\n",
        "cv2.imshow('image 2', img2)\n",
        "\n",
        "cv2.waitKey()\n",
        "cv2.destroyAllWindows()"
      ]
    },
    {
      "cell_type": "code",
      "execution_count": null,
      "id": "87cbc262",
      "metadata": {
        "id": "87cbc262"
      },
      "outputs": [],
      "source": [
        "img = cv2.imread('images/puppy.bmp')\n",
        "\n",
        "if img is None:\n",
        "    print('image read failed')\n",
        "    sys.exit()\n",
        "\n",
        "img1 = img[200:300, 300:500]\n",
        "img2 = img[200:300, 300:500].copy()\n",
        "        \n",
        "cv2.circle(img1, (100, 50), 50, (255, 0, 0), 4, -1)\n",
        "\n",
        "cv2.namedWindow('image', cv2.WINDOW_AUTOSIZE)\n",
        "cv2.imshow('image', img)\n",
        "cv2.imshow('image1', img1)\n",
        "\n",
        "cv2.waitKey()\n",
        "cv2.destroyAllWindows()"
      ]
    },
    {
      "cell_type": "code",
      "execution_count": null,
      "id": "872ad325",
      "metadata": {
        "id": "872ad325"
      },
      "outputs": [],
      "source": [
        "src = cv2.imread('images/airplane.bmp')\n",
        "mask = cv2.imread('images/mask_plane.bmp', cv2.IMREAD_GRAYSCALE)\n",
        "dst = cv2.imread('images/field.bmp')\n",
        "\n",
        "cv2.copyTo(src, mask, dst) # copyTo로 합성\n",
        "\n",
        "cv2.imshow('src', src)\n",
        "cv2.imshow('mask', mask)\n",
        "cv2.imshow('dst', dst)\n",
        "\n",
        "cv2.waitKey()\n",
        "cv2.destroyAllWindows()"
      ]
    },
    {
      "cell_type": "code",
      "execution_count": null,
      "id": "822b5623",
      "metadata": {
        "id": "822b5623"
      },
      "outputs": [],
      "source": [
        "src = cv2.imread('images/cow.png')\n",
        "dst = cv2.imread('images/green.png')\n",
        "\n",
        "src_gray = cv2.cvtColor(src, cv2.COLOR_BGR2GRAY)\n",
        "ret, mask = cv2.threshold(src_gray, 240, 255, cv2.THRESH_BINARY_INV)\n",
        "\n",
        "h, w = src.shape[:2]\n",
        "\n",
        "dst_crop = dst[400:400+h, 300:300+w] #h가 넘파이배열이기 때문에 h가 먼저\n",
        "\n",
        "cv2.copyTo(src, mask, dst_crop)\n",
        "\n",
        "cv2.imshow('src',src)\n",
        "cv2.imshow('dst',dst)\n",
        "\n",
        "cv2.waitKey()\n",
        "cv2.destroyAllWindows()"
      ]
    },
    {
      "cell_type": "code",
      "execution_count": null,
      "id": "6c37dc83",
      "metadata": {
        "id": "6c37dc83"
      },
      "outputs": [],
      "source": [
        "import matplotlib.pyplot as plt\n",
        "import cv2\n",
        "import sys\n",
        "import os\n",
        "import numpy as np\n",
        "import glob"
      ]
    },
    {
      "cell_type": "code",
      "execution_count": null,
      "id": "626bc4fa",
      "metadata": {
        "id": "626bc4fa"
      },
      "outputs": [],
      "source": [
        "#알파채널\n",
        "\n",
        "src = cv2.imread('fig/fig/puppy.bmp')\n",
        "sunglass = cv2.imread('fig/fig/imgbin_sunglasses_1.png', cv2.IMREAD_UNCHANGED) #<- IMREAD_UNCHANGED 이게있어야 알파채널열림\n",
        "sunglass = cv2.resize(sunglass,(300,150)) \n",
        "\n",
        "mask = sunglass[:,:,-1]\n",
        "glass = sunglass[:,:,0:3]\n",
        "\n",
        "\n",
        "h, w = mask.shape[:2]\n",
        "\n",
        "src_crop = src[120:120+h, 220:220+w]\n",
        "# src_crop[mask>0] = (0, 0, 255) <- 빨간색안경으로 바꾸는방법\n",
        "\n",
        "cv2.copyTo(glass, mask, src_crop)\n",
        "\n",
        "cv2.imshow('src',src)\n",
        "cv2.imshow('mask',mask)\n",
        "cv2.imshow('glass',glass)\n",
        "cv2.imshow('crop',src_crop)\n",
        "\n",
        "cv2.waitKey()\n",
        "cv2.destroyAllWindows()"
      ]
    },
    {
      "cell_type": "code",
      "execution_count": null,
      "id": "fa6af836",
      "metadata": {
        "id": "fa6af836",
        "outputId": "700b6abc-d6cd-4795-e3a8-a747cf72bc67"
      },
      "outputs": [
        {
          "data": {
            "text/plain": [
              "(480, 960, 4)"
            ]
          },
          "execution_count": 7,
          "metadata": {},
          "output_type": "execute_result"
        }
      ],
      "source": [
        "src.shape\n",
        "sunglass.shape"
      ]
    },
    {
      "cell_type": "code",
      "execution_count": null,
      "id": "5859bb84",
      "metadata": {
        "scrolled": true,
        "id": "5859bb84"
      },
      "outputs": [],
      "source": [
        "src = cv2.imread('fig/fig/WIN_20220715_15_20_01_Pro.jpg')\n",
        "bst = cv2.imread('fig/fig/imgbin_hat.png', cv2.IMREAD_UNCHANGED)\n",
        "bst = cv2.resize(bst,(400,500))\n",
        "\n",
        "mask = bst[:,:,-1]\n",
        "glass= bst[:,:,0:3]\n",
        "\n",
        "h, w = mask.shape[:2]\n",
        "\n",
        "src_crop = src[90:90+h, 465:465+w]\n",
        "\n",
        "cv2.copyTo(glass, mask, src_crop)\n",
        "\n",
        "\n",
        "cv2.imshow('src', src)\n",
        "cv2.imshow('mask', mask)\n",
        "cv2.imshow('src_crop', src_crop)\n",
        "\n",
        "cv2.waitKey()\n",
        "cv2.destroyAllWindows()\n"
      ]
    },
    {
      "cell_type": "code",
      "execution_count": null,
      "id": "c379b929",
      "metadata": {
        "id": "c379b929"
      },
      "outputs": [],
      "source": [
        "#그림그리기\n",
        "\n",
        "img = np.full((600,800,3), (255,255,255), dtype=np.uint8)\n",
        "\n",
        "cv2.imshow('image',img)\n",
        "\n",
        "\n",
        "# line(img, pt1, pt2, color[, thickness[, lineType[, shift]]]) -> img\n",
        "cv2.line(img,(50,50),(300, 50),(0,0,0),4)\n",
        "cv2.line(img,(170,50),(200, 250),(0,0,0),4)\n",
        "cv2.line(img,(170,50),(130, 250),(0,0,0),4)\n",
        "\n",
        "\n",
        "cv2.rectangle(img, (50,400), (400,500),(0,0,0), 20) #아래 네모 만드는방법 끝에 20을 -1로 바꾸면 안이 채워진다\n",
        "\n",
        "cv2.rectangle(img, (60, 450, 300, 150),(255,255,255),-1)\n",
        "\n",
        "cv2.circle(img,(500,300),100,(0,0,255),10,cv2.LINE_AA) # 원모양그리기\n",
        "\n",
        "cv2.ellipse(img,(600,300) ,(50,100),30, 0, 100, (171, 0, 255), 10, cv2.LINE_AA)  #타원그리기\n",
        "\n",
        "# putText(img, text, org, fontFace, fontScale, color[, thickness[, lineType[, bottomLeftOrigin]]]) \n",
        "cv2.putText(img, \"ANG?\",(600,500), cv2.FONT_HERSHEY_COMPLEX, 2,(133, 170, 200), 5, cv2.LINE_AA) # 글자쓰기\n",
        "\n",
        "cv2.imshow('img', img)\n",
        "cv2.waitKey()\n",
        "cv2.destroyAllWindows()\n",
        "\n",
        "\n",
        "# line(img, pt1, pt2, color[, thickness[, lineType[, shift]]]) -> img\n"
      ]
    },
    {
      "cell_type": "code",
      "execution_count": null,
      "id": "14027412",
      "metadata": {
        "id": "14027412"
      },
      "outputs": [],
      "source": [
        ""
      ]
    },
    {
      "cell_type": "code",
      "execution_count": null,
      "id": "968c6876",
      "metadata": {
        "id": "968c6876"
      },
      "outputs": [],
      "source": [
        "img = np.full((800,1200,3),(255,255,255),dtype = np.uint8)\n",
        "\n",
        "\n",
        "\n",
        "cv2.line(img, (50,50),(300,50),(255,0,255),4)\n",
        "cv2.line(img, (50,50),(50,300),(255,0,255),4)\n",
        "cv2.line(img, (50,300),(300,300),(255,0,255),4)\n",
        "cv2.line(img, (300,300),(300,550),(255,0,255),4)\n",
        "cv2.line(img, (300,550),(50,550),(255,0,255),4)\n",
        "\n",
        "\n",
        "cv2.line(img, (450,50),(700,50),(255,0,255),4)\n",
        "cv2.line(img, (450,50),(450,300),(255,0,255),4)\n",
        "cv2.line(img, (450,300),(700,300),(255,0,255),4)\n",
        "cv2.line(img, (450,300),(450,550),(255,0,255),4)\n",
        "cv2.line(img, (700,550),(450,550),(255,0,255),4)\n",
        "\n",
        "cv2.line(img, (850,50),(1100,550),(255,0,255),4)\n",
        "cv2.line(img, (1100,50),(850,550),(255,0,255),4)\n",
        "\n",
        "cv2.imshow(\"image\",img)\n",
        "\n",
        "cv2.waitKey()\n",
        "cv2.destroyAllWindows()"
      ]
    },
    {
      "cell_type": "code",
      "execution_count": null,
      "id": "10c16902",
      "metadata": {
        "id": "10c16902"
      },
      "outputs": [],
      "source": [
        ""
      ]
    },
    {
      "cell_type": "code",
      "execution_count": null,
      "id": "7c4392f7",
      "metadata": {
        "id": "7c4392f7"
      },
      "outputs": [],
      "source": [
        "#인삼글자쓰기\n",
        "\n",
        "img = np.full((600,800,3), (255,255,255), dtype=np.uint8)\n",
        "\n",
        "\n",
        "cv2.line(img,(500,100),(400, 200),(0,0,255),4)\n",
        "cv2.line(img,(460,140),(500, 200),(0,0,100),4)\n",
        "cv2.line(img,(550,90),(550, 220),(0,0,200),4)\n",
        "cv2.line(img,(550,170),(600, 170),(0,0,255),4)\n",
        "cv2.rectangle(img, (650,370), (580,330),(0,0,200), 3)\n",
        "\n",
        "cv2.circle(img,(190,190),100,(0,0,100),3,cv2.LINE_AA)\n",
        "cv2.line(img,(300,300),(300, 50),(0,0,200),4)\n",
        "cv2.line(img,(80,380),(80, 300),(0,0,200),4)\n",
        "cv2.line(img,(300,380),(80, 380),(0,0,200),4)\n",
        "\n",
        "cv2.putText(img, \"b\",(600,500), cv2.FONT_HERSHEY_COMPLEX, 2,(133, 170, 200), 5, cv2.LINE_AA)\n",
        "\n",
        "cv2.imshow('img', img)\n",
        "cv2.waitKey()\n",
        "cv2.destroyAllWindows()\n"
      ]
    },
    {
      "cell_type": "code",
      "execution_count": null,
      "id": "96eea91b",
      "metadata": {
        "id": "96eea91b"
      },
      "outputs": [],
      "source": [
        ""
      ]
    },
    {
      "cell_type": "code",
      "execution_count": null,
      "id": "24a6fde9",
      "metadata": {
        "id": "24a6fde9"
      },
      "outputs": [],
      "source": [
        ""
      ]
    },
    {
      "cell_type": "code",
      "execution_count": null,
      "id": "b27da2f3",
      "metadata": {
        "id": "b27da2f3"
      },
      "outputs": [],
      "source": [
        ""
      ]
    },
    {
      "cell_type": "code",
      "execution_count": null,
      "id": "56d5763e",
      "metadata": {
        "id": "56d5763e"
      },
      "outputs": [],
      "source": [
        ""
      ]
    },
    {
      "cell_type": "code",
      "execution_count": null,
      "id": "dda04147",
      "metadata": {
        "id": "dda04147"
      },
      "outputs": [],
      "source": [
        ""
      ]
    },
    {
      "cell_type": "code",
      "execution_count": null,
      "id": "a3d15dee",
      "metadata": {
        "id": "a3d15dee"
      },
      "outputs": [],
      "source": [
        ""
      ]
    },
    {
      "cell_type": "code",
      "execution_count": null,
      "id": "772ab082",
      "metadata": {
        "id": "772ab082"
      },
      "outputs": [],
      "source": [
        ""
      ]
    }
  ],
  "metadata": {
    "kernelspec": {
      "display_name": "Python 3 (ipykernel)",
      "language": "python",
      "name": "python3"
    },
    "language_info": {
      "codemirror_mode": {
        "name": "ipython",
        "version": 3
      },
      "file_extension": ".py",
      "mimetype": "text/x-python",
      "name": "python",
      "nbconvert_exporter": "python",
      "pygments_lexer": "ipython3",
      "version": "3.9.12"
    },
    "colab": {
      "name": "컴퓨터비전0715.ipynb",
      "provenance": [],
      "include_colab_link": true
    }
  },
  "nbformat": 4,
  "nbformat_minor": 5
}