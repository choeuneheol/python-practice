{
  "nbformat": 4,
  "nbformat_minor": 0,
  "metadata": {
    "colab": {
      "name": "자연어처리DAY7.ipynb",
      "provenance": [],
      "authorship_tag": "ABX9TyOfgMzhdhKtZC4Ux/K5f3Tk",
      "include_colab_link": true
    },
    "kernelspec": {
      "name": "python3",
      "display_name": "Python 3"
    },
    "language_info": {
      "name": "python"
    }
  },
  "cells": [
    {
      "cell_type": "markdown",
      "metadata": {
        "id": "view-in-github",
        "colab_type": "text"
      },
      "source": [
        "<a href=\"https://colab.research.google.com/github/choeuneheol/python-practice/blob/master/%EC%9E%90%EC%97%B0%EC%96%B4%EC%B2%98%EB%A6%ACDAY7.ipynb\" target=\"_parent\"><img src=\"https://colab.research.google.com/assets/colab-badge.svg\" alt=\"Open In Colab\"/></a>"
      ]
    },
    {
      "cell_type": "markdown",
      "source": [
        "from tensorflow.keras.models import Sequential\n",
        "from tensorflow.keras.layers import Dense\n",
        "model = Sequential()\n",
        "#3개의 입력과 2개의 출력\n",
        "model.add(Dense(2, input_dim=3, activation='softmax'))\n",
        "model.summary()"
      ],
      "metadata": {
        "id": "k5G64d5AaQlf"
      }
    },
    {
      "cell_type": "markdown",
      "source": [
        "model = Sequential()\n",
        "\n",
        "# 4개의 입력과 8개의 출력\n",
        "model.add(Dense(8, input_dim=4, activation='relu'))\n",
        "\n",
        "# 이어서 8개 출력\n",
        "model.add(Dense(8, activation='relu'))\n",
        "\n",
        "#이어서 3개 출력\n",
        "model.add(Dense(3, activation='softmax'))"
      ],
      "metadata": {
        "id": "ei30r7b7hBE7"
      }
    },
    {
      "cell_type": "markdown",
      "source": [
        "model.summary()"
      ],
      "metadata": {
        "id": "N7sh8HtolwjM"
      }
    },
    {
      "cell_type": "markdown",
      "source": [
        "#손실함수(Loss function)\n",
        "# #MSE(Mean Squared Error, MSE)\n",
        "# model.compile(optimizer='adam', loss='mse', metrics=['mse'])\n",
        "# model.compile(optimizer='adam', loss=tf.keras.losses.MeanSquaredError(), metrics=['mse'])\n",
        "\n",
        "#Binary Cross-Entropy\n",
        "model.compile(loss='binary_crossentropy', optimizer='adam', metrics=['acc'])\n",
        "\n",
        "# ----------------------------------------------------------------------------------\n",
        "\n",
        "#Batch Size에 따른 경사 하강법\n",
        "# Batch Gradient Descent\n",
        "model.fit(x_train, y_train, batch_size=len(x_train))\n",
        "\n",
        "#확률적 경사하강법()(Stochastic Gradient Descent, SGD)\n",
        "model.fit(x_train, y_train, batch_size=1)\n",
        "\n",
        "# 미니 배치 경사 하강법(Mini-Batch Gradient Descent)\n",
        "model.fit(x_train, y_train, batch_size=128) #2의 n제곱\n",
        "\n",
        "batch_size #지정하지 않을 때 기본값 32\n",
        "\n",
        "# 옵티마이저\n",
        "Momentum\n",
        "tf.keras.optimizers.SGD(Ir=0.01, momentum=0.9)\n",
        "\n",
        "# Adagrad\n",
        "tf.keras.optimizers.Adagrad(Ir=0.01, epsilon=1e-6)\n",
        "\n",
        "# RMSprop\n",
        "tf.keras.optimizers.RMSprop(Ir=0.001, rho=0.9, epsilon=1e-06)\n",
        "\n",
        "# Adam\n",
        "tf.keras.optimizers.Adam(Ir=0.001, beta_1=0.9, beta_2=0.999, epsilon=None, decay=0.0, amsgrad=False)\n",
        "model.compile(loss='categorical_crossentropy', optimizer=adam, metrics=['acc'])\n",
        "\n",
        "model.compile(loss='categorical_crossentropy', optimizer='adam', metrics=['acc']) # 'sgd', 'rmsprop'"
      ],
      "metadata": {
        "id": "wRJIxebFl5Oj"
      }
    },
    {
      "cell_type": "code",
      "source": [
        "from tensorflow.keras.layers import Dropout, Dense\n",
        "\n",
        "max_words =10000\n",
        "\n",
        "num_classes= 46\n",
        "\n",
        "model = Sequential()\n",
        "\n",
        "model.add(Dense(256, input_shape=(max_words,), activation = 'relu'))\n",
        "model.add(Dropout(0.5))\n",
        "model.add(Dense(128, activation='relu'))\n",
        "model.add(Dropout(0.5))\n",
        "model.add(Dense(num_classes, activation='softmax'))"
      ],
      "metadata": {
        "id": "l9VRLtZvn59K"
      },
      "execution_count": 20,
      "outputs": []
    },
    {
      "cell_type": "markdown",
      "source": [
        "# Gradient Vanishing\n",
        "model.add(Dense(8, input_dim=4, activation='relu'))\n",
        "\n",
        "# Gradient Exploding\n",
        "Gradient Clipping for RNN\n",
        "from tensorflow.keras import optimizers\n",
        "Adam = optimizers.Adam(Ir=0.0001, clipnorm=1.)\n",
        "\n",
        "# Weight initialization\n",
        "# Xavier Initialization (Glorot Initialization)\n",
        "# He initialization\n",
        "# Sigmoid, TanH + Xavier\n",
        "# ReLU + He\n",
        "\n",
        "#Batch Normalization\n",
        "#next page\n",
        "\n",
        "# Batch Normalization\n",
        "# Internal Covariate Shift\n",
        "# 배치 단위 정규화\n",
        "# Training & Test\n",
        "# 장점\n",
        "# BN + Sigmoid or TahH(Okay!)\n",
        "#Less sensitive weight initialization\n",
        "#Faster training speed\n",
        "#Not for service\n",
        "#단점\n",
        "#Batch size\n",
        "# Not for RNN\n",
        "\n",
        "# Layer Normalization\n",
        "# Batch VS Layer Normalization\n",
        "# model.add(BatchNormalizetion)\n",
        "# model.add(LayerNormalizetion)\n",
        "\n",
        "Keras 절차\n",
        "\n",
        "전처리 -> 워드임베딩 -> 모델링 -> 컴파일 -> 학습 -> 평가 -> 예측 -> 저장\n",
        "\n"
      ],
      "metadata": {
        "id": "DeBG1twkzrGp"
      }
    },
    {
      "cell_type": "markdown",
      "source": [
        "# 전처리\n",
        "\n",
        "from tensorflow.keras.preprocessing.text import Tokenizer\n",
        "from tensorflow.keras.preprocessing.sequence import pad_sequences\n",
        "tokenizer = Tokenizer()\n",
        "train_text = \"\"\"The earth is an awesome place live\"\"\"\n",
        "\n",
        "#단어 집합 생성\n",
        "tokenizer.fit_on_texts([train_text])\n",
        "\n",
        "#레이블 인코딩\n",
        "sub_text = \"\"\"The earth is an great place live\"\"\"\n",
        "sequences = tokenizer.texts_to_sequences([sub_text])[0]\n",
        "print(\"레이블 인토딩:\",sequences)\n",
        "print(\"단어 집합:\", tokenizer.word_index)\n",
        "\n",
        "pad_sequences([[1,2,3],[3,4,5,6],[7,8]],maxlen=3, padding='pre')\n",
        "\n",
        "# 워드임베딩\n",
        "# 원핫인코딩 : [01000...0000000]\n",
        "# 워드임베딩 : [01.-1.2 0.8 0.2 1.8]\n",
        "\n",
        "# 토큰화\n",
        "# tokenized_text = [['Hepe','to','see','you','soon'],['Nice','to','see','you','again']]\n",
        "\n",
        "# 각 단어에 대한 레이블 인코딩\n",
        "# encoded_text =[[7,1,2,3,4],[5,1,2,3,6]]\n",
        "\n",
        "# 위 레이블 인코딩 데이터가 아래의 임베딩 층의 입력이 된다\n",
        "# vocab_size = 7\n",
        "# embedding_dim=2\n",
        "\n",
        "모델링\n",
        "from tensorflow.keras.models import Sequential\n",
        "from tensorflow.keras.layers import Dense\n",
        "model = Sequential()\n",
        "model.add(Emdedding(vocab_size,output_dim, input_length))\n",
        "model.add(Dense(8, input_dim=4, activation='relu'))\n",
        "model.add(Dense(1,))\n",
        "\n",
        "컴파일\n",
        "from tensorflow.keras.layers import SimpleRNN, Embedding, Dense\n",
        "from tensorflow.keras.models import Sequential\n",
        "vocab_size = 10000\n",
        "embedding_dim = 32\n",
        "hidden_units = 32\n",
        "model = Sequential()\n",
        "model.add(Embedding(vocab_size, embedding_dim))\n",
        "model.add(SimpleRNN)\n",
        "\n",
        "회귀문제 - mean_squared_error\n",
        "다중 클래스 분류 - categorical_crossentropy\n",
        "\n",
        "학습\n",
        "compile() 코드 다음\n",
        "model.fit(x_train, y_train, epochs=10, batch_size=32)\n",
        "파라미터 추가\n",
        "model.fit(x_train, y_train, epochs=10, batch_size=32, verbose=0, validaation_data(x_val, y_val))\n",
        "훈련 데이터의 20%를 검증 데이터로 사용.\n",
        "model.fit(x_train, y_train, epochs=10, batch_size=32, verbose=0, validation_split=0.2)\n",
        "\n",
        "평가/예측/저장\n",
        "학습다음\n",
        "model.evaluate(x_test, y_test, batch_size=32)\n",
        "\n",
        "model.predict(x_input, batch_size=32)\n",
        "\n",
        "model.save(\"model_name.h5\")\n",
        "\n",
        "from tensorflow.keras.models import load_model\n",
        "model = load_model(\"model_name.h5\")\n",
        "\n",
        "Functional API\n",
        "Sequential API\n",
        "from tensorflow.keras"
      ],
      "metadata": {
        "id": "cnp_LYMl5e4v"
      }
    },
    {
      "cell_type": "markdown",
      "source": [
        "from tensorflow.keras.layers import input, Dense\n",
        "from tensorflow.models import Model\n",
        "inputs = Input(shape=(10,))\n",
        "hidden1 = Dense(64, activation='relu')(inputs)\n",
        "hidden2 = Dense(64, activation='relu')(hidden1)\n",
        "output = Dense(1, avtivation='sigmoid')(hidden2)\n",
        "model=model(inputs=inputs, outputs=output)\n",
        "model.compile(optimizer='rmsprop',loss='categorical_crossentropy',metrics=['accuracy'])\n",
        "\n"
      ],
      "metadata": {
        "id": "udAJhBPh_IcE"
      }
    },
    {
      "cell_type": "code",
      "source": [
        "# 선형회귀 구현 Sequential VS Functional\n",
        "\n",
        "import numpy as np\n",
        "import matplotlib.pyplot as plt\n",
        "from tensorflow.keras.models import Sequential\n",
        "from tensorflow.keras.layers import Dense\n",
        "from tensorflow.keras import optiminzers\n",
        "\n",
        "x=[1,2,3,4,5,6,7,8,9]\n",
        "y=[11,22,33,44,53,66,77,87,95]\n",
        "\n",
        "model = Sequential()\n",
        "model.add(Dense(1, input_dim=1, activation='linear'))\n",
        "sgd=optimizers.SGD(Ir=0.01)\n",
        "model.compile(optimizer=sgd, loss='mse', metrics=['mse'])\n",
        "model.fit(x,y epochs=300)"
      ],
      "metadata": {
        "id": "sBXOYJvhH7yR"
      },
      "execution_count": null,
      "outputs": []
    },
    {
      "cell_type": "markdown",
      "source": [
        "# Functional API\n",
        "\n",
        "from tensorflow.keras.layers import Input, Dense, concatenate\n",
        "\n",
        "from tensorflow.keras.models import Model\n",
        "\n",
        "inputA = Input(shape=(2,))\n",
        "\n",
        "inputB = Input(shape=(4,))\n",
        "\n",
        "x = Dense(4, activation=\"relu\")(inputA)\n",
        "\n",
        "x = Dense(2, activation=\"relu\")(x)\n",
        "\n",
        "x = Model(inputs=inputA, Outputs=x)\n",
        "\n",
        "y = Dense(4, activation =\"relu\")(inputB)\n",
        "\n",
        "y = Dense(2, activation =\"relu\")(y)\n",
        "\n",
        "y = Dense(2, activation =\"relu\")(y)\n",
        "\n",
        "y = Model(inputs=inputB, output=y)\n",
        "\n",
        "result = concatenate([x.output, y.output])\n",
        "\n",
        "z = Dense(2, activation=\"relu\")(result)\n",
        "\n",
        "z = Dense(1, activation=\"linear\")(z)"
      ],
      "metadata": {
        "id": "iVdjvtD5gdJz"
      }
    },
    {
      "cell_type": "code",
      "source": [
        "# Functional API\n",
        "\n",
        "from tensorflow.keras.layers import Input, Dense, concatenate\n",
        "\n",
        "from tensorflow.keras.models import Model\n",
        "\n",
        "inputA = Input(shape=(2,))\n",
        "\n",
        "inputB = Input(shape=(4,))\n",
        "\n",
        "x = Dense(4, activation=\"relu\")(inputA)\n",
        "\n",
        "x = Dense(2, activation=\"relu\")(x)\n",
        "\n",
        "x = Model(inputs=inputA, Outputs=x)\n",
        "\n",
        "y = Dense(4, activation =\"relu\")(inputB)\n",
        "\n",
        "y = Dense(2, activation =\"relu\")(y)\n",
        "\n",
        "y = Dense(2, activation =\"relu\")(y)\n",
        "\n",
        "y = Model(inputs=inputB, output=y)\n",
        "\n",
        "result = concatenate([x.output, y.output])\n",
        "\n",
        "z = Dense(2, activation=\"relu\")(result)\n",
        "\n",
        "z = Dense(1, activation=\"linear\")(z)"
      ],
      "metadata": {
        "id": "Syfe7AHLoOls"
      },
      "execution_count": null,
      "outputs": []
    },
    {
      "cell_type": "code",
      "source": [
        "from tensorflow.keras.layers import Input, Dense, LSTM\n",
        "\n",
        "from tensorflow.keras.models import Model\n",
        "\n",
        "inputs = Input(shape=(50,1))\n",
        "\n",
        "lstm_layer = LSTM(10)(inputs)\n",
        "\n",
        "x = Dense(10, activation = 'relu')(lstm_layer)\n",
        "\n",
        "output = Dense(1, activation='sigmoid')(x)\n",
        "\n",
        "model = Model(inputs=inputs, outputs = output)\n",
        "\n",
        "model.summary()"
      ],
      "metadata": {
        "colab": {
          "base_uri": "https://localhost:8080/"
        },
        "id": "8pbfHfsTlKRG",
        "outputId": "5d7a43ed-25ad-414b-ec75-114c71baa624"
      },
      "execution_count": 30,
      "outputs": [
        {
          "output_type": "stream",
          "name": "stdout",
          "text": [
            "Model: \"model\"\n",
            "_________________________________________________________________\n",
            " Layer (type)                Output Shape              Param #   \n",
            "=================================================================\n",
            " input_1 (InputLayer)        [(None, 50, 1)]           0         \n",
            "                                                                 \n",
            " lstm (LSTM)                 (None, 10)                480       \n",
            "                                                                 \n",
            " dense_16 (Dense)            (None, 10)                110       \n",
            "                                                                 \n",
            " dense_17 (Dense)            (None, 1)                 11        \n",
            "                                                                 \n",
            "=================================================================\n",
            "Total params: 601\n",
            "Trainable params: 601\n",
            "Non-trainable params: 0\n",
            "_________________________________________________________________\n"
          ]
        }
      ]
    },
    {
      "cell_type": "code",
      "source": [
        "# Subclassing API\n",
        "\n",
        "#회귀 분석 subclassing api 구성해보기\n",
        "\n",
        "import tensorflow as tf\n",
        "\n",
        "class LinearRegression(tf.keras.Model):\n",
        "  def __init__(self):\n",
        "    super(LinearRegression, self).__init__()\n",
        "    self.linear_layer = tf.keras.layers.Dense(1, input_dim=1, activation='linear')\n",
        "\n",
        "  def call(self,x):\n",
        "    y_pred = self.linear_layer(x)\n",
        "\n",
        "    return y_pred\n",
        "model = LinearRegression()\n",
        "\n",
        "sgd = tf.keras.optimizers.SGD(lr=0.01)\n",
        "model.compile(optimizer=sgd, loss='mse', metrics=['mse'])"
      ],
      "metadata": {
        "colab": {
          "base_uri": "https://localhost:8080/"
        },
        "id": "o0jjN1PJn1Ru",
        "outputId": "a8a07f21-4c52-43d2-bade-39d06a0f5e44"
      },
      "execution_count": 80,
      "outputs": [
        {
          "output_type": "stream",
          "name": "stderr",
          "text": [
            "/usr/local/lib/python3.7/dist-packages/keras/optimizer_v2/gradient_descent.py:102: UserWarning: The `lr` argument is deprecated, use `learning_rate` instead.\n",
            "  super(SGD, self).__init__(name, **kwargs)\n"
          ]
        }
      ]
    },
    {
      "cell_type": "code",
      "source": [
        "import numpy as np\n",
        "from tensorflow.keras.preprocessing.text import Tokenizer\n",
        "texts=['먹고 싶은 사과','먹고 싶은 바나나','길고 노란 바나나 바나나','저는 과일이 좋아요']\n",
        "tokenizer = Tokenizer()\n",
        "tokenizer.fit_on_texts(texts)\n",
        "print(tokenizer.word_index)\n",
        "print(tokenizer.texts_to_matrix(texts, mode ='count'))\n",
        "print(tokenizer.texts_to_matrix(texts, mode ='binary'))\n",
        "print(tokenizer.texts_to_matrix(texts, mode ='tfidf').round(2))\n",
        "print(tokenizer.texts_to_matrix(texts, mode ='freq').round(2))"
      ],
      "metadata": {
        "colab": {
          "base_uri": "https://localhost:8080/"
        },
        "id": "V6akwGfipo8X",
        "outputId": "7049fcfc-3c24-4585-c2e3-3a062b0f65ef"
      },
      "execution_count": 49,
      "outputs": [
        {
          "output_type": "stream",
          "name": "stdout",
          "text": [
            "{'바나나': 1, '먹고': 2, '싶은': 3, '사과': 4, '길고': 5, '노란': 6, '저는': 7, '과일이': 8, '좋아요': 9}\n",
            "[[0. 0. 1. 1. 1. 0. 0. 0. 0. 0.]\n",
            " [0. 1. 1. 1. 0. 0. 0. 0. 0. 0.]\n",
            " [0. 2. 0. 0. 0. 1. 1. 0. 0. 0.]\n",
            " [0. 0. 0. 0. 0. 0. 0. 1. 1. 1.]]\n",
            "[[0. 0. 1. 1. 1. 0. 0. 0. 0. 0.]\n",
            " [0. 1. 1. 1. 0. 0. 0. 0. 0. 0.]\n",
            " [0. 1. 0. 0. 0. 1. 1. 0. 0. 0.]\n",
            " [0. 0. 0. 0. 0. 0. 0. 1. 1. 1.]]\n",
            "[[0.   0.   0.85 0.85 1.1  0.   0.   0.   0.   0.  ]\n",
            " [0.   0.85 0.85 0.85 0.   0.   0.   0.   0.   0.  ]\n",
            " [0.   1.43 0.   0.   0.   1.1  1.1  0.   0.   0.  ]\n",
            " [0.   0.   0.   0.   0.   0.   0.   1.1  1.1  1.1 ]]\n",
            "[[0.   0.   0.33 0.33 0.33 0.   0.   0.   0.   0.  ]\n",
            " [0.   0.33 0.33 0.33 0.   0.   0.   0.   0.   0.  ]\n",
            " [0.   0.5  0.   0.   0.   0.25 0.25 0.   0.   0.  ]\n",
            " [0.   0.   0.   0.   0.   0.   0.   0.33 0.33 0.33]]\n"
          ]
        }
      ]
    },
    {
      "cell_type": "code",
      "source": [
        "import pandas as pd\n",
        "from sklearn.datasets import fetch_20newsgroups\n",
        "import matplotlib.pyplot as plt\n",
        "from tensorflow.keras.preprocessing.text import Tokenizer\n",
        "from tensorflow.keras.utils import to_categorical\n",
        "newsdata = fetch_20newsgroups(subset='train')\n",
        "print(newsdata.keys())\n",
        "print('훈련용 샘플의 개수 : {}'.format(len(newsdata.data)))\n",
        "print('총 주제의 개수 :{}'.format(len(newsdata.target_names)))\n",
        "print(newsdata.target_names)"
      ],
      "metadata": {
        "colab": {
          "base_uri": "https://localhost:8080/"
        },
        "id": "YPiAeCDhue4C",
        "outputId": "4462f6aa-6e3a-4c98-edb6-5b83eeb34109"
      },
      "execution_count": 51,
      "outputs": [
        {
          "output_type": "stream",
          "name": "stdout",
          "text": [
            "dict_keys(['data', 'filenames', 'target_names', 'target', 'DESCR'])\n",
            "훈련용 샘플의 개수 : 11314\n",
            "총 주제의 개수 :20\n",
            "['alt.atheism', 'comp.graphics', 'comp.os.ms-windows.misc', 'comp.sys.ibm.pc.hardware', 'comp.sys.mac.hardware', 'comp.windows.x', 'misc.forsale', 'rec.autos', 'rec.motorcycles', 'rec.sport.baseball', 'rec.sport.hockey', 'sci.crypt', 'sci.electronics', 'sci.med', 'sci.space', 'soc.religion.christian', 'talk.politics.guns', 'talk.politics.mideast', 'talk.politics.misc', 'talk.religion.misc']\n"
          ]
        }
      ]
    },
    {
      "cell_type": "code",
      "source": [
        "print('첫번째 샘플의 레이블 : {}'.format(newsdata.target[0]))"
      ],
      "metadata": {
        "colab": {
          "base_uri": "https://localhost:8080/"
        },
        "id": "40zVm8Syv-vd",
        "outputId": "3cd62359-3015-4260-b652-28284f44662e"
      },
      "execution_count": 52,
      "outputs": [
        {
          "output_type": "stream",
          "name": "stdout",
          "text": [
            "첫번째 샘플의 레이블 : 7\n"
          ]
        }
      ]
    },
    {
      "cell_type": "code",
      "source": [
        "print('7번 레이블이 의미하는 주제 : {}'.format(newsdata.target_names[7]))"
      ],
      "metadata": {
        "colab": {
          "base_uri": "https://localhost:8080/"
        },
        "id": "qbfehwCuwpjU",
        "outputId": "6d9227d6-b8ef-4854-fc6a-038dfc9bb98c"
      },
      "execution_count": 53,
      "outputs": [
        {
          "output_type": "stream",
          "name": "stdout",
          "text": [
            "7번 레이블이 의미하는 주제 : rec.autos\n"
          ]
        }
      ]
    },
    {
      "cell_type": "code",
      "source": [
        "data = pd.DataFrame(newsdata.data, columns = ['email'])\n",
        "data['target'] = pd.Series(newsdata.target)\n",
        "data[:5]"
      ],
      "metadata": {
        "colab": {
          "base_uri": "https://localhost:8080/",
          "height": 206
        },
        "id": "rLXVtlJBw2cm",
        "outputId": "79b9e228-d092-4f3b-c07b-af007df2d8ee"
      },
      "execution_count": 55,
      "outputs": [
        {
          "output_type": "execute_result",
          "data": {
            "text/plain": [
              "                                               email  target\n",
              "0  From: lerxst@wam.umd.edu (where's my thing)\\nS...       7\n",
              "1  From: guykuo@carson.u.washington.edu (Guy Kuo)...       4\n",
              "2  From: twillis@ec.ecn.purdue.edu (Thomas E Will...       4\n",
              "3  From: jgreen@amber (Joe Green)\\nSubject: Re: W...       1\n",
              "4  From: jcm@head-cfa.harvard.edu (Jonathan McDow...      14"
            ],
            "text/html": [
              "\n",
              "  <div id=\"df-1eed39d4-214d-4b72-95a4-7ea9a02ae268\">\n",
              "    <div class=\"colab-df-container\">\n",
              "      <div>\n",
              "<style scoped>\n",
              "    .dataframe tbody tr th:only-of-type {\n",
              "        vertical-align: middle;\n",
              "    }\n",
              "\n",
              "    .dataframe tbody tr th {\n",
              "        vertical-align: top;\n",
              "    }\n",
              "\n",
              "    .dataframe thead th {\n",
              "        text-align: right;\n",
              "    }\n",
              "</style>\n",
              "<table border=\"1\" class=\"dataframe\">\n",
              "  <thead>\n",
              "    <tr style=\"text-align: right;\">\n",
              "      <th></th>\n",
              "      <th>email</th>\n",
              "      <th>target</th>\n",
              "    </tr>\n",
              "  </thead>\n",
              "  <tbody>\n",
              "    <tr>\n",
              "      <th>0</th>\n",
              "      <td>From: lerxst@wam.umd.edu (where's my thing)\\nS...</td>\n",
              "      <td>7</td>\n",
              "    </tr>\n",
              "    <tr>\n",
              "      <th>1</th>\n",
              "      <td>From: guykuo@carson.u.washington.edu (Guy Kuo)...</td>\n",
              "      <td>4</td>\n",
              "    </tr>\n",
              "    <tr>\n",
              "      <th>2</th>\n",
              "      <td>From: twillis@ec.ecn.purdue.edu (Thomas E Will...</td>\n",
              "      <td>4</td>\n",
              "    </tr>\n",
              "    <tr>\n",
              "      <th>3</th>\n",
              "      <td>From: jgreen@amber (Joe Green)\\nSubject: Re: W...</td>\n",
              "      <td>1</td>\n",
              "    </tr>\n",
              "    <tr>\n",
              "      <th>4</th>\n",
              "      <td>From: jcm@head-cfa.harvard.edu (Jonathan McDow...</td>\n",
              "      <td>14</td>\n",
              "    </tr>\n",
              "  </tbody>\n",
              "</table>\n",
              "</div>\n",
              "      <button class=\"colab-df-convert\" onclick=\"convertToInteractive('df-1eed39d4-214d-4b72-95a4-7ea9a02ae268')\"\n",
              "              title=\"Convert this dataframe to an interactive table.\"\n",
              "              style=\"display:none;\">\n",
              "        \n",
              "  <svg xmlns=\"http://www.w3.org/2000/svg\" height=\"24px\"viewBox=\"0 0 24 24\"\n",
              "       width=\"24px\">\n",
              "    <path d=\"M0 0h24v24H0V0z\" fill=\"none\"/>\n",
              "    <path d=\"M18.56 5.44l.94 2.06.94-2.06 2.06-.94-2.06-.94-.94-2.06-.94 2.06-2.06.94zm-11 1L8.5 8.5l.94-2.06 2.06-.94-2.06-.94L8.5 2.5l-.94 2.06-2.06.94zm10 10l.94 2.06.94-2.06 2.06-.94-2.06-.94-.94-2.06-.94 2.06-2.06.94z\"/><path d=\"M17.41 7.96l-1.37-1.37c-.4-.4-.92-.59-1.43-.59-.52 0-1.04.2-1.43.59L10.3 9.45l-7.72 7.72c-.78.78-.78 2.05 0 2.83L4 21.41c.39.39.9.59 1.41.59.51 0 1.02-.2 1.41-.59l7.78-7.78 2.81-2.81c.8-.78.8-2.07 0-2.86zM5.41 20L4 18.59l7.72-7.72 1.47 1.35L5.41 20z\"/>\n",
              "  </svg>\n",
              "      </button>\n",
              "      \n",
              "  <style>\n",
              "    .colab-df-container {\n",
              "      display:flex;\n",
              "      flex-wrap:wrap;\n",
              "      gap: 12px;\n",
              "    }\n",
              "\n",
              "    .colab-df-convert {\n",
              "      background-color: #E8F0FE;\n",
              "      border: none;\n",
              "      border-radius: 50%;\n",
              "      cursor: pointer;\n",
              "      display: none;\n",
              "      fill: #1967D2;\n",
              "      height: 32px;\n",
              "      padding: 0 0 0 0;\n",
              "      width: 32px;\n",
              "    }\n",
              "\n",
              "    .colab-df-convert:hover {\n",
              "      background-color: #E2EBFA;\n",
              "      box-shadow: 0px 1px 2px rgba(60, 64, 67, 0.3), 0px 1px 3px 1px rgba(60, 64, 67, 0.15);\n",
              "      fill: #174EA6;\n",
              "    }\n",
              "\n",
              "    [theme=dark] .colab-df-convert {\n",
              "      background-color: #3B4455;\n",
              "      fill: #D2E3FC;\n",
              "    }\n",
              "\n",
              "    [theme=dark] .colab-df-convert:hover {\n",
              "      background-color: #434B5C;\n",
              "      box-shadow: 0px 1px 3px 1px rgba(0, 0, 0, 0.15);\n",
              "      filter: drop-shadow(0px 1px 2px rgba(0, 0, 0, 0.3));\n",
              "      fill: #FFFFFF;\n",
              "    }\n",
              "  </style>\n",
              "\n",
              "      <script>\n",
              "        const buttonEl =\n",
              "          document.querySelector('#df-1eed39d4-214d-4b72-95a4-7ea9a02ae268 button.colab-df-convert');\n",
              "        buttonEl.style.display =\n",
              "          google.colab.kernel.accessAllowed ? 'block' : 'none';\n",
              "\n",
              "        async function convertToInteractive(key) {\n",
              "          const element = document.querySelector('#df-1eed39d4-214d-4b72-95a4-7ea9a02ae268');\n",
              "          const dataTable =\n",
              "            await google.colab.kernel.invokeFunction('convertToInteractive',\n",
              "                                                     [key], {});\n",
              "          if (!dataTable) return;\n",
              "\n",
              "          const docLinkHtml = 'Like what you see? Visit the ' +\n",
              "            '<a target=\"_blank\" href=https://colab.research.google.com/notebooks/data_table.ipynb>data table notebook</a>'\n",
              "            + ' to learn more about interactive tables.';\n",
              "          element.innerHTML = '';\n",
              "          dataTable['output_type'] = 'display_data';\n",
              "          await google.colab.output.renderOutput(dataTable, element);\n",
              "          const docLink = document.createElement('div');\n",
              "          docLink.innerHTML = docLinkHtml;\n",
              "          element.appendChild(docLink);\n",
              "        }\n",
              "      </script>\n",
              "    </div>\n",
              "  </div>\n",
              "  "
            ]
          },
          "metadata": {},
          "execution_count": 55
        }
      ]
    },
    {
      "cell_type": "code",
      "source": [
        "data.isnull().values.any()"
      ],
      "metadata": {
        "colab": {
          "base_uri": "https://localhost:8080/"
        },
        "id": "Uc6EwihTxE44",
        "outputId": "e53be6ad-d3cb-4c8d-bb66-321aef6981e5"
      },
      "execution_count": 56,
      "outputs": [
        {
          "output_type": "execute_result",
          "data": {
            "text/plain": [
              "False"
            ]
          },
          "metadata": {},
          "execution_count": 56
        }
      ]
    },
    {
      "cell_type": "code",
      "source": [
        "print('중복을 제외한 샘플의 수 : {}'.format(data['email'].nunique()))\n",
        "print('중복을 제외한 주제의 수 : {}'.format(data['target'].nunique()))"
      ],
      "metadata": {
        "colab": {
          "base_uri": "https://localhost:8080/"
        },
        "id": "13_QHVuUxwN_",
        "outputId": "cf588900-f9dc-40c6-8c08-64c6c4002d65"
      },
      "execution_count": 57,
      "outputs": [
        {
          "output_type": "stream",
          "name": "stdout",
          "text": [
            "중복을 제외한 샘플의 수 : 11314\n",
            "중복을 제외한 주제의 수 : 20\n"
          ]
        }
      ]
    },
    {
      "cell_type": "code",
      "source": [
        "data['target'].value_counts().plot(kind='bar')"
      ],
      "metadata": {
        "colab": {
          "base_uri": "https://localhost:8080/",
          "height": 286
        },
        "id": "ByOn0iHqyK-B",
        "outputId": "f759a401-d090-4245-ec8f-0dfa3c1fe2f2"
      },
      "execution_count": 58,
      "outputs": [
        {
          "output_type": "execute_result",
          "data": {
            "text/plain": [
              "<matplotlib.axes._subplots.AxesSubplot at 0x7fb4efb94ad0>"
            ]
          },
          "metadata": {},
          "execution_count": 58
        },
        {
          "output_type": "display_data",
          "data": {
            "text/plain": [
              "<Figure size 432x288 with 1 Axes>"
            ],
            "image/png": "[encoded data removed]"
          },
          "metadata": {
            "needs_background": "light"
          }
        }
      ]
    },
    {
      "cell_type": "code",
      "source": [
        "print(data.groupby('target').size().reset_index(name='count'))"
      ],
      "metadata": {
        "colab": {
          "base_uri": "https://localhost:8080/"
        },
        "id": "219lejMByWSJ",
        "outputId": "5bf7bf7c-5257-44b4-b9b9-b51c9b2fd8d8"
      },
      "execution_count": 59,
      "outputs": [
        {
          "output_type": "stream",
          "name": "stdout",
          "text": [
            "    target  count\n",
            "0        0    480\n",
            "1        1    584\n",
            "2        2    591\n",
            "3        3    590\n",
            "4        4    578\n",
            "5        5    593\n",
            "6        6    585\n",
            "7        7    594\n",
            "8        8    598\n",
            "9        9    597\n",
            "10      10    600\n",
            "11      11    595\n",
            "12      12    591\n",
            "13      13    594\n",
            "14      14    593\n",
            "15      15    599\n",
            "16      16    546\n",
            "17      17    564\n",
            "18      18    465\n",
            "19      19    377\n"
          ]
        }
      ]
    },
    {
      "cell_type": "code",
      "source": [
        "newsdata_test = fetch_20newsgroups(subset='test',shuffle=True)\n",
        "train_email = data['email']\n",
        "train_label = data['target']\n",
        "test_email = newsdata_test.data\n",
        "test_label = newsdata_test.target\n",
        "vocab_size = 10000\n",
        "num_classes = 20"
      ],
      "metadata": {
        "id": "ofNYOEjzyrHQ"
      },
      "execution_count": 62,
      "outputs": []
    },
    {
      "cell_type": "code",
      "source": [
        "def prepare_data(train_data, test_data, mode):\n",
        "  tokenizer = Tokenizer(num_words = vocab_size)\n",
        "  tokenizer.fit_on_texts(train_data)\n",
        "  x_train = tokenizer.texts_to_matrix(train_data, mode=mode)\n",
        "  x_test = tokenizer.texts_to_matrix(test_data, mode=mode)\n",
        "  return x_train, x_test, tokenizer.index_word"
      ],
      "metadata": {
        "id": "eVzFXUIWzW8V"
      },
      "execution_count": 63,
      "outputs": []
    },
    {
      "cell_type": "code",
      "source": [
        "x_train, x_test, index_to_word = prepare_data(train_email, test_email, 'binary')\n",
        "y_train = to_categorical(train_label, num_classes)\n",
        "y_test = to_categorical(test_label, num_classes)\n",
        "print(len(x_train[0]))\n",
        "print(x_train[0])\n",
        "for i in range(20):\n",
        "  print(sum(x_train[i]))\n",
        "print(len(y_train[0]))\n",
        "print(y_train[0])\n",
        "print(sum(y_train[0]))"
      ],
      "metadata": {
        "colab": {
          "base_uri": "https://localhost:8080/"
        },
        "id": "ZuGBGrjX0LMj",
        "outputId": "5fdf41f3-3542-40a3-a276-09caf57d0832"
      },
      "execution_count": 66,
      "outputs": [
        {
          "output_type": "stream",
          "name": "stdout",
          "text": [
            "10000\n",
            "[0. 1. 1. ... 0. 0. 0.]\n",
            "86.0\n",
            "93.0\n",
            "192.0\n",
            "92.0\n",
            "115.0\n",
            "197.0\n",
            "64.0\n",
            "214.0\n",
            "42.0\n",
            "145.0\n",
            "90.0\n",
            "271.0\n",
            "31.0\n",
            "336.0\n",
            "146.0\n",
            "131.0\n",
            "189.0\n",
            "564.0\n",
            "88.0\n",
            "108.0\n",
            "20\n",
            "[0. 0. 0. 0. 0. 0. 0. 1. 0. 0. 0. 0. 0. 0. 0. 0. 0. 0. 0. 0.]\n",
            "1.0\n"
          ]
        }
      ]
    },
    {
      "cell_type": "code",
      "source": [
        "print('훈련 샘플 본문의 크기 : {}'.format(x_train.shape))\n",
        "print('훈련 샘플 레이블의 크기 : {}'.format(y_train.shape))\n",
        "print('테스트 샘플 본문의 크기 : {}'.format(x_test.shape))\n",
        "print('테스트 샘플 레이블의 크기 : {}'.format(y_test.shape))"
      ],
      "metadata": {
        "colab": {
          "base_uri": "https://localhost:8080/"
        },
        "id": "7caa_wEu04k-",
        "outputId": "5ca81e1d-5326-4a3c-af7c-58d5f7a76fc2"
      },
      "execution_count": 67,
      "outputs": [
        {
          "output_type": "stream",
          "name": "stdout",
          "text": [
            "훈련 샘플 본문의 크기 : (11314, 10000)\n",
            "훈련 샘플 레이블의 크기 : (11314, 20)\n",
            "테스트 샘플 본문의 크기 : (7532, 10000)\n",
            "테스트 샘플 레이블의 크기 : (7532, 20)\n"
          ]
        }
      ]
    },
    {
      "cell_type": "code",
      "source": [
        "print('빈도수 상위 1번 단어 : {}'.format(index_to_word[1]))\n",
        "print('빈도수 상위 9999번 단어 :{}'.format(index_to_word[9999]))"
      ],
      "metadata": {
        "colab": {
          "base_uri": "https://localhost:8080/"
        },
        "id": "CXTJEX3O3Fi9",
        "outputId": "55b6a2dd-7462-4739-ae0a-6a1b256dc7cb"
      },
      "execution_count": 76,
      "outputs": [
        {
          "output_type": "stream",
          "name": "stdout",
          "text": [
            "빈도수 상위 1번 단어 : the\n",
            "빈도수 상위 9999번 단어 :mic\n"
          ]
        }
      ]
    },
    {
      "cell_type": "code",
      "source": [
        "from tensorflow.keras.models import Sequential\n",
        "from tensorflow.keras.layers import Dense, Dropout"
      ],
      "metadata": {
        "id": "OHsrZX_S3YaU"
      },
      "execution_count": 77,
      "outputs": []
    },
    {
      "cell_type": "code",
      "source": [
        "model = Sequential()\n",
        "model.add(Dense(256, input_shape = (vocab_size,),activation='relu'))"
      ],
      "metadata": {
        "id": "_Uk5Wq_p33K9"
      },
      "execution_count": 81,
      "outputs": []
    },
    {
      "cell_type": "code",
      "source": [
        "model.add(Dropout(0.5))\n",
        "model.add(Dense(128, activation='relu'))\n",
        "model.add(Dropout(0.5))\n",
        "model.add(Dense(num_classes, activation='softmax'))\n",
        "model.compile(loss='categorical_crossentropy', optimizer='adam',metrics=['accuracy'])\n",
        "model.fit(x_train, y_train, batch_size=128, epochs=5, verbose=1, validation_split=0.1)\n",
        "score = model.evaluate(x_test, y_test, batch_size=128, verbose=0)\n",
        "# return.score[1]"
      ],
      "metadata": {
        "colab": {
          "base_uri": "https://localhost:8080/"
        },
        "id": "24h_FtLQ92NL",
        "outputId": "1fa2655d-0f9e-4009-de8d-35af24360b1e"
      },
      "execution_count": 83,
      "outputs": [
        {
          "output_type": "stream",
          "name": "stdout",
          "text": [
            "Epoch 1/5\n",
            "80/80 [==============================] - 4s 45ms/step - loss: 2.6468 - accuracy: 0.3381 - val_loss: 2.1722 - val_accuracy: 0.8984\n",
            "Epoch 2/5\n",
            "80/80 [==============================] - 3s 43ms/step - loss: 1.9751 - accuracy: 0.5030 - val_loss: 1.3047 - val_accuracy: 0.9055\n",
            "Epoch 3/5\n",
            "80/80 [==============================] - 3s 43ms/step - loss: 1.6988 - accuracy: 0.5049 - val_loss: 0.9190 - val_accuracy: 0.9134\n",
            "Epoch 4/5\n",
            "80/80 [==============================] - 3s 43ms/step - loss: 1.6506 - accuracy: 0.5060 - val_loss: 0.7612 - val_accuracy: 0.9037\n",
            "Epoch 5/5\n",
            "80/80 [==============================] - 3s 43ms/step - loss: 1.5900 - accuracy: 0.5165 - val_loss: 0.6667 - val_accuracy: 0.9170\n"
          ]
        }
      ]
    },
    {
      "cell_type": "code",
      "source": [
        "modes=['binary','count','tfidf','freq']\n",
        "for mode in modes:\n",
        "  x_train, x_test, _=prepare_data(train_email, test_email, mode)\n",
        "  score = fit_and_evaluate(x_train, y_train, x_test, y_test)\n",
        "  print(mode+'모드의 테스트 정확도:',score)"
      ],
      "metadata": {
        "id": "1-6aPKII-7_m"
      },
      "execution_count": null,
      "outputs": []
    },
    {
      "cell_type": "code",
      "source": [
        ""
      ],
      "metadata": {
        "id": "Kz0T0Q-DBQrX"
      },
      "execution_count": 88,
      "outputs": []
    }
  ]
}