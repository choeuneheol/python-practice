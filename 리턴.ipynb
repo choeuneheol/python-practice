{
  "nbformat": 4,
  "nbformat_minor": 0,
  "metadata": {
    "colab": {
      "name": "리턴.ipynb",
      "provenance": [],
      "authorship_tag": "ABX9TyMJXKPli8i0HVvCWOfcHqnl",
      "include_colab_link": true
    },
    "kernelspec": {
      "name": "python3",
      "display_name": "Python 3"
    },
    "language_info": {
      "name": "python"
    }
  },
  "cells": [
    {
      "cell_type": "markdown",
      "metadata": {
        "id": "view-in-github",
        "colab_type": "text"
      },
      "source": [
        "<a href=\"https://colab.research.google.com/github/choeuneheol/python-practice/blob/master/%EB%A6%AC%ED%84%B4.ipynb\" target=\"_parent\"><img src=\"https://colab.research.google.com/assets/colab-badge.svg\" alt=\"Open In Colab\"/></a>"
      ]
    },
    {
      "cell_type": "markdown",
      "source": [
        "##리턴 \n",
        "\n",
        "input()함수는 함수를 실행하고 나면 다음과 같은 형태로 함수의 결과를 받아서 사용했습니다. 이와 같은 함수의 결과를 리턴값(Return value)라고 합니다."
      ],
      "metadata": {
        "id": "q1rIPlIS5ita"
      }
    },
    {
      "cell_type": "code",
      "execution_count": 1,
      "metadata": {
        "colab": {
          "base_uri": "https://localhost:8080/"
        },
        "id": "A_VuLRsr5O02",
        "outputId": "634ab5c2-2423-4613-e80f-42fbb6f62007"
      },
      "outputs": [
        {
          "output_type": "stream",
          "name": "stdout",
          "text": [
            ">3\n",
            "3\n"
          ]
        }
      ],
      "source": [
        "#input() 함수의 리턴값을 변수로 저장합니다.\n",
        "value = input(\">\")\n",
        "\n",
        "#출력합니다.\n",
        "print(value)"
      ]
    },
    {
      "cell_type": "markdown",
      "source": [
        "### 자료 없이 리턴하기\n",
        "함수 내부에서는 return이라는 키워드를 사용할 수 있습니다. 이 키워드는 함수를\n",
        "실행했던 위치로 돌아가라는 뜻, 함수가 끝나는 위치를 의미합니다."
      ],
      "metadata": {
        "id": "rFOIYBc56c7P"
      }
    },
    {
      "cell_type": "code",
      "source": [
        "#함수를 정의합니다.\n",
        "def return_test():\n",
        "  print(\"A 위치입니다.\")\n",
        "  return #리턴합니다.\n",
        "  print(\"B 위치입니다.\")\n",
        "\n",
        "#함수를 호출합니다.\n",
        "return_test()"
      ],
      "metadata": {
        "colab": {
          "base_uri": "https://localhost:8080/"
        },
        "id": "9fFk7BGe5bM2",
        "outputId": "7d4dffd6-191f-4eb4-f4b9-feae85fd3a04"
      },
      "execution_count": 2,
      "outputs": [
        {
          "output_type": "stream",
          "name": "stdout",
          "text": [
            "A 위치입니다.\n"
          ]
        }
      ]
    },
    {
      "cell_type": "markdown",
      "source": [
        "###자료와 함께 리턴하기\n",
        "리턴 뒤에 자료를 입력하면 자료를 가지고 리턴합니다."
      ],
      "metadata": {
        "id": "KTOZXTuy6PIG"
      }
    },
    {
      "cell_type": "code",
      "source": [
        "# 함수를 정의합니다.\n",
        "def return_test():\n",
        "  return 100\n",
        "  \n",
        "# 함수를 호출합니다.\n",
        "value = return_test()\n",
        "print(value)"
      ],
      "metadata": {
        "colab": {
          "base_uri": "https://localhost:8080/"
        },
        "id": "zypON5Sm603G",
        "outputId": "6729c0fa-3fce-43f0-9dd8-fd23c9d84307"
      },
      "execution_count": 3,
      "outputs": [
        {
          "output_type": "stream",
          "name": "stdout",
          "text": [
            "100\n"
          ]
        }
      ]
    },
    {
      "cell_type": "markdown",
      "source": [
        "###아무것도 리턴하지 않기\n",
        "아무것도 리턴하지 않았을 때"
      ],
      "metadata": {
        "id": "SUqFF8mW7Bv0"
      }
    },
    {
      "cell_type": "code",
      "source": [
        "#함수를 정의합니다.\n",
        "def return_test():\n",
        "  return\n",
        "\n",
        "#함수를 호출합니다.\n",
        "value = return_test()\n",
        "print(value)"
      ],
      "metadata": {
        "colab": {
          "base_uri": "https://localhost:8080/"
        },
        "id": "jyPeQJDk7JXB",
        "outputId": "d64c6664-a220-450d-ae30-3d6a7c6e1b29"
      },
      "execution_count": 4,
      "outputs": [
        {
          "output_type": "stream",
          "name": "stdout",
          "text": [
            "None\n"
          ]
        }
      ]
    },
    {
      "cell_type": "markdown",
      "source": [
        "## 기본적인 함수의 활용"
      ],
      "metadata": {
        "id": "dTNQQgwZ7X9L"
      }
    },
    {
      "cell_type": "code",
      "source": [
        "# 함수를 선언합니다.\n",
        "def sum_all(start, end):\n",
        "  #변수를 선언합니다.\n",
        "  output = 0\n",
        "  #반복문을 돌려 숫자를 더합니다.\n",
        "  for i in range(start, end +1):\n",
        "    output += i\n",
        "  #리턴합니다.\n",
        "  return output\n",
        "\n",
        "#함수를 호출합니다.\n",
        "print(\"0 to 100:\", sum_all(0,100))\n",
        "print(\"0 to 1000:\", sum_all(0,1000))\n",
        "print(\"50 to 100:\", sum_all(50,100))\n",
        "print(\"500 to 1000:\", sum_all(500,1000))\n"
      ],
      "metadata": {
        "colab": {
          "base_uri": "https://localhost:8080/"
        },
        "id": "-PClw1D-8V5F",
        "outputId": "c22d8d35-da27-4953-e553-79b9a36fb22d"
      },
      "execution_count": 6,
      "outputs": [
        {
          "output_type": "stream",
          "name": "stdout",
          "text": [
            "0 to 100: 5050\n",
            "0 to 1000: 500500\n",
            "50 to 100: 3825\n",
            "500 to 1000: 375750\n"
          ]
        }
      ]
    },
    {
      "cell_type": "code",
      "source": [
        "#함수을 선언합니다.\n",
        "def sum_all(start=0, end=100, step=1):\n",
        "  #변수를 선언합니다.\n",
        "  output = 0\n",
        "  #반복문을 돌려 숫자를 더합니다.\n",
        "  for i in range(start, end + 1, step):\n",
        "    output += i\n",
        "  #리턴합니다.\n",
        "  return output\n",
        "\n",
        "#함수를 호출합니다.\n",
        "print(\"A.\",sum_all(0,100,10))\n",
        "print(\"B.\",sum_all(end=100))\n",
        "print(\"C.\",sum_all(end=100, step=2))"
      ],
      "metadata": {
        "colab": {
          "base_uri": "https://localhost:8080/"
        },
        "id": "h2YPK3LP9FED",
        "outputId": "9d663631-b9ba-40c3-918b-9eee7d2767d8"
      },
      "execution_count": 9,
      "outputs": [
        {
          "output_type": "stream",
          "name": "stdout",
          "text": [
            "A. 550\n",
            "B. 5050\n",
            "C. 2550\n"
          ]
        }
      ]
    },
    {
      "cell_type": "code",
      "source": [
        ""
      ],
      "metadata": {
        "id": "C7oI-19c-HJ1"
      },
      "execution_count": null,
      "outputs": []
    }
  ]
}