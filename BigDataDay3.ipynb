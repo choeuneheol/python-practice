{
  "nbformat": 4,
  "nbformat_minor": 0,
  "metadata": {
    "colab": {
      "name": "BigDataDay3.ipynb",
      "provenance": [],
      "authorship_tag": "ABX9TyOVz9KxPGO1n3aFA/u3tGT1",
      "include_colab_link": true
    },
    "kernelspec": {
      "name": "python3",
      "display_name": "Python 3"
    },
    "language_info": {
      "name": "python"
    }
  },
  "cells": [
    {
      "cell_type": "markdown",
      "metadata": {
        "id": "view-in-github",
        "colab_type": "text"
      },
      "source": [
        "<a href=\"https://colab.research.google.com/github/choeuneheol/python-practice/blob/master/BigDataDay3.ipynb\" target=\"_parent\"><img src=\"https://colab.research.google.com/assets/colab-badge.svg\" alt=\"Open In Colab\"/></a>"
      ]
    },
    {
      "cell_type": "markdown",
      "source": [
        "## 8th Phase Fitting a Model to Data"
      ],
      "metadata": {
        "id": "zC5wxBoZPyxL"
      }
    },
    {
      "cell_type": "markdown",
      "source": [
        "Abstract\n",
        "\n",
        "###데이터 분석에 사용될 속성\n",
        "\n",
        "Domain knowledge 이용\n",
        "\n",
        "데이터 분석기법 이용\n",
        "Parameter Learning or Parametric Modeling\n",
        "\n",
        "###가정\n",
        "\n",
        "분류와 계층 확률 추정 시 2진 계층만 고려\n",
        "\n",
        "모든 데이터는 수치형\n",
        "\n",
        "수치형 데이터의 공통단위 표준화 필요없음\n",
        "글자(범주형)X 수치형으로 바꿔줄것\n",
        "###목표\n",
        "\n",
        "모델 설정 후 모델을 데이터에 맞춰가며 분류모델 생성\n",
        "\n",
        "데이터를 보지 않고 모델을 먼저 결정하는 것이 가능한가?\n",
        "\n",
        "모델을 데이터에 맞춰간다는 의미는?"
      ],
      "metadata": {
        "id": "xyQZrNEaeCM0"
      }
    },
    {
      "cell_type": "markdown",
      "source": [
        "###Linear Classifier  선형 분류모델\n",
        "### 미지수는 무조건 방정식... 행렬 방정식... 편미분\n",
        "\n",
        "O과 X분류 문재\n",
        "\n",
        "2차원 평면에 데이터 분포\n",
        "\n",
        "몇 차원으로 나눌 수 있을까?\n",
        "\n",
        "분류자는 어떨게 찾을까?\n",
        "\n",
        "y = ax+b 는   f(x) = W0+w1*x1+w2*x2+... 와 같다\n",
        "\n",
        "### 다양한 분류자\n",
        "\n",
        "가장 분류를 잘하고 있는 분류선은?\n",
        "\n",
        "자동화가 가능한가?"
      ],
      "metadata": {
        "id": "qaN69UjqgPaC"
      }
    },
    {
      "cell_type": "markdown",
      "source": [
        "##Predictive Model\n",
        "\n",
        "인간 VS. 컴퓨터\n",
        "\n",
        "인간\n",
        "인간 => 생각 => 답변\n",
        "\n",
        "컴퓨터\n",
        "입력 => 연산 => 출력\n",
        "파운드 => ? => 킬로그램\n",
        "\n",
        "###사전정보\n",
        "\n",
        "선형 관계가 존재\n",
        "킬로그램 = 파운드 * x\n",
        "\n",
        "실제 데이터\n",
        "    파운드    킬로그램\n",
        "      0           0   \n",
        "     100      45.359237\n",
        "\n",
        "###x에 임의의 값 0.3 입력  \n",
        "## 슈퍼바이저러닝\n",
        "\n",
        "x에 임의의 값 0.3 입력\n",
        "100파운드 => 파운드*0.3        =>      30킬로그램 <=> 45.359237 킬로그램\n",
        "             (내가만든모델의출력값)        \n",
        "             y(30)=ax(100)\n",
        " E       TV       M\n",
        "오차 = 실제값 - 계산결과\n",
        "     = 45.359237-30\n",
        "     = 15.359237\n",
        "\n",
        "오차 = E\n",
        "실제값 = target value(tv)\n",
        "계산결과 = M\n",
        "\n",
        "학습을 할떄 정답 근처에 가기위해선\n",
        "오차를 줄이는 방식을 선호함\n",
        "\n",
        "클러스터닝 모델을 제외\n",
        "\n",
        "x에 임의의 값 0.4 입력\n",
        "  E     TV         M \n",
        "오차 = 실제값 - 계산결과\n",
        "     = 45.359237-40\n",
        "     = 5.359237\n",
        "     정답에 못미침\n",
        "\n",
        "x에 임의의 값 0.5 입력\n",
        "\n",
        " E      TV        M\n",
        "오차 = 실제값 - 계산결과\n",
        "     = 45.359237-50\n",
        "     = -4.640763\n",
        "     음수가 나온얘기는\n",
        "     오버슈팅됐다고얘기함\n",
        "\n",
        "x에 임의의 값 0.45입력 => 0.4와 0.5사이의 수 선택!!\n",
        "\n",
        " E       TV       M\n",
        "오차 = 실제값 - 계산결과\n",
        "     = 45.359237-45\n",
        "     = 0.359237\n",
        "     정답에 근접"
      ],
      "metadata": {
        "id": "xD_XPtk3gjUN"
      }
    },
    {
      "cell_type": "code",
      "source": [
        "###Linear Classifier 선형분류모델\n",
        "\n",
        "연어와 농어의 이진분류\n",
        "\n",
        "데이터\n",
        "\n",
        "무게   길이  어종\n",
        "25      20   연어\n",
        "10      50   농어\n",
        "\n",
        "처음 기울기 임의의 값 입력\n",
        "a(기울기) = 0.66\n",
        "연어와 농어를 잘 구분하지 못함\n",
        "적절한 분류선을 어떻게 찾을까?\n",
        "\n",
        "y=ax\n",
        "\n",
        "첫번째 데이터 입력\n",
        "\n",
        "무게 25, 길이 20인 연어 데이터\n",
        "y= 0.66 * 25 <= 내가만든모델의출력값\n",
        " = 16.5(내가만든모델의출력값)(M)\n",
        "\n",
        " 목표는 농어와 연어를 분리하는 것\n",
        " 연어의 무게가 25일 때 길이 25를 지나는 선을 생각해보자\n",
        "\n",
        " 이 선은 농어와 연어를 구별함\n",
        "\n",
        " 길이 25가 나와야 하나 오차(E) 발생\n",
        " 오차 = 목표값 - 내가만든모델출력값\n",
        "  8.5 = 25     - 16.5\n",
        "  E   = T      -  M\n",
        "\n",
        "오차(E)와 기울기(a) 와의 관계\n",
        "\n",
        "선형분류함수\n",
        "y=ax\n",
        "\n",
        "목표값\n",
        "t=(a+델타a)x\n",
        "\n",
        "오차(E)와 기울기(a)와의 관계\n",
        "E=t-y\n",
        " =(a+델타a)x - ax\n",
        " =ax+델타x-ax      => 델타a=E(오차)/x(25)\n",
        " =델타ax\n",
        "\n",
        "오차(E) 와 기울기(a) 와의 관계\n",
        "\n",
        "델타a = E/x\n",
        "\n",
        "무게 25, 길이 20 인 연어 데이터\n",
        "\n",
        "델타a=x/E\n",
        "     =25/8.5\n",
        "     =0.34\n",
        "\n",
        "최종기울기  y=ax\n",
        "\n",
        "t = (a+델타a)x\n",
        "  = (0.66+0.34)x\n",
        "  = 1.0x\n",
        "\n",
        "1.선형 분류 모델을 만들고 싶으면 오차를 구하라\n",
        "2.오차로 델타a를 구하라\n",
        "3.새로운 기울기는 기준의 기울기에 더해서\n",
        "\n",
        "### 두번째 데이터 입력\n",
        "무게 10, 길이 50인 농어 데이터\n",
        "\n",
        "y=1.0*1.0 <= 내가만든모델예측값\n",
        " =10.0\n",
        "\n",
        "길이가 50이 나와야 하나 오차(E) 발생\n",
        "선이 농어 밑으로 가야 하므로\n",
        "길이 49 가정\n",
        "오차 = 목표값 - 출력값\n",
        "39.0 = 49 - 10.0\n",
        "\n",
        "선이 농어 밑으로 가야 하므로 길이 49가정\n",
        "델타a=x/e\n",
        "     =10/39.0      y=(1.0+3.9)x      y=4.9x\n",
        "     =3.9\n",
        "\n",
        "\n",
        "기울기를 업데이트 하는 방법이 가지고 있는 문제점은?\n",
        "\n",
        "마지막 데이터의 영향력이 너무 강해짐\n",
        "보완 하는 방법이\n",
        "학습률(Learning Rate) 이용\n",
        "t=에타(a+델타a)x"
      ],
      "metadata": {
        "colab": {
          "base_uri": "https://localhost:8080/",
          "height": 136
        },
        "id": "7Trh-o60kTsJ",
        "outputId": "7779f061-a2b1-4220-92e0-36c051d4a424"
      },
      "execution_count": 1,
      "outputs": [
        {
          "output_type": "error",
          "ename": "SyntaxError",
          "evalue": "ignored",
          "traceback": [
            "\u001b[0;36m  File \u001b[0;32m\"<ipython-input-1-ff5d129536da>\"\u001b[0;36m, line \u001b[0;32m3\u001b[0m\n\u001b[0;31m    연어와 농어의 이진분류\u001b[0m\n\u001b[0m          ^\u001b[0m\n\u001b[0;31mSyntaxError\u001b[0m\u001b[0;31m:\u001b[0m invalid syntax\n"
          ]
        }
      ]
    }
  ]
}