{
  "cells": [
    {
      "cell_type": "markdown",
      "metadata": {
        "id": "view-in-github",
        "colab_type": "text"
      },
      "source": [
        "<a href=\"https://colab.research.google.com/github/choeuneheol/python-practice/blob/master/%EC%BB%B4%ED%93%A8%ED%84%B0%EB%B9%84%EC%A0%840720.ipynb\" target=\"_parent\"><img src=\"https://colab.research.google.com/assets/colab-badge.svg\" alt=\"Open In Colab\"/></a>"
      ]
    },
    {
      "cell_type": "code",
      "execution_count": null,
      "id": "6c272f92",
      "metadata": {
        "id": "6c272f92"
      },
      "outputs": [],
      "source": [
        "# 팽창연산 - 앵커포인트를 중심으로 4방향으로 팽창하기도 하고 8방향으로\n",
        "# 팽창하기도 하여 홀을 메우는데 사용한다\n",
        "\n",
        "# 침식연산 - 앵커포인트 중심으로 4방향으로 데이터가 없으면 앵커포인트가\n",
        "# 삭제된다. 홀을 메우는데 팽창과 침식을 같이 사용한다\n",
        "\n",
        "# 대두분 팽창을 먼저 두번해주고 침식을하여 이미지내에 홀을 지우는데\n",
        "# 사용한다\n",
        "\n",
        "# hsv 모델\n",
        "# 색상과 밝기를 나누는 부분이 나뉜다\n",
        "\n",
        "# Geometric Transforms\n",
        "\n",
        "# spatial transform\n",
        "# Gray-level interpolation\n",
        "\n",
        "\n",
        "# backward mapping\n",
        "# 출력 영상의 각 픽셀 좌표에 대응하는 원본 영상의 좌표를 \n",
        "# 계산하여 해당 픽셀과 밝기 값을 결정하는 방법\n",
        "\n",
        "# 출력 영상에서 정의되지 않은 픽셀 발생 방지\n",
        "# 계산된 좌표가 정수가 아닌 경우 발생 interpoltion적용\n",
        "\n",
        "# Affine transform\n",
        "\n",
        "# Linear transform\n",
        "# x,y를 적절히 조합하면 2Dspace를 적절히 나타낼수있다.\n",
        "\n",
        "# 선형대수학을 관심있게 봐야한다\n",
        "\n",
        "# 동차좌표계 \n",
        "# homogenous coordinate system사용\n",
        "\n",
        "\n",
        "# 행렬의 이동 translation\n",
        "\n",
        "# rotation 극좌표계로 이루어져있다\n",
        "\n",
        "# x = r ' cosΦ, y = r'sinΦ\n",
        "\n",
        "# 로테이션하는방법 영상을 축으로 옴긴후 회전하고 \n",
        "\n",
        "# 다시 원래 있던 곳으로 옴긴다\n",
        "\n",
        "\n"
      ]
    },
    {
      "cell_type": "code",
      "execution_count": null,
      "id": "6e98be6f",
      "metadata": {
        "id": "6e98be6f"
      },
      "outputs": [],
      "source": [
        "import os\n",
        "import cv2\n",
        "\n",
        "import sys\n",
        "import numpy as np\n",
        "import matplotlib.pyplot as plt\n"
      ]
    },
    {
      "cell_type": "code",
      "execution_count": null,
      "id": "e79506c1",
      "metadata": {
        "id": "e79506c1"
      },
      "outputs": [],
      "source": [
        "img =cv2.imread('fig/fig/cat.bmp')\n",
        "\n",
        "if img is None:\n",
        "    print('image read failed')\n",
        "    sys.exit()\n",
        "    \n",
        "cv2.namedWindow('image')\n",
        "cv2.imshow('image', img)\n",
        "while True:\n",
        "    if cv2.waitKey() == 27:\n",
        "        break\n",
        "        \n",
        "cv2.destroyAllWindows()"
      ]
    },
    {
      "cell_type": "code",
      "execution_count": null,
      "id": "06227a65",
      "metadata": {
        "id": "06227a65"
      },
      "outputs": [],
      "source": [
        "import glob"
      ]
    },
    {
      "cell_type": "code",
      "execution_count": null,
      "id": "201181c2",
      "metadata": {
        "id": "201181c2"
      },
      "outputs": [],
      "source": [
        "img_files = glob.glob('fig/fig/*.*')\n",
        "\n",
        "cv2.namedWindow('img', cv2.WINDOW_NORMAL)\n",
        "cv2.setWindowProperty('img', cv2.WND_PROP_FULLSCREEN, cv2.WINDOW_FULLSCREEN)\n",
        "\n",
        "idx = 0\n",
        "\n",
        "while True:\n",
        "    img = cv2.imread(img_files[idx])\n",
        "    \n",
        "    cv2.imshow('img',img)\n",
        "    \n",
        "    if cv2.waitKey(3000) == 27:\n",
        "        break\n",
        "        \n",
        "    idx += 1\n",
        "    \n",
        "    if idx >= len(img_files):\n",
        "        idx = 0\n",
        "        \n",
        "cv2.destroyAllWindows()\n",
        "\n"
      ]
    },
    {
      "cell_type": "code",
      "execution_count": null,
      "id": "c3fe9bd3",
      "metadata": {
        "id": "c3fe9bd3"
      },
      "outputs": [],
      "source": [
        "img = cv2.imread('fig/fig/green.png')\n",
        "\n",
        "img1 = img[200:300, 300:500].copy()\n",
        "img2 = img[200:300, 300:500]\n",
        "\n",
        "cv2.circle(img2, (100, 100),50,(0,0,255),5,cv2.LINE_AA)\n",
        "\n",
        "cv2.imshow('image', img1)\n",
        "cv2.imshow('image_cp', img2)\n",
        "\n",
        "cv2.waitKey()\n",
        "\n",
        "cv2.destroyAllWindows()"
      ]
    },
    {
      "cell_type": "code",
      "execution_count": null,
      "id": "1b7a773c",
      "metadata": {
        "id": "1b7a773c"
      },
      "outputs": [],
      "source": [
        "src = cv2.imread('fig/fig/airplane.bmp')\n",
        "mask = cv2.imread('fig/fig/mask_plane.bmp', 0)\n",
        "dst = cv2.imread('fig/fig/field.bmp')\n",
        "\n",
        "cv2.copyTo(src, mask, dst)\n",
        "\n",
        "cv2.imshow('src', src)\n",
        "cv2.imshow('mask', mask)\n",
        "cv2.imshow('dst', dst)\n",
        "\n",
        "cv2.waitKey()\n",
        "cv2.destroyAllWindows()"
      ]
    },
    {
      "cell_type": "code",
      "execution_count": null,
      "id": "4d4a85a0",
      "metadata": {
        "id": "4d4a85a0"
      },
      "outputs": [],
      "source": [
        "cap = cv2.VideoCapture(0)\n",
        "\n",
        "w = int(cap.get(cv2.CAP_PROP_FRAME_WIDTH))\n",
        "h = int(cap.get(cv2.CAP_PROP_FRAME_HEIGHT))\n",
        "fps = int(cap.get(cv2.CAP_PROP_FPS))\n",
        "fourcc = cv2.VideoWriter_fourcc(*'DIVX')\n",
        "\n",
        "out = cv2.VideoWriter('output_edge.avi',fourcc = fourcc, fps=fps, frameSize=(w,h))\n",
        "\n",
        "\n",
        "if not cap.isOpened():\n",
        "    sys.exit('cap open failed')\n",
        "    \n",
        "cv2.namedWindow('frame')\n",
        "\n",
        "while True:\n",
        "    ret, frame = cap.read()\n",
        "    \n",
        "    if not ret:\n",
        "        print('Go home')\n",
        "        break\n",
        "    \n",
        "    out.write(frame)\n",
        "    cv2.imshow('frame', frame)\n",
        "    \n",
        "    if cv2.waitKey(30) == 27:\n",
        "        break\n",
        "        \n",
        "out.release()\n",
        "cap.release()\n",
        "cv2.destroyAllWindows()"
      ]
    },
    {
      "cell_type": "code",
      "execution_count": null,
      "id": "ac51070a",
      "metadata": {
        "id": "ac51070a"
      },
      "outputs": [],
      "source": [
        "img = cv2.imread('fig/fig/cow.png', 0)\n",
        "img1 = img.copy\n",
        "\n",
        "cv2. imshow('image', img)\n",
        "while True:\n",
        "    \n",
        "    key = cv2.waitKey()\n",
        "    \n",
        "    if key == 27 or key == ord('q'):\n",
        "        break\n",
        "        \n",
        "    elif key == ord('i'):\n",
        "        img = 255 - img\n",
        "        cv2.imshow('img', img)\n",
        "        \n",
        "    elif key == ord('e'):\n",
        "        img = cv2.Canny(img, 50, 150)\n",
        "        cv2.imshow('img', img)\n",
        "        \n",
        "    elif key == ord('r'):\n",
        "        img = img1.copy()\n",
        "        cv2.imshow('img', img)\n",
        "        \n",
        "cv2.destroyAllWindows()"
      ]
    },
    {
      "cell_type": "code",
      "execution_count": null,
      "id": "ced606e8",
      "metadata": {
        "id": "ced606e8"
      },
      "outputs": [],
      "source": [
        "\n",
        "\n",
        "#키보드 처리\n",
        "img = cv2.imread('fig/fig/cat.bmp', cv2.IMREAD_GRAYSCALE)\n",
        "    \n",
        "if img is None:\n",
        "    print('image read failed')\n",
        "    sys.exit()\n",
        "    \n",
        "cv2. imshow('image', img)\n",
        "\n",
        "while True:\n",
        "    key = cv2.waitKey()\n",
        "    if key == 27 or key == ord('q'):\n",
        "        break\n",
        "        \n",
        "    elif key == ord('i'):\n",
        "        img1 = 255 - img\n",
        "        cv2.imshow('image',img1)\n",
        "        \n",
        "    elif key == ord('e'):\n",
        "        edge = cv2.Canny(img,50,150)\n",
        "        cv2.imshow('image',edge)\n",
        "        \n",
        "    elif key == ord('r'):\n",
        "        cv2.imshow('image', img)\n",
        "        \n",
        "cv2.destroyAllWindows()"
      ]
    },
    {
      "cell_type": "code",
      "execution_count": null,
      "id": "b42dccd2",
      "metadata": {
        "id": "b42dccd2"
      },
      "outputs": [],
      "source": [
        "\n",
        "\n",
        "#키보드 처리\n",
        "cap = cv2.VideoCapture(0)\n",
        "    \n",
        "if cap is None:\n",
        "    print('image read failed')\n",
        "    sys.exit()\n",
        "    \n",
        "\n",
        "while True:\n",
        "    \n",
        "    ret, frame = cap.read()\n",
        "    frame = cv2.flip(frame, 1)\n",
        "    \n",
        "    cv2.imshow('frame', frame)\n",
        "    \n",
        "    key = cv2.waitKey()\n",
        "    if key == 27 or key == ord('q'):\n",
        "        break\n",
        "        \n",
        "    elif key == ord('i'):\n",
        "        img1 = 255 - img\n",
        "        cv2.imshow('image',img1)\n",
        "        \n",
        "    elif key == ord('e'):\n",
        "        edge = cv2.Canny(img,50,150)\n",
        "        cv2.imshow('image',edge)\n",
        "        \n",
        "    elif key == ord('r'):\n",
        "        cv2.imshow('image', img)\n",
        "        \n",
        "cv2.destroyAllWindows()"
      ]
    },
    {
      "cell_type": "code",
      "execution_count": null,
      "id": "112149dd",
      "metadata": {
        "id": "112149dd"
      },
      "outputs": [],
      "source": [
        "# # 영상 효과넣기\n",
        "# import cv2\n",
        "# cap = cv2.VideoCapture(0)\n",
        "\n",
        "# while True:\n",
        "#         ret, frame = cap.read()\n",
        "#         frame = cv2.flip(frame, 1)\n",
        "        \n",
        "#         cv2.imshow('image', frame)\n",
        "#         if cv2.waitKey(1) & 0xFF == ord('q'):\n",
        "#                 break\n",
        "#         elif key == ord('e'):\n",
        "#             edge = cv2.Canny(img,50,150)\n",
        "#             cv2.imshow('image',edge)\n",
        "        \n",
        "\n",
        "# cap.release()\n",
        "# cv2.destroyAllWindows()\n",
        "\n",
        "cap = cv2.VideoCapture(0)\n",
        "\n",
        "if not cap.isOpened():\n",
        "    print('video open failed')\n",
        "    sys.exit()\n",
        "    \n",
        "f_flag = False\n",
        "i_flag = False\n",
        "\n",
        "while True:\n",
        "    ret, frame = cap.read()\n",
        "    if not ret:\n",
        "        print('go home')\n",
        "        break\n",
        "        \n",
        "    if f_flag:\n",
        "        frame = cv2.flip(frame, 1)\n",
        "        \n",
        "    if i_flag:\n",
        "        frame = cv2.Canny(frame, 50, 150)\n",
        "        \n",
        "    cv2.imshow('frame', frame)\n",
        "    \n",
        "    key = cv2.waitKey(30) \n",
        "\n",
        "    if key == 27:\n",
        "        break\n",
        "    elif key == ord('f'):\n",
        "        f_flag = not f_flag\n",
        "        \n",
        "    elif key == ord('i'):\n",
        "        i_flag = not i_flag\n",
        "        \n",
        "        \n",
        "cap.release()\n",
        "cv2.destroyAllWindows()"
      ]
    },
    {
      "cell_type": "code",
      "execution_count": null,
      "id": "5533dba8",
      "metadata": {
        "id": "5533dba8"
      },
      "outputs": [],
      "source": [
        "#마우스 콜벡\n",
        "\n",
        "def call_mouse(event, x, y, flags, param):\n",
        "    global oldx, oldy\n",
        "    \n",
        "    if event == cv2.EVENT_LBUTTONDOWN:\n",
        "        oldx, oldy = x, y\n",
        "#         print('left button down',x,y)\n",
        "        \n",
        "#     elif event == cv2.EVENT_LBUTTONUP:\n",
        "#         print('left button up', x, y)\n",
        "        \n",
        "    elif event == cv2.EVENT_MOUSEMOVE:\n",
        "        if flags == cv2.EVENT_FLAG_LBUTTON:\n",
        "            cv2.line(img,(oldx, oldy), (x,y), (0,0,255),4,cv2.LINE_AA)\n",
        "            cv2.imshow('image', img)\n",
        "            oldx, oldy = x, y\n",
        "#             print('Mouse move', x, y)\n",
        "\n",
        "img = np.ones((600, 1000, 3), np.uint8 )*255\n",
        "\n",
        "cv2.namedWindow('image')\n",
        "\n",
        "cv2.setMouseCallback('image', call_mouse, img)\n",
        "\n",
        "cv2.imshow('image', img)\n",
        "\n",
        "cv2.waitKey()\n",
        "cv2.destroyAllWindows()"
      ]
    },
    {
      "cell_type": "code",
      "execution_count": null,
      "id": "3e20376b",
      "metadata": {
        "id": "3e20376b"
      },
      "outputs": [],
      "source": [
        "cap = cv2.VideoCapture(0)\n",
        "\n",
        "if not cap.isOpened():\n",
        "    print(\"Video capture failed\")\n",
        "    sys.exit()\n",
        "\n",
        "f_flag = False\n",
        "i_flag = False\n",
        "\n",
        "while True:\n",
        "\n",
        "    ret, frame = cap.read()\n",
        "\n",
        "    if not ret:\n",
        "        print(\"Go home!\")\n",
        "        break\n",
        "\n",
        "    if f_flag:\n",
        "        frame = cv2.flip(frame, 1)\n",
        "\n",
        "    if i_flag:\n",
        "        frame = cv2.Canny(frame, 30, 150)\n",
        "\n",
        "    cv2.imshow(\"frame\",frame)\n",
        "\n",
        "    key = cv2.waitKey(30)\n",
        "\n",
        "    if key == 27:\n",
        "        break\n",
        "\n",
        "    elif key == ord(\"f\"):\n",
        "        f_flag = not f_flag\n",
        "\n",
        "    elif key == ord(\"i\"):\n",
        "        i_flag = not i_flag\n",
        "\n",
        "\n",
        "\n",
        "cap.release()\n",
        "cv2.destroyAllWindows()"
      ]
    },
    {
      "cell_type": "code",
      "execution_count": null,
      "id": "47a0ff77",
      "metadata": {
        "id": "47a0ff77"
      },
      "outputs": [],
      "source": [
        ""
      ]
    },
    {
      "cell_type": "code",
      "execution_count": null,
      "id": "8335c60c",
      "metadata": {
        "id": "8335c60c"
      },
      "outputs": [],
      "source": [
        ""
      ]
    },
    {
      "cell_type": "code",
      "execution_count": null,
      "id": "a2b75bb9",
      "metadata": {
        "id": "a2b75bb9"
      },
      "outputs": [],
      "source": [
        ""
      ]
    },
    {
      "cell_type": "code",
      "execution_count": null,
      "id": "fcbe61c3",
      "metadata": {
        "id": "fcbe61c3"
      },
      "outputs": [],
      "source": [
        ""
      ]
    },
    {
      "cell_type": "code",
      "execution_count": null,
      "id": "d33a264f",
      "metadata": {
        "id": "d33a264f"
      },
      "outputs": [],
      "source": [
        ""
      ]
    },
    {
      "cell_type": "code",
      "execution_count": null,
      "id": "abb34a20",
      "metadata": {
        "id": "abb34a20"
      },
      "outputs": [],
      "source": [
        ""
      ]
    },
    {
      "cell_type": "code",
      "execution_count": null,
      "id": "a2b8822c",
      "metadata": {
        "id": "a2b8822c"
      },
      "outputs": [],
      "source": [
        ""
      ]
    },
    {
      "cell_type": "code",
      "execution_count": null,
      "id": "c6d723be",
      "metadata": {
        "id": "c6d723be"
      },
      "outputs": [],
      "source": [
        ""
      ]
    }
  ],
  "metadata": {
    "kernelspec": {
      "display_name": "Python 3 (ipykernel)",
      "language": "python",
      "name": "python3"
    },
    "language_info": {
      "codemirror_mode": {
        "name": "ipython",
        "version": 3
      },
      "file_extension": ".py",
      "mimetype": "text/x-python",
      "name": "python",
      "nbconvert_exporter": "python",
      "pygments_lexer": "ipython3",
      "version": "3.9.12"
    },
    "colab": {
      "name": "컴퓨터비전0720.ipynb",
      "provenance": [],
      "include_colab_link": true
    }
  },
  "nbformat": 4,
  "nbformat_minor": 5
}