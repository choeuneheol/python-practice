{
  "cells": [
    {
      "cell_type": "markdown",
      "metadata": {
        "id": "view-in-github",
        "colab_type": "text"
      },
      "source": [
        "<a href=\"https://colab.research.google.com/github/choeuneheol/python-practice/blob/test/%EC%BB%B4%ED%93%A8%ED%84%B0%EB%B9%84%EC%A0%840718.ipynb\" target=\"_parent\"><img src=\"https://colab.research.google.com/assets/colab-badge.svg\" alt=\"Open In Colab\"/></a>"
      ]
    },
    {
      "cell_type": "code",
      "execution_count": null,
      "id": "50d00fc0",
      "metadata": {
        "id": "50d00fc0",
        "outputId": "837c7d05-6096-49c7-d275-90b63af5474b"
      },
      "outputs": [
        {
          "name": "stdout",
          "output_type": "stream",
          "text": [
            "Using matplotlib backend: QtAgg\n"
          ]
        }
      ],
      "source": [
        "import cv2\n",
        "import sys\n",
        "import os\n",
        "import numpy as np\n",
        "import glob\n",
        "import matplotlib.pyplot as plt\n",
        "%matplotlib"
      ]
    },
    {
      "cell_type": "code",
      "execution_count": null,
      "id": "2fe4c153",
      "metadata": {
        "id": "2fe4c153"
      },
      "outputs": [],
      "source": [
        "img = cv2.imread('images/puppy.bmp')\n",
        "\n",
        "if img is None:\n",
        "    print('image read failed')\n",
        "    sys.exit()\n",
        "    \n",
        "\n",
        "    \n",
        "cv2.imshow('img', img)\n",
        "while cv2.waitKey() == 27:\n",
        "    break\n",
        "    \n",
        "    \n",
        "    \n",
        "cv2.destroyAllWindows()"
      ]
    },
    {
      "cell_type": "code",
      "execution_count": null,
      "id": "4fe6f8e2",
      "metadata": {
        "id": "4fe6f8e2"
      },
      "outputs": [],
      "source": [
        "img = cv2.imread('images/puppy.bmp')\n",
        "\n",
        "if img is None:\n",
        "    print('image read failed')\n",
        "    sys.exit()\n",
        "    \n",
        "img_re=cv2.resize(img,(800,1000), interpolation = cv2.INTER_LINEAR)\n",
        "    \n",
        "cv2.imshow('img', img)\n",
        "cv2.imshow('img_re', img_re)\n",
        "while cv2.waitKey() == 27:\n",
        "    break\n",
        "    \n",
        "cv2.destroyAllWindows()"
      ]
    },
    {
      "cell_type": "code",
      "execution_count": null,
      "id": "6858f1bf",
      "metadata": {
        "id": "6858f1bf"
      },
      "outputs": [],
      "source": [
        "#풀스크린\n",
        "img_files = glob.glob('images/*.*')\n",
        "\n",
        "\n",
        "cv2.namedWindow('scene', cv2.WINDOW_NORMAL)\n",
        "cv2.setWindowProperty('scene', cv2.WND_PROP_FULLSCREEN,\n",
        "                     cv2.WINDOW_FULLSCREEN)\n",
        "\n",
        "idx =0\n",
        "\n",
        "while True:\n",
        "    img = cv2.imread(img_files[idx], cv2.IMREAD_COLOR)\n",
        "    \n",
        "    cv2.imshow('scene', img)\n",
        "    \n",
        "    if cv2.waitKey(3000) == 27:\n",
        "        break\n",
        "        idx += 1\n",
        "        \n",
        "    if idx >= len(img_files):\n",
        "        idx = 0\n",
        "        \n",
        "cv2.imshow('img_files', img)\n",
        "cv2.waitKey()\n",
        "cv2.destroyAllWindows()"
      ]
    },
    {
      "cell_type": "code",
      "execution_count": null,
      "id": "536310e0",
      "metadata": {
        "id": "536310e0"
      },
      "outputs": [],
      "source": [
        "#알파채널만들기\n",
        "import matplotlib.pyplot as plt\n",
        "import cv2\n",
        "import sys\n",
        "import os\n",
        "import numpy as np\n",
        "import glob"
      ]
    },
    {
      "cell_type": "code",
      "execution_count": null,
      "id": "d8f74fe0",
      "metadata": {
        "id": "d8f74fe0"
      },
      "outputs": [],
      "source": [
        "src = cv2.imread('fig/fig/puppy.bmp')\n",
        "sunglass = cv2.imread('fig/fig/imgbin_sunglasses_1.png', cv2.IMREAD_UNCHANGED)\n",
        "sunglass = cv2.resize(sunglass,(300,150))\n",
        "\n",
        "mask = sunglass[:,:,-1]\n",
        "glass = sunglass[:,:,0:3]\n",
        "\n",
        "h, w = mask.shape[:2]\n",
        "src_crop = src[120:120+h, 220:220+w]\n",
        "\n",
        "cv2.copyTo(glass, mask, src_crop)\n",
        "\n",
        "cv2.imshow('src',src)\n",
        "cv2.imshow('mask',mask)\n",
        "cv2.imshow('glass',glass)\n",
        "cv2.imshow('crop', src_crop)\n",
        "\n",
        "cv2.waitKey()\n",
        "cv2.destroyAllWindows()"
      ]
    },
    {
      "cell_type": "code",
      "execution_count": null,
      "id": "1da40c37",
      "metadata": {
        "id": "1da40c37",
        "outputId": "b755037c-1d8e-4e84-ab12-ed37dab1933e"
      },
      "outputs": [
        {
          "data": {
            "text/plain": [
              "(150, 300, 4)"
            ]
          },
          "execution_count": 33,
          "metadata": {},
          "output_type": "execute_result"
        }
      ],
      "source": [
        "src.shape\n",
        "sunglass.shape"
      ]
    },
    {
      "cell_type": "code",
      "execution_count": null,
      "id": "79105066",
      "metadata": {
        "id": "79105066"
      },
      "outputs": [],
      "source": [
        "src = cv2.imread('fig/fig/WIN_20220715_15_20_01_Pro.jpg')\n",
        "bst = cv2.imread('fig/fig/imgbin_hat.png',cv2.IMREAD_UNCHANGED)\n",
        "bst = cv2.resize(bst,(400,500))\n",
        "\n",
        "mask = bst[:,:,-1]\n",
        "glass = bst[:,:,0:3]\n",
        "\n",
        "h, w = mask.shape[:2]\n",
        "\n",
        "src_crop = src[90:90+h, 465:465+w]\n",
        "\n",
        "cv2.copyTo(glass, mask, src_crop)\n",
        "\n",
        "cv2.imshow('src',src)\n",
        "cv2.imshow('mask',mask)\n",
        "cv2.imshow('src_crop', src_crop)\n",
        "\n",
        "cv2.waitKey()\n",
        "cv2.destroyAllWindows()"
      ]
    },
    {
      "cell_type": "code",
      "execution_count": null,
      "id": "b8b4b123",
      "metadata": {
        "id": "b8b4b123"
      },
      "outputs": [],
      "source": [
        "#백지에 선긋기(이름 쓰기 : 조은철)\n",
        "\n",
        "img = np.full((600,1200,3),(255,255,255), dtype=np.uint8)\n",
        "\n",
        "cv2.imshow('image',img)\n",
        "\n",
        "cv2.line(img,(50,50),(300,50),(0,0,0),4)\n",
        "cv2.line(img,(170,50),(200,250),(0,0,0),4)\n",
        "cv2.line(img,(170,50),(130,250),(0,0,0),4)\n",
        "cv2.line(img,(170,170),(170,280),(0,0,0),4)\n",
        "cv2.line(img,(300,280),(50,280),(0,0,0),4)\n",
        "\n",
        "cv2.circle(img,(450,100),70,(0,0,0),4,cv2.LINE_AA)\n",
        "cv2.line(img,(320,190),(580,190),(0,0,0),4)\n",
        "cv2.line(img,(380,280),(380,220),(0,0,0),4)\n",
        "cv2.line(img,(380,280),(550,280),(0,0,0),4)\n",
        "\n",
        "cv2.rectangle(img, (50,400),(400,500),(0,0,0),20)\n",
        "cv2.rectangle(img,(60,450,300,150),(255,255,255),-1)\n",
        "cv2.ellipse(img,(600,300),(50,100),30,0,100,(171,0,255),10,cv2.LINE_AA)\n",
        "\n",
        "cv2.putText(img, \"vesion\",(600,500),cv2.FONT_HERSHEY_COMPLEX,2,(133,170,200),5,cv2.LINE_AA)\n",
        "\n",
        "cv2.imshow('img',img)\n",
        "while cv2.waitKey() == 27:\n",
        "    break\n",
        "cv2.destroyAllWindows()"
      ]
    },
    {
      "cell_type": "code",
      "execution_count": null,
      "id": "69f78969",
      "metadata": {
        "id": "69f78969"
      },
      "outputs": [],
      "source": [
        ""
      ]
    },
    {
      "cell_type": "code",
      "execution_count": null,
      "id": "93a2236b",
      "metadata": {
        "id": "93a2236b"
      },
      "outputs": [],
      "source": [
        ""
      ]
    },
    {
      "cell_type": "code",
      "execution_count": null,
      "id": "1eba38d7",
      "metadata": {
        "id": "1eba38d7"
      },
      "outputs": [],
      "source": [
        ""
      ]
    },
    {
      "cell_type": "code",
      "execution_count": null,
      "id": "b3ca233b",
      "metadata": {
        "id": "b3ca233b"
      },
      "outputs": [],
      "source": [
        ""
      ]
    },
    {
      "cell_type": "code",
      "execution_count": null,
      "id": "538f61ad",
      "metadata": {
        "id": "538f61ad"
      },
      "outputs": [],
      "source": [
        ""
      ]
    },
    {
      "cell_type": "code",
      "execution_count": null,
      "id": "c771bb7f",
      "metadata": {
        "id": "c771bb7f"
      },
      "outputs": [],
      "source": [
        ""
      ]
    }
  ],
  "metadata": {
    "kernelspec": {
      "display_name": "Python 3 (ipykernel)",
      "language": "python",
      "name": "python3"
    },
    "language_info": {
      "codemirror_mode": {
        "name": "ipython",
        "version": 3
      },
      "file_extension": ".py",
      "mimetype": "text/x-python",
      "name": "python",
      "nbconvert_exporter": "python",
      "pygments_lexer": "ipython3",
      "version": "3.9.12"
    },
    "colab": {
      "name": "컴퓨터비전0718.ipynb",
      "provenance": [],
      "include_colab_link": true
    }
  },
  "nbformat": 4,
  "nbformat_minor": 5
}