{
 "cells": [
  {
   "cell_type": "code",
   "execution_count": null,
   "id": "bc0d736f",
   "metadata": {},
   "outputs": [],
   "source": [
    "print(\"test\")"
   ]
  },
  {
   "cell_type": "code",
   "execution_count": null,
   "id": "12a85170",
   "metadata": {
    "scrolled": true
   },
   "outputs": [],
   "source": [
    "import keyword\n",
    "print(keyword.kwlist)"
   ]
  },
  {
   "cell_type": "markdown",
   "id": "c992e216",
   "metadata": {},
   "source": [
    "# python code \n",
    "-- print 설명\n",
    ". test\n",
    "1. 456\n",
    "\n"
   ]
  },
  {
   "cell_type": "code",
   "execution_count": null,
   "id": "9a3c476c",
   "metadata": {},
   "outputs": [],
   "source": [
    "a = 10 + 20\n",
    "print(a)"
   ]
  },
  {
   "cell_type": "code",
   "execution_count": null,
   "id": "a9084ecb",
   "metadata": {},
   "outputs": [],
   "source": [
    "print(10, 20, 'print test')\n",
    "print(50)\n",
    "a\n",
    "\n",
    "# print('a = ', a)\n",
    "b = 20\n",
    "b"
   ]
  },
  {
   "cell_type": "code",
   "execution_count": null,
   "id": "f1ae6da2",
   "metadata": {},
   "outputs": [],
   "source": [
    "\n",
    "# 여러 개를 출력합니다.\n",
    "print(\"# 여러 개를 출력합니다.\")\n",
    "print(10, 20, 30, 40, 50)\n",
    "print(\"안녕하세요\", \"저의\", \"이름은\", \"윤인성입니다!\")\n",
    "print()\n",
    "\n",
    "# 하나만 출력합니다.\n",
    "print(\"# 하나만 출력합니다.\")\n",
    "print(\"Hello Python Programming...!\")\n",
    "print()\n",
    "\n",
    "# 아무것도 입력하지 않으면 단순하게 줄바꿈합니다.\n",
    "print(\"# 아무것도 출력하지 않습니다.\")\n",
    "print(\"--- 확인 전용선 ---\")\n",
    "print()\n",
    "print()\n",
    "print(\"--- 확인 전용선 ---\")"
   ]
  },
  {
   "cell_type": "code",
   "execution_count": 2,
   "id": "2bdb2ed4",
   "metadata": {},
   "outputs": [
    {
     "name": "stdout",
     "output_type": "stream",
     "text": [
      "<class 'str'>\t<class 'int'>\t<class 'bool'>\t<class 'float'>\n",
      "test123 blank\n",
      "\"hello !!\\\"\n"
     ]
    }
   ],
   "source": [
    "# print() 함수 사용\n",
    "print(type('test'), type(12), type(True), type(35.0), sep='\\t')\n",
    "print('test123', 'blank')\n",
    "# \"를 출력  \\\"  escape 문자사용\n",
    "print(\"\\\"hello !!\\\\\\\"\")\n",
    "\n",
    "# \\t, \\n, \\특수문자 (\", ', \\)"
   ]
  },
  {
   "cell_type": "code",
   "execution_count": null,
   "id": "4488e8b0",
   "metadata": {
    "scrolled": true
   },
   "outputs": [],
   "source": [
    "# \\t 를 사용하여 자리수 맞춤으로 출력\n",
    "print(\"이름\\t나이\\t지역\\n\")\n",
    "print()\n",
    "print(\"윤인성\\t25\\t강서구\\n\")\n",
    "print(\"윤아린\\t24\\t강서구\")\n",
    "print(\"구름\\t3\\t강서구\")"
   ]
  },
  {
   "cell_type": "code",
   "execution_count": null,
   "id": "a1c242ff",
   "metadata": {},
   "outputs": [],
   "source": [
    "# 여러 라인의 문자열 => \"\"\" 문자열 \"\"\"    \n",
    "# 문자열 연산 : +  => 문자열 + 문자열\n",
    "print(\"Good\" + \" afternoon !!\" + \" end!!\")\n",
    "# print(\"Good\" + 1)   # error "
   ]
  },
  {
   "cell_type": "code",
   "execution_count": null,
   "id": "dfb07faa",
   "metadata": {},
   "outputs": [],
   "source": [
    "# 문자열 * 숫자 => 숫자만큼 문자열 반복\n",
    "# 숫자 * 문자열\n",
    "print('test ' * 3)\n",
    "print(3 * 'test')"
   ]
  },
  {
   "cell_type": "code",
   "execution_count": 8,
   "id": "0c9ed2a6",
   "metadata": {},
   "outputs": [
    {
     "name": "stdout",
     "output_type": "stream",
     "text": [
      "녕\n",
      "요\n",
      "세\n"
     ]
    }
   ],
   "source": [
    "# 0 인덱스 -> 문자열[인덱스]\n",
    "a_str = '안녕하세요'\n",
    "print(a_str[1])\n",
    "print(a_str[-1])\n",
    "print(a_str[-2]) # 세"
   ]
  },
  {
   "cell_type": "code",
   "execution_count": 20,
   "id": "ebb2ecbe",
   "metadata": {},
   "outputs": [
    {
     "name": "stdout",
     "output_type": "stream",
     "text": [
      "안녕\n",
      "하세요\n",
      "안녕하\n",
      "안녕하세\n",
      "안녕하세요\n"
     ]
    }
   ],
   "source": [
    "# 범위의 자료를 검색  [ start : end ]  : start는 포함, end는 포함하지 않음\n",
    " \n",
    "print(a_str[0 : 2])# 안녕만 출력\n",
    "    \n",
    "print(a_str[2:])# '하'부터 끝까지 출력\n",
    "print(a_str[0:3]) # 처음부터'하' 까지만 출력\n",
    "print(a_str[0:4])  # 마지막 글자만 제외하고 출력\n",
    "print(a_str[:])  # 모든 문자 출력\n",
    "\n",
    "# print(a_str[10]) index out of range"
   ]
  },
  {
   "cell_type": "code",
   "execution_count": null,
   "id": "656133fb",
   "metadata": {},
   "outputs": [],
   "source": [
    "# 자료의 타입을 알려주는 함수 : type()\n",
    "# 문자열의 길이를 구하는 함수 : len()\n",
    "print(len(a_str))\n",
    " # a_str[ 2: 5 - 1]\n",
    "print(type(a_str))"
   ]
  },
  {
   "cell_type": "code",
   "execution_count": null,
   "id": "0e2a1c03",
   "metadata": {},
   "outputs": [],
   "source": [
    "# 숫자 연산자 : +, -, *, /, //, %, **\n",
    "print(4 + 2, 4-2, 3 *2, 3 /2, 3%2, 3//2, 3**2)\n",
    "a = 10; b = 3\n",
    "print(a, \"+\", b, \"=\", a+b)\n",
    "print(a, \"//\", b, \"=\", a//b)\n",
    "print(a, \"%\", b, \"=\", a%b)"
   ]
  },
  {
   "cell_type": "code",
   "execution_count": null,
   "id": "b8c44ee9",
   "metadata": {},
   "outputs": [],
   "source": [
    "# 변수 선언과 참조\n",
    "a  = 10\n",
    "print(a + b)\n",
    "\n",
    "a = 11\n",
    "a+b  # 14"
   ]
  },
  {
   "cell_type": "code",
   "execution_count": null,
   "id": "8d82482b",
   "metadata": {},
   "outputs": [],
   "source": []
  },
  {
   "cell_type": "code",
   "execution_count": null,
   "id": "e2e7b4a2",
   "metadata": {},
   "outputs": [],
   "source": [
    "a=10\n",
    "b=3\n",
    "a+b"
   ]
  },
  {
   "cell_type": "code",
   "execution_count": null,
   "id": "b0b42ab1",
   "metadata": {},
   "outputs": [],
   "source": [
    "# a += 3   # a <- 13, 16, 19\n",
    "a + b   #  16  19 22"
   ]
  },
  {
   "cell_type": "code",
   "execution_count": 21,
   "id": "7062443f",
   "metadata": {},
   "outputs": [
    {
     "name": "stdout",
     "output_type": "stream",
     "text": [
      "자료 입력 > 123\n",
      "123 <class 'str'>\n",
      "223.0\n",
      "123.01\n"
     ]
    }
   ],
   "source": [
    "# 키보드에서 입력 받는 함수 input()\n",
    "input_data = input('자료 입력 > ')  # 값\n",
    "print(input_data, type(input_data))\n",
    "\n",
    "# 데이터 타입 변경 -> int(), float(), str()\n",
    "print(float(input_data) + 100)\n",
    "print(str(float(input_data)) + '1') # str -> float -> str "
   ]
  },
  {
   "cell_type": "code",
   "execution_count": null,
   "id": "6ac41849",
   "metadata": {},
   "outputs": [],
   "source": [
    "# 키보드로 부터 두 수를 입력 받아 두 수의 합과, 곱의 결과를 구하세요\n"
   ]
  },
  {
   "cell_type": "code",
   "execution_count": 1,
   "id": "97273a5b",
   "metadata": {},
   "outputs": [
    {
     "name": "stdout",
     "output_type": "stream",
     "text": [
      "test 123\n"
     ]
    },
    {
     "ename": "NameError",
     "evalue": "name 'input_a' is not defined",
     "output_type": "error",
     "traceback": [
      "\u001b[1;31m---------------------------------------------------------------------------\u001b[0m",
      "\u001b[1;31mNameError\u001b[0m                                 Traceback (most recent call last)",
      "\u001b[1;32m~\\AppData\\Local\\Temp/ipykernel_9168/131983488.py\u001b[0m in \u001b[0;36m<module>\u001b[1;34m\u001b[0m\n\u001b[0;32m      1\u001b[0m \u001b[1;31m# 문자열 관련 함수  : \"{} {} \".format(data1, data2)\u001b[0m\u001b[1;33m\u001b[0m\u001b[1;33m\u001b[0m\u001b[0m\n\u001b[0;32m      2\u001b[0m \u001b[0mprint\u001b[0m\u001b[1;33m(\u001b[0m\u001b[1;34m\"{} {}\"\u001b[0m\u001b[1;33m.\u001b[0m\u001b[0mformat\u001b[0m\u001b[1;33m(\u001b[0m\u001b[1;34m'test'\u001b[0m\u001b[1;33m,\u001b[0m \u001b[1;36m123\u001b[0m\u001b[1;33m)\u001b[0m\u001b[1;33m)\u001b[0m\u001b[1;33m\u001b[0m\u001b[1;33m\u001b[0m\u001b[0m\n\u001b[1;32m----> 3\u001b[1;33m \u001b[0mprint\u001b[0m\u001b[1;33m(\u001b[0m\u001b[1;34m\"{:5.2f} + {:5.2f} = {:5.2f}\"\u001b[0m\u001b[1;33m.\u001b[0m\u001b[0mformat\u001b[0m\u001b[1;33m(\u001b[0m\u001b[0minput_a\u001b[0m\u001b[1;33m,\u001b[0m \u001b[0minput_b\u001b[0m \u001b[1;33m,\u001b[0m \u001b[0minput_a\u001b[0m \u001b[1;33m+\u001b[0m \u001b[0minput_b\u001b[0m\u001b[1;33m)\u001b[0m\u001b[1;33m)\u001b[0m\u001b[1;33m\u001b[0m\u001b[1;33m\u001b[0m\u001b[0m\n\u001b[0m\u001b[0;32m      4\u001b[0m print(\"input_a type : {}\\t input_b type : {}\".\\\n\u001b[0;32m      5\u001b[0m       format(type(input_a),type(input_b)))\n",
      "\u001b[1;31mNameError\u001b[0m: name 'input_a' is not defined"
     ]
    }
   ],
   "source": [
    "# 문자열 관련 함수  : \"{} {} \".format(data1, data2)\n",
    "print(\"{} {}\".format('test', 123))\n",
    "print(\"{:5.2f} + {:5.2f} = {:5.2f}\".format(input_a, input_b , input_a + input_b))\n",
    "print(\"input_a type : {}\\t input_b type : {}\".\\\n",
    "      format(type(input_a),type(input_b)))"
   ]
  },
  {
   "cell_type": "code",
   "execution_count": 26,
   "id": "b0ac04e1",
   "metadata": {},
   "outputs": [
    {
     "name": "stdout",
     "output_type": "stream",
     "text": [
      "영문자입력 >Tlqkf wlsWk whwrkxek\n",
      "소문자 출력 : tlqkf wlswk whwrkxek\n",
      "대문자 출력 : TLQKF WLSWK WHWRKXEK\n"
     ]
    }
   ],
   "source": [
    "# 키보드에서 영문자 입력 -> input_str에 저장\n",
    "input_str = input(\"영문자입력 >\")\n",
    "# 소문자로 출력  문자열.lower()\n",
    "print(\"소문자 출력 : {}\".format(input_str.lower()))\n",
    "# 대문자로 출력   문자열.upper()\n",
    "print(\"대문자 출력 : {}\".format(input_str.upper()))\n"
   ]
  }
 ],
 "metadata": {
  "kernelspec": {
   "display_name": "Python 3 (ipykernel)",
   "language": "python",
   "name": "python3"
  },
  "language_info": {
   "codemirror_mode": {
    "name": "ipython",
    "version": 3
   },
   "file_extension": ".py",
   "mimetype": "text/x-python",
   "name": "python",
   "nbconvert_exporter": "python",
   "pygments_lexer": "ipython3",
   "version": "3.9.7"
  }
 },
 "nbformat": 4,
 "nbformat_minor": 5
}
