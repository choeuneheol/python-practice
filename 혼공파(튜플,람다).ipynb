{
  "nbformat": 4,
  "nbformat_minor": 0,
  "metadata": {
    "colab": {
      "name": "혼공파(튜플,람다).ipynb",
      "provenance": [],
      "authorship_tag": "ABX9TyMrjJUz+X+N7d7ddPj+vPrv",
      "include_colab_link": true
    },
    "kernelspec": {
      "name": "python3",
      "display_name": "Python 3"
    },
    "language_info": {
      "name": "python"
    }
  },
  "cells": [
    {
      "cell_type": "markdown",
      "metadata": {
        "id": "view-in-github",
        "colab_type": "text"
      },
      "source": [
        "<a href=\"https://colab.research.google.com/github/choeuneheol/python-practice/blob/master/%ED%98%BC%EA%B3%B5%ED%8C%8C(%ED%8A%9C%ED%94%8C%2C%EB%9E%8C%EB%8B%A4).ipynb\" target=\"_parent\"><img src=\"https://colab.research.google.com/assets/colab-badge.svg\" alt=\"Open In Colab\"/></a>"
      ]
    },
    {
      "cell_type": "markdown",
      "source": [
        "#튜플\n",
        "\n",
        "함수와 함께 많이 사용되는 리스트와 비슷한 자료형으로, 리스트와 다른 점은 한번 결정된\n",
        "요소는 바꿀수 없다는 것이다.\n"
      ],
      "metadata": {
        "id": "gXJRj1J_hfDB"
      }
    },
    {
      "cell_type": "code",
      "source": [
        "tuple_test = (10, 20, 30)\n",
        "\n",
        "tuple_test[0]"
      ],
      "metadata": {
        "colab": {
          "base_uri": "https://localhost:8080/"
        },
        "id": "C-gyp0Y7q0LS",
        "outputId": "46cae407-c635-4d69-8722-c280a1d3cbcb"
      },
      "execution_count": 2,
      "outputs": [
        {
          "output_type": "execute_result",
          "data": {
            "text/plain": [
              "10"
            ]
          },
          "metadata": {},
          "execution_count": 2
        }
      ]
    },
    {
      "cell_type": "code",
      "source": [
        "tupel_test[0]= 1 \n",
        "#튜플은 내부요소 변경이 불가하다"
      ],
      "metadata": {
        "colab": {
          "base_uri": "https://localhost:8080/",
          "height": 172
        },
        "id": "lr4Wr8wurC4M",
        "outputId": "9efe1f2c-3ad2-4b72-93d9-a9924e6b76d2"
      },
      "execution_count": 3,
      "outputs": [
        {
          "output_type": "error",
          "ename": "NameError",
          "evalue": "ignored",
          "traceback": [
            "\u001b[0;31m---------------------------------------------------------------------------\u001b[0m",
            "\u001b[0;31mNameError\u001b[0m                                 Traceback (most recent call last)",
            "\u001b[0;32m<ipython-input-3-fd2b3dad506f>\u001b[0m in \u001b[0;36m<module>\u001b[0;34m()\u001b[0m\n\u001b[0;32m----> 1\u001b[0;31m \u001b[0mtupel_test\u001b[0m\u001b[0;34m[\u001b[0m\u001b[0;36m0\u001b[0m\u001b[0;34m]\u001b[0m\u001b[0;34m=\u001b[0m \u001b[0;36m1\u001b[0m\u001b[0;34m\u001b[0m\u001b[0;34m\u001b[0m\u001b[0m\n\u001b[0m",
            "\u001b[0;31mNameError\u001b[0m: name 'tupel_test' is not defined"
          ]
        }
      ]
    },
    {
      "cell_type": "code",
      "source": [
        "#괄호 없는 튜플\n",
        "\n",
        "#리스트와 튜플의 특이한사용\n",
        "\n",
        "[a,b] = [10, 20]\n",
        "\n",
        "(c,d) = (10, 20)\n",
        "\n",
        "#출력합니다.\n",
        "print(\"a:\", a)\n",
        "print(\"b:\", b)\n",
        "print(\"c:\", c)\n",
        "print(\"d:\", d)\n",
        "\n"
      ],
      "metadata": {
        "colab": {
          "base_uri": "https://localhost:8080/"
        },
        "id": "GmV3fvsfrNNx",
        "outputId": "e7fe5115-4bdc-4290-acbf-42db33d78bf1"
      },
      "execution_count": 4,
      "outputs": [
        {
          "output_type": "stream",
          "name": "stdout",
          "text": [
            "a: 10\n",
            "b: 20\n",
            "c: 10\n",
            "d: 20\n"
          ]
        }
      ]
    },
    {
      "cell_type": "code",
      "source": [
        "#튜플은 특이한게 괄호를 생략해도 튜플로 인식하는 경우는 괄호를 생략해도된다"
      ],
      "metadata": {
        "id": "7q379SFrrn9Y"
      },
      "execution_count": null,
      "outputs": []
    },
    {
      "cell_type": "code",
      "source": [
        "#괄호가 없는 튜플\n",
        "\n",
        "tuple_test = 10, 20, 30, 40\n",
        "print(\"# 괄호가 없는 투플의 값과 자료형 출력\")\n",
        "print(\"tuple_test:\",tuple_test)\n",
        "print(\"type(tuple_test):\",type(tuple_test))\n",
        "print()\n",
        "\n",
        "#괄호가 없는 튜플 활용\n",
        "a, b, c, = 10, 20, 30\n",
        "print(\"# 괄호가 없는 튜플을 활용한 할당\")\n",
        "print(\"a:\",a)\n",
        "print(\"b:\",b)\n",
        "print(\"c:\",c)"
      ],
      "metadata": {
        "colab": {
          "base_uri": "https://localhost:8080/"
        },
        "id": "Ibwm7miwr4k8",
        "outputId": "930f5f91-016f-4744-c8ef-fbfa81904156"
      },
      "execution_count": 5,
      "outputs": [
        {
          "output_type": "stream",
          "name": "stdout",
          "text": [
            "# 괄호가 없는 투플의 값과 자료형 출력\n",
            "tuple_test: (10, 20, 30, 40)\n",
            "type(tuple_test): <class 'tuple'>\n",
            "\n",
            "# 괄호가 없는 튜플을 활용한 할당\n",
            "a: 10\n",
            "b: 20\n",
            "c: 30\n"
          ]
        }
      ]
    },
    {
      "cell_type": "code",
      "source": [
        "#변수의 값을 교환하는 튜플\n",
        "\n",
        "a,b = 10, 20\n",
        "\n",
        "print(\"# 교환 전 값\")\n",
        "print(\"a:\", a)\n",
        "print(\"b:\", b)\n",
        "print()\n",
        "\n",
        "#값을 교환합니다.\n",
        "a, b = b, a\n",
        "\n",
        "print(\"# 교환 후 값\")\n",
        "print(\"a:\", a)\n",
        "print(\"b:\", b)\n",
        "print()\n"
      ],
      "metadata": {
        "colab": {
          "base_uri": "https://localhost:8080/"
        },
        "id": "WMj9xr7vsg3V",
        "outputId": "6f4320f7-b148-40d6-df3c-15c053181afe"
      },
      "execution_count": 6,
      "outputs": [
        {
          "output_type": "stream",
          "name": "stdout",
          "text": [
            "# 교환 전 값\n",
            "a: 10\n",
            "b: 20\n",
            "\n",
            "# 교환 후 값\n",
            "a: 20\n",
            "b: 10\n",
            "\n"
          ]
        }
      ]
    },
    {
      "cell_type": "markdown",
      "source": [
        "#튜플과 함수"
      ],
      "metadata": {
        "id": "ofJj1GpztJ5t"
      }
    },
    {
      "cell_type": "code",
      "source": [
        "#함수를 선언합니다.\n",
        "\n",
        "def test():\n",
        "  return (10,20)\n",
        "\n",
        "#여러 개의 값을 리턴받습니다.\n",
        "\n",
        "a,b = test()\n",
        "\n",
        "#출력합니다.\n",
        "\n",
        "print(\"a:\",a)\n",
        "print(\"b:\",b)\n"
      ],
      "metadata": {
        "colab": {
          "base_uri": "https://localhost:8080/"
        },
        "id": "u9R348khtlJ0",
        "outputId": "73c42940-63ef-4e87-918b-273f064dd393"
      },
      "execution_count": 7,
      "outputs": [
        {
          "output_type": "stream",
          "name": "stdout",
          "text": [
            "a: 10\n",
            "b: 20\n"
          ]
        }
      ]
    },
    {
      "cell_type": "markdown",
      "source": [
        "튜플도 리스트처럼 +와 * 연산자 등을 활용할 수 있습니다. 하지만 그런 것들은 리스트로 작성하는 \n",
        "\n",
        "것과는 큰 차이가 없어서 튜플을 사용하는 경우는 거의 없습니다. "
      ],
      "metadata": {
        "id": "9Eyk2Ib4t1mv"
      }
    },
    {
      "cell_type": "markdown",
      "source": [
        "#람다\n",
        "요즘 프로그래밍 언어에는 함수라는 '기능'을 매개변수로 전달하는 코드를 많이 사용함\n",
        "\n",
        "이런코드를 좀더 효율적으로 작성할 수 있도록 람다기능 제공"
      ],
      "metadata": {
        "id": "3GO3SAjyuFZw"
      }
    },
    {
      "cell_type": "code",
      "source": [
        "#함수를 매개 변수로 함수 전달하기\n",
        "#매개변수로 받은 함수를 10번 호출하는 함수\n",
        "def call_10_times(func):\n",
        "  for i in range(10):\n",
        "    func()\n",
        "\n",
        "#간단한 출력하는 함수\n",
        "def print_hello():\n",
        "  print(\"안녕하세요\")\n",
        "\n",
        "#조합하기\n",
        "call_10_times(print_hello)"
      ],
      "metadata": {
        "colab": {
          "base_uri": "https://localhost:8080/"
        },
        "id": "ERuvrKoVunto",
        "outputId": "604c0120-ac4e-4a2d-83be-c82eeda0d3c4"
      },
      "execution_count": 8,
      "outputs": [
        {
          "output_type": "stream",
          "name": "stdout",
          "text": [
            "안녕하세요\n",
            "안녕하세요\n",
            "안녕하세요\n",
            "안녕하세요\n",
            "안녕하세요\n",
            "안녕하세요\n",
            "안녕하세요\n",
            "안녕하세요\n",
            "안녕하세요\n",
            "안녕하세요\n"
          ]
        }
      ]
    },
    {
      "cell_type": "markdown",
      "source": [
        "#filter()함수와 map() 함수\n",
        "함수를 매개변수로 전달하는 대표적인 표준 함수로 map()와 filter()함수가 있음\n",
        "\n",
        "map()함수는 리스트의 요소를 함수에 넣고 리턴된 값으로 새로운 리스트를 구성해주는 함수"
      ],
      "metadata": {
        "id": "mCZZbvKdvEWN"
      }
    },
    {
      "cell_type": "markdown",
      "source": [
        "#map(함수,리조트)"
      ],
      "metadata": {
        "id": "8nyU5WZtvqpr"
      }
    },
    {
      "cell_type": "markdown",
      "source": [
        "filter()함수는 리스트의 요소를 함수에 넣고 리턴된 값이 True인 것으로, 새로운 리스트를 구성해줌\n"
      ],
      "metadata": {
        "id": "Z8-6RODdvhCJ"
      }
    },
    {
      "cell_type": "markdown",
      "source": [
        "#filter(함수,리스트)"
      ],
      "metadata": {
        "id": "FX0ZnqdqvwN5"
      }
    },
    {
      "cell_type": "code",
      "source": [
        "#함수를 선언합니다.\n",
        "def power(item):\n",
        "  return item * item\n",
        "def under_3(item):\n",
        "  return item <3\n",
        "\n",
        "#변수를 선언합니다.\n",
        "list_input_a=[1, 2, 3, 4, 5]\n",
        "\n",
        "#map() 함수를 사용합니다.\n",
        "output_a = map(power, list_input_a)\n",
        "print(\"# map() 함수의 실행결과\")\n",
        "print(\"map(power, list_input_a):\", output_a)\n",
        "print(\"map(power, list_input_a):\", list(output_a))\n",
        "print()\n",
        "\n",
        "#filter() 함수를 사용합니다.\n",
        "output_b = filter(under_3, list_input_a)\n",
        "print(\"#filter() 함수의 실행결과\")\n",
        "print(\"filter(under_3, list_input_a):\",output_b)\n",
        "print(\"filter(under_3, list_input_a):\",list(output_b))\n"
      ],
      "metadata": {
        "colab": {
          "base_uri": "https://localhost:8080/"
        },
        "id": "MZDvk79Lv2e_",
        "outputId": "ca0c5af0-a16c-4ca8-a038-0643ffe86b94"
      },
      "execution_count": 11,
      "outputs": [
        {
          "output_type": "stream",
          "name": "stdout",
          "text": [
            "# map() 함수의 실행결과\n",
            "map(power, list_input_a): <map object at 0x7f2058d7c2d0>\n",
            "map(power, list_input_a): [1, 4, 9, 16, 25]\n",
            "\n",
            "#filter() 함수의 실행결과\n",
            "filter(under_3, list_input_a): <filter object at 0x7f2058e67990>\n",
            "filter(under_3, list_input_a): [1, 2]\n"
          ]
        }
      ]
    },
    {
      "cell_type": "markdown",
      "source": [
        "#람다의 개념\n",
        "간단한 함수를 쉽게 선언하는 방법입니다!"
      ],
      "metadata": {
        "id": "1-YpazvlxPCx"
      }
    },
    {
      "cell_type": "markdown",
      "source": [
        "lamdba 매개변수: 리턴값"
      ],
      "metadata": {
        "id": "Rdh6oo87ywe3"
      }
    },
    {
      "cell_type": "code",
      "source": [
        "#함수를 선언합니다\n",
        "power = lambda x: x * x\n",
        "under_3 = lambda x: x < 3\n",
        "\n",
        "#변수를 선언합니다.\n",
        "list_input_a = [1, 2, 3, 4, 5]\n",
        "\n",
        "#map() 함수를 사용합니다.\n",
        "output_a = map(power, list_input_a)\n",
        "print(\"#map() 함수의 실행결과\")\n",
        "print(\"map(power, list_input_a):\",output_a)\n",
        "print(\"map(power, list_input_a):\", list(output_a))\n",
        "print()\n",
        "\n",
        "#filter() 함수를 사용합니다.\n",
        "output_b = filter(under_3, list_input_a)\n",
        "print(\"# filter() 함수의 실행결과\")\n",
        "print(\"filter(under_3, list_input_a):\",output_b)\n",
        "print(\"filter(under_3, list_input_a):\",list(output_b))\n"
      ],
      "metadata": {
        "colab": {
          "base_uri": "https://localhost:8080/"
        },
        "id": "d2QG6zPTy12p",
        "outputId": "4e374219-7c4c-4c10-d401-fd0521ce1a82"
      },
      "execution_count": 12,
      "outputs": [
        {
          "output_type": "stream",
          "name": "stdout",
          "text": [
            "#map() 함수의 실행결과\n",
            "map(power, list_input_a): <map object at 0x7f2058d7b810>\n",
            "map(power, list_input_a): [1, 4, 9, 16, 25]\n",
            "\n",
            "# filter() 함수의 실행결과\n",
            "filter(under_3, list_input_a): <filter object at 0x7f2058d7be90>\n",
            "filter(under_3, list_input_a): [1, 2]\n"
          ]
        }
      ]
    },
    {
      "cell_type": "code",
      "source": [
        "#인라인 람다\n",
        "#변수를 선언합니다.\n",
        "\n",
        "list_input_a = [1, 2, 3, 4, 5]\n",
        "\n",
        "#map() 함수를 사용합니다.\n",
        "output_a = map(lambda x: x * x, list_input_a)\n",
        "print(\"#map() 함수의 실행결과\")\n",
        "print(\"map(power, list_input_a):\", output_a)\n",
        "print(\"map(power, list_input_a):\", list(output_a))\n",
        "print()\n",
        "\n",
        "#filter() 함수를 사용합니다.\n",
        "output_b = filter(lambda x: x<3, list_input_a)\n",
        "print(\"# filter() 함수의 실행결과\")\n",
        "print(\"filter(under_3, list_input_a):\",output_b)\n",
        "print(\"filter(under_3, list_input_a):\",list(output_b))"
      ],
      "metadata": {
        "colab": {
          "base_uri": "https://localhost:8080/"
        },
        "id": "R-oYjh7t0H4K",
        "outputId": "e3892217-47e2-4647-f3e8-7ee149297037"
      },
      "execution_count": 13,
      "outputs": [
        {
          "output_type": "stream",
          "name": "stdout",
          "text": [
            "#map() 함수의 실행결과\n",
            "map(power, list_input_a): <map object at 0x7f2058d89ed0>\n",
            "map(power, list_input_a): [1, 4, 9, 16, 25]\n",
            "\n",
            "# filter() 함수의 실행결과\n",
            "filter(under_3, list_input_a): <filter object at 0x7f2058e39c90>\n",
            "filter(under_3, list_input_a): [1, 2]\n"
          ]
        }
      ]
    },
    {
      "cell_type": "code",
      "source": [
        "#매개변수가 여러개인 람다도 가능\n",
        "\n",
        "#lambda x, y: x * y"
      ],
      "metadata": {
        "id": "w2J-cLf21mN1"
      },
      "execution_count": null,
      "outputs": []
    }
  ]
}